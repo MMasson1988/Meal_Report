{
 "cells": [
  {
   "cell_type": "markdown",
   "metadata": {},
   "source": [
    "## ⁡⁢⁣PTME Monitoring\n",
    "### Overview"
   ]
  },
  {
   "cell_type": "markdown",
   "metadata": {},
   "source": [
    "### 1. ⁡⁢⁣⁣Import database⁡"
   ]
  },
  {
   "cell_type": "code",
   "execution_count": 1,
   "metadata": {},
   "outputs": [],
   "source": [
    "# ⁡⁣⁢⁣Importing packages⁡\n",
    "\n",
    "import pandas as pd\n",
    "import numpy as np\n",
    "from datetime import datetime\n",
    "import pymysql\n",
    "from sqlalchemy import create_engine\n",
    "import warnings\n",
    "warnings.filterwarnings('ignore')\n",
    "from dateutil.relativedelta import relativedelta\n",
    "from dateutil.parser import parse\n",
    "from selenium import webdriver\n",
    "from webdriver_manager.chrome import ChromeDriverManager\n",
    "from selenium.webdriver.common.by import By\n",
    "from selenium.webdriver.chrome.options import Options\n",
    "import time\n",
    "from IPython.core.interactiveshell import InteractiveShell\n",
    "InteractiveShell.ast_node_interactivity = \"all\"\n",
    "import os\n",
    "from dotenv import load_dotenv\n",
    "import openpyxl"
   ]
  },
  {
   "cell_type": "markdown",
   "metadata": {},
   "source": [
    "### 2. ⁡⁢⁣⁣Import personnal functions"
   ]
  },
  {
   "cell_type": "code",
   "execution_count": 2,
   "metadata": {},
   "outputs": [],
   "source": [
    "# ⁡⁣⁢⁣import personnal fonction from ptme_fonction⁡\n",
    "from caris import load_google_sheet\n",
    "from ptme_fonction import save_dataframe_to_excel\n",
    "from ptme_fonction import creer_colonne_match_conditional"
   ]
  },
  {
   "cell_type": "markdown",
   "metadata": {},
   "source": [
    "### 3. Dates"
   ]
  },
  {
   "cell_type": "code",
   "execution_count": 3,
   "metadata": {},
   "outputs": [],
   "source": [
    "# ⁡⁣⁢⁣Dates for the most recent period⁡\n",
    "from datetime import date\n",
    "#today = date.today()\n",
    "start_date = pd.to_datetime('2025-10-01')\n",
    "end_date = pd.to_datetime('2025-12-31')\n",
    "#Dates for the period before the most recent period\n",
    "start_date_last = pd.to_datetime('2025-01-01')\n",
    "end_date_last = pd.to_datetime(date.today())\n",
    "\n",
    "#=================================\n",
    "start_year = pd.to_datetime('2025-10-01')\n",
    "end_year =pd.to_datetime ('2025-12-31')"
   ]
  },
  {
   "cell_type": "markdown",
   "metadata": {},
   "source": [
    "### 4. Load database"
   ]
  },
  {
   "cell_type": "markdown",
   "metadata": {},
   "source": [
    "##### 4.1 Load ptme_data database from google sheet"
   ]
  },
  {
   "cell_type": "code",
   "execution_count": 4,
   "metadata": {},
   "outputs": [
    {
     "name": "stdout",
     "output_type": "stream",
     "text": [
      "This dataset have 3910 observations\n"
     ]
    },
    {
     "data": {
      "text/html": [
       "<div>\n",
       "<style scoped>\n",
       "    .dataframe tbody tr th:only-of-type {\n",
       "        vertical-align: middle;\n",
       "    }\n",
       "\n",
       "    .dataframe tbody tr th {\n",
       "        vertical-align: top;\n",
       "    }\n",
       "\n",
       "    .dataframe thead th {\n",
       "        text-align: right;\n",
       "    }\n",
       "</style>\n",
       "<table border=\"1\" class=\"dataframe\">\n",
       "  <thead>\n",
       "    <tr style=\"text-align: right;\">\n",
       "      <th></th>\n",
       "      <th>site</th>\n",
       "      <th>Hospital</th>\n",
       "      <th>network_name</th>\n",
       "      <th>first_name</th>\n",
       "      <th>last_name</th>\n",
       "      <th>dob</th>\n",
       "      <th>id_patient</th>\n",
       "      <th>patient_code</th>\n",
       "      <th>created_at</th>\n",
       "      <th>age</th>\n",
       "      <th>...</th>\n",
       "      <th>inconnu</th>\n",
       "      <th>is_dead</th>\n",
       "      <th>on_arv</th>\n",
       "      <th>club_session_date_result</th>\n",
       "      <th>last_session_date_result</th>\n",
       "      <th>dead</th>\n",
       "      <th>abandoned</th>\n",
       "      <th>club_q1</th>\n",
       "      <th>club_q2</th>\n",
       "      <th>participation</th>\n",
       "    </tr>\n",
       "  </thead>\n",
       "  <tbody>\n",
       "    <tr>\n",
       "      <th>0</th>\n",
       "      <td>---</td>\n",
       "      <td>CDS La Fossette</td>\n",
       "      <td>autres</td>\n",
       "      <td>Fabiola</td>\n",
       "      <td>Prospere</td>\n",
       "      <td>1982-12-04 00:00:00</td>\n",
       "      <td>47554</td>\n",
       "      <td>---</td>\n",
       "      <td>2019-08-14 14:39:24</td>\n",
       "      <td>42</td>\n",
       "      <td>...</td>\n",
       "      <td>no</td>\n",
       "      <td>0</td>\n",
       "      <td>yes</td>\n",
       "      <td>2024-12-13</td>\n",
       "      <td>2024-12-13 00:00:00</td>\n",
       "      <td>0</td>\n",
       "      <td>0</td>\n",
       "      <td>yes</td>\n",
       "      <td>no</td>\n",
       "      <td>En_club_q1_yes_q2_no</td>\n",
       "    </tr>\n",
       "    <tr>\n",
       "      <th>1</th>\n",
       "      <td>ARC/SADA</td>\n",
       "      <td>SADA Matheux</td>\n",
       "      <td>autres</td>\n",
       "      <td>Barbara</td>\n",
       "      <td>Charlemagne</td>\n",
       "      <td>1987-11-18 00:00:00</td>\n",
       "      <td>64794</td>\n",
       "      <td>ARC/SADA/ST00091</td>\n",
       "      <td>2020-03-17 19:17:32</td>\n",
       "      <td>37</td>\n",
       "      <td>...</td>\n",
       "      <td>no</td>\n",
       "      <td>0</td>\n",
       "      <td>yes</td>\n",
       "      <td>2024-02-20</td>\n",
       "      <td>2024-02-20 00:00:00</td>\n",
       "      <td>0</td>\n",
       "      <td>0</td>\n",
       "      <td>no</td>\n",
       "      <td>no</td>\n",
       "      <td>aucune_participation</td>\n",
       "    </tr>\n",
       "  </tbody>\n",
       "</table>\n",
       "<p>2 rows × 79 columns</p>\n",
       "</div>"
      ],
      "text/plain": [
       "       site         Hospital network_name first_name    last_name  \\\n",
       "0       ---  CDS La Fossette       autres    Fabiola     Prospere   \n",
       "1  ARC/SADA     SADA Matheux       autres    Barbara  Charlemagne   \n",
       "\n",
       "                   dob id_patient      patient_code           created_at age  \\\n",
       "0  1982-12-04 00:00:00      47554               ---  2019-08-14 14:39:24  42   \n",
       "1  1987-11-18 00:00:00      64794  ARC/SADA/ST00091  2020-03-17 19:17:32  37   \n",
       "\n",
       "   ...  inconnu is_dead  on_arv club_session_date_result  \\\n",
       "0  ...       no       0     yes               2024-12-13   \n",
       "1  ...       no       0     yes               2024-02-20   \n",
       "\n",
       "  last_session_date_result dead abandoned club_q1 club_q2  \\\n",
       "0      2024-12-13 00:00:00    0         0     yes      no   \n",
       "1      2024-02-20 00:00:00    0         0      no      no   \n",
       "\n",
       "          participation  \n",
       "0  En_club_q1_yes_q2_no  \n",
       "1  aucune_participation  \n",
       "\n",
       "[2 rows x 79 columns]"
      ]
     },
     "metadata": {},
     "output_type": "display_data"
    }
   ],
   "source": [
    "# ⁡⁣⁢⁣Loading data from Google Sheets⁡\n",
    "ovc_data = load_google_sheet(sheet_id = '1ZQD6jePvbffO0JT-j1c4BEDizB7WjBII8avuS7t5ELw')\n",
    "# Display the first few rows if data is successfully loaded\n",
    "if ovc_data is not None:\n",
    "    print(f\"This dataset have {ovc_data.shape[0]} observations\")\n",
    "    display(ovc_data.head(2))\n",
    "else:\n",
    "    print(\"Failed to load data from Google Sheet.\")"
   ]
  },
  {
   "cell_type": "code",
   "execution_count": 5,
   "metadata": {},
   "outputs": [
    {
     "data": {
      "text/html": [
       "<div>\n",
       "<style scoped>\n",
       "    .dataframe tbody tr th:only-of-type {\n",
       "        vertical-align: middle;\n",
       "    }\n",
       "\n",
       "    .dataframe tbody tr th {\n",
       "        vertical-align: top;\n",
       "    }\n",
       "\n",
       "    .dataframe thead th {\n",
       "        text-align: right;\n",
       "    }\n",
       "</style>\n",
       "<table border=\"1\" class=\"dataframe\">\n",
       "  <thead>\n",
       "    <tr style=\"text-align: right;\">\n",
       "      <th></th>\n",
       "      <th>status</th>\n",
       "      <th>site</th>\n",
       "      <th>caris_office</th>\n",
       "      <th>hopital</th>\n",
       "      <th>network</th>\n",
       "      <th>departement</th>\n",
       "      <th>commune</th>\n",
       "      <th>section</th>\n",
       "      <th>latitude</th>\n",
       "      <th>longitude</th>\n",
       "    </tr>\n",
       "  </thead>\n",
       "  <tbody>\n",
       "    <tr>\n",
       "      <th>0</th>\n",
       "      <td>Actif</td>\n",
       "      <td>MCH/DSCA</td>\n",
       "      <td>Gonaives</td>\n",
       "      <td>Dispensaire Ste Claire d’Assise</td>\n",
       "      <td>CMMB</td>\n",
       "      <td>Artibonite</td>\n",
       "      <td>Dessalines</td>\n",
       "      <td>Dessalines</td>\n",
       "      <td>19.25917</td>\n",
       "      <td>-72.51613</td>\n",
       "    </tr>\n",
       "  </tbody>\n",
       "</table>\n",
       "</div>"
      ],
      "text/plain": [
       "  status      site caris_office                          hopital network  \\\n",
       "0  Actif  MCH/DSCA     Gonaives  Dispensaire Ste Claire d’Assise    CMMB   \n",
       "\n",
       "  departement     commune     section  latitude  longitude  \n",
       "0  Artibonite  Dessalines  Dessalines  19.25917  -72.51613  "
      ]
     },
     "metadata": {},
     "output_type": "display_data"
    },
    {
     "data": {
      "text/html": [
       "<div>\n",
       "<style scoped>\n",
       "    .dataframe tbody tr th:only-of-type {\n",
       "        vertical-align: middle;\n",
       "    }\n",
       "\n",
       "    .dataframe tbody tr th {\n",
       "        vertical-align: top;\n",
       "    }\n",
       "\n",
       "    .dataframe thead th {\n",
       "        text-align: right;\n",
       "    }\n",
       "</style>\n",
       "<table border=\"1\" class=\"dataframe\">\n",
       "  <thead>\n",
       "    <tr style=\"text-align: right;\">\n",
       "      <th></th>\n",
       "      <th>site</th>\n",
       "      <th>statut</th>\n",
       "      <th>Nom hopital</th>\n",
       "      <th>Office</th>\n",
       "      <th>coordonnatrices</th>\n",
       "      <th>Coordonnateurs , coordonnatrices Clubs SIY</th>\n",
       "      <th>nom_complet_agent</th>\n",
       "      <th>username_agent</th>\n",
       "    </tr>\n",
       "  </thead>\n",
       "  <tbody>\n",
       "    <tr>\n",
       "      <th>0</th>\n",
       "      <td>PIL/HOEP</td>\n",
       "      <td>Actif</td>\n",
       "      <td>Hopital Esperance de Pilate</td>\n",
       "      <td>CAP</td>\n",
       "      <td>Cely Adline/Presumé Maxime Antoine Jr</td>\n",
       "      <td>Presumé Maxime Antoine Jr</td>\n",
       "      <td>Rosanie Beauliva</td>\n",
       "      <td>1rosanie</td>\n",
       "    </tr>\n",
       "  </tbody>\n",
       "</table>\n",
       "</div>"
      ],
      "text/plain": [
       "       site statut                  Nom hopital Office  \\\n",
       "0  PIL/HOEP  Actif  Hopital Esperance de Pilate    CAP   \n",
       "\n",
       "                         coordonnatrices  \\\n",
       "0  Cely Adline/Presumé Maxime Antoine Jr   \n",
       "\n",
       "  Coordonnateurs , coordonnatrices Clubs SIY nom_complet_agent username_agent  \n",
       "0                  Presumé Maxime Antoine Jr  Rosanie Beauliva       1rosanie  "
      ]
     },
     "metadata": {},
     "output_type": "display_data"
    }
   ],
   "source": [
    "first_part = \"C:\\\\Users\\\\Moise\\\\Downloads\\\\REPORTS_MEAL\\\\MONITORING\\\\PTME\\\\\"\n",
    "name_part_ptme = \"site_coordonnatrices_update\"\n",
    "file_path_patient = first_part + name_part_ptme + \".xlsx\"\n",
    "site = pd.read_excel(file_path_patient, sheet_name=0, usecols=['site', 'status', 'caris_office', 'hopital', 'network', \n",
    "                     'departement', 'commune', 'section', 'latitude', 'longitude'])\n",
    "coordo = pd.read_excel(file_path_patient, sheet_name=1, usecols=['site', 'statut', 'Nom hopital', 'Office', \n",
    "                     'coordonnatrices', 'Coordonnateurs , coordonnatrices Clubs SIY', \n",
    "                     'nom_complet_agent', 'username_agent'])\n",
    "display(site.head(1))\n",
    "display(coordo.head(1))"
   ]
  },
  {
   "cell_type": "markdown",
   "metadata": {},
   "source": [
    "##### 4.2 Load Patient code database from Commcare"
   ]
  },
  {
   "cell_type": "code",
   "execution_count": 6,
   "metadata": {},
   "outputs": [
    {
     "data": {
      "text/plain": [
       "25846"
      ]
     },
     "metadata": {},
     "output_type": "display_data"
    },
    {
     "data": {
      "text/html": [
       "<div>\n",
       "<style scoped>\n",
       "    .dataframe tbody tr th:only-of-type {\n",
       "        vertical-align: middle;\n",
       "    }\n",
       "\n",
       "    .dataframe tbody tr th {\n",
       "        vertical-align: top;\n",
       "    }\n",
       "\n",
       "    .dataframe thead th {\n",
       "        text-align: right;\n",
       "    }\n",
       "</style>\n",
       "<table border=\"1\" class=\"dataframe\">\n",
       "  <thead>\n",
       "    <tr style=\"text-align: right;\">\n",
       "      <th></th>\n",
       "      <th>case_id</th>\n",
       "      <th>patient_code</th>\n",
       "      <th>code</th>\n",
       "    </tr>\n",
       "  </thead>\n",
       "  <tbody>\n",
       "    <tr>\n",
       "      <th>0</th>\n",
       "      <td>dd767fad-60c6-4cc7-a867-64f50a1a2260</td>\n",
       "      <td>PDP/HICP/St</td>\n",
       "      <td>NaN</td>\n",
       "    </tr>\n",
       "    <tr>\n",
       "      <th>1</th>\n",
       "      <td>8f188f21-90b4-4c30-94ef-ad46b0747c33</td>\n",
       "      <td>BOM/HEBA/577</td>\n",
       "      <td>NaN</td>\n",
       "    </tr>\n",
       "  </tbody>\n",
       "</table>\n",
       "</div>"
      ],
      "text/plain": [
       "                                case_id  patient_code  code\n",
       "0  dd767fad-60c6-4cc7-a867-64f50a1a2260   PDP/HICP/St   NaN\n",
       "1  8f188f21-90b4-4c30-94ef-ad46b0747c33  BOM/HEBA/577   NaN"
      ]
     },
     "metadata": {},
     "output_type": "display_data"
    }
   ],
   "source": [
    "# file_path_patient = first_part + 'PTME WITH PATIENT CODE ' + datetime.now().strftime(\"%Y-%m-%d\") + \".xlsx\"\n",
    "first_part = \"C:\\\\Users\\\\Moise\\\\Downloads\\\\REPORTS_MEAL\\\\OEV\\\\\"\n",
    "name_part_ptme = \"PTME WITH PATIENT CODE \"\n",
    "file_path_patient = first_part + name_part_ptme + \"2025-03-13\" + \".xlsx\"\n",
    "id_patient1 = pd.read_excel(file_path_patient, sheet_name=0)\n",
    "id_patient = id_patient1.rename(columns={\n",
    "    'caseid': 'case_id',\n",
    "    'health_id': 'patient_code'\n",
    "})\n",
    "display(id_patient.shape[0])\n",
    "display(id_patient.head(2))"
   ]
  },
  {
   "cell_type": "markdown",
   "metadata": {},
   "source": [
    "##### 4.3 Load Comptage de menage database from Commcare"
   ]
  },
  {
   "cell_type": "code",
   "execution_count": 7,
   "metadata": {},
   "outputs": [
    {
     "data": {
      "text/plain": [
       "11434"
      ]
     },
     "metadata": {},
     "output_type": "display_data"
    },
    {
     "data": {
      "text/html": [
       "<div>\n",
       "<style scoped>\n",
       "    .dataframe tbody tr th:only-of-type {\n",
       "        vertical-align: middle;\n",
       "    }\n",
       "\n",
       "    .dataframe tbody tr th {\n",
       "        vertical-align: top;\n",
       "    }\n",
       "\n",
       "    .dataframe thead th {\n",
       "        text-align: right;\n",
       "    }\n",
       "</style>\n",
       "<table border=\"1\" class=\"dataframe\">\n",
       "  <thead>\n",
       "    <tr style=\"text-align: right;\">\n",
       "      <th></th>\n",
       "      <th>number</th>\n",
       "      <th>formid</th>\n",
       "      <th>form.household_collection_date</th>\n",
       "      <th>form.is_accepted</th>\n",
       "      <th>form.not_accepted_reason</th>\n",
       "      <th>form.household_number</th>\n",
       "      <th>completed_time</th>\n",
       "      <th>started_time</th>\n",
       "      <th>username</th>\n",
       "      <th>received_on</th>\n",
       "      <th>...</th>\n",
       "      <th>location</th>\n",
       "      <th>app_id</th>\n",
       "      <th>build_id</th>\n",
       "      <th>@version</th>\n",
       "      <th>state</th>\n",
       "      <th>last_sync_token</th>\n",
       "      <th>partial_submission</th>\n",
       "      <th>edited_on</th>\n",
       "      <th>submit_ip</th>\n",
       "      <th>form.case.case_name</th>\n",
       "    </tr>\n",
       "  </thead>\n",
       "  <tbody>\n",
       "    <tr>\n",
       "      <th>0</th>\n",
       "      <td>0</td>\n",
       "      <td>6e2f5992-bd3b-40f3-b828-bc38cda19bfd</td>\n",
       "      <td>---</td>\n",
       "      <td>---</td>\n",
       "      <td>---</td>\n",
       "      <td>2</td>\n",
       "      <td>2020-08-06 23:39:49</td>\n",
       "      <td>2020-08-06 23:36:25</td>\n",
       "      <td>2boulez</td>\n",
       "      <td>2020-08-07 03:39:49</td>\n",
       "      <td>...</td>\n",
       "      <td>NaN</td>\n",
       "      <td>f13d8149fc6d39ebe86af18272310ff9</td>\n",
       "      <td>---</td>\n",
       "      <td>5973</td>\n",
       "      <td>XFormInstance</td>\n",
       "      <td>db342a48d7dc11ea85870a8724424213</td>\n",
       "      <td>False</td>\n",
       "      <td>---</td>\n",
       "      <td>35.175.35.59</td>\n",
       "      <td>TEST MOM</td>\n",
       "    </tr>\n",
       "    <tr>\n",
       "      <th>1</th>\n",
       "      <td>1</td>\n",
       "      <td>262a585c-4de4-4177-bcbb-19498eacff91</td>\n",
       "      <td>---</td>\n",
       "      <td>---</td>\n",
       "      <td>---</td>\n",
       "      <td>1</td>\n",
       "      <td>2020-08-06 23:59:28</td>\n",
       "      <td>2020-08-06 23:58:04</td>\n",
       "      <td>2boulez</td>\n",
       "      <td>2020-08-07 03:59:28</td>\n",
       "      <td>...</td>\n",
       "      <td>NaN</td>\n",
       "      <td>f13d8149fc6d39ebe86af18272310ff9</td>\n",
       "      <td>---</td>\n",
       "      <td>5977</td>\n",
       "      <td>XFormInstance</td>\n",
       "      <td>0b5bda74d86211ea87fa0ed5aebbeb64</td>\n",
       "      <td>False</td>\n",
       "      <td>---</td>\n",
       "      <td>35.175.35.59</td>\n",
       "      <td>Test  Test</td>\n",
       "    </tr>\n",
       "  </tbody>\n",
       "</table>\n",
       "<p>2 rows × 33 columns</p>\n",
       "</div>"
      ],
      "text/plain": [
       "   number                                formid  \\\n",
       "0       0  6e2f5992-bd3b-40f3-b828-bc38cda19bfd   \n",
       "1       1  262a585c-4de4-4177-bcbb-19498eacff91   \n",
       "\n",
       "  form.household_collection_date form.is_accepted form.not_accepted_reason  \\\n",
       "0                            ---              ---                      ---   \n",
       "1                            ---              ---                      ---   \n",
       "\n",
       "  form.household_number       completed_time         started_time username  \\\n",
       "0                     2  2020-08-06 23:39:49  2020-08-06 23:36:25  2boulez   \n",
       "1                     1  2020-08-06 23:59:28  2020-08-06 23:58:04  2boulez   \n",
       "\n",
       "           received_on  ... location                            app_id  \\\n",
       "0  2020-08-07 03:39:49  ...      NaN  f13d8149fc6d39ebe86af18272310ff9   \n",
       "1  2020-08-07 03:59:28  ...      NaN  f13d8149fc6d39ebe86af18272310ff9   \n",
       "\n",
       "  build_id @version          state                   last_sync_token  \\\n",
       "0      ---     5973  XFormInstance  db342a48d7dc11ea85870a8724424213   \n",
       "1      ---     5977  XFormInstance  0b5bda74d86211ea87fa0ed5aebbeb64   \n",
       "\n",
       "  partial_submission edited_on     submit_ip form.case.case_name  \n",
       "0              False       ---  35.175.35.59            TEST MOM  \n",
       "1              False       ---  35.175.35.59          Test  Test  \n",
       "\n",
       "[2 rows x 33 columns]"
      ]
     },
     "metadata": {},
     "output_type": "display_data"
    }
   ],
   "source": [
    "#\"C:\\Users\\Moise\\Downloads\\meal\\MEAL_Reports\\PTME\\PTME_report_Q4FY25.ipynb\"\n",
    "# Définir les chemins de fichiers\n",
    "first_part = \"C:\\\\Users\\\\Moise\\\\Downloads\\\\REPORTS_MEAL\\\\OEV\\\\\"\n",
    "name_part_ptme = \"Ajout de menages ptme [officiel] \"\n",
    "#file_path = first_part + name_part_ptme + datetime.now().strftime(\"%Y-%m-%d\") + \".xlsx\"\n",
    "file_path = first_part + name_part_ptme + \"2025-03-13\" + \".xlsx\"\n",
    "# Lire le fichier Excel\n",
    "compt_ptme0 = pd.read_excel(file_path, sheet_name=0)\n",
    "# Afficher les deux premières lignes\n",
    "display(compt_ptme0.shape[0])\n",
    "display(compt_ptme0.head(2))"
   ]
  },
  {
   "cell_type": "markdown",
   "metadata": {},
   "source": [
    "##### 4.4 Load Index testing database from Commcare"
   ]
  },
  {
   "cell_type": "code",
   "execution_count": 8,
   "metadata": {},
   "outputs": [
    {
     "data": {
      "text/plain": [
       "31017"
      ]
     },
     "metadata": {},
     "output_type": "display_data"
    },
    {
     "data": {
      "text/html": [
       "<div>\n",
       "<style scoped>\n",
       "    .dataframe tbody tr th:only-of-type {\n",
       "        vertical-align: middle;\n",
       "    }\n",
       "\n",
       "    .dataframe tbody tr th {\n",
       "        vertical-align: top;\n",
       "    }\n",
       "\n",
       "    .dataframe thead th {\n",
       "        text-align: right;\n",
       "    }\n",
       "</style>\n",
       "<table border=\"1\" class=\"dataframe\">\n",
       "  <thead>\n",
       "    <tr style=\"text-align: right;\">\n",
       "      <th></th>\n",
       "      <th>patient_code</th>\n",
       "      <th>age_in_year</th>\n",
       "      <th>ptme_relationship</th>\n",
       "      <th>full_code_patient_menage</th>\n",
       "      <th>hiv_test</th>\n",
       "      <th>hiv_test_result</th>\n",
       "      <th>caseid</th>\n",
       "      <th>non_consent_reason</th>\n",
       "    </tr>\n",
       "  </thead>\n",
       "  <tbody>\n",
       "    <tr>\n",
       "      <th>0</th>\n",
       "      <td>PAP/CHAP/TESTMOM</td>\n",
       "      <td>NaN</td>\n",
       "      <td>---</td>\n",
       "      <td>---</td>\n",
       "      <td>non</td>\n",
       "      <td>---</td>\n",
       "      <td>ec8e868f-acea-4785-9d86-8c430399ceaa</td>\n",
       "      <td>---</td>\n",
       "    </tr>\n",
       "    <tr>\n",
       "      <th>1</th>\n",
       "      <td>PAP/CHAP/TESTMOM</td>\n",
       "      <td>NaN</td>\n",
       "      <td>---</td>\n",
       "      <td>---</td>\n",
       "      <td>oui</td>\n",
       "      <td>encours</td>\n",
       "      <td>a82caeb5-cfc1-4e76-bfea-b5efb67894f2</td>\n",
       "      <td>---</td>\n",
       "    </tr>\n",
       "  </tbody>\n",
       "</table>\n",
       "</div>"
      ],
      "text/plain": [
       "       patient_code  age_in_year ptme_relationship full_code_patient_menage  \\\n",
       "0  PAP/CHAP/TESTMOM          NaN               ---                      ---   \n",
       "1  PAP/CHAP/TESTMOM          NaN               ---                      ---   \n",
       "\n",
       "  hiv_test hiv_test_result                                caseid  \\\n",
       "0      non             ---  ec8e868f-acea-4785-9d86-8c430399ceaa   \n",
       "1      oui         encours  a82caeb5-cfc1-4e76-bfea-b5efb67894f2   \n",
       "\n",
       "  non_consent_reason  \n",
       "0                ---  \n",
       "1                ---  "
      ]
     },
     "metadata": {},
     "output_type": "display_data"
    }
   ],
   "source": [
    "# Lire et préparer un autre fichier Excel\n",
    "name_part_ptme = \"household mother \"\n",
    "# file_path_hh_mother = first_part + name_part_ptme + datetime.now().strftime(\"%Y-%m-%d\") + \".xlsx\"\n",
    "file_path_hh_mother = first_part + name_part_ptme + \"2025-03-13\" + \".xlsx\"\n",
    "compt_ptme4 = pd.read_excel(file_path_hh_mother, sheet_name=0)\n",
    "\n",
    "compt_ptme1 = compt_ptme4[['patient_code', 'age_in_year', 'ptme_relationship', 'full_code_patient_menage',\n",
    "                          'hiv_test', 'hiv_test_result', 'caseid', 'non_consent_reason']]\n",
    "compt_ptme1['patient_code'] = compt_ptme1['patient_code'].str.strip()\n",
    "compt_ptme1['age_in_year'] = pd.to_numeric(compt_ptme1['age_in_year'], errors='coerce')\n",
    "# Afficher les deux premières lignes\n",
    "display(compt_ptme1.shape[0])\n",
    "display(compt_ptme1.head(2))"
   ]
  },
  {
   "cell_type": "markdown",
   "metadata": {},
   "source": [
    "### 5. Data cleaning"
   ]
  },
  {
   "cell_type": "markdown",
   "metadata": {},
   "source": [
    "#### 5.1. Data cleaning for comptage database from Ajout de menages ptme [officiel]"
   ]
  },
  {
   "cell_type": "code",
   "execution_count": 9,
   "metadata": {},
   "outputs": [],
   "source": [
    "comptage = compt_ptme0[[\n",
    "    \"form.household_collection_date\",\n",
    "    \"form.is_accepted\",\n",
    "    \"form.not_accepted_reason\",\n",
    "    \"form.household_number\",\n",
    "    \"username\",\n",
    "    \"form_link\",\n",
    "    \"form.case.@case_id\",\n",
    "    \"form.case.@date_modified\",\n",
    "    \"form.case.update.household_number\"\n",
    "]].rename(columns={\n",
    "    'form.case.@case_id': 'case_id',\n",
    "    'form.is_accepted': 'is_accepted',\n",
    "    'form.case.@date_modified': 'collection_date'\n",
    "})"
   ]
  },
  {
   "cell_type": "code",
   "execution_count": 10,
   "metadata": {},
   "outputs": [
    {
     "data": {
      "text/html": [
       "<div>\n",
       "<style scoped>\n",
       "    .dataframe tbody tr th:only-of-type {\n",
       "        vertical-align: middle;\n",
       "    }\n",
       "\n",
       "    .dataframe tbody tr th {\n",
       "        vertical-align: top;\n",
       "    }\n",
       "\n",
       "    .dataframe thead th {\n",
       "        text-align: right;\n",
       "    }\n",
       "</style>\n",
       "<table border=\"1\" class=\"dataframe\">\n",
       "  <thead>\n",
       "    <tr style=\"text-align: right;\">\n",
       "      <th></th>\n",
       "      <th>form.household_collection_date</th>\n",
       "      <th>is_accepted</th>\n",
       "      <th>form.not_accepted_reason</th>\n",
       "      <th>form.household_number</th>\n",
       "      <th>username</th>\n",
       "      <th>form_link</th>\n",
       "      <th>case_id</th>\n",
       "      <th>collection_date</th>\n",
       "      <th>form.case.update.household_number</th>\n",
       "    </tr>\n",
       "  </thead>\n",
       "  <tbody>\n",
       "    <tr>\n",
       "      <th>0</th>\n",
       "      <td>---</td>\n",
       "      <td>---</td>\n",
       "      <td>---</td>\n",
       "      <td>2</td>\n",
       "      <td>2boulez</td>\n",
       "      <td>https://www.commcarehq.org/a/caris-test/report...</td>\n",
       "      <td>3c5a623af057e23a32ae4000_18965</td>\n",
       "      <td>2020-08-06 23:39:49</td>\n",
       "      <td>---</td>\n",
       "    </tr>\n",
       "    <tr>\n",
       "      <th>1</th>\n",
       "      <td>---</td>\n",
       "      <td>---</td>\n",
       "      <td>---</td>\n",
       "      <td>1</td>\n",
       "      <td>2boulez</td>\n",
       "      <td>https://www.commcarehq.org/a/caris-test/report...</td>\n",
       "      <td>3c5a623af057e23a32ae4000_73766</td>\n",
       "      <td>2020-08-06 23:59:28</td>\n",
       "      <td>1</td>\n",
       "    </tr>\n",
       "  </tbody>\n",
       "</table>\n",
       "</div>"
      ],
      "text/plain": [
       "  form.household_collection_date is_accepted form.not_accepted_reason  \\\n",
       "0                            ---         ---                      ---   \n",
       "1                            ---         ---                      ---   \n",
       "\n",
       "  form.household_number username  \\\n",
       "0                     2  2boulez   \n",
       "1                     1  2boulez   \n",
       "\n",
       "                                           form_link  \\\n",
       "0  https://www.commcarehq.org/a/caris-test/report...   \n",
       "1  https://www.commcarehq.org/a/caris-test/report...   \n",
       "\n",
       "                          case_id      collection_date  \\\n",
       "0  3c5a623af057e23a32ae4000_18965  2020-08-06 23:39:49   \n",
       "1  3c5a623af057e23a32ae4000_73766  2020-08-06 23:59:28   \n",
       "\n",
       "  form.case.update.household_number  \n",
       "0                               ---  \n",
       "1                                 1  "
      ]
     },
     "execution_count": 10,
     "metadata": {},
     "output_type": "execute_result"
    }
   ],
   "source": [
    "comptage.head(2)"
   ]
  },
  {
   "cell_type": "code",
   "execution_count": 11,
   "metadata": {},
   "outputs": [],
   "source": [
    "# Convertir la colonne en type datetime\n",
    "comptage[\"collection_date\"] = pd.to_datetime(comptage[\"collection_date\"], errors='coerce')\n",
    "\n",
    "# Définir les bornes de la plage de dates\n",
    "date_debut = pd.to_datetime(\"2024-01-01\")\n",
    "date_fin = pd.to_datetime(\"today\")"
   ]
  },
  {
   "cell_type": "markdown",
   "metadata": {},
   "source": [
    "### 3. Generate some Indicators from ovc_data"
   ]
  },
  {
   "cell_type": "code",
   "execution_count": 12,
   "metadata": {},
   "outputs": [
    {
     "name": "stdout",
     "output_type": "stream",
     "text": [
      "Number of PMTCT woman for the semester: 3910\n"
     ]
    }
   ],
   "source": [
    "ovc_data.drop_duplicates(subset='patient_code', inplace=True)\n",
    "print(f\"Number of PMTCT woman for the semester: {ovc_data.shape[0]}\")"
   ]
  },
  {
   "cell_type": "code",
   "execution_count": 13,
   "metadata": {},
   "outputs": [
    {
     "name": "stdout",
     "output_type": "stream",
     "text": [
      "Number of real PMTCT women for the semester: 2216\n"
     ]
    }
   ],
   "source": [
    "# List of PMTCT women for the semester\n",
    "real_ptme = ovc_data[(ovc_data.allaitante == 'yes') | (ovc_data.enceinte == 'yes')]\n",
    "print(f\"Number of real PMTCT women for the semester: {real_ptme.shape[0]}\")"
   ]
  },
  {
   "cell_type": "code",
   "execution_count": 14,
   "metadata": {},
   "outputs": [
    {
     "name": "stdout",
     "output_type": "stream",
     "text": [
      "Number of women in club for the semester: 2003\n"
     ]
    }
   ],
   "source": [
    "\n",
    "club_ptme = ovc_data[(ovc_data.club_q1 == 'yes') | (ovc_data.club_q2 == 'yes')]\n",
    "print(f\"Number of women in club for the semester: {club_ptme.shape[0]}\")"
   ]
  },
  {
   "cell_type": "code",
   "execution_count": 15,
   "metadata": {},
   "outputs": [
    {
     "name": "stdout",
     "output_type": "stream",
     "text": [
      "Number of pregnant PMTCT woman for the semester: 221\n"
     ]
    }
   ],
   "source": [
    "# List of women in club for the semester\n",
    "ptme_enceinte = ovc_data[(ovc_data.enceinte == 'yes')]\n",
    "print(f\"Number of pregnant PMTCT woman for the semester: {ptme_enceinte.shape[0]}\")"
   ]
  },
  {
   "cell_type": "code",
   "execution_count": 16,
   "metadata": {},
   "outputs": [
    {
     "name": "stdout",
     "output_type": "stream",
     "text": [
      "Number of real PMTCT women in club for the semester: 968\n"
     ]
    }
   ],
   "source": [
    "# List of women in club for the semester\n",
    "club_woman_ptme = ovc_data[((ovc_data.club_q1 == 'yes') | (ovc_data.club_q2 == 'yes')) & ((ovc_data.allaitante == 'yes') | (ovc_data.enceinte == 'yes'))]\n",
    "print(f\"Number of real PMTCT women in club for the semester: {club_woman_ptme.shape[0]}\")"
   ]
  },
  {
   "cell_type": "code",
   "execution_count": 17,
   "metadata": {},
   "outputs": [
    {
     "name": "stdout",
     "output_type": "stream",
     "text": [
      "Number of pregnant women not in club for the semester: 182\n"
     ]
    }
   ],
   "source": [
    "# List of women in club for the semester\n",
    "no_club_woman_ptme = ovc_data[~((ovc_data.club_q1 == 'yes') | (ovc_data.club_q2 == 'yes')) & ((ovc_data.enceinte == 'yes'))]\n",
    "print(f\"Number of pregnant women not in club for the semester: {no_club_woman_ptme.shape[0]}\")"
   ]
  },
  {
   "cell_type": "code",
   "execution_count": 18,
   "metadata": {},
   "outputs": [
    {
     "data": {
      "text/plain": [
       "participation\n",
       "aucune_participation    1907\n",
       "En_club_q1_yes_q2_no    1109\n",
       "En_club_q1_no_q2_yes     894\n",
       "Name: count, dtype: int64"
      ]
     },
     "execution_count": 18,
     "metadata": {},
     "output_type": "execute_result"
    }
   ],
   "source": [
    "ovc_data['participation'].value_counts()"
   ]
  },
  {
   "cell_type": "markdown",
   "metadata": {},
   "source": [
    "### 5. Generate the working database and the index database with some merging"
   ]
  },
  {
   "cell_type": "code",
   "execution_count": 19,
   "metadata": {},
   "outputs": [
    {
     "data": {
      "text/plain": [
       "11434"
      ]
     },
     "execution_count": 19,
     "metadata": {},
     "output_type": "execute_result"
    },
    {
     "data": {
      "text/html": [
       "<div>\n",
       "<style scoped>\n",
       "    .dataframe tbody tr th:only-of-type {\n",
       "        vertical-align: middle;\n",
       "    }\n",
       "\n",
       "    .dataframe tbody tr th {\n",
       "        vertical-align: top;\n",
       "    }\n",
       "\n",
       "    .dataframe thead th {\n",
       "        text-align: right;\n",
       "    }\n",
       "</style>\n",
       "<table border=\"1\" class=\"dataframe\">\n",
       "  <thead>\n",
       "    <tr style=\"text-align: right;\">\n",
       "      <th></th>\n",
       "      <th>form.household_collection_date</th>\n",
       "      <th>is_accepted</th>\n",
       "      <th>form.not_accepted_reason</th>\n",
       "      <th>form.household_number</th>\n",
       "      <th>username</th>\n",
       "      <th>form_link</th>\n",
       "      <th>case_id</th>\n",
       "      <th>collection_date</th>\n",
       "      <th>form.case.update.household_number</th>\n",
       "      <th>patient_code</th>\n",
       "      <th>code</th>\n",
       "    </tr>\n",
       "  </thead>\n",
       "  <tbody>\n",
       "    <tr>\n",
       "      <th>0</th>\n",
       "      <td>---</td>\n",
       "      <td>---</td>\n",
       "      <td>---</td>\n",
       "      <td>2</td>\n",
       "      <td>2boulez</td>\n",
       "      <td>https://www.commcarehq.org/a/caris-test/report...</td>\n",
       "      <td>3c5a623af057e23a32ae4000_18965</td>\n",
       "      <td>2020-08-06 23:39:49</td>\n",
       "      <td>---</td>\n",
       "      <td>PAP/CHAP/TESTMOM</td>\n",
       "      <td>NaN</td>\n",
       "    </tr>\n",
       "    <tr>\n",
       "      <th>1</th>\n",
       "      <td>---</td>\n",
       "      <td>---</td>\n",
       "      <td>---</td>\n",
       "      <td>1</td>\n",
       "      <td>2boulez</td>\n",
       "      <td>https://www.commcarehq.org/a/caris-test/report...</td>\n",
       "      <td>3c5a623af057e23a32ae4000_73766</td>\n",
       "      <td>2020-08-06 23:59:28</td>\n",
       "      <td>1</td>\n",
       "      <td>PAP/CHAP/TESTMOM2</td>\n",
       "      <td>NaN</td>\n",
       "    </tr>\n",
       "  </tbody>\n",
       "</table>\n",
       "</div>"
      ],
      "text/plain": [
       "  form.household_collection_date is_accepted form.not_accepted_reason  \\\n",
       "0                            ---         ---                      ---   \n",
       "1                            ---         ---                      ---   \n",
       "\n",
       "  form.household_number username  \\\n",
       "0                     2  2boulez   \n",
       "1                     1  2boulez   \n",
       "\n",
       "                                           form_link  \\\n",
       "0  https://www.commcarehq.org/a/caris-test/report...   \n",
       "1  https://www.commcarehq.org/a/caris-test/report...   \n",
       "\n",
       "                          case_id     collection_date  \\\n",
       "0  3c5a623af057e23a32ae4000_18965 2020-08-06 23:39:49   \n",
       "1  3c5a623af057e23a32ae4000_73766 2020-08-06 23:59:28   \n",
       "\n",
       "  form.case.update.household_number       patient_code  code  \n",
       "0                               ---   PAP/CHAP/TESTMOM   NaN  \n",
       "1                                 1  PAP/CHAP/TESTMOM2   NaN  "
      ]
     },
     "execution_count": 19,
     "metadata": {},
     "output_type": "execute_result"
    }
   ],
   "source": [
    "comptage = comptage.merge(id_patient, on='case_id', how='left')\n",
    "comptage.shape[0]\n",
    "comptage.head(2)"
   ]
  },
  {
   "cell_type": "markdown",
   "metadata": {},
   "source": [
    "#### 5.1. Merging ptme_data with the id_patient database"
   ]
  },
  {
   "cell_type": "code",
   "execution_count": 20,
   "metadata": {},
   "outputs": [
    {
     "data": {
      "text/html": [
       "<div>\n",
       "<style scoped>\n",
       "    .dataframe tbody tr th:only-of-type {\n",
       "        vertical-align: middle;\n",
       "    }\n",
       "\n",
       "    .dataframe tbody tr th {\n",
       "        vertical-align: top;\n",
       "    }\n",
       "\n",
       "    .dataframe thead th {\n",
       "        text-align: right;\n",
       "    }\n",
       "</style>\n",
       "<table border=\"1\" class=\"dataframe\">\n",
       "  <thead>\n",
       "    <tr style=\"text-align: right;\">\n",
       "      <th></th>\n",
       "      <th>patient_code</th>\n",
       "      <th>on_commCare</th>\n",
       "    </tr>\n",
       "  </thead>\n",
       "  <tbody>\n",
       "    <tr>\n",
       "      <th>0</th>\n",
       "      <td>---</td>\n",
       "      <td>no</td>\n",
       "    </tr>\n",
       "    <tr>\n",
       "      <th>1</th>\n",
       "      <td>CAP/CALT/ST00038</td>\n",
       "      <td>yes</td>\n",
       "    </tr>\n",
       "  </tbody>\n",
       "</table>\n",
       "</div>"
      ],
      "text/plain": [
       "       patient_code on_commCare\n",
       "0               ---          no\n",
       "1  CAP/CALT/ST00038         yes"
      ]
     },
     "metadata": {},
     "output_type": "display_data"
    },
    {
     "name": "stdout",
     "output_type": "stream",
     "text": [
      "2013\n",
      "patient_code    0\n",
      "on_commCare     0\n",
      "dtype: int64\n",
      "on_commCare\n",
      "yes    1992\n",
      "no       21\n",
      "Name: count, dtype: int64\n"
     ]
    }
   ],
   "source": [
    "mapping_p = {'both': 'yes', 'left_only': 'no'}\n",
    "on_hivhaiti = creer_colonne_match_conditional(club_ptme, id_patient[['patient_code', 'case_id']], on='patient_code', nouvelle_colonne='on_commCare', mapping=mapping_p)\n",
    "# Affichage du résultat\n",
    "display(on_hivhaiti[['patient_code','on_commCare']].head(2))\n",
    "print(on_hivhaiti[['patient_code','on_commCare']].shape[0])\n",
    "print(on_hivhaiti[['patient_code','on_commCare']].isna().sum())\n",
    "print(on_hivhaiti['on_commCare'].value_counts())"
   ]
  },
  {
   "cell_type": "markdown",
   "metadata": {},
   "source": [
    "#### 5.2. Merging on_hivhaiti database with the comptage database"
   ]
  },
  {
   "cell_type": "code",
   "execution_count": 21,
   "metadata": {},
   "outputs": [
    {
     "data": {
      "text/html": [
       "<div>\n",
       "<style scoped>\n",
       "    .dataframe tbody tr th:only-of-type {\n",
       "        vertical-align: middle;\n",
       "    }\n",
       "\n",
       "    .dataframe tbody tr th {\n",
       "        vertical-align: top;\n",
       "    }\n",
       "\n",
       "    .dataframe thead th {\n",
       "        text-align: right;\n",
       "    }\n",
       "</style>\n",
       "<table border=\"1\" class=\"dataframe\">\n",
       "  <thead>\n",
       "    <tr style=\"text-align: right;\">\n",
       "      <th></th>\n",
       "      <th>patient_code</th>\n",
       "      <th>comptage</th>\n",
       "    </tr>\n",
       "  </thead>\n",
       "  <tbody>\n",
       "    <tr>\n",
       "      <th>0</th>\n",
       "      <td>---</td>\n",
       "      <td>no</td>\n",
       "    </tr>\n",
       "    <tr>\n",
       "      <th>1</th>\n",
       "      <td>CAP/CALT/ST00038</td>\n",
       "      <td>no</td>\n",
       "    </tr>\n",
       "  </tbody>\n",
       "</table>\n",
       "</div>"
      ],
      "text/plain": [
       "       patient_code comptage\n",
       "0               ---       no\n",
       "1  CAP/CALT/ST00038       no"
      ]
     },
     "metadata": {},
     "output_type": "display_data"
    },
    {
     "name": "stdout",
     "output_type": "stream",
     "text": [
      "2003\n",
      "patient_code    0\n",
      "comptage        0\n",
      "dtype: int64\n",
      "comptage\n",
      "yes    1796\n",
      "no      207\n",
      "Name: count, dtype: int64\n"
     ]
    }
   ],
   "source": [
    "mapping_p = {'both': 'yes', 'left_only': 'no'}\n",
    "comptage_on_hiv = creer_colonne_match_conditional(on_hivhaiti, comptage, on='patient_code', nouvelle_colonne='comptage', mapping=mapping_p)\n",
    "# Affichage du résultat\n",
    "comptage_on_hiv.drop_duplicates(subset='patient_code', inplace=True)\n",
    "display(comptage_on_hiv[['patient_code', 'comptage']].head(2))\n",
    "print(comptage_on_hiv[['patient_code', 'comptage']].shape[0])\n",
    "print(comptage_on_hiv[['patient_code', 'comptage']].isna().sum())\n",
    "print(comptage_on_hiv['comptage'].value_counts())"
   ]
  },
  {
   "cell_type": "code",
   "execution_count": 22,
   "metadata": {},
   "outputs": [
    {
     "data": {
      "text/html": [
       "<div>\n",
       "<style scoped>\n",
       "    .dataframe tbody tr th:only-of-type {\n",
       "        vertical-align: middle;\n",
       "    }\n",
       "\n",
       "    .dataframe tbody tr th {\n",
       "        vertical-align: top;\n",
       "    }\n",
       "\n",
       "    .dataframe thead th {\n",
       "        text-align: right;\n",
       "    }\n",
       "</style>\n",
       "<table border=\"1\" class=\"dataframe\">\n",
       "  <thead>\n",
       "    <tr style=\"text-align: right;\">\n",
       "      <th></th>\n",
       "      <th>patient_code</th>\n",
       "      <th>on_commCare</th>\n",
       "      <th>comptage</th>\n",
       "      <th>testing</th>\n",
       "    </tr>\n",
       "  </thead>\n",
       "  <tbody>\n",
       "    <tr>\n",
       "      <th>0</th>\n",
       "      <td>---</td>\n",
       "      <td>no</td>\n",
       "      <td>no</td>\n",
       "      <td>yes</td>\n",
       "    </tr>\n",
       "    <tr>\n",
       "      <th>1</th>\n",
       "      <td>CAP/CALT/ST00038</td>\n",
       "      <td>yes</td>\n",
       "      <td>no</td>\n",
       "      <td>no</td>\n",
       "    </tr>\n",
       "  </tbody>\n",
       "</table>\n",
       "</div>"
      ],
      "text/plain": [
       "       patient_code on_commCare comptage testing\n",
       "0               ---          no       no     yes\n",
       "1  CAP/CALT/ST00038         yes       no      no"
      ]
     },
     "metadata": {},
     "output_type": "display_data"
    },
    {
     "name": "stdout",
     "output_type": "stream",
     "text": [
      "2003\n",
      "patient_code    0\n",
      "on_commCare     0\n",
      "comptage        0\n",
      "testing         0\n",
      "dtype: int64\n",
      "comptage\n",
      "yes    1796\n",
      "no      207\n",
      "Name: count, dtype: int64\n",
      "on_commCare\n",
      "yes    1982\n",
      "no       21\n",
      "Name: count, dtype: int64\n",
      "testing\n",
      "yes    1278\n",
      "no      725\n",
      "Name: count, dtype: int64\n"
     ]
    }
   ],
   "source": [
    "mapping_p = {'both': 'yes', 'left_only': 'no'}\n",
    "compt_ptme2 = compt_ptme1.drop_duplicates(subset='patient_code')\n",
    "working_data = creer_colonne_match_conditional(comptage_on_hiv, compt_ptme2, on='patient_code', nouvelle_colonne='testing', mapping=mapping_p)\n",
    "# Affichage du résultat\n",
    "display(working_data[['patient_code','on_commCare','comptage','testing']].head(2))\n",
    "print(working_data[['patient_code','on_commCare','comptage','testing']].shape[0])\n",
    "print(working_data[['patient_code','on_commCare','comptage','testing']].isna().sum())\n",
    "print(working_data['comptage'].value_counts())\n",
    "print(working_data['on_commCare'].value_counts())\n",
    "print(working_data['testing'].value_counts())"
   ]
  },
  {
   "cell_type": "code",
   "execution_count": 23,
   "metadata": {},
   "outputs": [],
   "source": [
    "comptage_ptme = working_data[['patient_code','on_commCare','comptage','testing']]"
   ]
  },
  {
   "cell_type": "code",
   "execution_count": 24,
   "metadata": {},
   "outputs": [
    {
     "data": {
      "text/html": [
       "<div>\n",
       "<style scoped>\n",
       "    .dataframe tbody tr th:only-of-type {\n",
       "        vertical-align: middle;\n",
       "    }\n",
       "\n",
       "    .dataframe tbody tr th {\n",
       "        vertical-align: top;\n",
       "    }\n",
       "\n",
       "    .dataframe thead th {\n",
       "        text-align: right;\n",
       "    }\n",
       "</style>\n",
       "<table border=\"1\" class=\"dataframe\">\n",
       "  <thead>\n",
       "    <tr style=\"text-align: right;\">\n",
       "      <th></th>\n",
       "      <th>site</th>\n",
       "      <th>Hospital</th>\n",
       "      <th>network_name</th>\n",
       "      <th>first_name</th>\n",
       "      <th>last_name</th>\n",
       "      <th>dob</th>\n",
       "      <th>id_patient</th>\n",
       "      <th>patient_code</th>\n",
       "      <th>created_at</th>\n",
       "      <th>age</th>\n",
       "      <th>...</th>\n",
       "      <th>testing</th>\n",
       "      <th>status</th>\n",
       "      <th>caris_office</th>\n",
       "      <th>hopital</th>\n",
       "      <th>network</th>\n",
       "      <th>departement</th>\n",
       "      <th>commune</th>\n",
       "      <th>section</th>\n",
       "      <th>latitude</th>\n",
       "      <th>longitude</th>\n",
       "    </tr>\n",
       "  </thead>\n",
       "  <tbody>\n",
       "    <tr>\n",
       "      <th>0</th>\n",
       "      <td>---</td>\n",
       "      <td>CDS La Fossette</td>\n",
       "      <td>autres</td>\n",
       "      <td>Fabiola</td>\n",
       "      <td>Prospere</td>\n",
       "      <td>1982-12-04 00:00:00</td>\n",
       "      <td>47554</td>\n",
       "      <td>---</td>\n",
       "      <td>2019-08-14 14:39:24</td>\n",
       "      <td>42</td>\n",
       "      <td>...</td>\n",
       "      <td>yes</td>\n",
       "      <td>NaN</td>\n",
       "      <td>NaN</td>\n",
       "      <td>NaN</td>\n",
       "      <td>NaN</td>\n",
       "      <td>NaN</td>\n",
       "      <td>NaN</td>\n",
       "      <td>NaN</td>\n",
       "      <td>NaN</td>\n",
       "      <td>NaN</td>\n",
       "    </tr>\n",
       "  </tbody>\n",
       "</table>\n",
       "<p>1 rows × 91 columns</p>\n",
       "</div>"
      ],
      "text/plain": [
       "  site         Hospital network_name first_name last_name  \\\n",
       "0  ---  CDS La Fossette       autres    Fabiola  Prospere   \n",
       "\n",
       "                   dob id_patient patient_code           created_at age  ...  \\\n",
       "0  1982-12-04 00:00:00      47554          ---  2019-08-14 14:39:24  42  ...   \n",
       "\n",
       "   testing status  caris_office hopital network departement commune section  \\\n",
       "0      yes    NaN           NaN     NaN     NaN         NaN     NaN     NaN   \n",
       "\n",
       "  latitude longitude  \n",
       "0      NaN       NaN  \n",
       "\n",
       "[1 rows x 91 columns]"
      ]
     },
     "metadata": {},
     "output_type": "display_data"
    }
   ],
   "source": [
    "# Merge the working_data DataFrame with the site DataFrame\n",
    "merged_data = working_data.merge(site, on='site', how='left')\n",
    "\n",
    "# Conserver toutes les colonnes de merged_data et ajouter celles de site\n",
    "for col in site.columns:\n",
    "    if col not in merged_data.columns:\n",
    "        merged_data[col] = site[col]\n",
    "\n",
    "# Afficher les premières lignes pour vérifier\n",
    "display(merged_data.head(1))"
   ]
  },
  {
   "cell_type": "code",
   "execution_count": 25,
   "metadata": {},
   "outputs": [],
   "source": [
    "def merge_and_extend(working_data, site, on='site'):\n",
    "    \"\"\"\n",
    "    Merge the working_data DataFrame with the site DataFrame and extend it with all columns from site.\n",
    "\n",
    "    Args:\n",
    "        working_data (pd.DataFrame): The main DataFrame to merge.\n",
    "        site (pd.DataFrame): The DataFrame containing additional columns to merge.\n",
    "        on (str): The column name to merge on. Default is 'site'.\n",
    "\n",
    "    Returns:\n",
    "        pd.DataFrame: The merged DataFrame with all columns from both DataFrames.\n",
    "    \"\"\"\n",
    "    # Merge the DataFrames\n",
    "    merged_data = working_data.merge(site, on=on, how='left')\n",
    "\n",
    "    # Add missing columns from site to merged_data\n",
    "    for col in site.columns:\n",
    "        if col not in merged_data.columns:\n",
    "            merged_data[col] = site[col]\n",
    "\n",
    "    # Return the merged DataFrame\n",
    "    return merged_data"
   ]
  },
  {
   "cell_type": "code",
   "execution_count": 26,
   "metadata": {},
   "outputs": [
    {
     "data": {
      "text/html": [
       "<div>\n",
       "<style scoped>\n",
       "    .dataframe tbody tr th:only-of-type {\n",
       "        vertical-align: middle;\n",
       "    }\n",
       "\n",
       "    .dataframe tbody tr th {\n",
       "        vertical-align: top;\n",
       "    }\n",
       "\n",
       "    .dataframe thead th {\n",
       "        text-align: right;\n",
       "    }\n",
       "</style>\n",
       "<table border=\"1\" class=\"dataframe\">\n",
       "  <thead>\n",
       "    <tr style=\"text-align: right;\">\n",
       "      <th></th>\n",
       "      <th>site</th>\n",
       "      <th>Hospital</th>\n",
       "      <th>network_name</th>\n",
       "      <th>first_name</th>\n",
       "      <th>last_name</th>\n",
       "      <th>dob</th>\n",
       "      <th>id_patient</th>\n",
       "      <th>patient_code</th>\n",
       "      <th>created_at</th>\n",
       "      <th>age</th>\n",
       "      <th>...</th>\n",
       "      <th>section</th>\n",
       "      <th>latitude</th>\n",
       "      <th>longitude</th>\n",
       "      <th>statut</th>\n",
       "      <th>Nom hopital</th>\n",
       "      <th>Office</th>\n",
       "      <th>coordonnatrices</th>\n",
       "      <th>Coordonnateurs , coordonnatrices Clubs SIY</th>\n",
       "      <th>nom_complet_agent</th>\n",
       "      <th>username_agent</th>\n",
       "    </tr>\n",
       "  </thead>\n",
       "  <tbody>\n",
       "    <tr>\n",
       "      <th>0</th>\n",
       "      <td>---</td>\n",
       "      <td>CDS La Fossette</td>\n",
       "      <td>autres</td>\n",
       "      <td>Fabiola</td>\n",
       "      <td>Prospere</td>\n",
       "      <td>1982-12-04 00:00:00</td>\n",
       "      <td>47554</td>\n",
       "      <td>---</td>\n",
       "      <td>2019-08-14 14:39:24</td>\n",
       "      <td>42</td>\n",
       "      <td>...</td>\n",
       "      <td>NaN</td>\n",
       "      <td>NaN</td>\n",
       "      <td>NaN</td>\n",
       "      <td>Actif</td>\n",
       "      <td>Hopital Esperance de Pilate</td>\n",
       "      <td>CAP</td>\n",
       "      <td>Cely Adline/Presumé Maxime Antoine Jr</td>\n",
       "      <td>Presumé Maxime Antoine Jr</td>\n",
       "      <td>Rosanie Beauliva</td>\n",
       "      <td>1rosanie</td>\n",
       "    </tr>\n",
       "  </tbody>\n",
       "</table>\n",
       "<p>1 rows × 98 columns</p>\n",
       "</div>"
      ],
      "text/plain": [
       "  site         Hospital network_name first_name last_name  \\\n",
       "0  ---  CDS La Fossette       autres    Fabiola  Prospere   \n",
       "\n",
       "                   dob id_patient patient_code           created_at age  ...  \\\n",
       "0  1982-12-04 00:00:00      47554          ---  2019-08-14 14:39:24  42  ...   \n",
       "\n",
       "   section latitude  longitude statut                  Nom hopital Office  \\\n",
       "0      NaN      NaN        NaN  Actif  Hopital Esperance de Pilate    CAP   \n",
       "\n",
       "                         coordonnatrices  \\\n",
       "0  Cely Adline/Presumé Maxime Antoine Jr   \n",
       "\n",
       "  Coordonnateurs , coordonnatrices Clubs SIY nom_complet_agent username_agent  \n",
       "0                  Presumé Maxime Antoine Jr  Rosanie Beauliva       1rosanie  \n",
       "\n",
       "[1 rows x 98 columns]"
      ]
     },
     "metadata": {},
     "output_type": "display_data"
    },
    {
     "name": "stdout",
     "output_type": "stream",
     "text": [
      "2003\n",
      "network\n",
      "Santé      729\n",
      "CMMB       679\n",
      "GHESKIO    212\n",
      "FOSREF      88\n",
      "BRIDGE      84\n",
      "CDS         70\n",
      "UGP         34\n",
      "ICAP        21\n",
      "PIH          1\n",
      "Name: count, dtype: int64\n",
      "Office\n",
      "PAP-PAP    30\n",
      "CAP        24\n",
      "GON        18\n",
      "PAP-CAR    11\n",
      "PDP         6\n",
      "Name: count, dtype: int64\n"
     ]
    }
   ],
   "source": [
    "# Merge the working_data DataFrame with the site DataFrame\n",
    "final_data = merged_data.merge(coordo, on='site', how='left')\n",
    "\n",
    "# Conserver toutes les colonnes de merged_data et ajouter celles de site\n",
    "for col in coordo.columns:\n",
    "    if col not in merged_data.columns:\n",
    "        final_data[col] = coordo[col]\n",
    "\n",
    "# Afficher les premières lignes pour vérifier\n",
    "display(final_data.head(1))\n",
    "\n",
    "# Vérifier les valeurs uniques dans certaines colonnes\n",
    "print(final_data[['patient_code','on_commCare','comptage','testing']].shape[0])\n",
    "print(final_data['network'].value_counts())\n",
    "print(final_data['Office'].value_counts())"
   ]
  },
  {
   "cell_type": "code",
   "execution_count": 27,
   "metadata": {},
   "outputs": [
    {
     "name": "stdout",
     "output_type": "stream",
     "text": [
      "Number of PTME women with for the semester: 968\n",
      "Number of pregnant women with for the semester: 39\n",
      "Number of pregnant women in club for the semester: 39\n",
      "Number of pregnant women with Household count for the semester: 24\n",
      "Number of pregnant women with testing for their child: 29\n"
     ]
    }
   ],
   "source": [
    "ptme_woman0 = working_data[(working_data.allaitante == 'yes') | (working_data.enceinte == 'yes')]\n",
    "print(f\"Number of PTME women with for the semester: {ptme_woman0.shape[0]}\")\n",
    "pregnant_woman = working_data[working_data['enceinte'] == 'yes']\n",
    "print(f\"Number of pregnant women with for the semester: {pregnant_woman.shape[0]}\")\n",
    "pregnant_woman_in_club = working_data[((working_data.club_q1 == 'yes') | (working_data.club_q2 == 'yes')) & ((working_data.enceinte == 'yes'))]\n",
    "print(f\"Number of pregnant women in club for the semester: {pregnant_woman_in_club.shape[0]}\")\n",
    "pregnant_woman_with_testing = pregnant_woman_in_club[pregnant_woman_in_club['testing'] == 'yes']\n",
    "print(f\"Number of pregnant women with Household count for the semester: {pregnant_woman_with_testing.shape[0]}\")\n",
    "pregnant_woman_with_comptage = pregnant_woman_in_club[pregnant_woman_in_club['comptage'] == 'yes']\n",
    "print(f\"Number of pregnant women with testing for their child: {pregnant_woman_with_comptage.shape[0]}\")"
   ]
  },
  {
   "cell_type": "code",
   "execution_count": 28,
   "metadata": {},
   "outputs": [
    {
     "name": "stdout",
     "output_type": "stream",
     "text": [
      "Number of PTME women with for the semester: 968\n"
     ]
    }
   ],
   "source": [
    "ptme_woman0 = working_data[(working_data.allaitante == 'yes') | (working_data.enceinte == 'yes')]\n",
    "print(f\"Number of PTME women with for the semester: {ptme_woman0.shape[0]}\")"
   ]
  },
  {
   "cell_type": "code",
   "execution_count": 29,
   "metadata": {},
   "outputs": [
    {
     "name": "stdout",
     "output_type": "stream",
     "text": [
      "Number of pregnant women with for the semester: 39\n"
     ]
    }
   ],
   "source": [
    "pregnant_woman = working_data[working_data['enceinte'] == 'yes']\n",
    "print(f\"Number of pregnant women with for the semester: {pregnant_woman.shape[0]}\")"
   ]
  },
  {
   "cell_type": "code",
   "execution_count": 30,
   "metadata": {},
   "outputs": [
    {
     "name": "stdout",
     "output_type": "stream",
     "text": [
      "Number of pregnant women not in club for the semester: 0\n"
     ]
    }
   ],
   "source": [
    "pregnant_woman_no_in_club = working_data[~((working_data.club_q1 == 'yes') | (working_data.club_q2 == 'yes')) & ((working_data.enceinte == 'yes'))]\n",
    "print(f\"Number of pregnant women not in club for the semester: {pregnant_woman_no_in_club.shape[0]}\")"
   ]
  },
  {
   "cell_type": "code",
   "execution_count": 31,
   "metadata": {},
   "outputs": [
    {
     "name": "stdout",
     "output_type": "stream",
     "text": [
      "Number of pregnant women in club for the semester: 39\n"
     ]
    }
   ],
   "source": [
    "pregnant_woman_in_club = working_data[((working_data.club_q1 == 'yes') | (working_data.club_q2 == 'yes')) & ((working_data.enceinte == 'yes'))]\n",
    "print(f\"Number of pregnant women in club for the semester: {pregnant_woman_in_club.shape[0]}\")"
   ]
  },
  {
   "cell_type": "code",
   "execution_count": 32,
   "metadata": {},
   "outputs": [
    {
     "name": "stdout",
     "output_type": "stream",
     "text": [
      "Number of pregnant women with Household count for the semester: 24\n"
     ]
    }
   ],
   "source": [
    "pregnant_woman_with_testing = pregnant_woman_in_club[pregnant_woman_in_club['testing'] == 'yes']\n",
    "print(f\"Number of pregnant women with Household count for the semester: {pregnant_woman_with_testing.shape[0]}\")"
   ]
  },
  {
   "cell_type": "code",
   "execution_count": 33,
   "metadata": {},
   "outputs": [
    {
     "name": "stdout",
     "output_type": "stream",
     "text": [
      "Number of pregnant women with testing for the semester: 29\n"
     ]
    }
   ],
   "source": [
    "pregnant_woman_with_comptage = pregnant_woman_in_club[pregnant_woman_in_club['comptage'] == 'yes']\n",
    "print(f\"Number of pregnant women with testing for the semester: {pregnant_woman_with_comptage.shape[0]}\")"
   ]
  },
  {
   "cell_type": "code",
   "execution_count": 34,
   "metadata": {},
   "outputs": [
    {
     "name": "stdout",
     "output_type": "stream",
     "text": [
      "31017\n",
      "testing\n",
      "no     21382\n",
      "yes     9635\n",
      "Name: count, dtype: int64\n"
     ]
    },
    {
     "data": {
      "text/plain": [
       "9635"
      ]
     },
     "execution_count": 34,
     "metadata": {},
     "output_type": "execute_result"
    }
   ],
   "source": [
    "mapping_p = {'both': 'yes', 'left_only': 'no'}\n",
    "stat_ptme_index = creer_colonne_match_conditional(compt_ptme1, club_ptme, on='patient_code', nouvelle_colonne='testing', mapping=mapping_p)\n",
    "# Affichage du résultat\n",
    "print(stat_ptme_index[['patient_code', 'testing']].shape[0])\n",
    "print(stat_ptme_index['testing'].value_counts())\n",
    "stat_ptme_index = stat_ptme_index[stat_ptme_index['testing']=='yes']\n",
    "int(stat_ptme_index[['patient_code', 'testing']].shape[0])"
   ]
  },
  {
   "cell_type": "code",
   "execution_count": 35,
   "metadata": {},
   "outputs": [],
   "source": [
    "serv_ptme = working_data.copy(deep =True)\n",
    "serv_ptme1 = serv_ptme[\n",
    "    (serv_ptme['dead'] == \"0\") & (serv_ptme['abandoned'] == '0') & \n",
    "    ((serv_ptme['club_q1'] == \"yes\") | (serv_ptme['club_q2'] == \"yes\")) &\n",
    "    (serv_ptme['is_patient_on_hivhaiti'] != 'no')\n",
    "].drop(columns=['is_dead'])"
   ]
  },
  {
   "cell_type": "code",
   "execution_count": 36,
   "metadata": {},
   "outputs": [
    {
     "name": "stdout",
     "output_type": "stream",
     "text": [
      "DataFrame saved to C:\\Users\\Moise\\Downloads\\REPORTS_MEAL\\DATA\\PTME\\stat_ptme_index.xlsx\n"
     ]
    },
    {
     "data": {
      "text/plain": [
       "'C:\\\\Users\\\\Moise\\\\Downloads\\\\REPORTS_MEAL\\\\DATA\\\\PTME\\\\stat_ptme_index.xlsx'"
      ]
     },
     "execution_count": 36,
     "metadata": {},
     "output_type": "execute_result"
    },
    {
     "name": "stdout",
     "output_type": "stream",
     "text": [
      "DataFrame saved to C:\\Users\\Moise\\Downloads\\REPORTS_MEAL\\DATA\\PTME\\working_data.xlsx\n"
     ]
    },
    {
     "data": {
      "text/plain": [
       "'C:\\\\Users\\\\Moise\\\\Downloads\\\\REPORTS_MEAL\\\\DATA\\\\PTME\\\\working_data.xlsx'"
      ]
     },
     "execution_count": 36,
     "metadata": {},
     "output_type": "execute_result"
    }
   ],
   "source": [
    "save_dataframe_to_excel(stat_ptme_index, 'stat_ptme_index')\n",
    "save_dataframe_to_excel(working_data, 'working_data')"
   ]
  },
  {
   "cell_type": "code",
   "execution_count": 37,
   "metadata": {},
   "outputs": [],
   "source": [
    "serv_ptme = working_data.copy(deep =True)\n",
    "serv_ptme1 = serv_ptme[\n",
    "    (serv_ptme['dead'] == \"0\") & (serv_ptme['abandoned'] == '0') & \n",
    "    ((serv_ptme['club_q1'] == \"yes\") | (serv_ptme['club_q2'] == \"yes\")) &\n",
    "    (serv_ptme['is_patient_on_hivhaiti'] != 'no')\n",
    "].drop(columns=['is_dead'])\n",
    "\n",
    "stat_ptme_index = stat_ptme_index[[\n",
    "    'patient_code', 'age_in_year', 'ptme_relationship', 'full_code_patient_menage',\n",
    "    'hiv_test', 'hiv_test_result', 'non_consent_reason', 'caseid'\n",
    "]]\n",
    "stat_ptme_index['age_in_year'] = stat_ptme_index['age_in_year'].fillna(0).astype(int)"
   ]
  },
  {
   "cell_type": "markdown",
   "metadata": {},
   "source": [
    "### Effectuer les transformations nécessaires sur stat_ptme_index"
   ]
  },
  {
   "cell_type": "code",
   "execution_count": 38,
   "metadata": {},
   "outputs": [],
   "source": [
    "# Total des enfants\n",
    "eff_enf = stat_ptme_index[(stat_ptme_index['ptme_relationship'] == \"2\") & (stat_ptme_index['age_in_year'].between(0, 17))]\n",
    "eff_enf = eff_enf['patient_code'].value_counts().reset_index().rename(columns={'index': 'patient_code', 'patient_code': '# Enfants'})"
   ]
  },
  {
   "cell_type": "code",
   "execution_count": 39,
   "metadata": {},
   "outputs": [],
   "source": [
    "# Enfants testés\n",
    "enf_test = stat_ptme_index[(stat_ptme_index['ptme_relationship'] == \"2\") & (stat_ptme_index['age_in_year'].between(0, 17)) & \n",
    "                           (stat_ptme_index['hiv_test'].isin([\"1\", \"oui\"]))]\n",
    "enf_test = enf_test['patient_code'].value_counts().reset_index().rename(columns={'index': 'patient_code', 'patient_code': '# Enfants testés'})"
   ]
  },
  {
   "cell_type": "code",
   "execution_count": 40,
   "metadata": {},
   "outputs": [],
   "source": [
    "# Enfants non testés\n",
    "enf_non_test = stat_ptme_index[(stat_ptme_index['ptme_relationship'] == \"2\") & (stat_ptme_index['age_in_year'].between(0, 17)) & \n",
    "                               (stat_ptme_index['hiv_test'].isin([\"2\", \"non\"])) & (stat_ptme_index['non_consent_reason'] == \"---\")]\n",
    "enf_non_test = enf_non_test['patient_code'].value_counts().reset_index().rename(columns={'index': 'patient_code', 'patient_code': '# Enfants non testés'})\n"
   ]
  },
  {
   "cell_type": "code",
   "execution_count": 41,
   "metadata": {},
   "outputs": [],
   "source": [
    "# Enfants VIH+ avec code de ménage complet\n",
    "enf_vih_pos = stat_ptme_index[(stat_ptme_index['ptme_relationship'] == \"2\") & (stat_ptme_index['age_in_year'].between(0, 17)) & \n",
    "                              (stat_ptme_index['hiv_test_result'] == \"positif\") & (stat_ptme_index['hiv_test'].isin([\"1\", \"oui\"])) & \n",
    "                              (~stat_ptme_index['full_code_patient_menage'].isin([\"//\", \"---\"]))]\n",
    "enf_vih_pos = enf_vih_pos['patient_code'].value_counts().reset_index().rename(columns={'index': 'patient_code', 'patient_code': '# Enfants VIH+ avec ST code'})"
   ]
  },
  {
   "cell_type": "code",
   "execution_count": 42,
   "metadata": {},
   "outputs": [],
   "source": [
    "# Total des enfants VIH+\n",
    "enf_vih_pos_total = stat_ptme_index[(stat_ptme_index['ptme_relationship'] == \"2\") & (stat_ptme_index['age_in_year'].between(0, 17)) & \n",
    "                                    (stat_ptme_index['hiv_test_result'] == \"positif\") & (stat_ptme_index['hiv_test'].isin([\"1\", \"oui\"]))]\n",
    "enf_vih_pos_total = enf_vih_pos_total['patient_code'].value_counts().reset_index().rename(columns={'index': 'patient_code', 'patient_code': '# Enfants VIH+'})\n"
   ]
  },
  {
   "cell_type": "code",
   "execution_count": 43,
   "metadata": {},
   "outputs": [],
   "source": [
    "# Enfants VIH-\n",
    "enf_vih_neg = stat_ptme_index[(stat_ptme_index['ptme_relationship'] == \"2\") & (stat_ptme_index['age_in_year'].between(0, 17)) & \n",
    "                              (stat_ptme_index['hiv_test_result'] == \"negatif\") & (stat_ptme_index['hiv_test'].isin([\"1\", \"oui\"]))]\n",
    "enf_vih_neg = enf_vih_neg['patient_code'].value_counts().reset_index().rename(columns={'index': 'patient_code', 'patient_code': '# Enfants VIH-'})\n"
   ]
  },
  {
   "cell_type": "code",
   "execution_count": 44,
   "metadata": {},
   "outputs": [],
   "source": [
    "# Pas d'information sur le test\n",
    "no_info_status = stat_ptme_index[(stat_ptme_index['ptme_relationship'] == \"2\") & (stat_ptme_index['age_in_year'].between(0, 17)) & \n",
    "                                 (stat_ptme_index['hiv_test'] == \"1\") & (~stat_ptme_index['hiv_test_result'].isin([\"positif\", \"negatif\"]))]\n",
    "no_info_status = no_info_status['patient_code'].value_counts().reset_index().rename(columns={'index': 'patient_code', 'patient_code': '# no_info_status'})\n",
    "\n",
    "# Sur commcare"
   ]
  },
  {
   "cell_type": "code",
   "execution_count": 45,
   "metadata": {},
   "outputs": [],
   "source": [
    "commcare_ptme_yes = working_data[working_data['on_commCare'] == \"yes\"]"
   ]
  },
  {
   "cell_type": "code",
   "execution_count": 46,
   "metadata": {},
   "outputs": [],
   "source": [
    "\n",
    "# Pas sur commcare\n",
    "commcare_ptme_no = working_data[working_data['on_commCare'] == \"no\"]"
   ]
  },
  {
   "cell_type": "code",
   "execution_count": 47,
   "metadata": {},
   "outputs": [
    {
     "data": {
      "text/plain": [
       "'import pandas as pd\\nimport dash\\nfrom dash import html, dash_table\\n\\n# Ajouter les nouvelles colonnes avec conditions stat_ptme_index\\nstat_ptme_index[\\'# Enfants\\'] = ((stat_ptme_index[\\'ptme_relationship\\'] == \"2\") & (stat_ptme_index[\\'age_in_year\\'].between(0, 17))).astype(int)\\nstat_ptme_index[\\'# Enfants testés\\'] = ((stat_ptme_index[\\'# Enfants\\'] == 1) & (stat_ptme_index[\\'hiv_test\\'].isin([\"1\", \"oui\"]))).astype(int)\\nstat_ptme_index[\\'# Enfants non testés\\'] = ((stat_ptme_index[\\'# Enfants\\'] == 1) & (stat_ptme_index[\\'hiv_test\\'].isin([\"2\", \"non\"])) & (stat_ptme_index[\\'non_consent_reason\\'] == \"---\")).astype(int)\\nstat_ptme_index[\\'# Enfants VIH+ avec ST code\\'] = ((stat_ptme_index[\\'# Enfants\\'] == 1) & (stat_ptme_index[\\'hiv_test_result\\'] == \"positif\") & (stat_ptme_index[\\'hiv_test\\'].isin([\"1\", \"oui\"])) & (~stat_ptme_index[\\'full_code_patient_menage\\'].isin([\"//\", \"---\"]))).astype(int)\\nstat_ptme_index[\\'# Enfants VIH+\\'] = ((stat_ptme_index[\\'# Enfants\\'] == 1) & (stat_ptme_index[\\'hiv_test_result\\'] == \"positif\") & (stat_ptme_index[\\'hiv_test\\'].isin([\"1\", \"oui\"]))).astype(int)\\nstat_ptme_index[\\'# Enfants VIH-\\'] = ((stat_ptme_index[\\'# Enfants\\'] == 1) & (stat_ptme_index[\\'hiv_test_result\\'] == \"negatif\") & (stat_ptme_index[\\'hiv_test\\'].isin([\"1\", \"oui\"]))).astype(int)\\nstat_ptme_index[\\'# no_info_status\\'] = ((stat_ptme_index[\\'# Enfants\\'] == 1) & (stat_ptme_index[\\'hiv_test\\'] == \"1\") & (~stat_ptme_index[\\'hiv_test_result\\'].isin([\"positif\", \"negatif\"]))).astype(int)\\n\\n# Ajouter les informations sur commCare\\nstat_ptme_index[\\'on_commCare\\'] = stat_ptme_index[\\'patient_code\\'].isin(commcare_ptme_yes[\\'patient_code\\']).astype(int)'"
      ]
     },
     "execution_count": 47,
     "metadata": {},
     "output_type": "execute_result"
    },
    {
     "data": {
      "text/plain": [
       "'# Création de l\\'application Dash\\napp = dash.Dash(__name__)\\n\\napp.layout = html.Div([\\n    dash_table.DataTable(\\n        columns=[{\"name\": col, \"id\": col} for col in stat_ptme_index.columns],\\n        data=stat_ptme_index.to_dict(\\'records\\'),\\n        style_header={\\'backgroundColor\\': \\'#800000\\', \\'color\\': \\'white\\'},\\n        page_size=10,\\n        export_format=\"xlsx\"\\n    )\\n])\\n\\nif __name__ == \\'__main__\\':\\n    app.run(debug=True)'"
      ]
     },
     "execution_count": 47,
     "metadata": {},
     "output_type": "execute_result"
    }
   ],
   "source": [
    "\"\"\"import pandas as pd\n",
    "import dash\n",
    "from dash import html, dash_table\n",
    "\n",
    "# Ajouter les nouvelles colonnes avec conditions stat_ptme_index\n",
    "stat_ptme_index['# Enfants'] = ((stat_ptme_index['ptme_relationship'] == \"2\") & (stat_ptme_index['age_in_year'].between(0, 17))).astype(int)\n",
    "stat_ptme_index['# Enfants testés'] = ((stat_ptme_index['# Enfants'] == 1) & (stat_ptme_index['hiv_test'].isin([\"1\", \"oui\"]))).astype(int)\n",
    "stat_ptme_index['# Enfants non testés'] = ((stat_ptme_index['# Enfants'] == 1) & (stat_ptme_index['hiv_test'].isin([\"2\", \"non\"])) & (stat_ptme_index['non_consent_reason'] == \"---\")).astype(int)\n",
    "stat_ptme_index['# Enfants VIH+ avec ST code'] = ((stat_ptme_index['# Enfants'] == 1) & (stat_ptme_index['hiv_test_result'] == \"positif\") & (stat_ptme_index['hiv_test'].isin([\"1\", \"oui\"])) & (~stat_ptme_index['full_code_patient_menage'].isin([\"//\", \"---\"]))).astype(int)\n",
    "stat_ptme_index['# Enfants VIH+'] = ((stat_ptme_index['# Enfants'] == 1) & (stat_ptme_index['hiv_test_result'] == \"positif\") & (stat_ptme_index['hiv_test'].isin([\"1\", \"oui\"]))).astype(int)\n",
    "stat_ptme_index['# Enfants VIH-'] = ((stat_ptme_index['# Enfants'] == 1) & (stat_ptme_index['hiv_test_result'] == \"negatif\") & (stat_ptme_index['hiv_test'].isin([\"1\", \"oui\"]))).astype(int)\n",
    "stat_ptme_index['# no_info_status'] = ((stat_ptme_index['# Enfants'] == 1) & (stat_ptme_index['hiv_test'] == \"1\") & (~stat_ptme_index['hiv_test_result'].isin([\"positif\", \"negatif\"]))).astype(int)\n",
    "\n",
    "# Ajouter les informations sur commCare\n",
    "stat_ptme_index['on_commCare'] = stat_ptme_index['patient_code'].isin(commcare_ptme_yes['patient_code']).astype(int)\"\"\"\n",
    "\n",
    "# Ajouter les patients non acceptés\n",
    "#stat_ptme_index['is_accepted'] = stat_ptme_index['patient_code'].isin(no_accept['patient_code']).astype(int)\n",
    "\n",
    "\"\"\"# Création de l'application Dash\n",
    "app = dash.Dash(__name__)\n",
    "\n",
    "app.layout = html.Div([\n",
    "    dash_table.DataTable(\n",
    "        columns=[{\"name\": col, \"id\": col} for col in stat_ptme_index.columns],\n",
    "        data=stat_ptme_index.to_dict('records'),\n",
    "        style_header={'backgroundColor': '#800000', 'color': 'white'},\n",
    "        page_size=10,\n",
    "        export_format=\"xlsx\"\n",
    "    )\n",
    "])\n",
    "\n",
    "if __name__ == '__main__':\n",
    "    app.run(debug=True)\"\"\"\n"
   ]
  },
  {
   "cell_type": "code",
   "execution_count": 48,
   "metadata": {},
   "outputs": [],
   "source": [
    "databox_dict = {\n",
    "    \"commcare_ptme_no\": commcare_ptme_no,\n",
    "    \"commcare_ptme_yes\": commcare_ptme_yes,\n",
    "    \"no_info_status\": no_info_status,\n",
    "    \"enf_vih_neg\": enf_vih_neg,\n",
    "    \"enf_vih_pos_total\": enf_vih_pos_total,\n",
    "    \"enf_vih_pos\": enf_vih_pos,\n",
    "    \"enf_non_test\": enf_non_test,\n",
    "    \"enf_test\": enf_test,\n",
    "    \"eff_enf\": eff_enf\n",
    "}\n",
    "\n",
    "# Extraire les noms et les valeurs\n",
    "databox_names = list(databox_dict.keys())\n",
    "databox = list(databox_dict.values())"
   ]
  },
  {
   "cell_type": "code",
   "execution_count": 49,
   "metadata": {},
   "outputs": [
    {
     "name": "stdout",
     "output_type": "stream",
     "text": [
      "The dataset commcare_ptme_no has 21 observations\n",
      "The dataset commcare_ptme_yes has 1982 observations\n",
      "The dataset no_info_status has 94 observations\n",
      "The dataset enf_vih_neg has 991 observations\n",
      "The dataset enf_vih_pos_total has 57 observations\n",
      "The dataset enf_vih_pos has 19 observations\n",
      "The dataset enf_non_test has 122 observations\n",
      "The dataset enf_test has 1030 observations\n",
      "The dataset eff_enf has 1087 observations\n"
     ]
    }
   ],
   "source": [
    "for name, data in zip(databox_names, databox):\n",
    "    if data is not None:\n",
    "        print(f\"The dataset {name} has {data.shape[0]} observations\")\n",
    "        # display(data.head(2))  # Décommenter si utilisé dans Jupyter\n",
    "    else:\n",
    "        print(f\"Failed to load data for {name}.\")\n"
   ]
  },
  {
   "cell_type": "code",
   "execution_count": 50,
   "metadata": {},
   "outputs": [
    {
     "data": {
      "image/png": "[encoded data removed]",
      "text/plain": [
       "<Figure size 1400x1000 with 1 Axes>"
      ]
     },
     "metadata": {},
     "output_type": "display_data"
    }
   ],
   "source": [
    "import pandas as pd\n",
    "import matplotlib.pyplot as plt\n",
    "import seaborn as sns\n",
    "\n",
    "def process_and_plot_data(eff_enf, enf_test, enf_vih_neg, no_info_status, enf_vih_pos_total, enf_non_test):\n",
    "    \"\"\"\n",
    "    Process PTME test data and generate a stacked bar plot.\n",
    "    \"\"\"\n",
    "\n",
    "    # Création du DataFrame\n",
    "    df_ptme_test = pd.DataFrame({\n",
    "        \"variable\": [\"enfants\", \"testés\", \"VIH-\", \"statuts inconnus\", \"VIH+ total\", \"non testés\"],\n",
    "        \"freq\": [\n",
    "            eff_enf[\"# Enfants\"].count() if not eff_enf.empty else 0,\n",
    "            enf_test[\"# Enfants testés\"].count() if not enf_test.empty else 0,\n",
    "            enf_vih_neg[\"# Enfants VIH-\"].count() if not enf_vih_neg.empty else 0,\n",
    "            no_info_status[\"# no_info_status\"].count() if not no_info_status.empty else 0,\n",
    "            enf_vih_pos_total[\"# Enfants VIH+\"].count() if not enf_vih_pos_total.empty else 0,\n",
    "            enf_non_test[\"# Enfants non testés\"].count() if not enf_non_test.empty else 0\n",
    "        ],\n",
    "        \"type\": [\"enfants\", \"testing\", \"statut\", \"statut\", \"statut\", \"testing\"]\n",
    "    })\n",
    "\n",
    "    # Reorder the categories\n",
    "    df_ptme_test[\"type\"] = pd.Categorical(df_ptme_test[\"type\"], categories=[\"enfants\", \"testing\", \"statut\"], ordered=True)\n",
    "\n",
    "    # Vérifier si le DataFrame est vide ou si toutes les fréquences sont nulles\n",
    "    if df_ptme_test[\"freq\"].sum() == 0:\n",
    "        print(\"Aucune donnée disponible pour le graphique.\")\n",
    "        return\n",
    "\n",
    "    # Conversion en numérique pour éviter les erreurs\n",
    "    df_ptme_test[\"freq\"] = pd.to_numeric(df_ptme_test[\"freq\"], errors=\"coerce\").fillna(0)\n",
    "\n",
    "    # Pivot the DataFrame for stacked bar plot\n",
    "    df_pivot = df_ptme_test.pivot(index='type', columns='variable', values='freq').fillna(0)\n",
    "\n",
    "    # Création du graphique avec Seaborn\n",
    "    ax = df_pivot.plot(kind='bar', stacked=True, figsize=(14, 10), color=sns.color_palette(\"Dark2\"))\n",
    "\n",
    "    # Ajouter les labels sur les barres\n",
    "    for n, x in enumerate([*df_pivot.index.values]):\n",
    "        for (proportion, y_loc) in zip(df_pivot.loc[x], df_pivot.loc[x].cumsum()):\n",
    "            if proportion > 0:  # Skip zero values\n",
    "                percentage = proportion / df_pivot.loc[x].sum() * 100\n",
    "                plt.text(x=n, y=(y_loc - proportion) + (proportion / 2), \n",
    "                         s=f'{int(proportion):,}\\n({percentage:.0f}%)', \n",
    "                         color=\"black\", ha=\"center\", fontweight=\"bold\")\n",
    "\n",
    "    # Personnalisation du graphique\n",
    "    plt.xlabel(\"\")\n",
    "    plt.ylabel(\"Fréquence\")\n",
    "    plt.title(\"Répartition des tests PTME\")\n",
    "    plt.xticks(rotation=0)\n",
    "    plt.grid(False)  # Remove gridlines\n",
    "\n",
    "    # Déplacer la légende après l'axe\n",
    "    plt.legend(title=\"Catégorie\", bbox_to_anchor=(1.05, 1), loc='upper left')\n",
    "\n",
    "    # Ajouter la source de données\n",
    "    plt.figtext(0.9, -0.1, f\"Data Source: hivhaiti / {pd.Timestamp.today().date()}\", ha=\"right\", fontsize=8, style=\"italic\")\n",
    "\n",
    "    # Affichage du graphique\n",
    "    plt.show()\n",
    "\n",
    "# Appel de la fonction avec des DataFrames d'exemple\n",
    "process_and_plot_data(eff_enf, enf_test, enf_vih_neg, no_info_status, enf_vih_pos_total, enf_non_test)"
   ]
  },
  {
   "cell_type": "code",
   "execution_count": 51,
   "metadata": {},
   "outputs": [],
   "source": [
    "# Créer le DataFrame med avec les indicateurs et leurs proportions\n",
    "Indicators = ['enfants', 'testés', 'VIH-', 'statuts inconnus', 'VIH+ total', 'non testés']\n",
    "n_1 = [eff_enf.shape[0], enf_test.shape[0], enf_vih_neg.shape[0], no_info_status.shape[0], enf_vih_pos_total.shape[0], enf_non_test.shape[0]]\n",
    "prop_impact1 = [\n",
    "    eff_enf.shape[0] / eff_enf.shape[0] if eff_enf.shape[0] != 0 else 0,\n",
    "    enf_test.shape[0] / eff_enf.shape[0] if eff_enf.shape[0] != 0 else 0,\n",
    "    enf_vih_neg.shape[0] / enf_test.shape[0] if enf_test.shape[0] != 0 else 0,\n",
    "    no_info_status.shape[0] / enf_test.shape[0] if enf_test.shape[0] != 0 else 0,\n",
    "    enf_vih_pos_total.shape[0] / enf_test.shape[0] if enf_test.shape[0] != 0 else 0,\n",
    "    enf_non_test.shape[0] / eff_enf.shape[0] if eff_enf.shape[0] != 0 else 0\n",
    "]\n",
    "med = pd.DataFrame({'Indicators': Indicators, 'n_1': n_1, 'prop_impact1': prop_impact1})\n",
    "med = med.sort_values(by='n_1', ascending=False)"
   ]
  },
  {
   "cell_type": "code",
   "execution_count": 52,
   "metadata": {},
   "outputs": [
    {
     "data": {
      "text/plain": [
       "<Figure size 1000x600 with 0 Axes>"
      ]
     },
     "execution_count": 52,
     "metadata": {},
     "output_type": "execute_result"
    },
    {
     "data": {
      "text/plain": [
       "<Axes: xlabel='Indicators', ylabel='n_1'>"
      ]
     },
     "execution_count": 52,
     "metadata": {},
     "output_type": "execute_result"
    },
    {
     "data": {
      "text/plain": [
       "Text(0, 1087, '1,087 (100%)')"
      ]
     },
     "execution_count": 52,
     "metadata": {},
     "output_type": "execute_result"
    },
    {
     "data": {
      "text/plain": [
       "Text(1, 1030, '1,030 (95%)')"
      ]
     },
     "execution_count": 52,
     "metadata": {},
     "output_type": "execute_result"
    },
    {
     "data": {
      "text/plain": [
       "Text(2, 991, '991 (96%)')"
      ]
     },
     "execution_count": 52,
     "metadata": {},
     "output_type": "execute_result"
    },
    {
     "data": {
      "text/plain": [
       "Text(3, 122, '122 (11%)')"
      ]
     },
     "execution_count": 52,
     "metadata": {},
     "output_type": "execute_result"
    },
    {
     "data": {
      "text/plain": [
       "Text(4, 94, '94 (9%)')"
      ]
     },
     "execution_count": 52,
     "metadata": {},
     "output_type": "execute_result"
    },
    {
     "data": {
      "text/plain": [
       "Text(5, 57, '57 (6%)')"
      ]
     },
     "execution_count": 52,
     "metadata": {},
     "output_type": "execute_result"
    },
    {
     "data": {
      "text/plain": [
       "Text(0.5, 1.0, 'Cascade des filles et fils testés')"
      ]
     },
     "execution_count": 52,
     "metadata": {},
     "output_type": "execute_result"
    },
    {
     "data": {
      "text/plain": [
       "Text(0.5, 0, '')"
      ]
     },
     "execution_count": 52,
     "metadata": {},
     "output_type": "execute_result"
    },
    {
     "data": {
      "text/plain": [
       "Text(0, 0.5, 'Frequency')"
      ]
     },
     "execution_count": 52,
     "metadata": {},
     "output_type": "execute_result"
    },
    {
     "data": {
      "text/plain": [
       "Text(0.5, -0.05, 'Data Source: hivhaiti / 2025-03-31')"
      ]
     },
     "execution_count": 52,
     "metadata": {},
     "output_type": "execute_result"
    },
    {
     "data": {
      "text/plain": [
       "([0, 1, 2, 3, 4, 5],\n",
       " [Text(0, 0, 'enfants'),\n",
       "  Text(1, 0, 'testés'),\n",
       "  Text(2, 0, 'VIH-'),\n",
       "  Text(3, 0, 'non testés'),\n",
       "  Text(4, 0, 'statuts inconnus'),\n",
       "  Text(5, 0, 'VIH+ total')])"
      ]
     },
     "execution_count": 52,
     "metadata": {},
     "output_type": "execute_result"
    },
    {
     "data": {
      "text/plain": [
       "(array([   0.,  200.,  400.,  600.,  800., 1000., 1200.]),\n",
       " [Text(0, 0.0, '0'),\n",
       "  Text(0, 200.0, '200'),\n",
       "  Text(0, 400.0, '400'),\n",
       "  Text(0, 600.0, '600'),\n",
       "  Text(0, 800.0, '800'),\n",
       "  Text(0, 1000.0, '1000'),\n",
       "  Text(0, 1200.0, '1200')])"
      ]
     },
     "execution_count": 52,
     "metadata": {},
     "output_type": "execute_result"
    },
    {
     "data": {
      "image/png": "[encoded data removed]",
      "text/plain": [
       "<Figure size 1000x600 with 1 Axes>"
      ]
     },
     "metadata": {},
     "output_type": "display_data"
    }
   ],
   "source": [
    "# Vérifiez si le DataFrame med est vide\n",
    "if med.empty:\n",
    "    print(\"Il n'y a pas eu d'activite\")\n",
    "else:\n",
    "    # Création du graphique, doublement de la largeur\n",
    "    plt.figure(figsize=(10, 6))\n",
    "    sns.barplot(data=med, x='Indicators', y='n_1', palette='viridis', edgecolor='black')\n",
    "\n",
    "    # Ajout des labels sur les barres, centré en haut\n",
    "    for i in range(len(med)):\n",
    "        plt.text(i, med['n_1'].iloc[i], f\"{med['n_1'].iloc[i]:,} ({med['prop_impact1'].iloc[i] * 100:.0f}%)\", ha='center', va='bottom', size=10)\n",
    "\n",
    "    # Titre et étiquettes\n",
    "    plt.title(\"Cascade des filles et fils testés\", fontsize=14, family='Cambria', fontweight='bold', ha='center')\n",
    "    plt.xlabel(\"\")\n",
    "    plt.ylabel(\"Frequency\")\n",
    "\n",
    "    # Ajout de la source des données en tant que légende\n",
    "    plt.figtext(0.5, -0.05, f\"Data Source: hivhaiti / {pd.to_datetime('today').date()}\", ha=\"center\", fontsize=10, family='Cambria', style='italic')\n",
    "\n",
    "    # Ajustement des thèmes\n",
    "    plt.xticks(fontsize=12, family='Cambria')\n",
    "    plt.yticks(fontsize=12, family='Cambria')\n",
    "\n",
    "    # Suppression des gridlines\n",
    "    plt.grid(False)\n",
    "\n",
    "    # Afficher le graphique\n",
    "    plt.show()\n"
   ]
  },
  {
   "cell_type": "code",
   "execution_count": 53,
   "metadata": {},
   "outputs": [
    {
     "name": "stdout",
     "output_type": "stream",
     "text": [
      "data for commcare_ptme_no.\n"
     ]
    },
    {
     "data": {
      "text/html": [
       "<div>\n",
       "<style scoped>\n",
       "    .dataframe tbody tr th:only-of-type {\n",
       "        vertical-align: middle;\n",
       "    }\n",
       "\n",
       "    .dataframe tbody tr th {\n",
       "        vertical-align: top;\n",
       "    }\n",
       "\n",
       "    .dataframe thead th {\n",
       "        text-align: right;\n",
       "    }\n",
       "</style>\n",
       "<table border=\"1\" class=\"dataframe\">\n",
       "  <thead>\n",
       "    <tr style=\"text-align: right;\">\n",
       "      <th></th>\n",
       "      <th>site</th>\n",
       "      <th>Hospital</th>\n",
       "      <th>network_name</th>\n",
       "      <th>first_name</th>\n",
       "      <th>last_name</th>\n",
       "      <th>dob</th>\n",
       "      <th>id_patient</th>\n",
       "      <th>patient_code</th>\n",
       "      <th>created_at</th>\n",
       "      <th>age</th>\n",
       "      <th>...</th>\n",
       "      <th>club_session_date_result</th>\n",
       "      <th>last_session_date_result</th>\n",
       "      <th>dead</th>\n",
       "      <th>abandoned</th>\n",
       "      <th>club_q1</th>\n",
       "      <th>club_q2</th>\n",
       "      <th>participation</th>\n",
       "      <th>on_commCare</th>\n",
       "      <th>comptage</th>\n",
       "      <th>testing</th>\n",
       "    </tr>\n",
       "  </thead>\n",
       "  <tbody>\n",
       "    <tr>\n",
       "      <th>0</th>\n",
       "      <td>---</td>\n",
       "      <td>CDS La Fossette</td>\n",
       "      <td>autres</td>\n",
       "      <td>Fabiola</td>\n",
       "      <td>Prospere</td>\n",
       "      <td>1982-12-04 00:00:00</td>\n",
       "      <td>47554</td>\n",
       "      <td>---</td>\n",
       "      <td>2019-08-14 14:39:24</td>\n",
       "      <td>42</td>\n",
       "      <td>...</td>\n",
       "      <td>2024-12-13</td>\n",
       "      <td>2024-12-13 00:00:00</td>\n",
       "      <td>0</td>\n",
       "      <td>0</td>\n",
       "      <td>yes</td>\n",
       "      <td>no</td>\n",
       "      <td>En_club_q1_yes_q2_no</td>\n",
       "      <td>no</td>\n",
       "      <td>no</td>\n",
       "      <td>yes</td>\n",
       "    </tr>\n",
       "  </tbody>\n",
       "</table>\n",
       "<p>1 rows × 82 columns</p>\n",
       "</div>"
      ],
      "text/plain": [
       "  site         Hospital network_name first_name last_name  \\\n",
       "0  ---  CDS La Fossette       autres    Fabiola  Prospere   \n",
       "\n",
       "                   dob id_patient patient_code           created_at age  ...  \\\n",
       "0  1982-12-04 00:00:00      47554          ---  2019-08-14 14:39:24  42  ...   \n",
       "\n",
       "   club_session_date_result last_session_date_result  dead abandoned club_q1  \\\n",
       "0                2024-12-13      2024-12-13 00:00:00     0         0     yes   \n",
       "\n",
       "  club_q2         participation on_commCare comptage testing  \n",
       "0      no  En_club_q1_yes_q2_no          no       no     yes  \n",
       "\n",
       "[1 rows x 82 columns]"
      ]
     },
     "metadata": {},
     "output_type": "display_data"
    },
    {
     "name": "stdout",
     "output_type": "stream",
     "text": [
      "data for commcare_ptme_yes.\n"
     ]
    },
    {
     "data": {
      "text/html": [
       "<div>\n",
       "<style scoped>\n",
       "    .dataframe tbody tr th:only-of-type {\n",
       "        vertical-align: middle;\n",
       "    }\n",
       "\n",
       "    .dataframe tbody tr th {\n",
       "        vertical-align: top;\n",
       "    }\n",
       "\n",
       "    .dataframe thead th {\n",
       "        text-align: right;\n",
       "    }\n",
       "</style>\n",
       "<table border=\"1\" class=\"dataframe\">\n",
       "  <thead>\n",
       "    <tr style=\"text-align: right;\">\n",
       "      <th></th>\n",
       "      <th>site</th>\n",
       "      <th>Hospital</th>\n",
       "      <th>network_name</th>\n",
       "      <th>first_name</th>\n",
       "      <th>last_name</th>\n",
       "      <th>dob</th>\n",
       "      <th>id_patient</th>\n",
       "      <th>patient_code</th>\n",
       "      <th>created_at</th>\n",
       "      <th>age</th>\n",
       "      <th>...</th>\n",
       "      <th>club_session_date_result</th>\n",
       "      <th>last_session_date_result</th>\n",
       "      <th>dead</th>\n",
       "      <th>abandoned</th>\n",
       "      <th>club_q1</th>\n",
       "      <th>club_q2</th>\n",
       "      <th>participation</th>\n",
       "      <th>on_commCare</th>\n",
       "      <th>comptage</th>\n",
       "      <th>testing</th>\n",
       "    </tr>\n",
       "  </thead>\n",
       "  <tbody>\n",
       "    <tr>\n",
       "      <th>1</th>\n",
       "      <td>CAP/CALT</td>\n",
       "      <td>---</td>\n",
       "      <td>---</td>\n",
       "      <td>Joseph</td>\n",
       "      <td>Roseline</td>\n",
       "      <td>1980-01-15 00:00:00</td>\n",
       "      <td>---</td>\n",
       "      <td>CAP/CALT/ST00038</td>\n",
       "      <td>---</td>\n",
       "      <td>---</td>\n",
       "      <td>...</td>\n",
       "      <td>---</td>\n",
       "      <td>2024-12-04 00:00:00</td>\n",
       "      <td>0</td>\n",
       "      <td>0</td>\n",
       "      <td>yes</td>\n",
       "      <td>no</td>\n",
       "      <td>En_club_q1_yes_q2_no</td>\n",
       "      <td>yes</td>\n",
       "      <td>no</td>\n",
       "      <td>no</td>\n",
       "    </tr>\n",
       "  </tbody>\n",
       "</table>\n",
       "<p>1 rows × 82 columns</p>\n",
       "</div>"
      ],
      "text/plain": [
       "       site Hospital network_name first_name last_name                  dob  \\\n",
       "1  CAP/CALT      ---          ---     Joseph  Roseline  1980-01-15 00:00:00   \n",
       "\n",
       "  id_patient      patient_code created_at  age  ...  club_session_date_result  \\\n",
       "1        ---  CAP/CALT/ST00038        ---  ---  ...                       ---   \n",
       "\n",
       "  last_session_date_result  dead abandoned club_q1 club_q2  \\\n",
       "1      2024-12-04 00:00:00     0         0     yes      no   \n",
       "\n",
       "          participation on_commCare comptage testing  \n",
       "1  En_club_q1_yes_q2_no         yes       no      no  \n",
       "\n",
       "[1 rows x 82 columns]"
      ]
     },
     "metadata": {},
     "output_type": "display_data"
    },
    {
     "name": "stdout",
     "output_type": "stream",
     "text": [
      "data for no_info_status.\n"
     ]
    },
    {
     "data": {
      "text/html": [
       "<div>\n",
       "<style scoped>\n",
       "    .dataframe tbody tr th:only-of-type {\n",
       "        vertical-align: middle;\n",
       "    }\n",
       "\n",
       "    .dataframe tbody tr th {\n",
       "        vertical-align: top;\n",
       "    }\n",
       "\n",
       "    .dataframe thead th {\n",
       "        text-align: right;\n",
       "    }\n",
       "</style>\n",
       "<table border=\"1\" class=\"dataframe\">\n",
       "  <thead>\n",
       "    <tr style=\"text-align: right;\">\n",
       "      <th></th>\n",
       "      <th># no_info_status</th>\n",
       "      <th>count</th>\n",
       "    </tr>\n",
       "  </thead>\n",
       "  <tbody>\n",
       "    <tr>\n",
       "      <th>0</th>\n",
       "      <td>---</td>\n",
       "      <td>126</td>\n",
       "    </tr>\n",
       "  </tbody>\n",
       "</table>\n",
       "</div>"
      ],
      "text/plain": [
       "  # no_info_status  count\n",
       "0              ---    126"
      ]
     },
     "metadata": {},
     "output_type": "display_data"
    },
    {
     "name": "stdout",
     "output_type": "stream",
     "text": [
      "data for enf_vih_neg.\n"
     ]
    },
    {
     "data": {
      "text/html": [
       "<div>\n",
       "<style scoped>\n",
       "    .dataframe tbody tr th:only-of-type {\n",
       "        vertical-align: middle;\n",
       "    }\n",
       "\n",
       "    .dataframe tbody tr th {\n",
       "        vertical-align: top;\n",
       "    }\n",
       "\n",
       "    .dataframe thead th {\n",
       "        text-align: right;\n",
       "    }\n",
       "</style>\n",
       "<table border=\"1\" class=\"dataframe\">\n",
       "  <thead>\n",
       "    <tr style=\"text-align: right;\">\n",
       "      <th></th>\n",
       "      <th># Enfants VIH-</th>\n",
       "      <th>count</th>\n",
       "    </tr>\n",
       "  </thead>\n",
       "  <tbody>\n",
       "    <tr>\n",
       "      <th>0</th>\n",
       "      <td>---</td>\n",
       "      <td>1545</td>\n",
       "    </tr>\n",
       "  </tbody>\n",
       "</table>\n",
       "</div>"
      ],
      "text/plain": [
       "  # Enfants VIH-  count\n",
       "0            ---   1545"
      ]
     },
     "metadata": {},
     "output_type": "display_data"
    },
    {
     "name": "stdout",
     "output_type": "stream",
     "text": [
      "data for enf_vih_pos_total.\n"
     ]
    },
    {
     "data": {
      "text/html": [
       "<div>\n",
       "<style scoped>\n",
       "    .dataframe tbody tr th:only-of-type {\n",
       "        vertical-align: middle;\n",
       "    }\n",
       "\n",
       "    .dataframe tbody tr th {\n",
       "        vertical-align: top;\n",
       "    }\n",
       "\n",
       "    .dataframe thead th {\n",
       "        text-align: right;\n",
       "    }\n",
       "</style>\n",
       "<table border=\"1\" class=\"dataframe\">\n",
       "  <thead>\n",
       "    <tr style=\"text-align: right;\">\n",
       "      <th></th>\n",
       "      <th># Enfants VIH+</th>\n",
       "      <th>count</th>\n",
       "    </tr>\n",
       "  </thead>\n",
       "  <tbody>\n",
       "    <tr>\n",
       "      <th>0</th>\n",
       "      <td>---</td>\n",
       "      <td>31</td>\n",
       "    </tr>\n",
       "  </tbody>\n",
       "</table>\n",
       "</div>"
      ],
      "text/plain": [
       "  # Enfants VIH+  count\n",
       "0            ---     31"
      ]
     },
     "metadata": {},
     "output_type": "display_data"
    },
    {
     "name": "stdout",
     "output_type": "stream",
     "text": [
      "data for enf_vih_pos.\n"
     ]
    },
    {
     "data": {
      "text/html": [
       "<div>\n",
       "<style scoped>\n",
       "    .dataframe tbody tr th:only-of-type {\n",
       "        vertical-align: middle;\n",
       "    }\n",
       "\n",
       "    .dataframe tbody tr th {\n",
       "        vertical-align: top;\n",
       "    }\n",
       "\n",
       "    .dataframe thead th {\n",
       "        text-align: right;\n",
       "    }\n",
       "</style>\n",
       "<table border=\"1\" class=\"dataframe\">\n",
       "  <thead>\n",
       "    <tr style=\"text-align: right;\">\n",
       "      <th></th>\n",
       "      <th># Enfants VIH+ avec ST code</th>\n",
       "      <th>count</th>\n",
       "    </tr>\n",
       "  </thead>\n",
       "  <tbody>\n",
       "    <tr>\n",
       "      <th>0</th>\n",
       "      <td>---</td>\n",
       "      <td>5</td>\n",
       "    </tr>\n",
       "  </tbody>\n",
       "</table>\n",
       "</div>"
      ],
      "text/plain": [
       "  # Enfants VIH+ avec ST code  count\n",
       "0                         ---      5"
      ]
     },
     "metadata": {},
     "output_type": "display_data"
    },
    {
     "name": "stdout",
     "output_type": "stream",
     "text": [
      "data for enf_non_test.\n"
     ]
    },
    {
     "data": {
      "text/html": [
       "<div>\n",
       "<style scoped>\n",
       "    .dataframe tbody tr th:only-of-type {\n",
       "        vertical-align: middle;\n",
       "    }\n",
       "\n",
       "    .dataframe tbody tr th {\n",
       "        vertical-align: top;\n",
       "    }\n",
       "\n",
       "    .dataframe thead th {\n",
       "        text-align: right;\n",
       "    }\n",
       "</style>\n",
       "<table border=\"1\" class=\"dataframe\">\n",
       "  <thead>\n",
       "    <tr style=\"text-align: right;\">\n",
       "      <th></th>\n",
       "      <th># Enfants non testés</th>\n",
       "      <th>count</th>\n",
       "    </tr>\n",
       "  </thead>\n",
       "  <tbody>\n",
       "    <tr>\n",
       "      <th>0</th>\n",
       "      <td>---</td>\n",
       "      <td>447</td>\n",
       "    </tr>\n",
       "  </tbody>\n",
       "</table>\n",
       "</div>"
      ],
      "text/plain": [
       "  # Enfants non testés  count\n",
       "0                  ---    447"
      ]
     },
     "metadata": {},
     "output_type": "display_data"
    },
    {
     "name": "stdout",
     "output_type": "stream",
     "text": [
      "data for enf_test.\n"
     ]
    },
    {
     "data": {
      "text/html": [
       "<div>\n",
       "<style scoped>\n",
       "    .dataframe tbody tr th:only-of-type {\n",
       "        vertical-align: middle;\n",
       "    }\n",
       "\n",
       "    .dataframe tbody tr th {\n",
       "        vertical-align: top;\n",
       "    }\n",
       "\n",
       "    .dataframe thead th {\n",
       "        text-align: right;\n",
       "    }\n",
       "</style>\n",
       "<table border=\"1\" class=\"dataframe\">\n",
       "  <thead>\n",
       "    <tr style=\"text-align: right;\">\n",
       "      <th></th>\n",
       "      <th># Enfants testés</th>\n",
       "      <th>count</th>\n",
       "    </tr>\n",
       "  </thead>\n",
       "  <tbody>\n",
       "    <tr>\n",
       "      <th>0</th>\n",
       "      <td>---</td>\n",
       "      <td>1702</td>\n",
       "    </tr>\n",
       "  </tbody>\n",
       "</table>\n",
       "</div>"
      ],
      "text/plain": [
       "  # Enfants testés  count\n",
       "0              ---   1702"
      ]
     },
     "metadata": {},
     "output_type": "display_data"
    },
    {
     "name": "stdout",
     "output_type": "stream",
     "text": [
      "data for eff_enf.\n"
     ]
    },
    {
     "data": {
      "text/html": [
       "<div>\n",
       "<style scoped>\n",
       "    .dataframe tbody tr th:only-of-type {\n",
       "        vertical-align: middle;\n",
       "    }\n",
       "\n",
       "    .dataframe tbody tr th {\n",
       "        vertical-align: top;\n",
       "    }\n",
       "\n",
       "    .dataframe thead th {\n",
       "        text-align: right;\n",
       "    }\n",
       "</style>\n",
       "<table border=\"1\" class=\"dataframe\">\n",
       "  <thead>\n",
       "    <tr style=\"text-align: right;\">\n",
       "      <th></th>\n",
       "      <th># Enfants</th>\n",
       "      <th>count</th>\n",
       "    </tr>\n",
       "  </thead>\n",
       "  <tbody>\n",
       "    <tr>\n",
       "      <th>0</th>\n",
       "      <td>---</td>\n",
       "      <td>2250</td>\n",
       "    </tr>\n",
       "  </tbody>\n",
       "</table>\n",
       "</div>"
      ],
      "text/plain": [
       "  # Enfants  count\n",
       "0       ---   2250"
      ]
     },
     "metadata": {},
     "output_type": "display_data"
    }
   ],
   "source": [
    "for name, data in zip(databox_names, databox):\n",
    "    if data is not None:\n",
    "        print(f\"data for {name}.\")\n",
    "        display(data.head(1))\n",
    "        # display(data.head(2))  # Décommenter si utilisé dans Jupyter\n",
    "    else:\n",
    "        print(f\"Failed to load data for {name}.\")\n"
   ]
  },
  {
   "cell_type": "code",
   "execution_count": 54,
   "metadata": {},
   "outputs": [
    {
     "data": {
      "text/html": [
       "<div>\n",
       "<style scoped>\n",
       "    .dataframe tbody tr th:only-of-type {\n",
       "        vertical-align: middle;\n",
       "    }\n",
       "\n",
       "    .dataframe tbody tr th {\n",
       "        vertical-align: top;\n",
       "    }\n",
       "\n",
       "    .dataframe thead th {\n",
       "        text-align: right;\n",
       "    }\n",
       "</style>\n",
       "<table border=\"1\" class=\"dataframe\">\n",
       "  <thead>\n",
       "    <tr style=\"text-align: right;\">\n",
       "      <th></th>\n",
       "      <th># Enfants</th>\n",
       "      <th>count</th>\n",
       "      <th>site</th>\n",
       "    </tr>\n",
       "  </thead>\n",
       "  <tbody>\n",
       "    <tr>\n",
       "      <th>0</th>\n",
       "      <td>---</td>\n",
       "      <td>2250</td>\n",
       "      <td>---</td>\n",
       "    </tr>\n",
       "  </tbody>\n",
       "</table>\n",
       "</div>"
      ],
      "text/plain": [
       "  # Enfants  count site\n",
       "0       ---   2250  ---"
      ]
     },
     "metadata": {},
     "output_type": "display_data"
    },
    {
     "data": {
      "text/html": [
       "<div>\n",
       "<style scoped>\n",
       "    .dataframe tbody tr th:only-of-type {\n",
       "        vertical-align: middle;\n",
       "    }\n",
       "\n",
       "    .dataframe tbody tr th {\n",
       "        vertical-align: top;\n",
       "    }\n",
       "\n",
       "    .dataframe thead th {\n",
       "        text-align: right;\n",
       "    }\n",
       "</style>\n",
       "<table border=\"1\" class=\"dataframe\">\n",
       "  <thead>\n",
       "    <tr style=\"text-align: right;\">\n",
       "      <th></th>\n",
       "      <th># Enfants testés</th>\n",
       "      <th>count</th>\n",
       "      <th>site</th>\n",
       "    </tr>\n",
       "  </thead>\n",
       "  <tbody>\n",
       "    <tr>\n",
       "      <th>0</th>\n",
       "      <td>---</td>\n",
       "      <td>1702</td>\n",
       "      <td>---</td>\n",
       "    </tr>\n",
       "  </tbody>\n",
       "</table>\n",
       "</div>"
      ],
      "text/plain": [
       "  # Enfants testés  count site\n",
       "0              ---   1702  ---"
      ]
     },
     "metadata": {},
     "output_type": "display_data"
    },
    {
     "data": {
      "text/html": [
       "<div>\n",
       "<style scoped>\n",
       "    .dataframe tbody tr th:only-of-type {\n",
       "        vertical-align: middle;\n",
       "    }\n",
       "\n",
       "    .dataframe tbody tr th {\n",
       "        vertical-align: top;\n",
       "    }\n",
       "\n",
       "    .dataframe thead th {\n",
       "        text-align: right;\n",
       "    }\n",
       "</style>\n",
       "<table border=\"1\" class=\"dataframe\">\n",
       "  <thead>\n",
       "    <tr style=\"text-align: right;\">\n",
       "      <th></th>\n",
       "      <th># Enfants VIH-</th>\n",
       "      <th>count</th>\n",
       "      <th>site</th>\n",
       "    </tr>\n",
       "  </thead>\n",
       "  <tbody>\n",
       "    <tr>\n",
       "      <th>0</th>\n",
       "      <td>---</td>\n",
       "      <td>1545</td>\n",
       "      <td>---</td>\n",
       "    </tr>\n",
       "  </tbody>\n",
       "</table>\n",
       "</div>"
      ],
      "text/plain": [
       "  # Enfants VIH-  count site\n",
       "0            ---   1545  ---"
      ]
     },
     "metadata": {},
     "output_type": "display_data"
    },
    {
     "data": {
      "text/html": [
       "<div>\n",
       "<style scoped>\n",
       "    .dataframe tbody tr th:only-of-type {\n",
       "        vertical-align: middle;\n",
       "    }\n",
       "\n",
       "    .dataframe tbody tr th {\n",
       "        vertical-align: top;\n",
       "    }\n",
       "\n",
       "    .dataframe thead th {\n",
       "        text-align: right;\n",
       "    }\n",
       "</style>\n",
       "<table border=\"1\" class=\"dataframe\">\n",
       "  <thead>\n",
       "    <tr style=\"text-align: right;\">\n",
       "      <th></th>\n",
       "      <th># no_info_status</th>\n",
       "      <th>count</th>\n",
       "      <th>site</th>\n",
       "    </tr>\n",
       "  </thead>\n",
       "  <tbody>\n",
       "    <tr>\n",
       "      <th>0</th>\n",
       "      <td>---</td>\n",
       "      <td>126</td>\n",
       "      <td>---</td>\n",
       "    </tr>\n",
       "  </tbody>\n",
       "</table>\n",
       "</div>"
      ],
      "text/plain": [
       "  # no_info_status  count site\n",
       "0              ---    126  ---"
      ]
     },
     "metadata": {},
     "output_type": "display_data"
    },
    {
     "data": {
      "text/html": [
       "<div>\n",
       "<style scoped>\n",
       "    .dataframe tbody tr th:only-of-type {\n",
       "        vertical-align: middle;\n",
       "    }\n",
       "\n",
       "    .dataframe tbody tr th {\n",
       "        vertical-align: top;\n",
       "    }\n",
       "\n",
       "    .dataframe thead th {\n",
       "        text-align: right;\n",
       "    }\n",
       "</style>\n",
       "<table border=\"1\" class=\"dataframe\">\n",
       "  <thead>\n",
       "    <tr style=\"text-align: right;\">\n",
       "      <th></th>\n",
       "      <th># Enfants VIH+</th>\n",
       "      <th>count</th>\n",
       "      <th>site</th>\n",
       "    </tr>\n",
       "  </thead>\n",
       "  <tbody>\n",
       "    <tr>\n",
       "      <th>0</th>\n",
       "      <td>---</td>\n",
       "      <td>31</td>\n",
       "      <td>---</td>\n",
       "    </tr>\n",
       "  </tbody>\n",
       "</table>\n",
       "</div>"
      ],
      "text/plain": [
       "  # Enfants VIH+  count site\n",
       "0            ---     31  ---"
      ]
     },
     "metadata": {},
     "output_type": "display_data"
    },
    {
     "data": {
      "text/html": [
       "<div>\n",
       "<style scoped>\n",
       "    .dataframe tbody tr th:only-of-type {\n",
       "        vertical-align: middle;\n",
       "    }\n",
       "\n",
       "    .dataframe tbody tr th {\n",
       "        vertical-align: top;\n",
       "    }\n",
       "\n",
       "    .dataframe thead th {\n",
       "        text-align: right;\n",
       "    }\n",
       "</style>\n",
       "<table border=\"1\" class=\"dataframe\">\n",
       "  <thead>\n",
       "    <tr style=\"text-align: right;\">\n",
       "      <th></th>\n",
       "      <th># Enfants non testés</th>\n",
       "      <th>count</th>\n",
       "      <th>site</th>\n",
       "    </tr>\n",
       "  </thead>\n",
       "  <tbody>\n",
       "    <tr>\n",
       "      <th>0</th>\n",
       "      <td>---</td>\n",
       "      <td>447</td>\n",
       "      <td>---</td>\n",
       "    </tr>\n",
       "  </tbody>\n",
       "</table>\n",
       "</div>"
      ],
      "text/plain": [
       "  # Enfants non testés  count site\n",
       "0                  ---    447  ---"
      ]
     },
     "metadata": {},
     "output_type": "display_data"
    }
   ],
   "source": [
    "# Ajouter une colonne 'site' pour chaque DataFrame\n",
    "eff_enf['site'] = eff_enf['# Enfants'].str[:8]\n",
    "enf_test['site'] = enf_test['# Enfants testés'].str[:8]\n",
    "enf_vih_neg['site'] = enf_vih_neg['# Enfants VIH-'].str[:8]\n",
    "no_info_status['site'] = no_info_status['# no_info_status'].str[:8]\n",
    "enf_vih_pos_total['site'] = enf_vih_pos_total['# Enfants VIH+'].str[:8]\n",
    "enf_non_test['site'] = enf_non_test['# Enfants non testés'].str[:8]\n",
    "\n",
    "# Vérifier les premières lignes pour chaque DataFrame\n",
    "display(eff_enf.head(1))\n",
    "display(enf_test.head(1))\n",
    "display(enf_vih_neg.head(1))\n",
    "display(no_info_status.head(1))\n",
    "display(enf_vih_pos_total.head(1))\n",
    "display(enf_non_test.head(1))"
   ]
  },
  {
   "cell_type": "code",
   "execution_count": 55,
   "metadata": {},
   "outputs": [
    {
     "data": {
      "text/html": [
       "<div>\n",
       "<style scoped>\n",
       "    .dataframe tbody tr th:only-of-type {\n",
       "        vertical-align: middle;\n",
       "    }\n",
       "\n",
       "    .dataframe tbody tr th {\n",
       "        vertical-align: top;\n",
       "    }\n",
       "\n",
       "    .dataframe thead th {\n",
       "        text-align: right;\n",
       "    }\n",
       "</style>\n",
       "<table border=\"1\" class=\"dataframe\">\n",
       "  <thead>\n",
       "    <tr style=\"text-align: right;\">\n",
       "      <th></th>\n",
       "      <th># Enfants</th>\n",
       "      <th>count</th>\n",
       "      <th>site</th>\n",
       "      <th>status</th>\n",
       "      <th>caris_office</th>\n",
       "      <th>hopital</th>\n",
       "      <th>network</th>\n",
       "      <th>departement</th>\n",
       "      <th>commune</th>\n",
       "      <th>section</th>\n",
       "      <th>latitude</th>\n",
       "      <th>longitude</th>\n",
       "    </tr>\n",
       "  </thead>\n",
       "  <tbody>\n",
       "    <tr>\n",
       "      <th>0</th>\n",
       "      <td>---</td>\n",
       "      <td>2250</td>\n",
       "      <td>---</td>\n",
       "      <td>NaN</td>\n",
       "      <td>NaN</td>\n",
       "      <td>NaN</td>\n",
       "      <td>NaN</td>\n",
       "      <td>NaN</td>\n",
       "      <td>NaN</td>\n",
       "      <td>NaN</td>\n",
       "      <td>NaN</td>\n",
       "      <td>NaN</td>\n",
       "    </tr>\n",
       "  </tbody>\n",
       "</table>\n",
       "</div>"
      ],
      "text/plain": [
       "  # Enfants  count site status caris_office hopital network departement  \\\n",
       "0       ---   2250  ---    NaN          NaN     NaN     NaN         NaN   \n",
       "\n",
       "  commune section  latitude  longitude  \n",
       "0     NaN     NaN       NaN        NaN  "
      ]
     },
     "metadata": {},
     "output_type": "display_data"
    },
    {
     "data": {
      "text/html": [
       "<div>\n",
       "<style scoped>\n",
       "    .dataframe tbody tr th:only-of-type {\n",
       "        vertical-align: middle;\n",
       "    }\n",
       "\n",
       "    .dataframe tbody tr th {\n",
       "        vertical-align: top;\n",
       "    }\n",
       "\n",
       "    .dataframe thead th {\n",
       "        text-align: right;\n",
       "    }\n",
       "</style>\n",
       "<table border=\"1\" class=\"dataframe\">\n",
       "  <thead>\n",
       "    <tr style=\"text-align: right;\">\n",
       "      <th></th>\n",
       "      <th># Enfants testés</th>\n",
       "      <th>count</th>\n",
       "      <th>site</th>\n",
       "      <th>status</th>\n",
       "      <th>caris_office</th>\n",
       "      <th>hopital</th>\n",
       "      <th>network</th>\n",
       "      <th>departement</th>\n",
       "      <th>commune</th>\n",
       "      <th>section</th>\n",
       "      <th>latitude</th>\n",
       "      <th>longitude</th>\n",
       "    </tr>\n",
       "  </thead>\n",
       "  <tbody>\n",
       "    <tr>\n",
       "      <th>0</th>\n",
       "      <td>---</td>\n",
       "      <td>1702</td>\n",
       "      <td>---</td>\n",
       "      <td>NaN</td>\n",
       "      <td>NaN</td>\n",
       "      <td>NaN</td>\n",
       "      <td>NaN</td>\n",
       "      <td>NaN</td>\n",
       "      <td>NaN</td>\n",
       "      <td>NaN</td>\n",
       "      <td>NaN</td>\n",
       "      <td>NaN</td>\n",
       "    </tr>\n",
       "  </tbody>\n",
       "</table>\n",
       "</div>"
      ],
      "text/plain": [
       "  # Enfants testés  count site status caris_office hopital network  \\\n",
       "0              ---   1702  ---    NaN          NaN     NaN     NaN   \n",
       "\n",
       "  departement commune section  latitude  longitude  \n",
       "0         NaN     NaN     NaN       NaN        NaN  "
      ]
     },
     "metadata": {},
     "output_type": "display_data"
    },
    {
     "data": {
      "text/html": [
       "<div>\n",
       "<style scoped>\n",
       "    .dataframe tbody tr th:only-of-type {\n",
       "        vertical-align: middle;\n",
       "    }\n",
       "\n",
       "    .dataframe tbody tr th {\n",
       "        vertical-align: top;\n",
       "    }\n",
       "\n",
       "    .dataframe thead th {\n",
       "        text-align: right;\n",
       "    }\n",
       "</style>\n",
       "<table border=\"1\" class=\"dataframe\">\n",
       "  <thead>\n",
       "    <tr style=\"text-align: right;\">\n",
       "      <th></th>\n",
       "      <th># Enfants VIH-</th>\n",
       "      <th>count</th>\n",
       "      <th>site</th>\n",
       "      <th>status</th>\n",
       "      <th>caris_office</th>\n",
       "      <th>hopital</th>\n",
       "      <th>network</th>\n",
       "      <th>departement</th>\n",
       "      <th>commune</th>\n",
       "      <th>section</th>\n",
       "      <th>latitude</th>\n",
       "      <th>longitude</th>\n",
       "    </tr>\n",
       "  </thead>\n",
       "  <tbody>\n",
       "    <tr>\n",
       "      <th>0</th>\n",
       "      <td>---</td>\n",
       "      <td>1545</td>\n",
       "      <td>---</td>\n",
       "      <td>NaN</td>\n",
       "      <td>NaN</td>\n",
       "      <td>NaN</td>\n",
       "      <td>NaN</td>\n",
       "      <td>NaN</td>\n",
       "      <td>NaN</td>\n",
       "      <td>NaN</td>\n",
       "      <td>NaN</td>\n",
       "      <td>NaN</td>\n",
       "    </tr>\n",
       "  </tbody>\n",
       "</table>\n",
       "</div>"
      ],
      "text/plain": [
       "  # Enfants VIH-  count site status caris_office hopital network departement  \\\n",
       "0            ---   1545  ---    NaN          NaN     NaN     NaN         NaN   \n",
       "\n",
       "  commune section  latitude  longitude  \n",
       "0     NaN     NaN       NaN        NaN  "
      ]
     },
     "metadata": {},
     "output_type": "display_data"
    },
    {
     "data": {
      "text/html": [
       "<div>\n",
       "<style scoped>\n",
       "    .dataframe tbody tr th:only-of-type {\n",
       "        vertical-align: middle;\n",
       "    }\n",
       "\n",
       "    .dataframe tbody tr th {\n",
       "        vertical-align: top;\n",
       "    }\n",
       "\n",
       "    .dataframe thead th {\n",
       "        text-align: right;\n",
       "    }\n",
       "</style>\n",
       "<table border=\"1\" class=\"dataframe\">\n",
       "  <thead>\n",
       "    <tr style=\"text-align: right;\">\n",
       "      <th></th>\n",
       "      <th># no_info_status</th>\n",
       "      <th>count</th>\n",
       "      <th>site</th>\n",
       "      <th>status</th>\n",
       "      <th>caris_office</th>\n",
       "      <th>hopital</th>\n",
       "      <th>network</th>\n",
       "      <th>departement</th>\n",
       "      <th>commune</th>\n",
       "      <th>section</th>\n",
       "      <th>latitude</th>\n",
       "      <th>longitude</th>\n",
       "    </tr>\n",
       "  </thead>\n",
       "  <tbody>\n",
       "    <tr>\n",
       "      <th>0</th>\n",
       "      <td>---</td>\n",
       "      <td>126</td>\n",
       "      <td>---</td>\n",
       "      <td>NaN</td>\n",
       "      <td>NaN</td>\n",
       "      <td>NaN</td>\n",
       "      <td>NaN</td>\n",
       "      <td>NaN</td>\n",
       "      <td>NaN</td>\n",
       "      <td>NaN</td>\n",
       "      <td>NaN</td>\n",
       "      <td>NaN</td>\n",
       "    </tr>\n",
       "  </tbody>\n",
       "</table>\n",
       "</div>"
      ],
      "text/plain": [
       "  # no_info_status  count site status caris_office hopital network  \\\n",
       "0              ---    126  ---    NaN          NaN     NaN     NaN   \n",
       "\n",
       "  departement commune section  latitude  longitude  \n",
       "0         NaN     NaN     NaN       NaN        NaN  "
      ]
     },
     "metadata": {},
     "output_type": "display_data"
    },
    {
     "data": {
      "text/html": [
       "<div>\n",
       "<style scoped>\n",
       "    .dataframe tbody tr th:only-of-type {\n",
       "        vertical-align: middle;\n",
       "    }\n",
       "\n",
       "    .dataframe tbody tr th {\n",
       "        vertical-align: top;\n",
       "    }\n",
       "\n",
       "    .dataframe thead th {\n",
       "        text-align: right;\n",
       "    }\n",
       "</style>\n",
       "<table border=\"1\" class=\"dataframe\">\n",
       "  <thead>\n",
       "    <tr style=\"text-align: right;\">\n",
       "      <th></th>\n",
       "      <th># Enfants VIH+</th>\n",
       "      <th>count</th>\n",
       "      <th>site</th>\n",
       "      <th>status</th>\n",
       "      <th>caris_office</th>\n",
       "      <th>hopital</th>\n",
       "      <th>network</th>\n",
       "      <th>departement</th>\n",
       "      <th>commune</th>\n",
       "      <th>section</th>\n",
       "      <th>latitude</th>\n",
       "      <th>longitude</th>\n",
       "    </tr>\n",
       "  </thead>\n",
       "  <tbody>\n",
       "    <tr>\n",
       "      <th>0</th>\n",
       "      <td>---</td>\n",
       "      <td>31</td>\n",
       "      <td>---</td>\n",
       "      <td>NaN</td>\n",
       "      <td>NaN</td>\n",
       "      <td>NaN</td>\n",
       "      <td>NaN</td>\n",
       "      <td>NaN</td>\n",
       "      <td>NaN</td>\n",
       "      <td>NaN</td>\n",
       "      <td>NaN</td>\n",
       "      <td>NaN</td>\n",
       "    </tr>\n",
       "  </tbody>\n",
       "</table>\n",
       "</div>"
      ],
      "text/plain": [
       "  # Enfants VIH+  count site status caris_office hopital network departement  \\\n",
       "0            ---     31  ---    NaN          NaN     NaN     NaN         NaN   \n",
       "\n",
       "  commune section  latitude  longitude  \n",
       "0     NaN     NaN       NaN        NaN  "
      ]
     },
     "metadata": {},
     "output_type": "display_data"
    },
    {
     "data": {
      "text/html": [
       "<div>\n",
       "<style scoped>\n",
       "    .dataframe tbody tr th:only-of-type {\n",
       "        vertical-align: middle;\n",
       "    }\n",
       "\n",
       "    .dataframe tbody tr th {\n",
       "        vertical-align: top;\n",
       "    }\n",
       "\n",
       "    .dataframe thead th {\n",
       "        text-align: right;\n",
       "    }\n",
       "</style>\n",
       "<table border=\"1\" class=\"dataframe\">\n",
       "  <thead>\n",
       "    <tr style=\"text-align: right;\">\n",
       "      <th></th>\n",
       "      <th># Enfants non testés</th>\n",
       "      <th>count</th>\n",
       "      <th>site</th>\n",
       "      <th>status</th>\n",
       "      <th>caris_office</th>\n",
       "      <th>hopital</th>\n",
       "      <th>network</th>\n",
       "      <th>departement</th>\n",
       "      <th>commune</th>\n",
       "      <th>section</th>\n",
       "      <th>latitude</th>\n",
       "      <th>longitude</th>\n",
       "    </tr>\n",
       "  </thead>\n",
       "  <tbody>\n",
       "    <tr>\n",
       "      <th>0</th>\n",
       "      <td>---</td>\n",
       "      <td>447</td>\n",
       "      <td>---</td>\n",
       "      <td>NaN</td>\n",
       "      <td>NaN</td>\n",
       "      <td>NaN</td>\n",
       "      <td>NaN</td>\n",
       "      <td>NaN</td>\n",
       "      <td>NaN</td>\n",
       "      <td>NaN</td>\n",
       "      <td>NaN</td>\n",
       "      <td>NaN</td>\n",
       "    </tr>\n",
       "  </tbody>\n",
       "</table>\n",
       "</div>"
      ],
      "text/plain": [
       "  # Enfants non testés  count site status caris_office hopital network  \\\n",
       "0                  ---    447  ---    NaN          NaN     NaN     NaN   \n",
       "\n",
       "  departement commune section  latitude  longitude  \n",
       "0         NaN     NaN     NaN       NaN        NaN  "
      ]
     },
     "metadata": {},
     "output_type": "display_data"
    }
   ],
   "source": [
    "# Appliquer la fonction merge_and_extend sur chaque DataFrame\n",
    "eff_enf_merged = merge_and_extend(eff_enf, site, on='site')\n",
    "enf_test_merged = merge_and_extend(enf_test, site, on='site')\n",
    "enf_vih_neg_merged = merge_and_extend(enf_vih_neg, site, on='site')\n",
    "no_info_status_merged = merge_and_extend(no_info_status, site, on='site')\n",
    "enf_vih_pos_total_merged = merge_and_extend(enf_vih_pos_total, site, on='site')\n",
    "enf_non_test_merged = merge_and_extend(enf_non_test, site, on='site')\n",
    "\n",
    "# Afficher les premières lignes de chaque DataFrame fusionné pour vérifier\n",
    "display(eff_enf_merged.head(1))\n",
    "display(enf_test_merged.head(1))\n",
    "display(enf_vih_neg_merged.head(1))\n",
    "display(no_info_status_merged.head(1))\n",
    "display(enf_vih_pos_total_merged.head(1))\n",
    "display(enf_non_test_merged.head(1))"
   ]
  },
  {
   "cell_type": "code",
   "execution_count": 56,
   "metadata": {},
   "outputs": [],
   "source": [
    "from datetime import date\n",
    "import pandas as pd\n",
    "\n",
    "def save_dataframes_excel(output_name=\"output\", df1=None, df2=None, df3=None, df4=None, df5=None, df6=None, sheet_names=None):\n",
    "    \"\"\"\n",
    "    Sauvegarde jusqu'à 6 DataFrames dans un fichier Excel avec un nom dynamique basé sur la date.\n",
    "\n",
    "    Args:\n",
    "        output_name (str): Nom de base du fichier de sortie (sans extension).\n",
    "        df1, df2, df3, df4, df5, df6 (pd.DataFrame, optional): DataFrames à sauvegarder.\n",
    "        sheet_names (list, optional): Liste des noms de feuilles.\n",
    "    \"\"\"\n",
    "    # Définir une date pour le nom du fichier\n",
    "    today_str = date.today().strftime(\"%Y-%m-%d\")\n",
    "    file_name = f\"{output_name}_{today_str}.xlsx\"\n",
    "\n",
    "    # Définir les noms des feuilles si non fournis\n",
    "    sheet_names = sheet_names or ['Sheet1', 'Sheet2', 'Sheet3', 'Sheet4', 'Sheet5', 'Sheet6']\n",
    "    \n",
    "    # Créer l'écrivain Excel\n",
    "    writer = pd.ExcelWriter(file_name, engine='xlsxwriter')\n",
    "\n",
    "    # Stocker les DataFrames dans une liste\n",
    "    dfs = [df1, df2, df3, df4, df5, df6]\n",
    "\n",
    "    # Écrire chaque DataFrame dans sa feuille correspondante s'il est défini\n",
    "    for i, df in enumerate(dfs):\n",
    "        if df is not None:\n",
    "            df.to_excel(writer, sheet_name=sheet_names[i], index=False)\n",
    "\n",
    "    # Sauvegarder le fichier Excel\n",
    "    writer.close()\n",
    "    print(f\"Fichier '{file_name}' sauvegardé avec succès.\")\n"
   ]
  },
  {
   "cell_type": "code",
   "execution_count": 57,
   "metadata": {},
   "outputs": [
    {
     "data": {
      "text/plain": [
       "\"save_dataframe_to_excel(stat_ptme_index, 'stat_ptme_index')\\nsave_dataframe_to_excel(working_data, 'working_data')\""
      ]
     },
     "execution_count": 57,
     "metadata": {},
     "output_type": "execute_result"
    }
   ],
   "source": [
    "\"\"\"save_dataframe_to_excel(stat_ptme_index, 'stat_ptme_index')\n",
    "save_dataframe_to_excel(working_data, 'working_data')\"\"\""
   ]
  },
  {
   "cell_type": "code",
   "execution_count": 58,
   "metadata": {},
   "outputs": [
    {
     "name": "stdout",
     "output_type": "stream",
     "text": [
      "Fichier 'Statut_des_enfants_PTME_2025-03-31.xlsx' sauvegardé avec succès.\n"
     ]
    }
   ],
   "source": [
    "# Example usage:\n",
    "save_dataframes_excel(\n",
    "\toutput_name=\"Statut_des_enfants_PTME\",\n",
    "\tdf1=eff_enf_merged,\n",
    "\tdf2=enf_test_merged,\n",
    "\tdf3=enf_vih_neg_merged,\n",
    "\tdf4=no_info_status_merged,\n",
    "\tdf5=enf_vih_pos_total_merged,\n",
    "\tdf6=enf_non_test_merged,\n",
    "\tsheet_names=['PTME_0_17', 'testés', 'VIH-', 'statuts inconnus', 'VIH+ total', 'non testés']\n",
    ")"
   ]
  },
  {
   "cell_type": "markdown",
   "metadata": {},
   "source": [
    "### 6. Generate the pregnant report"
   ]
  },
  {
   "cell_type": "code",
   "execution_count": 59,
   "metadata": {},
   "outputs": [
    {
     "name": "stdout",
     "output_type": "stream",
     "text": [
      "Number of PTME women with for the semester: 968\n",
      "Number of breasfeeding women with for the semester: 930\n",
      "Number of pregnant women with for the semester: 39\n",
      "Number of pregnant women in club for the semester: 39\n",
      "Number of pregnant women with Household count for the semester: 24\n",
      "Number of pregnant women with testing for their child: 29\n"
     ]
    }
   ],
   "source": [
    "ptme_woman0 = working_data[(working_data.allaitante == 'yes') | (working_data.enceinte == 'yes')]\n",
    "print(f\"Number of PTME women with for the semester: {ptme_woman0.shape[0]}\")\n",
    "breasfeeding_woman = working_data[(working_data.allaitante == 'yes')]\n",
    "print(f\"Number of breasfeeding women with for the semester: {breasfeeding_woman.shape[0]}\")\n",
    "pregnant_woman = working_data[working_data['enceinte'] == 'yes']\n",
    "print(f\"Number of pregnant women with for the semester: {pregnant_woman.shape[0]}\")\n",
    "pregnant_woman_in_club = working_data[((working_data.club_q1 == 'yes') | (working_data.club_q2 == 'yes')) & ((working_data.enceinte == 'yes'))]\n",
    "print(f\"Number of pregnant women in club for the semester: {pregnant_woman_in_club.shape[0]}\")\n",
    "pregnant_woman_with_testing = pregnant_woman_in_club[pregnant_woman_in_club['testing'] == 'yes']\n",
    "print(f\"Number of pregnant women with Household count for the semester: {pregnant_woman_with_testing.shape[0]}\")\n",
    "pregnant_woman_with_comptage = pregnant_woman_in_club[pregnant_woman_in_club['comptage'] == 'yes']\n",
    "print(f\"Number of pregnant women with testing for their child: {pregnant_woman_with_comptage.shape[0]}\")"
   ]
  },
  {
   "cell_type": "code",
   "execution_count": 60,
   "metadata": {},
   "outputs": [
    {
     "data": {
      "text/plain": [
       "1.2083333333333333"
      ]
     },
     "execution_count": 60,
     "metadata": {},
     "output_type": "execute_result"
    }
   ],
   "source": [
    "pregnant_woman_with_comptage.shape[0] / pregnant_woman_with_testing.shape[0]"
   ]
  },
  {
   "cell_type": "code",
   "execution_count": 61,
   "metadata": {},
   "outputs": [],
   "source": [
    "# Créer le DataFrame med avec les indicateurs et leurs proportions\n",
    "Indicators = ['Femme Enceinte(FE)', 'FE en club', 'FE avec enfants comptage', 'FE avec enfants testés']\n",
    "n_1 = [pregnant_woman.shape[0], pregnant_woman_in_club.shape[0], pregnant_woman_with_comptage.shape[0], pregnant_woman_with_testing.shape[0]]\n",
    "prop_impact1 = [\n",
    "    pregnant_woman.shape[0] / pregnant_woman.shape[0] if ptme_woman0.shape[0] != 0 else 0,\n",
    "    pregnant_woman_in_club.shape[0] / pregnant_woman.shape[0] if pregnant_woman.shape[0] != 0 else 0,\n",
    "    pregnant_woman_with_comptage.shape[0] / pregnant_woman_in_club.shape[0] if pregnant_woman_in_club.shape[0] != 0 else 0,\n",
    "    pregnant_woman_with_testing.shape[0] / pregnant_woman_with_comptage.shape[0] if pregnant_woman_with_comptage.shape[0] != 0 else 0,\n",
    "]\n",
    "medpregnant = pd.DataFrame({'Indicators': Indicators, 'n_1': n_1, 'prop_impact1': prop_impact1})\n",
    "medpregnant = medpregnant.sort_values(by='n_1', ascending=False)"
   ]
  },
  {
   "cell_type": "code",
   "execution_count": 62,
   "metadata": {},
   "outputs": [
    {
     "data": {
      "text/plain": [
       "<Figure size 1000x600 with 0 Axes>"
      ]
     },
     "execution_count": 62,
     "metadata": {},
     "output_type": "execute_result"
    },
    {
     "data": {
      "text/plain": [
       "<Axes: xlabel='Indicators', ylabel='n_1'>"
      ]
     },
     "execution_count": 62,
     "metadata": {},
     "output_type": "execute_result"
    },
    {
     "data": {
      "text/plain": [
       "Text(0, 39, '39 (100%)')"
      ]
     },
     "execution_count": 62,
     "metadata": {},
     "output_type": "execute_result"
    },
    {
     "data": {
      "text/plain": [
       "Text(1, 39, '39 (100%)')"
      ]
     },
     "execution_count": 62,
     "metadata": {},
     "output_type": "execute_result"
    },
    {
     "data": {
      "text/plain": [
       "Text(2, 29, '29 (74%)')"
      ]
     },
     "execution_count": 62,
     "metadata": {},
     "output_type": "execute_result"
    },
    {
     "data": {
      "text/plain": [
       "Text(3, 24, '24 (83%)')"
      ]
     },
     "execution_count": 62,
     "metadata": {},
     "output_type": "execute_result"
    },
    {
     "data": {
      "text/plain": [
       "Text(0.5, 1.0, 'Cascades des femmes enceintes')"
      ]
     },
     "execution_count": 62,
     "metadata": {},
     "output_type": "execute_result"
    },
    {
     "data": {
      "text/plain": [
       "Text(0.5, 0, '')"
      ]
     },
     "execution_count": 62,
     "metadata": {},
     "output_type": "execute_result"
    },
    {
     "data": {
      "text/plain": [
       "Text(0, 0.5, 'Frequency')"
      ]
     },
     "execution_count": 62,
     "metadata": {},
     "output_type": "execute_result"
    },
    {
     "data": {
      "text/plain": [
       "Text(0.5, -0.05, 'Data Source: hivhaiti / 2025-03-31')"
      ]
     },
     "execution_count": 62,
     "metadata": {},
     "output_type": "execute_result"
    },
    {
     "data": {
      "text/plain": [
       "([0, 1, 2, 3],\n",
       " [Text(0, 0, 'Femme Enceinte(FE)'),\n",
       "  Text(1, 0, 'FE en club'),\n",
       "  Text(2, 0, 'FE avec enfants comptage'),\n",
       "  Text(3, 0, 'FE avec enfants testés')])"
      ]
     },
     "execution_count": 62,
     "metadata": {},
     "output_type": "execute_result"
    },
    {
     "data": {
      "text/plain": [
       "(array([ 0.,  5., 10., 15., 20., 25., 30., 35., 40., 45.]),\n",
       " [Text(0, 0.0, '0'),\n",
       "  Text(0, 5.0, '5'),\n",
       "  Text(0, 10.0, '10'),\n",
       "  Text(0, 15.0, '15'),\n",
       "  Text(0, 20.0, '20'),\n",
       "  Text(0, 25.0, '25'),\n",
       "  Text(0, 30.0, '30'),\n",
       "  Text(0, 35.0, '35'),\n",
       "  Text(0, 40.0, '40'),\n",
       "  Text(0, 45.0, '45')])"
      ]
     },
     "execution_count": 62,
     "metadata": {},
     "output_type": "execute_result"
    },
    {
     "data": {
      "image/png": "[encoded data removed]",
      "text/plain": [
       "<Figure size 1000x600 with 1 Axes>"
      ]
     },
     "metadata": {},
     "output_type": "display_data"
    }
   ],
   "source": [
    "# Vérifiez si le DataFrame med est vide\n",
    "if medpregnant.empty:\n",
    "    print(\"Il n'y a pas eu d'activite\")\n",
    "else:\n",
    "    # Création du graphique, doublement de la largeur\n",
    "    plt.figure(figsize=(10, 6))\n",
    "    sns.barplot(data=medpregnant, x='Indicators', y='n_1', palette='viridis', edgecolor='black')\n",
    "\n",
    "    # Ajout des labels sur les barres, centré en haut\n",
    "    for i in range(len(medpregnant)):\n",
    "        plt.text(i, medpregnant['n_1'].iloc[i], f\"{medpregnant['n_1'].iloc[i]:,} ({medpregnant['prop_impact1'].iloc[i] * 100:.0f}%)\", ha='center', va='bottom', size=10)\n",
    "\n",
    "    # Titre et étiquettes\n",
    "    plt.title(\"Cascades des femmes enceintes\", fontsize=14, family='Cambria', fontweight='bold', ha='center')\n",
    "    plt.xlabel(\"\")\n",
    "    plt.ylabel(\"Frequency\")\n",
    "\n",
    "    # Ajout de la source des données en tant que légende\n",
    "    plt.figtext(0.5, -0.05, f\"Data Source: hivhaiti / {pd.to_datetime('today').date()}\", ha=\"center\", fontsize=10, family='Cambria', style='italic')\n",
    "\n",
    "    # Ajustement des thèmes\n",
    "    plt.xticks(fontsize=12, family='Cambria')\n",
    "    plt.yticks(fontsize=12, family='Cambria')\n",
    "\n",
    "    # Suppression des gridlines\n",
    "    plt.grid(False)\n",
    "\n",
    "    # Afficher le graphique\n",
    "    plt.show()\n"
   ]
  },
  {
   "cell_type": "code",
   "execution_count": 63,
   "metadata": {},
   "outputs": [
    {
     "data": {
      "application/vnd.plotly.v1+json": {
       "config": {
        "plotlyServerURL": "https://plot.ly"
       },
       "data": [
        {
         "domain": {
          "x": [
           0,
           1
          ],
          "y": [
           0,
           1
          ]
         },
         "hole": 0.3,
         "hovertemplate": "comptage=%{label}<br>effectif=%{value}<extra></extra>",
         "insidetextorientation": "radial",
         "labels": [
          "Femmes allaitantes",
          "Femmes encientes"
         ],
         "legendgroup": "",
         "name": "",
         "showlegend": true,
         "textinfo": "value+percent",
         "type": "pie",
         "values": {
          "bdata": "vgcVAA==",
          "dtype": "i2"
         }
        }
       ],
       "layout": {
        "legend": {
         "tracegroupgap": 0
        },
        "template": {
         "data": {
          "bar": [
           {
            "error_x": {
             "color": "#2a3f5f"
            },
            "error_y": {
             "color": "#2a3f5f"
            },
            "marker": {
             "line": {
              "color": "#E5ECF6",
              "width": 0.5
             },
             "pattern": {
              "fillmode": "overlay",
              "size": 10,
              "solidity": 0.2
             }
            },
            "type": "bar"
           }
          ],
          "barpolar": [
           {
            "marker": {
             "line": {
              "color": "#E5ECF6",
              "width": 0.5
             },
             "pattern": {
              "fillmode": "overlay",
              "size": 10,
              "solidity": 0.2
             }
            },
            "type": "barpolar"
           }
          ],
          "carpet": [
           {
            "aaxis": {
             "endlinecolor": "#2a3f5f",
             "gridcolor": "white",
             "linecolor": "white",
             "minorgridcolor": "white",
             "startlinecolor": "#2a3f5f"
            },
            "baxis": {
             "endlinecolor": "#2a3f5f",
             "gridcolor": "white",
             "linecolor": "white",
             "minorgridcolor": "white",
             "startlinecolor": "#2a3f5f"
            },
            "type": "carpet"
           }
          ],
          "choropleth": [
           {
            "colorbar": {
             "outlinewidth": 0,
             "ticks": ""
            },
            "type": "choropleth"
           }
          ],
          "contour": [
           {
            "colorbar": {
             "outlinewidth": 0,
             "ticks": ""
            },
            "colorscale": [
             [
              0,
              "#0d0887"
             ],
             [
              0.1111111111111111,
              "#46039f"
             ],
             [
              0.2222222222222222,
              "#7201a8"
             ],
             [
              0.3333333333333333,
              "#9c179e"
             ],
             [
              0.4444444444444444,
              "#bd3786"
             ],
             [
              0.5555555555555556,
              "#d8576b"
             ],
             [
              0.6666666666666666,
              "#ed7953"
             ],
             [
              0.7777777777777778,
              "#fb9f3a"
             ],
             [
              0.8888888888888888,
              "#fdca26"
             ],
             [
              1,
              "#f0f921"
             ]
            ],
            "type": "contour"
           }
          ],
          "contourcarpet": [
           {
            "colorbar": {
             "outlinewidth": 0,
             "ticks": ""
            },
            "type": "contourcarpet"
           }
          ],
          "heatmap": [
           {
            "colorbar": {
             "outlinewidth": 0,
             "ticks": ""
            },
            "colorscale": [
             [
              0,
              "#0d0887"
             ],
             [
              0.1111111111111111,
              "#46039f"
             ],
             [
              0.2222222222222222,
              "#7201a8"
             ],
             [
              0.3333333333333333,
              "#9c179e"
             ],
             [
              0.4444444444444444,
              "#bd3786"
             ],
             [
              0.5555555555555556,
              "#d8576b"
             ],
             [
              0.6666666666666666,
              "#ed7953"
             ],
             [
              0.7777777777777778,
              "#fb9f3a"
             ],
             [
              0.8888888888888888,
              "#fdca26"
             ],
             [
              1,
              "#f0f921"
             ]
            ],
            "type": "heatmap"
           }
          ],
          "histogram": [
           {
            "marker": {
             "pattern": {
              "fillmode": "overlay",
              "size": 10,
              "solidity": 0.2
             }
            },
            "type": "histogram"
           }
          ],
          "histogram2d": [
           {
            "colorbar": {
             "outlinewidth": 0,
             "ticks": ""
            },
            "colorscale": [
             [
              0,
              "#0d0887"
             ],
             [
              0.1111111111111111,
              "#46039f"
             ],
             [
              0.2222222222222222,
              "#7201a8"
             ],
             [
              0.3333333333333333,
              "#9c179e"
             ],
             [
              0.4444444444444444,
              "#bd3786"
             ],
             [
              0.5555555555555556,
              "#d8576b"
             ],
             [
              0.6666666666666666,
              "#ed7953"
             ],
             [
              0.7777777777777778,
              "#fb9f3a"
             ],
             [
              0.8888888888888888,
              "#fdca26"
             ],
             [
              1,
              "#f0f921"
             ]
            ],
            "type": "histogram2d"
           }
          ],
          "histogram2dcontour": [
           {
            "colorbar": {
             "outlinewidth": 0,
             "ticks": ""
            },
            "colorscale": [
             [
              0,
              "#0d0887"
             ],
             [
              0.1111111111111111,
              "#46039f"
             ],
             [
              0.2222222222222222,
              "#7201a8"
             ],
             [
              0.3333333333333333,
              "#9c179e"
             ],
             [
              0.4444444444444444,
              "#bd3786"
             ],
             [
              0.5555555555555556,
              "#d8576b"
             ],
             [
              0.6666666666666666,
              "#ed7953"
             ],
             [
              0.7777777777777778,
              "#fb9f3a"
             ],
             [
              0.8888888888888888,
              "#fdca26"
             ],
             [
              1,
              "#f0f921"
             ]
            ],
            "type": "histogram2dcontour"
           }
          ],
          "mesh3d": [
           {
            "colorbar": {
             "outlinewidth": 0,
             "ticks": ""
            },
            "type": "mesh3d"
           }
          ],
          "parcoords": [
           {
            "line": {
             "colorbar": {
              "outlinewidth": 0,
              "ticks": ""
             }
            },
            "type": "parcoords"
           }
          ],
          "pie": [
           {
            "automargin": true,
            "type": "pie"
           }
          ],
          "scatter": [
           {
            "fillpattern": {
             "fillmode": "overlay",
             "size": 10,
             "solidity": 0.2
            },
            "type": "scatter"
           }
          ],
          "scatter3d": [
           {
            "line": {
             "colorbar": {
              "outlinewidth": 0,
              "ticks": ""
             }
            },
            "marker": {
             "colorbar": {
              "outlinewidth": 0,
              "ticks": ""
             }
            },
            "type": "scatter3d"
           }
          ],
          "scattercarpet": [
           {
            "marker": {
             "colorbar": {
              "outlinewidth": 0,
              "ticks": ""
             }
            },
            "type": "scattercarpet"
           }
          ],
          "scattergeo": [
           {
            "marker": {
             "colorbar": {
              "outlinewidth": 0,
              "ticks": ""
             }
            },
            "type": "scattergeo"
           }
          ],
          "scattergl": [
           {
            "marker": {
             "colorbar": {
              "outlinewidth": 0,
              "ticks": ""
             }
            },
            "type": "scattergl"
           }
          ],
          "scattermap": [
           {
            "marker": {
             "colorbar": {
              "outlinewidth": 0,
              "ticks": ""
             }
            },
            "type": "scattermap"
           }
          ],
          "scattermapbox": [
           {
            "marker": {
             "colorbar": {
              "outlinewidth": 0,
              "ticks": ""
             }
            },
            "type": "scattermapbox"
           }
          ],
          "scatterpolar": [
           {
            "marker": {
             "colorbar": {
              "outlinewidth": 0,
              "ticks": ""
             }
            },
            "type": "scatterpolar"
           }
          ],
          "scatterpolargl": [
           {
            "marker": {
             "colorbar": {
              "outlinewidth": 0,
              "ticks": ""
             }
            },
            "type": "scatterpolargl"
           }
          ],
          "scatterternary": [
           {
            "marker": {
             "colorbar": {
              "outlinewidth": 0,
              "ticks": ""
             }
            },
            "type": "scatterternary"
           }
          ],
          "surface": [
           {
            "colorbar": {
             "outlinewidth": 0,
             "ticks": ""
            },
            "colorscale": [
             [
              0,
              "#0d0887"
             ],
             [
              0.1111111111111111,
              "#46039f"
             ],
             [
              0.2222222222222222,
              "#7201a8"
             ],
             [
              0.3333333333333333,
              "#9c179e"
             ],
             [
              0.4444444444444444,
              "#bd3786"
             ],
             [
              0.5555555555555556,
              "#d8576b"
             ],
             [
              0.6666666666666666,
              "#ed7953"
             ],
             [
              0.7777777777777778,
              "#fb9f3a"
             ],
             [
              0.8888888888888888,
              "#fdca26"
             ],
             [
              1,
              "#f0f921"
             ]
            ],
            "type": "surface"
           }
          ],
          "table": [
           {
            "cells": {
             "fill": {
              "color": "#EBF0F8"
             },
             "line": {
              "color": "white"
             }
            },
            "header": {
             "fill": {
              "color": "#C8D4E3"
             },
             "line": {
              "color": "white"
             }
            },
            "type": "table"
           }
          ]
         },
         "layout": {
          "annotationdefaults": {
           "arrowcolor": "#2a3f5f",
           "arrowhead": 0,
           "arrowwidth": 1
          },
          "autotypenumbers": "strict",
          "coloraxis": {
           "colorbar": {
            "outlinewidth": 0,
            "ticks": ""
           }
          },
          "colorscale": {
           "diverging": [
            [
             0,
             "#8e0152"
            ],
            [
             0.1,
             "#c51b7d"
            ],
            [
             0.2,
             "#de77ae"
            ],
            [
             0.3,
             "#f1b6da"
            ],
            [
             0.4,
             "#fde0ef"
            ],
            [
             0.5,
             "#f7f7f7"
            ],
            [
             0.6,
             "#e6f5d0"
            ],
            [
             0.7,
             "#b8e186"
            ],
            [
             0.8,
             "#7fbc41"
            ],
            [
             0.9,
             "#4d9221"
            ],
            [
             1,
             "#276419"
            ]
           ],
           "sequential": [
            [
             0,
             "#0d0887"
            ],
            [
             0.1111111111111111,
             "#46039f"
            ],
            [
             0.2222222222222222,
             "#7201a8"
            ],
            [
             0.3333333333333333,
             "#9c179e"
            ],
            [
             0.4444444444444444,
             "#bd3786"
            ],
            [
             0.5555555555555556,
             "#d8576b"
            ],
            [
             0.6666666666666666,
             "#ed7953"
            ],
            [
             0.7777777777777778,
             "#fb9f3a"
            ],
            [
             0.8888888888888888,
             "#fdca26"
            ],
            [
             1,
             "#f0f921"
            ]
           ],
           "sequentialminus": [
            [
             0,
             "#0d0887"
            ],
            [
             0.1111111111111111,
             "#46039f"
            ],
            [
             0.2222222222222222,
             "#7201a8"
            ],
            [
             0.3333333333333333,
             "#9c179e"
            ],
            [
             0.4444444444444444,
             "#bd3786"
            ],
            [
             0.5555555555555556,
             "#d8576b"
            ],
            [
             0.6666666666666666,
             "#ed7953"
            ],
            [
             0.7777777777777778,
             "#fb9f3a"
            ],
            [
             0.8888888888888888,
             "#fdca26"
            ],
            [
             1,
             "#f0f921"
            ]
           ]
          },
          "colorway": [
           "#636efa",
           "#EF553B",
           "#00cc96",
           "#ab63fa",
           "#FFA15A",
           "#19d3f3",
           "#FF6692",
           "#B6E880",
           "#FF97FF",
           "#FECB52"
          ],
          "font": {
           "color": "#2a3f5f"
          },
          "geo": {
           "bgcolor": "white",
           "lakecolor": "white",
           "landcolor": "#E5ECF6",
           "showlakes": true,
           "showland": true,
           "subunitcolor": "white"
          },
          "hoverlabel": {
           "align": "left"
          },
          "hovermode": "closest",
          "mapbox": {
           "style": "light"
          },
          "paper_bgcolor": "white",
          "plot_bgcolor": "#E5ECF6",
          "polar": {
           "angularaxis": {
            "gridcolor": "white",
            "linecolor": "white",
            "ticks": ""
           },
           "bgcolor": "#E5ECF6",
           "radialaxis": {
            "gridcolor": "white",
            "linecolor": "white",
            "ticks": ""
           }
          },
          "scene": {
           "xaxis": {
            "backgroundcolor": "#E5ECF6",
            "gridcolor": "white",
            "gridwidth": 2,
            "linecolor": "white",
            "showbackground": true,
            "ticks": "",
            "zerolinecolor": "white"
           },
           "yaxis": {
            "backgroundcolor": "#E5ECF6",
            "gridcolor": "white",
            "gridwidth": 2,
            "linecolor": "white",
            "showbackground": true,
            "ticks": "",
            "zerolinecolor": "white"
           },
           "zaxis": {
            "backgroundcolor": "#E5ECF6",
            "gridcolor": "white",
            "gridwidth": 2,
            "linecolor": "white",
            "showbackground": true,
            "ticks": "",
            "zerolinecolor": "white"
           }
          },
          "shapedefaults": {
           "line": {
            "color": "#2a3f5f"
           }
          },
          "ternary": {
           "aaxis": {
            "gridcolor": "white",
            "linecolor": "white",
            "ticks": ""
           },
           "baxis": {
            "gridcolor": "white",
            "linecolor": "white",
            "ticks": ""
           },
           "bgcolor": "#E5ECF6",
           "caxis": {
            "gridcolor": "white",
            "linecolor": "white",
            "ticks": ""
           }
          },
          "title": {
           "x": 0.05
          },
          "xaxis": {
           "automargin": true,
           "gridcolor": "white",
           "linecolor": "white",
           "ticks": "",
           "title": {
            "standoff": 15
           },
           "zerolinecolor": "white",
           "zerolinewidth": 2
          },
          "yaxis": {
           "automargin": true,
           "gridcolor": "white",
           "linecolor": "white",
           "ticks": "",
           "title": {
            "standoff": 15
           },
           "zerolinecolor": "white",
           "zerolinewidth": 2
          }
         }
        },
        "title": {
         "text": "Répartition des femmes PTME selon leur statut"
        }
       }
      }
     },
     "metadata": {},
     "output_type": "display_data"
    }
   ],
   "source": [
    "import pandas as pd\n",
    "import plotly.express as px\n",
    "\n",
    "def plot_ptme_distribution(commcare_ptme_yes, commcare_ptme_no):\n",
    "    \"\"\"\n",
    "    Create a pie chart to visualize PTME distribution.\n",
    "    \n",
    "    Args:\n",
    "        commcare_ptme_yes (pd.DataFrame): DataFrame containing 'on_commCare' for 'yes' cases.\n",
    "        commcare_ptme_no (pd.DataFrame): DataFrame containing 'on_commCare' for 'no' cases.\n",
    "        no_accept (pd.DataFrame): DataFrame containing 'patient_code' for refusals.\n",
    "\n",
    "    Returns:\n",
    "        plotly.graph_objects.Figure: A pie chart figure.\n",
    "    \"\"\"\n",
    "    # Create the data frame for plotting\n",
    "    dat_ind_ptme = pd.DataFrame({\n",
    "        \"comptage\": [\"Femmes allaitantes\", \"Femmes encientes\"],\n",
    "        \"effectif\": [len(commcare_ptme_yes[\"on_commCare\"]),\n",
    "                     len(commcare_ptme_no[\"on_commCare\"])]\n",
    "    })\n",
    "\n",
    "    # Check if the data frame is empty\n",
    "    if dat_ind_ptme.empty:\n",
    "        print(\"Il n'y a pas d'activité\")\n",
    "        return None\n",
    "    else:\n",
    "        # Create a pie chart using Plotly\n",
    "        fig = px.pie(dat_ind_ptme, names=\"comptage\", values=\"effectif\",\n",
    "                     title=\"Répartition des femmes PTME selon leur statut\", hole=0.3)\n",
    "        fig.update_traces(textinfo='value+percent', insidetextorientation='radial')\n",
    "        return fig\n",
    "fig = plot_ptme_distribution(commcare_ptme_yes, commcare_ptme_no)\n",
    "fig.show()"
   ]
  },
  {
   "cell_type": "code",
   "execution_count": 64,
   "metadata": {},
   "outputs": [
    {
     "data": {
      "application/vnd.plotly.v1+json": {
       "config": {
        "plotlyServerURL": "https://plot.ly"
       },
       "data": [
        {
         "domain": {
          "x": [
           0,
           1
          ],
          "y": [
           0,
           1
          ]
         },
         "hole": 0.3,
         "hovertemplate": "comptage=%{label}<br>effectif=%{value}<extra></extra>",
         "insidetextorientation": "radial",
         "labels": [
          "Femmes allaitantes",
          "Femmes encientes"
         ],
         "legendgroup": "",
         "name": "",
         "showlegend": true,
         "textinfo": "value+percent",
         "type": "pie",
         "values": {
          "bdata": "ogMnAA==",
          "dtype": "i2"
         }
        }
       ],
       "layout": {
        "legend": {
         "tracegroupgap": 0
        },
        "template": {
         "data": {
          "bar": [
           {
            "error_x": {
             "color": "#2a3f5f"
            },
            "error_y": {
             "color": "#2a3f5f"
            },
            "marker": {
             "line": {
              "color": "#E5ECF6",
              "width": 0.5
             },
             "pattern": {
              "fillmode": "overlay",
              "size": 10,
              "solidity": 0.2
             }
            },
            "type": "bar"
           }
          ],
          "barpolar": [
           {
            "marker": {
             "line": {
              "color": "#E5ECF6",
              "width": 0.5
             },
             "pattern": {
              "fillmode": "overlay",
              "size": 10,
              "solidity": 0.2
             }
            },
            "type": "barpolar"
           }
          ],
          "carpet": [
           {
            "aaxis": {
             "endlinecolor": "#2a3f5f",
             "gridcolor": "white",
             "linecolor": "white",
             "minorgridcolor": "white",
             "startlinecolor": "#2a3f5f"
            },
            "baxis": {
             "endlinecolor": "#2a3f5f",
             "gridcolor": "white",
             "linecolor": "white",
             "minorgridcolor": "white",
             "startlinecolor": "#2a3f5f"
            },
            "type": "carpet"
           }
          ],
          "choropleth": [
           {
            "colorbar": {
             "outlinewidth": 0,
             "ticks": ""
            },
            "type": "choropleth"
           }
          ],
          "contour": [
           {
            "colorbar": {
             "outlinewidth": 0,
             "ticks": ""
            },
            "colorscale": [
             [
              0,
              "#0d0887"
             ],
             [
              0.1111111111111111,
              "#46039f"
             ],
             [
              0.2222222222222222,
              "#7201a8"
             ],
             [
              0.3333333333333333,
              "#9c179e"
             ],
             [
              0.4444444444444444,
              "#bd3786"
             ],
             [
              0.5555555555555556,
              "#d8576b"
             ],
             [
              0.6666666666666666,
              "#ed7953"
             ],
             [
              0.7777777777777778,
              "#fb9f3a"
             ],
             [
              0.8888888888888888,
              "#fdca26"
             ],
             [
              1,
              "#f0f921"
             ]
            ],
            "type": "contour"
           }
          ],
          "contourcarpet": [
           {
            "colorbar": {
             "outlinewidth": 0,
             "ticks": ""
            },
            "type": "contourcarpet"
           }
          ],
          "heatmap": [
           {
            "colorbar": {
             "outlinewidth": 0,
             "ticks": ""
            },
            "colorscale": [
             [
              0,
              "#0d0887"
             ],
             [
              0.1111111111111111,
              "#46039f"
             ],
             [
              0.2222222222222222,
              "#7201a8"
             ],
             [
              0.3333333333333333,
              "#9c179e"
             ],
             [
              0.4444444444444444,
              "#bd3786"
             ],
             [
              0.5555555555555556,
              "#d8576b"
             ],
             [
              0.6666666666666666,
              "#ed7953"
             ],
             [
              0.7777777777777778,
              "#fb9f3a"
             ],
             [
              0.8888888888888888,
              "#fdca26"
             ],
             [
              1,
              "#f0f921"
             ]
            ],
            "type": "heatmap"
           }
          ],
          "histogram": [
           {
            "marker": {
             "pattern": {
              "fillmode": "overlay",
              "size": 10,
              "solidity": 0.2
             }
            },
            "type": "histogram"
           }
          ],
          "histogram2d": [
           {
            "colorbar": {
             "outlinewidth": 0,
             "ticks": ""
            },
            "colorscale": [
             [
              0,
              "#0d0887"
             ],
             [
              0.1111111111111111,
              "#46039f"
             ],
             [
              0.2222222222222222,
              "#7201a8"
             ],
             [
              0.3333333333333333,
              "#9c179e"
             ],
             [
              0.4444444444444444,
              "#bd3786"
             ],
             [
              0.5555555555555556,
              "#d8576b"
             ],
             [
              0.6666666666666666,
              "#ed7953"
             ],
             [
              0.7777777777777778,
              "#fb9f3a"
             ],
             [
              0.8888888888888888,
              "#fdca26"
             ],
             [
              1,
              "#f0f921"
             ]
            ],
            "type": "histogram2d"
           }
          ],
          "histogram2dcontour": [
           {
            "colorbar": {
             "outlinewidth": 0,
             "ticks": ""
            },
            "colorscale": [
             [
              0,
              "#0d0887"
             ],
             [
              0.1111111111111111,
              "#46039f"
             ],
             [
              0.2222222222222222,
              "#7201a8"
             ],
             [
              0.3333333333333333,
              "#9c179e"
             ],
             [
              0.4444444444444444,
              "#bd3786"
             ],
             [
              0.5555555555555556,
              "#d8576b"
             ],
             [
              0.6666666666666666,
              "#ed7953"
             ],
             [
              0.7777777777777778,
              "#fb9f3a"
             ],
             [
              0.8888888888888888,
              "#fdca26"
             ],
             [
              1,
              "#f0f921"
             ]
            ],
            "type": "histogram2dcontour"
           }
          ],
          "mesh3d": [
           {
            "colorbar": {
             "outlinewidth": 0,
             "ticks": ""
            },
            "type": "mesh3d"
           }
          ],
          "parcoords": [
           {
            "line": {
             "colorbar": {
              "outlinewidth": 0,
              "ticks": ""
             }
            },
            "type": "parcoords"
           }
          ],
          "pie": [
           {
            "automargin": true,
            "type": "pie"
           }
          ],
          "scatter": [
           {
            "fillpattern": {
             "fillmode": "overlay",
             "size": 10,
             "solidity": 0.2
            },
            "type": "scatter"
           }
          ],
          "scatter3d": [
           {
            "line": {
             "colorbar": {
              "outlinewidth": 0,
              "ticks": ""
             }
            },
            "marker": {
             "colorbar": {
              "outlinewidth": 0,
              "ticks": ""
             }
            },
            "type": "scatter3d"
           }
          ],
          "scattercarpet": [
           {
            "marker": {
             "colorbar": {
              "outlinewidth": 0,
              "ticks": ""
             }
            },
            "type": "scattercarpet"
           }
          ],
          "scattergeo": [
           {
            "marker": {
             "colorbar": {
              "outlinewidth": 0,
              "ticks": ""
             }
            },
            "type": "scattergeo"
           }
          ],
          "scattergl": [
           {
            "marker": {
             "colorbar": {
              "outlinewidth": 0,
              "ticks": ""
             }
            },
            "type": "scattergl"
           }
          ],
          "scattermap": [
           {
            "marker": {
             "colorbar": {
              "outlinewidth": 0,
              "ticks": ""
             }
            },
            "type": "scattermap"
           }
          ],
          "scattermapbox": [
           {
            "marker": {
             "colorbar": {
              "outlinewidth": 0,
              "ticks": ""
             }
            },
            "type": "scattermapbox"
           }
          ],
          "scatterpolar": [
           {
            "marker": {
             "colorbar": {
              "outlinewidth": 0,
              "ticks": ""
             }
            },
            "type": "scatterpolar"
           }
          ],
          "scatterpolargl": [
           {
            "marker": {
             "colorbar": {
              "outlinewidth": 0,
              "ticks": ""
             }
            },
            "type": "scatterpolargl"
           }
          ],
          "scatterternary": [
           {
            "marker": {
             "colorbar": {
              "outlinewidth": 0,
              "ticks": ""
             }
            },
            "type": "scatterternary"
           }
          ],
          "surface": [
           {
            "colorbar": {
             "outlinewidth": 0,
             "ticks": ""
            },
            "colorscale": [
             [
              0,
              "#0d0887"
             ],
             [
              0.1111111111111111,
              "#46039f"
             ],
             [
              0.2222222222222222,
              "#7201a8"
             ],
             [
              0.3333333333333333,
              "#9c179e"
             ],
             [
              0.4444444444444444,
              "#bd3786"
             ],
             [
              0.5555555555555556,
              "#d8576b"
             ],
             [
              0.6666666666666666,
              "#ed7953"
             ],
             [
              0.7777777777777778,
              "#fb9f3a"
             ],
             [
              0.8888888888888888,
              "#fdca26"
             ],
             [
              1,
              "#f0f921"
             ]
            ],
            "type": "surface"
           }
          ],
          "table": [
           {
            "cells": {
             "fill": {
              "color": "#EBF0F8"
             },
             "line": {
              "color": "white"
             }
            },
            "header": {
             "fill": {
              "color": "#C8D4E3"
             },
             "line": {
              "color": "white"
             }
            },
            "type": "table"
           }
          ]
         },
         "layout": {
          "annotationdefaults": {
           "arrowcolor": "#2a3f5f",
           "arrowhead": 0,
           "arrowwidth": 1
          },
          "autotypenumbers": "strict",
          "coloraxis": {
           "colorbar": {
            "outlinewidth": 0,
            "ticks": ""
           }
          },
          "colorscale": {
           "diverging": [
            [
             0,
             "#8e0152"
            ],
            [
             0.1,
             "#c51b7d"
            ],
            [
             0.2,
             "#de77ae"
            ],
            [
             0.3,
             "#f1b6da"
            ],
            [
             0.4,
             "#fde0ef"
            ],
            [
             0.5,
             "#f7f7f7"
            ],
            [
             0.6,
             "#e6f5d0"
            ],
            [
             0.7,
             "#b8e186"
            ],
            [
             0.8,
             "#7fbc41"
            ],
            [
             0.9,
             "#4d9221"
            ],
            [
             1,
             "#276419"
            ]
           ],
           "sequential": [
            [
             0,
             "#0d0887"
            ],
            [
             0.1111111111111111,
             "#46039f"
            ],
            [
             0.2222222222222222,
             "#7201a8"
            ],
            [
             0.3333333333333333,
             "#9c179e"
            ],
            [
             0.4444444444444444,
             "#bd3786"
            ],
            [
             0.5555555555555556,
             "#d8576b"
            ],
            [
             0.6666666666666666,
             "#ed7953"
            ],
            [
             0.7777777777777778,
             "#fb9f3a"
            ],
            [
             0.8888888888888888,
             "#fdca26"
            ],
            [
             1,
             "#f0f921"
            ]
           ],
           "sequentialminus": [
            [
             0,
             "#0d0887"
            ],
            [
             0.1111111111111111,
             "#46039f"
            ],
            [
             0.2222222222222222,
             "#7201a8"
            ],
            [
             0.3333333333333333,
             "#9c179e"
            ],
            [
             0.4444444444444444,
             "#bd3786"
            ],
            [
             0.5555555555555556,
             "#d8576b"
            ],
            [
             0.6666666666666666,
             "#ed7953"
            ],
            [
             0.7777777777777778,
             "#fb9f3a"
            ],
            [
             0.8888888888888888,
             "#fdca26"
            ],
            [
             1,
             "#f0f921"
            ]
           ]
          },
          "colorway": [
           "#636efa",
           "#EF553B",
           "#00cc96",
           "#ab63fa",
           "#FFA15A",
           "#19d3f3",
           "#FF6692",
           "#B6E880",
           "#FF97FF",
           "#FECB52"
          ],
          "font": {
           "color": "#2a3f5f"
          },
          "geo": {
           "bgcolor": "white",
           "lakecolor": "white",
           "landcolor": "#E5ECF6",
           "showlakes": true,
           "showland": true,
           "subunitcolor": "white"
          },
          "hoverlabel": {
           "align": "left"
          },
          "hovermode": "closest",
          "mapbox": {
           "style": "light"
          },
          "paper_bgcolor": "white",
          "plot_bgcolor": "#E5ECF6",
          "polar": {
           "angularaxis": {
            "gridcolor": "white",
            "linecolor": "white",
            "ticks": ""
           },
           "bgcolor": "#E5ECF6",
           "radialaxis": {
            "gridcolor": "white",
            "linecolor": "white",
            "ticks": ""
           }
          },
          "scene": {
           "xaxis": {
            "backgroundcolor": "#E5ECF6",
            "gridcolor": "white",
            "gridwidth": 2,
            "linecolor": "white",
            "showbackground": true,
            "ticks": "",
            "zerolinecolor": "white"
           },
           "yaxis": {
            "backgroundcolor": "#E5ECF6",
            "gridcolor": "white",
            "gridwidth": 2,
            "linecolor": "white",
            "showbackground": true,
            "ticks": "",
            "zerolinecolor": "white"
           },
           "zaxis": {
            "backgroundcolor": "#E5ECF6",
            "gridcolor": "white",
            "gridwidth": 2,
            "linecolor": "white",
            "showbackground": true,
            "ticks": "",
            "zerolinecolor": "white"
           }
          },
          "shapedefaults": {
           "line": {
            "color": "#2a3f5f"
           }
          },
          "ternary": {
           "aaxis": {
            "gridcolor": "white",
            "linecolor": "white",
            "ticks": ""
           },
           "baxis": {
            "gridcolor": "white",
            "linecolor": "white",
            "ticks": ""
           },
           "bgcolor": "#E5ECF6",
           "caxis": {
            "gridcolor": "white",
            "linecolor": "white",
            "ticks": ""
           }
          },
          "title": {
           "x": 0.05
          },
          "xaxis": {
           "automargin": true,
           "gridcolor": "white",
           "linecolor": "white",
           "ticks": "",
           "title": {
            "standoff": 15
           },
           "zerolinecolor": "white",
           "zerolinewidth": 2
          },
          "yaxis": {
           "automargin": true,
           "gridcolor": "white",
           "linecolor": "white",
           "ticks": "",
           "title": {
            "standoff": 15
           },
           "zerolinecolor": "white",
           "zerolinewidth": 2
          }
         }
        },
        "title": {
         "text": "Répartition des femmes PTME selon leur statut"
        }
       }
      }
     },
     "metadata": {},
     "output_type": "display_data"
    }
   ],
   "source": [
    "fig = plot_ptme_distribution(breasfeeding_woman, pregnant_woman)\n",
    "fig.show()"
   ]
  },
  {
   "cell_type": "code",
   "execution_count": null,
   "metadata": {},
   "outputs": [],
   "source": []
  },
  {
   "cell_type": "code",
   "execution_count": 65,
   "metadata": {},
   "outputs": [
    {
     "data": {
      "text/plain": [
       "'import pandas as pd\\ncolumn_list = [\\n    \"site\", \"Hospital\", \"first_name\", \"last_name\", \"dob\", \"ptme_age\", \"in_club\", \\n    \"is_actually_in_club\", \"Club_name\", \"why_this_woman_does_not_belong_to_a_club\", \\n    \"this_woman_does_not_belong_to_a_club_reason_other\", \"woman_does_not_belong_to_a_club_definition\", \\n    \"delivery_date_merge\", \"delivery_probality_date_merge\", \"DPA_calculated\", \\n    \"allaitante\", \"enceinte\", \"pregnancy_quarter\", \"last_session_date_result\", \\n    \"club_q1\", \"club_q2\", \"participation\", \"on_commCare\"\\n]\\n\\n# Création d\\'un writer pour enregistrer les données dans un fichier Excel\\nwith pd.ExcelWriter(\"Analyse_Comptage_Menage.xlsx\") as writer:\\n        # Filtrage et transformation de comm_ptme_mix\\n    comptage_ptme_no_0 = comm_ptme_mix.drop_duplicates(subset=[\"patient_code\"], keep=\"first\")\\n    comptage_ptme_no_0 = comptage_ptme_no_0[\\n        (comptage_ptme_no_0[\"on_commCare\"] == \"no\") &\\n        (~comptage_ptme_no_0[\"patient_code\"].isin(accept[\"patient_code\"]))\\n    ]\\n    comptage_ptme_no_0[\"site_code\"] = comptage_ptme_no_0[\"patient_code\"].str[:8]\\n    comptage_ptme_no_0 = comptage_ptme_no_0[column_list]\\n\\n    # Écriture de comptage_ptme_no_0 dans une autre feuille\\n    comptage_ptme_no_0.to_excel(writer, sheet_name=\"PTME_sans_comptage\", index=False)\\n    # Filtrage de compt_ptme4 pour les patients VIH positifs\\n    # Filtrage de comm_ptme_mix où on_commCare est \"yes\"\\n    ind_al_ptme = comm_ptme_mix[comm_ptme_mix[\"on_commCare\"] == \"yes\"]\\n    #ind_al_ptme.to_excel(writer, sheet_name=\"ind_al_ptme\", index=False)\\n\\n    # Conversion de age_in_year en numérique pour éviter les erreurs\\n    compt_ptme4[\"age_in_year\"] = pd.to_numeric(compt_ptme4[\"age_in_year\"], errors=\"coerce\")\\n\\n    # Filtrage de compt_ptme4 avec les conditions spécifiées\\n    ind_ptme_com = compt_ptme4[\\n        (compt_ptme4[\"ptme_relationship\"] == \"2\") &\\n        (compt_ptme4[\"age_in_year\"].between(0, 17)) &\\n        (compt_ptme4[\"hiv_test\"].isin([\"2\", \"non\"])) &\\n        (compt_ptme4[\"non_consent_reason\"] == \"---\")\\n    ][[\"patient_code\", \"owner_name\", \"first_name\", \"last_name\", \"name\", \"age_in_year\", \"hiv_test\"]]\\n\\n    # Écriture de ind_ptme_com dans une autre feuille\\n    ind_ptme_com.to_excel(writer, sheet_name=\"Enfants_non_testés\", index=False)\\n\\n    pos_vih_ptme = compt_ptme4[\\n        (compt_ptme4[\"ptme_relationship\"] == \"2\") &\\n        (compt_ptme4[\"age_in_year\"].between(0, 17)) &\\n        (compt_ptme4[\"hiv_test_result\"] == \"positif\") &\\n        (compt_ptme4[\"hiv_test\"].isin([\"1\", \"oui\"])) &\\n        (compt_ptme4[\"full_code_patient_menage\"].isin([\"//\", \"---\"]))\\n    ][[\"patient_code\", \"name\", \"hiv_test\", \"hiv_test_result\", \"full_code_patient_menage\", \"age_in_year\"]]\\n\\n    # Écriture de pos_vih_ptme dans une autre feuille\\n    pos_vih_ptme.to_excel(writer, sheet_name=\"Pos_sans_ST\", index=False)\\n\\n    # Filtrage de compt_ptme4 pour les patients ayant un test inconnu\\ninconnu_ptme_com = compt_ptme4[\\n    (compt_ptme4[\"ptme_relationship\"] == \"2\") &\\n    (compt_ptme4[\"age_in_year\"].between(0, 17)) &\\n    (compt_ptme4[\"hiv_test\"].isin([\"1\", \"oui\"])) &\\n    (~compt_ptme4[\"hiv_test_result\"].isin([\"positif\", \"negatif\"]))\\n][[\"patient_code\", \"owner_name\", \"first_name\", \"last_name\", \"name\", \"age_in_year\", \"hiv_test\"]]\\n\\n# Écriture de join_ptme_inconnu dans une autre feuille\\ninconnu_ptme_com.to_excel(writer, sheet_name=\"Enfant_statut_inconnu\", index=False)'"
      ]
     },
     "execution_count": 65,
     "metadata": {},
     "output_type": "execute_result"
    }
   ],
   "source": [
    "\"\"\"import pandas as pd\n",
    "column_list = [\n",
    "    \"site\", \"Hospital\", \"first_name\", \"last_name\", \"dob\", \"ptme_age\", \"in_club\", \n",
    "    \"is_actually_in_club\", \"Club_name\", \"why_this_woman_does_not_belong_to_a_club\", \n",
    "    \"this_woman_does_not_belong_to_a_club_reason_other\", \"woman_does_not_belong_to_a_club_definition\", \n",
    "    \"delivery_date_merge\", \"delivery_probality_date_merge\", \"DPA_calculated\", \n",
    "    \"allaitante\", \"enceinte\", \"pregnancy_quarter\", \"last_session_date_result\", \n",
    "    \"club_q1\", \"club_q2\", \"participation\", \"on_commCare\"\n",
    "]\n",
    "\n",
    "# Création d'un writer pour enregistrer les données dans un fichier Excel\n",
    "with pd.ExcelWriter(\"Analyse_Comptage_Menage.xlsx\") as writer:\n",
    "        # Filtrage et transformation de comm_ptme_mix\n",
    "    comptage_ptme_no_0 = comm_ptme_mix.drop_duplicates(subset=[\"patient_code\"], keep=\"first\")\n",
    "    comptage_ptme_no_0 = comptage_ptme_no_0[\n",
    "        (comptage_ptme_no_0[\"on_commCare\"] == \"no\") &\n",
    "        (~comptage_ptme_no_0[\"patient_code\"].isin(accept[\"patient_code\"]))\n",
    "    ]\n",
    "    comptage_ptme_no_0[\"site_code\"] = comptage_ptme_no_0[\"patient_code\"].str[:8]\n",
    "    comptage_ptme_no_0 = comptage_ptme_no_0[column_list]\n",
    "    \n",
    "    # Écriture de comptage_ptme_no_0 dans une autre feuille\n",
    "    comptage_ptme_no_0.to_excel(writer, sheet_name=\"PTME_sans_comptage\", index=False)\n",
    "    # Filtrage de compt_ptme4 pour les patients VIH positifs\n",
    "    # Filtrage de comm_ptme_mix où on_commCare est \"yes\"\n",
    "    ind_al_ptme = comm_ptme_mix[comm_ptme_mix[\"on_commCare\"] == \"yes\"]\n",
    "    #ind_al_ptme.to_excel(writer, sheet_name=\"ind_al_ptme\", index=False)\n",
    "    \n",
    "    # Conversion de age_in_year en numérique pour éviter les erreurs\n",
    "    compt_ptme4[\"age_in_year\"] = pd.to_numeric(compt_ptme4[\"age_in_year\"], errors=\"coerce\")\n",
    "    \n",
    "    # Filtrage de compt_ptme4 avec les conditions spécifiées\n",
    "    ind_ptme_com = compt_ptme4[\n",
    "        (compt_ptme4[\"ptme_relationship\"] == \"2\") &\n",
    "        (compt_ptme4[\"age_in_year\"].between(0, 17)) &\n",
    "        (compt_ptme4[\"hiv_test\"].isin([\"2\", \"non\"])) &\n",
    "        (compt_ptme4[\"non_consent_reason\"] == \"---\")\n",
    "    ][[\"patient_code\", \"owner_name\", \"first_name\", \"last_name\", \"name\", \"age_in_year\", \"hiv_test\"]]\n",
    "    \n",
    "    # Écriture de ind_ptme_com dans une autre feuille\n",
    "    ind_ptme_com.to_excel(writer, sheet_name=\"Enfants_non_testés\", index=False)\n",
    "\n",
    "    pos_vih_ptme = compt_ptme4[\n",
    "        (compt_ptme4[\"ptme_relationship\"] == \"2\") &\n",
    "        (compt_ptme4[\"age_in_year\"].between(0, 17)) &\n",
    "        (compt_ptme4[\"hiv_test_result\"] == \"positif\") &\n",
    "        (compt_ptme4[\"hiv_test\"].isin([\"1\", \"oui\"])) &\n",
    "        (compt_ptme4[\"full_code_patient_menage\"].isin([\"//\", \"---\"]))\n",
    "    ][[\"patient_code\", \"name\", \"hiv_test\", \"hiv_test_result\", \"full_code_patient_menage\", \"age_in_year\"]]\n",
    "    \n",
    "    # Écriture de pos_vih_ptme dans une autre feuille\n",
    "    pos_vih_ptme.to_excel(writer, sheet_name=\"Pos_sans_ST\", index=False)\n",
    "    \n",
    "    # Filtrage de compt_ptme4 pour les patients ayant un test inconnu\n",
    "inconnu_ptme_com = compt_ptme4[\n",
    "    (compt_ptme4[\"ptme_relationship\"] == \"2\") &\n",
    "    (compt_ptme4[\"age_in_year\"].between(0, 17)) &\n",
    "    (compt_ptme4[\"hiv_test\"].isin([\"1\", \"oui\"])) &\n",
    "    (~compt_ptme4[\"hiv_test_result\"].isin([\"positif\", \"negatif\"]))\n",
    "][[\"patient_code\", \"owner_name\", \"first_name\", \"last_name\", \"name\", \"age_in_year\", \"hiv_test\"]]\n",
    "\n",
    "# Écriture de join_ptme_inconnu dans une autre feuille\n",
    "inconnu_ptme_com.to_excel(writer, sheet_name=\"Enfant_statut_inconnu\", index=False)\"\"\"\n"
   ]
  },
  {
   "cell_type": "code",
   "execution_count": 66,
   "metadata": {},
   "outputs": [
    {
     "data": {
      "text/plain": [
       "([<matplotlib.patches.Wedge at 0x2b1f21438c0>,\n",
       "  <matplotlib.patches.Wedge at 0x2b1f1f77250>,\n",
       "  <matplotlib.patches.Wedge at 0x2b1f1f77610>],\n",
       " [Text(0.8899186825075615, 0.6465637930815537, 'A'),\n",
       "  Text(-0.6465637258945605, 0.8899187313217674, 'B'),\n",
       "  Text(1.311736850028664e-08, -1.0999999999999999, 'C')],\n",
       " [Text(0.48541019045866984, 0.35267115986266556, '20.0%'),\n",
       "  Text(-0.35267112321521477, 0.4854102170846003, '30.0%'),\n",
       "  Text(7.1549282728836204e-09, -0.5999999999999999, '50.0%')])"
      ]
     },
     "execution_count": 66,
     "metadata": {},
     "output_type": "execute_result"
    },
    {
     "data": {
      "text/plain": [
       "Text(0.5, 1.0, 'Pie Chart avec Seaborn')"
      ]
     },
     "execution_count": 66,
     "metadata": {},
     "output_type": "execute_result"
    },
    {
     "data": {
      "image/png": "[encoded data removed]",
      "text/plain": [
       "<Figure size 640x480 with 1 Axes>"
      ]
     },
     "metadata": {},
     "output_type": "display_data"
    }
   ],
   "source": [
    "import seaborn as sns\n",
    "import matplotlib.pyplot as plt\n",
    "\n",
    "sns.set(style=\"whitegrid\")\n",
    "plt.pie([20, 30, 50], labels=['A', 'B', 'C'], autopct='%1.1f%%', colors=sns.color_palette(\"pastel\"))\n",
    "plt.title(\"Pie Chart avec Seaborn\")\n",
    "plt.show()\n"
   ]
  },
  {
   "cell_type": "code",
   "execution_count": 67,
   "metadata": {},
   "outputs": [
    {
     "data": {
      "application/vnd.plotly.v1+json": {
       "config": {
        "plotlyServerURL": "https://plot.ly"
       },
       "data": [
        {
         "domain": {
          "x": [
           0,
           1
          ],
          "y": [
           0,
           1
          ]
         },
         "hovertemplate": "continent=%{label}<br>pop=%{value}<extra></extra>",
         "labels": [
          "Africa",
          "Americas",
          "Asia",
          "Europe",
          "Oceania"
         ],
         "legendgroup": "",
         "name": "",
         "showlegend": true,
         "type": "pie",
         "values": [
          929539692,
          898871184,
          3811953827,
          586098529,
          24549947
         ]
        }
       ],
       "layout": {
        "legend": {
         "tracegroupgap": 0
        },
        "piecolorway": [
         "rgb(103,0,31)",
         "rgb(178,24,43)",
         "rgb(214,96,77)",
         "rgb(244,165,130)",
         "rgb(253,219,199)",
         "rgb(247,247,247)",
         "rgb(209,229,240)",
         "rgb(146,197,222)",
         "rgb(67,147,195)",
         "rgb(33,102,172)",
         "rgb(5,48,97)"
        ],
        "template": {
         "data": {
          "bar": [
           {
            "error_x": {
             "color": "#2a3f5f"
            },
            "error_y": {
             "color": "#2a3f5f"
            },
            "marker": {
             "line": {
              "color": "#E5ECF6",
              "width": 0.5
             },
             "pattern": {
              "fillmode": "overlay",
              "size": 10,
              "solidity": 0.2
             }
            },
            "type": "bar"
           }
          ],
          "barpolar": [
           {
            "marker": {
             "line": {
              "color": "#E5ECF6",
              "width": 0.5
             },
             "pattern": {
              "fillmode": "overlay",
              "size": 10,
              "solidity": 0.2
             }
            },
            "type": "barpolar"
           }
          ],
          "carpet": [
           {
            "aaxis": {
             "endlinecolor": "#2a3f5f",
             "gridcolor": "white",
             "linecolor": "white",
             "minorgridcolor": "white",
             "startlinecolor": "#2a3f5f"
            },
            "baxis": {
             "endlinecolor": "#2a3f5f",
             "gridcolor": "white",
             "linecolor": "white",
             "minorgridcolor": "white",
             "startlinecolor": "#2a3f5f"
            },
            "type": "carpet"
           }
          ],
          "choropleth": [
           {
            "colorbar": {
             "outlinewidth": 0,
             "ticks": ""
            },
            "type": "choropleth"
           }
          ],
          "contour": [
           {
            "colorbar": {
             "outlinewidth": 0,
             "ticks": ""
            },
            "colorscale": [
             [
              0,
              "#0d0887"
             ],
             [
              0.1111111111111111,
              "#46039f"
             ],
             [
              0.2222222222222222,
              "#7201a8"
             ],
             [
              0.3333333333333333,
              "#9c179e"
             ],
             [
              0.4444444444444444,
              "#bd3786"
             ],
             [
              0.5555555555555556,
              "#d8576b"
             ],
             [
              0.6666666666666666,
              "#ed7953"
             ],
             [
              0.7777777777777778,
              "#fb9f3a"
             ],
             [
              0.8888888888888888,
              "#fdca26"
             ],
             [
              1,
              "#f0f921"
             ]
            ],
            "type": "contour"
           }
          ],
          "contourcarpet": [
           {
            "colorbar": {
             "outlinewidth": 0,
             "ticks": ""
            },
            "type": "contourcarpet"
           }
          ],
          "heatmap": [
           {
            "colorbar": {
             "outlinewidth": 0,
             "ticks": ""
            },
            "colorscale": [
             [
              0,
              "#0d0887"
             ],
             [
              0.1111111111111111,
              "#46039f"
             ],
             [
              0.2222222222222222,
              "#7201a8"
             ],
             [
              0.3333333333333333,
              "#9c179e"
             ],
             [
              0.4444444444444444,
              "#bd3786"
             ],
             [
              0.5555555555555556,
              "#d8576b"
             ],
             [
              0.6666666666666666,
              "#ed7953"
             ],
             [
              0.7777777777777778,
              "#fb9f3a"
             ],
             [
              0.8888888888888888,
              "#fdca26"
             ],
             [
              1,
              "#f0f921"
             ]
            ],
            "type": "heatmap"
           }
          ],
          "histogram": [
           {
            "marker": {
             "pattern": {
              "fillmode": "overlay",
              "size": 10,
              "solidity": 0.2
             }
            },
            "type": "histogram"
           }
          ],
          "histogram2d": [
           {
            "colorbar": {
             "outlinewidth": 0,
             "ticks": ""
            },
            "colorscale": [
             [
              0,
              "#0d0887"
             ],
             [
              0.1111111111111111,
              "#46039f"
             ],
             [
              0.2222222222222222,
              "#7201a8"
             ],
             [
              0.3333333333333333,
              "#9c179e"
             ],
             [
              0.4444444444444444,
              "#bd3786"
             ],
             [
              0.5555555555555556,
              "#d8576b"
             ],
             [
              0.6666666666666666,
              "#ed7953"
             ],
             [
              0.7777777777777778,
              "#fb9f3a"
             ],
             [
              0.8888888888888888,
              "#fdca26"
             ],
             [
              1,
              "#f0f921"
             ]
            ],
            "type": "histogram2d"
           }
          ],
          "histogram2dcontour": [
           {
            "colorbar": {
             "outlinewidth": 0,
             "ticks": ""
            },
            "colorscale": [
             [
              0,
              "#0d0887"
             ],
             [
              0.1111111111111111,
              "#46039f"
             ],
             [
              0.2222222222222222,
              "#7201a8"
             ],
             [
              0.3333333333333333,
              "#9c179e"
             ],
             [
              0.4444444444444444,
              "#bd3786"
             ],
             [
              0.5555555555555556,
              "#d8576b"
             ],
             [
              0.6666666666666666,
              "#ed7953"
             ],
             [
              0.7777777777777778,
              "#fb9f3a"
             ],
             [
              0.8888888888888888,
              "#fdca26"
             ],
             [
              1,
              "#f0f921"
             ]
            ],
            "type": "histogram2dcontour"
           }
          ],
          "mesh3d": [
           {
            "colorbar": {
             "outlinewidth": 0,
             "ticks": ""
            },
            "type": "mesh3d"
           }
          ],
          "parcoords": [
           {
            "line": {
             "colorbar": {
              "outlinewidth": 0,
              "ticks": ""
             }
            },
            "type": "parcoords"
           }
          ],
          "pie": [
           {
            "automargin": true,
            "type": "pie"
           }
          ],
          "scatter": [
           {
            "fillpattern": {
             "fillmode": "overlay",
             "size": 10,
             "solidity": 0.2
            },
            "type": "scatter"
           }
          ],
          "scatter3d": [
           {
            "line": {
             "colorbar": {
              "outlinewidth": 0,
              "ticks": ""
             }
            },
            "marker": {
             "colorbar": {
              "outlinewidth": 0,
              "ticks": ""
             }
            },
            "type": "scatter3d"
           }
          ],
          "scattercarpet": [
           {
            "marker": {
             "colorbar": {
              "outlinewidth": 0,
              "ticks": ""
             }
            },
            "type": "scattercarpet"
           }
          ],
          "scattergeo": [
           {
            "marker": {
             "colorbar": {
              "outlinewidth": 0,
              "ticks": ""
             }
            },
            "type": "scattergeo"
           }
          ],
          "scattergl": [
           {
            "marker": {
             "colorbar": {
              "outlinewidth": 0,
              "ticks": ""
             }
            },
            "type": "scattergl"
           }
          ],
          "scattermap": [
           {
            "marker": {
             "colorbar": {
              "outlinewidth": 0,
              "ticks": ""
             }
            },
            "type": "scattermap"
           }
          ],
          "scattermapbox": [
           {
            "marker": {
             "colorbar": {
              "outlinewidth": 0,
              "ticks": ""
             }
            },
            "type": "scattermapbox"
           }
          ],
          "scatterpolar": [
           {
            "marker": {
             "colorbar": {
              "outlinewidth": 0,
              "ticks": ""
             }
            },
            "type": "scatterpolar"
           }
          ],
          "scatterpolargl": [
           {
            "marker": {
             "colorbar": {
              "outlinewidth": 0,
              "ticks": ""
             }
            },
            "type": "scatterpolargl"
           }
          ],
          "scatterternary": [
           {
            "marker": {
             "colorbar": {
              "outlinewidth": 0,
              "ticks": ""
             }
            },
            "type": "scatterternary"
           }
          ],
          "surface": [
           {
            "colorbar": {
             "outlinewidth": 0,
             "ticks": ""
            },
            "colorscale": [
             [
              0,
              "#0d0887"
             ],
             [
              0.1111111111111111,
              "#46039f"
             ],
             [
              0.2222222222222222,
              "#7201a8"
             ],
             [
              0.3333333333333333,
              "#9c179e"
             ],
             [
              0.4444444444444444,
              "#bd3786"
             ],
             [
              0.5555555555555556,
              "#d8576b"
             ],
             [
              0.6666666666666666,
              "#ed7953"
             ],
             [
              0.7777777777777778,
              "#fb9f3a"
             ],
             [
              0.8888888888888888,
              "#fdca26"
             ],
             [
              1,
              "#f0f921"
             ]
            ],
            "type": "surface"
           }
          ],
          "table": [
           {
            "cells": {
             "fill": {
              "color": "#EBF0F8"
             },
             "line": {
              "color": "white"
             }
            },
            "header": {
             "fill": {
              "color": "#C8D4E3"
             },
             "line": {
              "color": "white"
             }
            },
            "type": "table"
           }
          ]
         },
         "layout": {
          "annotationdefaults": {
           "arrowcolor": "#2a3f5f",
           "arrowhead": 0,
           "arrowwidth": 1
          },
          "autotypenumbers": "strict",
          "coloraxis": {
           "colorbar": {
            "outlinewidth": 0,
            "ticks": ""
           }
          },
          "colorscale": {
           "diverging": [
            [
             0,
             "#8e0152"
            ],
            [
             0.1,
             "#c51b7d"
            ],
            [
             0.2,
             "#de77ae"
            ],
            [
             0.3,
             "#f1b6da"
            ],
            [
             0.4,
             "#fde0ef"
            ],
            [
             0.5,
             "#f7f7f7"
            ],
            [
             0.6,
             "#e6f5d0"
            ],
            [
             0.7,
             "#b8e186"
            ],
            [
             0.8,
             "#7fbc41"
            ],
            [
             0.9,
             "#4d9221"
            ],
            [
             1,
             "#276419"
            ]
           ],
           "sequential": [
            [
             0,
             "#0d0887"
            ],
            [
             0.1111111111111111,
             "#46039f"
            ],
            [
             0.2222222222222222,
             "#7201a8"
            ],
            [
             0.3333333333333333,
             "#9c179e"
            ],
            [
             0.4444444444444444,
             "#bd3786"
            ],
            [
             0.5555555555555556,
             "#d8576b"
            ],
            [
             0.6666666666666666,
             "#ed7953"
            ],
            [
             0.7777777777777778,
             "#fb9f3a"
            ],
            [
             0.8888888888888888,
             "#fdca26"
            ],
            [
             1,
             "#f0f921"
            ]
           ],
           "sequentialminus": [
            [
             0,
             "#0d0887"
            ],
            [
             0.1111111111111111,
             "#46039f"
            ],
            [
             0.2222222222222222,
             "#7201a8"
            ],
            [
             0.3333333333333333,
             "#9c179e"
            ],
            [
             0.4444444444444444,
             "#bd3786"
            ],
            [
             0.5555555555555556,
             "#d8576b"
            ],
            [
             0.6666666666666666,
             "#ed7953"
            ],
            [
             0.7777777777777778,
             "#fb9f3a"
            ],
            [
             0.8888888888888888,
             "#fdca26"
            ],
            [
             1,
             "#f0f921"
            ]
           ]
          },
          "colorway": [
           "#636efa",
           "#EF553B",
           "#00cc96",
           "#ab63fa",
           "#FFA15A",
           "#19d3f3",
           "#FF6692",
           "#B6E880",
           "#FF97FF",
           "#FECB52"
          ],
          "font": {
           "color": "#2a3f5f"
          },
          "geo": {
           "bgcolor": "white",
           "lakecolor": "white",
           "landcolor": "#E5ECF6",
           "showlakes": true,
           "showland": true,
           "subunitcolor": "white"
          },
          "hoverlabel": {
           "align": "left"
          },
          "hovermode": "closest",
          "mapbox": {
           "style": "light"
          },
          "paper_bgcolor": "white",
          "plot_bgcolor": "#E5ECF6",
          "polar": {
           "angularaxis": {
            "gridcolor": "white",
            "linecolor": "white",
            "ticks": ""
           },
           "bgcolor": "#E5ECF6",
           "radialaxis": {
            "gridcolor": "white",
            "linecolor": "white",
            "ticks": ""
           }
          },
          "scene": {
           "xaxis": {
            "backgroundcolor": "#E5ECF6",
            "gridcolor": "white",
            "gridwidth": 2,
            "linecolor": "white",
            "showbackground": true,
            "ticks": "",
            "zerolinecolor": "white"
           },
           "yaxis": {
            "backgroundcolor": "#E5ECF6",
            "gridcolor": "white",
            "gridwidth": 2,
            "linecolor": "white",
            "showbackground": true,
            "ticks": "",
            "zerolinecolor": "white"
           },
           "zaxis": {
            "backgroundcolor": "#E5ECF6",
            "gridcolor": "white",
            "gridwidth": 2,
            "linecolor": "white",
            "showbackground": true,
            "ticks": "",
            "zerolinecolor": "white"
           }
          },
          "shapedefaults": {
           "line": {
            "color": "#2a3f5f"
           }
          },
          "ternary": {
           "aaxis": {
            "gridcolor": "white",
            "linecolor": "white",
            "ticks": ""
           },
           "baxis": {
            "gridcolor": "white",
            "linecolor": "white",
            "ticks": ""
           },
           "bgcolor": "#E5ECF6",
           "caxis": {
            "gridcolor": "white",
            "linecolor": "white",
            "ticks": ""
           }
          },
          "title": {
           "x": 0.05
          },
          "xaxis": {
           "automargin": true,
           "gridcolor": "white",
           "linecolor": "white",
           "ticks": "",
           "title": {
            "standoff": 15
           },
           "zerolinecolor": "white",
           "zerolinewidth": 2
          },
          "yaxis": {
           "automargin": true,
           "gridcolor": "white",
           "linecolor": "white",
           "ticks": "",
           "title": {
            "standoff": 15
           },
           "zerolinecolor": "white",
           "zerolinewidth": 2
          }
         }
        },
        "title": {
         "text": "Pie Chart interactif avec Plotly"
        }
       }
      }
     },
     "metadata": {},
     "output_type": "display_data"
    }
   ],
   "source": [
    "import plotly.express as px\n",
    "\n",
    "df = px.data.gapminder().query(\"year == 2007\").groupby(\"continent\").sum().reset_index()\n",
    "fig = px.pie(df, names='continent', values='pop', title=\"Pie Chart interactif avec Plotly\", color_discrete_sequence=px.colors.sequential.RdBu)\n",
    "fig.show()\n"
   ]
  },
  {
   "cell_type": "code",
   "execution_count": 68,
   "metadata": {},
   "outputs": [
    {
     "data": {
      "text/plain": [
       "([<matplotlib.patches.Wedge at 0x2b1f200bd90>,\n",
       "  <matplotlib.patches.Wedge at 0x2b1f1fec190>,\n",
       "  <matplotlib.patches.Wedge at 0x2b1f1fec550>,\n",
       "  <matplotlib.patches.Wedge at 0x2b1f1fec910>],\n",
       " [Text(-1.0673251998086675, -0.2661144826073702, 'A'),\n",
       "  Text(0.2661146564967135, -1.067325156453101, 'B'),\n",
       "  Text(0.9328527021418345, 0.5829115165328939, 'C'),\n",
       "  Text(-0.5829112236950298, 0.9328528851273191, 'D')],\n",
       " [Text(-0.5821773817138185, -0.14515335414947464, '30.0%'),\n",
       "  Text(0.14515344899820737, -0.5821773580653277, '20.0%'),\n",
       "  Text(0.5088287466228187, 0.3179517362906693, '40.0%'),\n",
       "  Text(-0.31795157656092526, 0.5088288464330831, '10.0%')])"
      ]
     },
     "execution_count": 68,
     "metadata": {},
     "output_type": "execute_result"
    },
    {
     "data": {
      "text/plain": [
       "Text(0.5, 1.0, 'Pie Chart avec Matplotlib')"
      ]
     },
     "execution_count": 68,
     "metadata": {},
     "output_type": "execute_result"
    },
    {
     "data": {
      "image/png": "[encoded data removed]",
      "text/plain": [
       "<Figure size 640x480 with 1 Axes>"
      ]
     },
     "metadata": {},
     "output_type": "display_data"
    }
   ],
   "source": [
    "import matplotlib.pyplot as plt\n",
    "\n",
    "labels = ['A', 'B', 'C', 'D']\n",
    "sizes = [30, 20, 40, 10]\n",
    "colors = ['#ff9999','#66b3ff','#99ff99','#ffcc99']\n",
    "\n",
    "plt.pie(sizes, labels=labels, colors=colors, autopct='%1.1f%%', startangle=140, wedgeprops={'edgecolor': 'black'})\n",
    "plt.title(\"Pie Chart avec Matplotlib\")\n",
    "plt.show()\n"
   ]
  }
 ],
 "metadata": {
  "kernelspec": {
   "display_name": ".venv",
   "language": "python",
   "name": "python3"
  },
  "language_info": {
   "codemirror_mode": {
    "name": "ipython",
    "version": 3
   },
   "file_extension": ".py",
   "mimetype": "text/x-python",
   "name": "python",
   "nbconvert_exporter": "python",
   "pygments_lexer": "ipython3",
   "version": "3.13.2"
  }
 },
 "nbformat": 4,
 "nbformat_minor": 2
}
