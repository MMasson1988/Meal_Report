{
 "cells": [
  {
   "cell_type": "code",
   "execution_count": 1,
   "metadata": {},
   "outputs": [
    {
     "data": {
      "text/plain": [
       "'fr_FR'"
      ]
     },
     "execution_count": 1,
     "metadata": {},
     "output_type": "execute_result"
    }
   ],
   "source": [
    "#Import relevant librariess\n",
    "#Importing packages\n",
    "from datetime import date\n",
    "import numpy as np\n",
    "import pandas as pd\n",
    "from datetime import datetime\n",
    "from dateutil.parser import parse\n",
    "import pymysql\n",
    "from sqlalchemy import create_engine, text\n",
    "from IPython.core.interactiveshell import InteractiveShell\n",
    "InteractiveShell.ast_node_interactivity = \"all\"\n",
    "import warnings\n",
    "warnings.filterwarnings('ignore')\n",
    "import os\n",
    "from dotenv import load_dotenv\n",
    "import locale\n",
    "locale.setlocale(locale.LC_ALL, 'fr_FR')"
   ]
  },
  {
   "cell_type": "code",
   "execution_count": 2,
   "metadata": {},
   "outputs": [],
   "source": [
    "#Dates for the most recent period\n",
    "from datetime import date\n",
    "#today = date.today()\n",
    "start_date = pd.to_datetime('2024-10-01')\n",
    "end_date = pd.to_datetime('2024-12-31')\n",
    "#Dates for the period before the most recent period\n",
    "start_date_last = pd.to_datetime('2025-01-01')\n",
    "end_date_last = pd.to_datetime(date.today())\n",
    "\n",
    "#=================================\n",
    "start_year = pd.to_datetime('2025-10-01')\n",
    "end_year =pd.to_datetime ('2025-12-31')"
   ]
  },
  {
   "cell_type": "code",
   "execution_count": 3,
   "metadata": {},
   "outputs": [
    {
     "data": {
      "text/plain": [
       "True"
      ]
     },
     "execution_count": 3,
     "metadata": {},
     "output_type": "execute_result"
    },
    {
     "data": {
      "text/html": [
       "<div>\n",
       "<style scoped>\n",
       "    .dataframe tbody tr th:only-of-type {\n",
       "        vertical-align: middle;\n",
       "    }\n",
       "\n",
       "    .dataframe tbody tr th {\n",
       "        vertical-align: top;\n",
       "    }\n",
       "\n",
       "    .dataframe thead th {\n",
       "        text-align: right;\n",
       "    }\n",
       "</style>\n",
       "<table border=\"1\" class=\"dataframe\">\n",
       "  <thead>\n",
       "    <tr style=\"text-align: right;\">\n",
       "      <th></th>\n",
       "      <th>office</th>\n",
       "      <th>network</th>\n",
       "      <th>departement</th>\n",
       "      <th>commune</th>\n",
       "      <th>section</th>\n",
       "      <th>hospital_name</th>\n",
       "      <th>id_patient</th>\n",
       "      <th>mother_patient_code</th>\n",
       "      <th>created_at</th>\n",
       "      <th>site</th>\n",
       "      <th>...</th>\n",
       "      <th>Infant_Prophylaxis_Commcare</th>\n",
       "      <th>woman_does_not_belong_to_a_club_definition</th>\n",
       "      <th>delivery_date_merge</th>\n",
       "      <th>delivery_probality_date_merge</th>\n",
       "      <th>DPA_calculated</th>\n",
       "      <th>allaitante</th>\n",
       "      <th>enceinte</th>\n",
       "      <th>enceinte_bt_7_14</th>\n",
       "      <th>last_followup_date</th>\n",
       "      <th>next_appointment_date</th>\n",
       "    </tr>\n",
       "  </thead>\n",
       "  <tbody>\n",
       "    <tr>\n",
       "      <th>0</th>\n",
       "      <td>BOM</td>\n",
       "      <td>UGP</td>\n",
       "      <td>Nord-Ouest</td>\n",
       "      <td>Bombardopolis</td>\n",
       "      <td>1ère Plate Forme</td>\n",
       "      <td>Hôpital Evangelique de Bombardopolis</td>\n",
       "      <td>187733</td>\n",
       "      <td>BOM/HEBA/ST03800</td>\n",
       "      <td>2024-02-26 21:48:09</td>\n",
       "      <td>BOM/HEBA</td>\n",
       "      <td>...</td>\n",
       "      <td>None</td>\n",
       "      <td>None</td>\n",
       "      <td>2023-11-04</td>\n",
       "      <td>2023-11-04</td>\n",
       "      <td>2023-11-05</td>\n",
       "      <td>yes</td>\n",
       "      <td>no</td>\n",
       "      <td>no</td>\n",
       "      <td>2023-10-24</td>\n",
       "      <td>0000-00-00</td>\n",
       "    </tr>\n",
       "    <tr>\n",
       "      <th>1</th>\n",
       "      <td>BOM</td>\n",
       "      <td>UGP</td>\n",
       "      <td>Nord-Ouest</td>\n",
       "      <td>Bombardopolis</td>\n",
       "      <td>1ère Plate Forme</td>\n",
       "      <td>Hôpital Evangelique de Bombardopolis</td>\n",
       "      <td>189403</td>\n",
       "      <td>BOM/HEBA/ST03834</td>\n",
       "      <td>2024-04-09 15:37:24</td>\n",
       "      <td>BOM/HEBA</td>\n",
       "      <td>...</td>\n",
       "      <td>None</td>\n",
       "      <td>Partenaire nâ€™est pas au courant de son statut</td>\n",
       "      <td>2024-02-18</td>\n",
       "      <td>2024-02-18</td>\n",
       "      <td>2024-02-20</td>\n",
       "      <td>yes</td>\n",
       "      <td>no</td>\n",
       "      <td>no</td>\n",
       "      <td>None</td>\n",
       "      <td>None</td>\n",
       "    </tr>\n",
       "  </tbody>\n",
       "</table>\n",
       "<p>2 rows × 87 columns</p>\n",
       "</div>"
      ],
      "text/plain": [
       "  office network departement        commune           section  \\\n",
       "0    BOM     UGP  Nord-Ouest  Bombardopolis  1ère Plate Forme   \n",
       "1    BOM     UGP  Nord-Ouest  Bombardopolis  1ère Plate Forme   \n",
       "\n",
       "                          hospital_name  id_patient mother_patient_code  \\\n",
       "0  Hôpital Evangelique de Bombardopolis      187733    BOM/HEBA/ST03800   \n",
       "1  Hôpital Evangelique de Bombardopolis      189403    BOM/HEBA/ST03834   \n",
       "\n",
       "           created_at      site  ... Infant_Prophylaxis_Commcare  \\\n",
       "0 2024-02-26 21:48:09  BOM/HEBA  ...                        None   \n",
       "1 2024-04-09 15:37:24  BOM/HEBA  ...                        None   \n",
       "\n",
       "        woman_does_not_belong_to_a_club_definition delivery_date_merge  \\\n",
       "0                                             None          2023-11-04   \n",
       "1  Partenaire nâ€™est pas au courant de son statut          2024-02-18   \n",
       "\n",
       "   delivery_probality_date_merge DPA_calculated allaitante enceinte  \\\n",
       "0                     2023-11-04     2023-11-05        yes       no   \n",
       "1                     2024-02-18     2024-02-20        yes       no   \n",
       "\n",
       "  enceinte_bt_7_14 last_followup_date next_appointment_date  \n",
       "0               no         2023-10-24            0000-00-00  \n",
       "1               no               None                  None  \n",
       "\n",
       "[2 rows x 87 columns]"
      ]
     },
     "metadata": {},
     "output_type": "display_data"
    },
    {
     "data": {
      "text/plain": [
       "(2993, 87)"
      ]
     },
     "metadata": {},
     "output_type": "display_data"
    }
   ],
   "source": [
    "# Charger les variables d'environnement\n",
    "load_dotenv('dot.env')\n",
    "user = os.getenv('MYSQL_USER')\n",
    "password = os.getenv('MYSQL_PASSWORD')\n",
    "host = os.getenv('MYSQL_HOST')\n",
    "db = os.getenv('MYSQL_DB')\n",
    "\n",
    "# Connexion à la base de données\n",
    "conn_text = f'mysql+pymysql://{user}:{password}@{host}/{db}'\n",
    "engine = create_engine(conn_text)\n",
    "\n",
    "# Lire la requête SQL à partir du fichier\n",
    "with open('./Mastersheet PTME.sql', 'r') as file: \n",
    "    sql_query = file.read().replace('use caris_db;', '')\n",
    "    \n",
    "# Exécuter la requête SQL et stocker les résultats dans un DataFrame\n",
    "cv_df1 = pd.read_sql_query(sql_query, engine)\n",
    "\n",
    "# Afficher les premières lignes du DataFrame\n",
    "display(cv_df1.head(2))\n",
    "display(cv_df1.shape)\n",
    "\n",
    "# Fermer la connexion\n",
    "engine.dispose()\n"
   ]
  },
  {
   "cell_type": "code",
   "execution_count": 4,
   "metadata": {},
   "outputs": [],
   "source": [
    "cv_df1.rename(columns={'mother_patient_code':'patient_code'}, inplace=True)"
   ]
  },
  {
   "cell_type": "code",
   "execution_count": 5,
   "metadata": {},
   "outputs": [
    {
     "data": {
      "text/html": [
       "<div>\n",
       "<style scoped>\n",
       "    .dataframe tbody tr th:only-of-type {\n",
       "        vertical-align: middle;\n",
       "    }\n",
       "\n",
       "    .dataframe tbody tr th {\n",
       "        vertical-align: top;\n",
       "    }\n",
       "\n",
       "    .dataframe thead th {\n",
       "        text-align: right;\n",
       "    }\n",
       "</style>\n",
       "<table border=\"1\" class=\"dataframe\">\n",
       "  <thead>\n",
       "    <tr style=\"text-align: right;\">\n",
       "      <th></th>\n",
       "      <th>id_patient</th>\n",
       "      <th>patient_code</th>\n",
       "      <th>telephone1</th>\n",
       "      <th>Telephone2</th>\n",
       "    </tr>\n",
       "  </thead>\n",
       "  <tbody>\n",
       "    <tr>\n",
       "      <th>0</th>\n",
       "      <td>30319.0</td>\n",
       "      <td>STM/CSPP/ST01035</td>\n",
       "      <td>32917023</td>\n",
       "      <td>32287091</td>\n",
       "    </tr>\n",
       "    <tr>\n",
       "      <th>1</th>\n",
       "      <td>34492.0</td>\n",
       "      <td>PDP/CMEB/ST00862</td>\n",
       "      <td>41412923</td>\n",
       "      <td>---</td>\n",
       "    </tr>\n",
       "    <tr>\n",
       "      <th>2</th>\n",
       "      <td>40299.0</td>\n",
       "      <td>PDP/CMEB/ST04424</td>\n",
       "      <td>42914837</td>\n",
       "      <td>---</td>\n",
       "    </tr>\n",
       "    <tr>\n",
       "      <th>3</th>\n",
       "      <td>47941.0</td>\n",
       "      <td>LIM/HOSJ/ST01951</td>\n",
       "      <td>---</td>\n",
       "      <td>---</td>\n",
       "    </tr>\n",
       "    <tr>\n",
       "      <th>4</th>\n",
       "      <td>37577.0</td>\n",
       "      <td>PIL/HOEP/ST00421</td>\n",
       "      <td>---</td>\n",
       "      <td>---</td>\n",
       "    </tr>\n",
       "  </tbody>\n",
       "</table>\n",
       "</div>"
      ],
      "text/plain": [
       "   id_patient      patient_code telephone1 Telephone2\n",
       "0     30319.0  STM/CSPP/ST01035   32917023   32287091\n",
       "1     34492.0  PDP/CMEB/ST00862   41412923        ---\n",
       "2     40299.0  PDP/CMEB/ST04424   42914837        ---\n",
       "3     47941.0  LIM/HOSJ/ST01951        ---        ---\n",
       "4     37577.0  PIL/HOEP/ST00421        ---        ---"
      ]
     },
     "metadata": {},
     "output_type": "display_data"
    },
    {
     "data": {
      "text/plain": [
       "1716"
      ]
     },
     "metadata": {},
     "output_type": "display_data"
    }
   ],
   "source": [
    "# Define the date range variables\n",
    "start_date = '2024-10-01'\n",
    "end_date = '2025-03-13'\n",
    "p_start = '2024-01-01'\n",
    "p_end = '2025-03-13'\n",
    "\n",
    "# Define the SQL query\n",
    "sql_query = f\"\"\"\n",
    "SELECT a.*,\n",
    "p.patient_code, \n",
    "tmi.telephone as telephone1 , \n",
    "tmi.telephone2 as Telephone2\n",
    "FROM \n",
    "((SELECT\n",
    "        tmi.id_patient\n",
    "    FROM\n",
    "        tracking_pregnancy tp\n",
    "    LEFT JOIN tracking_motherbasicinfo tmi ON tmi.id_patient = tp.id_patient_mother\n",
    "    WHERE\n",
    "        (tp.dpa BETWEEN '{start_date}' AND '{end_date}')\n",
    "            OR ((tp.ddr + INTERVAL 9 MONTH + INTERVAL 7 DAY) BETWEEN '{start_date}' AND '{end_date}')\n",
    "            OR (tp.actual_delivery_date BETWEEN '{start_date}' AND '{end_date}') OR (tp.created_at between '{p_start}' and '{p_end}') OR (tmi.created_at between '{p_start}' and '{p_end}'))\n",
    "            UNION (SELECT\n",
    "        p.id AS id_patient\n",
    "    FROM\n",
    "        testing_mereenfant tme\n",
    "    LEFT JOIN patient p ON p.patient_code = CONCAT(tme.mother_city_code, '/', tme.mother_hospital_code, '/', tme.mother_code)\n",
    "    WHERE\n",
    "        tme.infant_dob BETWEEN '{start_date}' AND '{end_date}') UNION (SELECT\n",
    "        id_patient_mother AS id_patient\n",
    "    FROM\n",
    "        tracking_children tc\n",
    "        LEFT JOIN tracking_motherbasicinfo tmi2 on tmi2.id_patient = tc.id_patient_mother\n",
    "    LEFT JOIN testing_mereenfant tm ON tm.id_patient = tc.id_patient_child\n",
    "    WHERE (tmi2.id is not null) AND\n",
    "        (tm.infant_dob BETWEEN '{start_date}' AND '{end_date}')\n",
    "            OR (tc.dob BETWEEN '{start_date}' AND '{end_date}'))) a\n",
    "            left join tracking_motherbasicinfo tmi on a.id_patient=tmi.id_patient\n",
    "            left join patient p on a.id_patient = p.id\n",
    "\"\"\"\n",
    "\n",
    "# Execute the query and store the result in a DataFrame\n",
    "tel = pd.read_sql_query(sql_query, engine)\n",
    "# Remplace les valeurs NaN par '---'\n",
    "tel['telephone1'] = tel['telephone1'].fillna('---')\n",
    "tel['Telephone2'] = tel['Telephone2'].fillna('---')\n",
    "\n",
    "# Remplace les valeurs vides par '---'\n",
    "tel['telephone1'] = tel['telephone1'].replace('', '---')\n",
    "tel['Telephone2'] = tel['Telephone2'].replace('', '---')\n",
    "\n",
    "# Supprime les doublons en gardant la première occurrence pour chaque patient_code\n",
    "tel = tel.drop_duplicates(subset=['patient_code'], keep='first')\n",
    "# Display the first few rows of the DataFrame\n",
    "display(tel.head())\n",
    "display(tel.shape[0])"
   ]
  },
  {
   "cell_type": "code",
   "execution_count": 6,
   "metadata": {},
   "outputs": [
    {
     "data": {
      "text/plain": [
       "2178"
      ]
     },
     "metadata": {},
     "output_type": "display_data"
    },
    {
     "data": {
      "text/html": [
       "<div>\n",
       "<style scoped>\n",
       "    .dataframe tbody tr th:only-of-type {\n",
       "        vertical-align: middle;\n",
       "    }\n",
       "\n",
       "    .dataframe tbody tr th {\n",
       "        vertical-align: top;\n",
       "    }\n",
       "\n",
       "    .dataframe thead th {\n",
       "        text-align: right;\n",
       "    }\n",
       "</style>\n",
       "<table border=\"1\" class=\"dataframe\">\n",
       "  <thead>\n",
       "    <tr style=\"text-align: right;\">\n",
       "      <th></th>\n",
       "      <th>departement</th>\n",
       "      <th>commune</th>\n",
       "      <th>section</th>\n",
       "      <th>club_name</th>\n",
       "      <th>hospital</th>\n",
       "      <th>patient_code</th>\n",
       "      <th>first_name</th>\n",
       "      <th>last_name</th>\n",
       "      <th>dob</th>\n",
       "      <th>first_session_date</th>\n",
       "      <th>last_session_date</th>\n",
       "      <th>days_from_last_session</th>\n",
       "      <th>has_session_siy</th>\n",
       "    </tr>\n",
       "  </thead>\n",
       "  <tbody>\n",
       "    <tr>\n",
       "      <th>1</th>\n",
       "      <td>Nord</td>\n",
       "      <td>Milot</td>\n",
       "      <td>2ème Bonnet àl'Evêque</td>\n",
       "      <td>Fanm Vanyan 6</td>\n",
       "      <td>Hôpital Sacre Coeur de Milot</td>\n",
       "      <td>CAP/HSCM/ST01004</td>\n",
       "      <td>Phadette</td>\n",
       "      <td>Gracius</td>\n",
       "      <td>1998-01-01</td>\n",
       "      <td>2022-08-23</td>\n",
       "      <td>2025-01-21</td>\n",
       "      <td>54</td>\n",
       "      <td>yes</td>\n",
       "    </tr>\n",
       "    <tr>\n",
       "      <th>2</th>\n",
       "      <td>Nord</td>\n",
       "      <td>Milot</td>\n",
       "      <td>2ème Bonnet àl'Evêque</td>\n",
       "      <td>Fanm Vanyan5</td>\n",
       "      <td>Hôpital Sacre Coeur de Milot</td>\n",
       "      <td>CAP/HSCM/ST00913</td>\n",
       "      <td>Ilianie</td>\n",
       "      <td>Angrand</td>\n",
       "      <td>1997-09-01</td>\n",
       "      <td>2021-03-09</td>\n",
       "      <td>2025-01-21</td>\n",
       "      <td>54</td>\n",
       "      <td>yes</td>\n",
       "    </tr>\n",
       "  </tbody>\n",
       "</table>\n",
       "</div>"
      ],
      "text/plain": [
       "  departement commune                section      club_name  \\\n",
       "1        Nord   Milot  2ème Bonnet àl'Evêque  Fanm Vanyan 6   \n",
       "2        Nord   Milot  2ème Bonnet àl'Evêque   Fanm Vanyan5   \n",
       "\n",
       "                       hospital      patient_code first_name last_name  \\\n",
       "1  Hôpital Sacre Coeur de Milot  CAP/HSCM/ST01004   Phadette   Gracius   \n",
       "2  Hôpital Sacre Coeur de Milot  CAP/HSCM/ST00913    Ilianie   Angrand   \n",
       "\n",
       "          dob first_session_date last_session_date  days_from_last_session  \\\n",
       "1  1998-01-01         2022-08-23        2025-01-21                      54   \n",
       "2  1997-09-01         2021-03-09        2025-01-21                      54   \n",
       "\n",
       "  has_session_siy  \n",
       "1             yes  \n",
       "2             yes  "
      ]
     },
     "metadata": {},
     "output_type": "display_data"
    }
   ],
   "source": [
    "# Lire la requête SQL à partir du fichier\n",
    "with open('./All_sessions_clubs_PTME.sql', 'r') as file: \n",
    "    sql_query = file.read().replace('USE caris_db;', '')\n",
    "\n",
    "# Exécuter la requête SQL et stocker les résultats dans un DataFrame\n",
    "club_info = pd.read_sql_query(sql_query, engine)\n",
    "\n",
    "# Afficher les premières lignes du DataFrame\n",
    "club_info = club_info[club_info['has_session_siy']==\"yes\"]\n",
    "display(club_info.shape[0])\n",
    "display(club_info.head(2))\n",
    "\n"
   ]
  },
  {
   "cell_type": "code",
   "execution_count": 7,
   "metadata": {},
   "outputs": [
    {
     "data": {
      "text/plain": [
       "2178"
      ]
     },
     "metadata": {},
     "output_type": "display_data"
    },
    {
     "data": {
      "text/html": [
       "<div>\n",
       "<style scoped>\n",
       "    .dataframe tbody tr th:only-of-type {\n",
       "        vertical-align: middle;\n",
       "    }\n",
       "\n",
       "    .dataframe tbody tr th {\n",
       "        vertical-align: top;\n",
       "    }\n",
       "\n",
       "    .dataframe thead th {\n",
       "        text-align: right;\n",
       "    }\n",
       "</style>\n",
       "<table border=\"1\" class=\"dataframe\">\n",
       "  <thead>\n",
       "    <tr style=\"text-align: right;\">\n",
       "      <th></th>\n",
       "      <th>departement</th>\n",
       "      <th>commune</th>\n",
       "      <th>section</th>\n",
       "      <th>club_name</th>\n",
       "      <th>hospital</th>\n",
       "      <th>patient_code</th>\n",
       "      <th>first_name</th>\n",
       "      <th>last_name</th>\n",
       "      <th>dob</th>\n",
       "      <th>first_session_date</th>\n",
       "      <th>last_session_date</th>\n",
       "      <th>days_from_last_session</th>\n",
       "      <th>has_session_siy</th>\n",
       "      <th>id_patient</th>\n",
       "      <th>telephone1</th>\n",
       "      <th>Telephone2</th>\n",
       "    </tr>\n",
       "  </thead>\n",
       "  <tbody>\n",
       "    <tr>\n",
       "      <th>0</th>\n",
       "      <td>Nord</td>\n",
       "      <td>Milot</td>\n",
       "      <td>2ème Bonnet àl'Evêque</td>\n",
       "      <td>Fanm Vanyan 6</td>\n",
       "      <td>Hôpital Sacre Coeur de Milot</td>\n",
       "      <td>CAP/HSCM/ST01004</td>\n",
       "      <td>Phadette</td>\n",
       "      <td>Gracius</td>\n",
       "      <td>1998-01-01</td>\n",
       "      <td>2022-08-23</td>\n",
       "      <td>2025-01-21</td>\n",
       "      <td>54</td>\n",
       "      <td>yes</td>\n",
       "      <td>NaN</td>\n",
       "      <td>---</td>\n",
       "      <td>---</td>\n",
       "    </tr>\n",
       "    <tr>\n",
       "      <th>1</th>\n",
       "      <td>Nord</td>\n",
       "      <td>Milot</td>\n",
       "      <td>2ème Bonnet àl'Evêque</td>\n",
       "      <td>Fanm Vanyan5</td>\n",
       "      <td>Hôpital Sacre Coeur de Milot</td>\n",
       "      <td>CAP/HSCM/ST00913</td>\n",
       "      <td>Ilianie</td>\n",
       "      <td>Angrand</td>\n",
       "      <td>1997-09-01</td>\n",
       "      <td>2021-03-09</td>\n",
       "      <td>2025-01-21</td>\n",
       "      <td>54</td>\n",
       "      <td>yes</td>\n",
       "      <td>5494.0</td>\n",
       "      <td>---</td>\n",
       "      <td>---</td>\n",
       "    </tr>\n",
       "  </tbody>\n",
       "</table>\n",
       "</div>"
      ],
      "text/plain": [
       "  departement commune                section      club_name  \\\n",
       "0        Nord   Milot  2ème Bonnet àl'Evêque  Fanm Vanyan 6   \n",
       "1        Nord   Milot  2ème Bonnet àl'Evêque   Fanm Vanyan5   \n",
       "\n",
       "                       hospital      patient_code first_name last_name  \\\n",
       "0  Hôpital Sacre Coeur de Milot  CAP/HSCM/ST01004   Phadette   Gracius   \n",
       "1  Hôpital Sacre Coeur de Milot  CAP/HSCM/ST00913    Ilianie   Angrand   \n",
       "\n",
       "          dob first_session_date last_session_date  days_from_last_session  \\\n",
       "0  1998-01-01         2022-08-23        2025-01-21                      54   \n",
       "1  1997-09-01         2021-03-09        2025-01-21                      54   \n",
       "\n",
       "  has_session_siy  id_patient telephone1 Telephone2  \n",
       "0             yes         NaN        ---        ---  \n",
       "1             yes      5494.0        ---        ---  "
      ]
     },
     "metadata": {},
     "output_type": "display_data"
    }
   ],
   "source": [
    "# Fusionner club_infos et tel sur la colonne 'patient_code' (équivalent de left_join en R)\n",
    "club_info = club_info.merge(tel, on='patient_code', how='left', suffixes=('_club', '_tel'))\n",
    "\n",
    "# Remplacer les valeurs NaN par '---' pour les colonnes 'telephone1' et 'Telephone2'\n",
    "club_info['telephone1'] = club_info['telephone1'].fillna('---')\n",
    "club_info['Telephone2'] = club_info['Telephone2'].fillna('---')\n",
    "display(club_info.shape[0])\n",
    "display(club_info.head(2))"
   ]
  },
  {
   "cell_type": "code",
   "execution_count": null,
   "metadata": {},
   "outputs": [
    {
     "name": "stdout",
     "output_type": "stream",
     "text": [
      "An error occurred while downloading from https://www.commcarehq.org/a/caris-test/data/export/custom/new/form/download/c1a3280f5e34a2b6078439f9b59ad72c/: Message: no such window: target window already closed\n",
      "from unknown error: web view not found\n",
      "  (Session info: chrome=134.0.6998.89)\n",
      "Stacktrace:\n",
      "\tGetHandleVerifier [0x00007FF724F1FE45+26629]\n",
      "\t(No symbol) [0x00007FF724E86010]\n",
      "\t(No symbol) [0x00007FF724D1931A]\n",
      "\t(No symbol) [0x00007FF724CF1753]\n",
      "\t(No symbol) [0x00007FF724D9F6BE]\n",
      "\t(No symbol) [0x00007FF724DBFA55]\n",
      "\t(No symbol) [0x00007FF724D97883]\n",
      "\t(No symbol) [0x00007FF724D60550]\n",
      "\t(No symbol) [0x00007FF724D61803]\n",
      "\tGetHandleVerifier [0x00007FF7252772BD+3529853]\n",
      "\tGetHandleVerifier [0x00007FF72528DA22+3621858]\n",
      "\tGetHandleVerifier [0x00007FF7252824D3+3575443]\n",
      "\tGetHandleVerifier [0x00007FF724FEB77A+860474]\n",
      "\t(No symbol) [0x00007FF724E9088F]\n",
      "\t(No symbol) [0x00007FF724E8CBC4]\n",
      "\t(No symbol) [0x00007FF724E8CD66]\n",
      "\t(No symbol) [0x00007FF724E7C2C9]\n",
      "\tBaseThreadInitThunk [0x00007FF9B592E8D7+23]\n",
      "\tRtlUserThreadStart [0x00007FF9B6EFBF6C+44]\n",
      "\n",
      "An error occurred while downloading from https://www.commcarehq.org/a/caris-test/data/export/custom/new/case/download/af6c4186011182dfda68a84536231f68/: Message: no such window: target window already closed\n",
      "from unknown error: web view not found\n",
      "  (Session info: chrome=134.0.6998.89)\n",
      "Stacktrace:\n",
      "\tGetHandleVerifier [0x00007FF724F1FE45+26629]\n",
      "\t(No symbol) [0x00007FF724E86010]\n",
      "\t(No symbol) [0x00007FF724D1931A]\n",
      "\t(No symbol) [0x00007FF724CF1753]\n",
      "\t(No symbol) [0x00007FF724D9F6BE]\n",
      "\t(No symbol) [0x00007FF724DBFA55]\n",
      "\t(No symbol) [0x00007FF724D97883]\n",
      "\t(No symbol) [0x00007FF724D60550]\n",
      "\t(No symbol) [0x00007FF724D61803]\n",
      "\tGetHandleVerifier [0x00007FF7252772BD+3529853]\n",
      "\tGetHandleVerifier [0x00007FF72528DA22+3621858]\n",
      "\tGetHandleVerifier [0x00007FF7252824D3+3575443]\n",
      "\tGetHandleVerifier [0x00007FF724FEB77A+860474]\n",
      "\t(No symbol) [0x00007FF724E9088F]\n",
      "\t(No symbol) [0x00007FF724E8CBC4]\n",
      "\t(No symbol) [0x00007FF724E8CD66]\n",
      "\t(No symbol) [0x00007FF724E7C2C9]\n",
      "\tBaseThreadInitThunk [0x00007FF9B592E8D7+23]\n",
      "\tRtlUserThreadStart [0x00007FF9B6EFBF6C+44]\n",
      "\n"
     ]
    }
   ],
   "source": [
    "from ptme_fonction import download_files\n",
    "# Appel de la fonction\n",
    "download_files()"
   ]
  },
  {
   "cell_type": "code",
   "execution_count": null,
   "metadata": {},
   "outputs": [],
   "source": [
    "# new calls file\n",
    "#today_date=date.today()\n",
    "appel = pd.read_excel(f\"~/Downloads/Caris Health Agent - Femme PMTE  - APPELS PTME (created 2025-02-13) 2025-03-13.xlsx\")"
   ]
  },
  {
   "cell_type": "code",
   "execution_count": null,
   "metadata": {},
   "outputs": [],
   "source": [
    "appel.rename(columns={'form.APPELS_PTME.patient_code':'patient_code',\n",
    "                   'form.APPELS_PTME.date_appel':'date',\n",
    "                   'form.APPELS_PTME.is_ptme_available':'Trouvé'}, inplace=True)"
   ]
  },
  {
   "cell_type": "code",
   "execution_count": null,
   "metadata": {},
   "outputs": [],
   "source": [
    "import pandas as pd\n",
    "import re\n",
    "# Function to assign commune names using regex\n",
    "def assign_commune(name):\n",
    "    if re.match(r'^1', name):\n",
    "        return 'Cap-Haïtien'\n",
    "    elif re.match(r'^2', name):\n",
    "        return 'Port-au-Prince'\n",
    "    elif re.match(r'^5', name):\n",
    "        return 'Port-de-Paix'\n",
    "    elif re.match(r'^6', name):\n",
    "        return 'Gonaïves'\n",
    "    else:\n",
    "        return 'Autre'\n",
    "\n",
    "# Function to filter rows by date, data column, and set commune and name values\n",
    "def dataframe_for_period(df, date_column):\n",
    "    df[date_column] = pd.to_datetime(df[date_column])\n",
    "    # Filter by date range\n",
    "    df = df[(df[date_column] >= start_date) & (df[date_column] <= end_date)]\n",
    "\n",
    "    # Assign 'commune' based on 'username'\n",
    "    df['commune'] = df['username'].apply(assign_commune)\n",
    "\n",
    "    # Filter out 'Autre'\n",
    "    df = df[df['commune'] != 'Autre']\n",
    "\n",
    "    return df\n"
   ]
  },
  {
   "cell_type": "code",
   "execution_count": null,
   "metadata": {},
   "outputs": [],
   "source": [
    "appel['date'].replace('---', '1901-01-01', inplace=True)"
   ]
  },
  {
   "cell_type": "code",
   "execution_count": null,
   "metadata": {},
   "outputs": [
    {
     "data": {
      "text/plain": [
       "(4639, 39)"
      ]
     },
     "execution_count": 32,
     "metadata": {},
     "output_type": "execute_result"
    }
   ],
   "source": [
    "appel = dataframe_for_period(appel,'date')\n",
    "appel.shape"
   ]
  },
  {
   "cell_type": "code",
   "execution_count": null,
   "metadata": {},
   "outputs": [],
   "source": [
    "appel['date'] = pd.to_datetime(appel['date'], errors='coerce')\n",
    "appel['Trouvé'] = pd.to_numeric(appel['Trouvé'], errors='coerce')\n",
    "\n",
    "appel_qi = appel[(appel['date'] >= start_date_last) & (appel['date'] <= end_date_last) &\n",
    "                 (appel['Trouvé'] == 1)][['patient_code', 'date', 'Trouvé']].drop_duplicates('patient_code')\n",
    "appel_qj = appel[(appel['date'] >= start_date) & (appel['date'] <= end_date) &\n",
    "                 (appel['Trouvé'] == 1)][['patient_code', 'date', 'Trouvé']].drop_duplicates('patient_code')"
   ]
  },
  {
   "cell_type": "code",
   "execution_count": null,
   "metadata": {},
   "outputs": [
    {
     "name": "stdout",
     "output_type": "stream",
     "text": [
      "Nombre d'appels Qi: 1186\n",
      "Nombre d'appels Qj: 736\n"
     ]
    }
   ],
   "source": [
    "print(f\"Nombre d'appels Qi: {appel_qi.shape[0]}\")\n",
    "print(f\"Nombre d'appels Qj: {appel_qj.shape[0]}\")"
   ]
  },
  {
   "cell_type": "code",
   "execution_count": null,
   "metadata": {},
   "outputs": [],
   "source": [
    "# create new columns to receive calls information\n",
    "cv_df1['odk_call_q1'] = \"no\"\n",
    "cv_df1[\"odk_call_q2\"] = \"no\"\n",
    "\n",
    "# make changes in services according to calls received by beneficiaries\n",
    "for code in appel_qi['patient_code']:\n",
    "    cv_df1.loc[(cv_df1['patient_code'] == code), 'odk_call_q1'] = 'yes'\n",
    "\n",
    "for code in appel_qj['patient_code']:\n",
    "    cv_df1.loc[(cv_df1['patient_code'] == code), 'odk_call_q2'] = 'yes'\n",
    "\n",
    "cv_df1.loc[(cv_df1['odk_call_q1'] == 'yes'), 'q1'] = 'yes'\n",
    "cv_df1.loc[(cv_df1['odk_call_q2'] == 'yes'), 'q2'] = 'yes'"
   ]
  },
  {
   "cell_type": "code",
   "execution_count": null,
   "metadata": {},
   "outputs": [],
   "source": [
    "# Définir les plages de dates\n",
    "start_qi, end_qi = pd.to_datetime('2024-10-01'), pd.to_datetime('2024-12-31')\n",
    "start_qj, end_qj = pd.to_datetime('2025-01-01'), pd.to_datetime('2025-03-10')\n",
    "\n",
    "# Convertir la colonne 'last_session_date_result' en datetime pour éviter les erreurs\n",
    "club_info['last_session_date'] = pd.to_datetime(club_info['last_session_date'], errors='coerce')\n",
    "\n",
    "# Créer les nouvelles colonnes 'club_qi' et 'club_qj' avec \"Yes\" ou \"No\"\n",
    "club_info['club_q1'] = np.where(\n",
    "    (club_info['last_session_date'] >= start_qi) & (club_info['last_session_date'] <= end_qi),\n",
    "    \"yes\", \"no\"\n",
    ")\n",
    "\n",
    "club_info['club_q2'] = np.where(\n",
    "    (club_info['last_session_date'] >= start_qj) & (club_info['last_session_date'] <= end_qj),\n",
    "    \"yes\", \"no\"\n",
    ")"
   ]
  },
  {
   "cell_type": "code",
   "execution_count": null,
   "metadata": {},
   "outputs": [
    {
     "ename": "KeyError",
     "evalue": "\"['club_q1', 'club_q2'] not in index\"",
     "output_type": "error",
     "traceback": [
      "\u001b[1;31m---------------------------------------------------------------------------\u001b[0m",
      "\u001b[1;31mKeyError\u001b[0m                                  Traceback (most recent call last)",
      "Cell \u001b[1;32mIn[78], line 2\u001b[0m\n\u001b[0;32m      1\u001b[0m \u001b[38;5;66;03m#served women in Q1 and Q2\u001b[39;00m\n\u001b[1;32m----> 2\u001b[0m q1q2 \u001b[38;5;241m=\u001b[39m \u001b[43mcv_df1\u001b[49m\u001b[43m[\u001b[49m\u001b[43m(\u001b[49m\u001b[43mcv_df1\u001b[49m\u001b[38;5;241;43m.\u001b[39;49m\u001b[43mq1\u001b[49m\u001b[43m \u001b[49m\u001b[38;5;241;43m==\u001b[39;49m\u001b[43m \u001b[49m\u001b[38;5;124;43m'\u001b[39;49m\u001b[38;5;124;43myes\u001b[39;49m\u001b[38;5;124;43m'\u001b[39;49m\u001b[43m)\u001b[49m\u001b[43m \u001b[49m\u001b[38;5;241;43m&\u001b[39;49m\u001b[43m \u001b[49m\u001b[43m(\u001b[49m\u001b[43mcv_df1\u001b[49m\u001b[38;5;241;43m.\u001b[39;49m\u001b[43mq2\u001b[49m\u001b[43m \u001b[49m\u001b[38;5;241;43m==\u001b[39;49m\u001b[43m \u001b[49m\u001b[38;5;124;43m'\u001b[39;49m\u001b[38;5;124;43myes\u001b[39;49m\u001b[38;5;124;43m'\u001b[39;49m\u001b[43m)\u001b[49m\u001b[43m]\u001b[49m\u001b[43m[\u001b[49m\u001b[43m[\u001b[49m\u001b[38;5;124;43m'\u001b[39;49m\u001b[38;5;124;43mpatient_code\u001b[39;49m\u001b[38;5;124;43m'\u001b[39;49m\u001b[43m,\u001b[49m\u001b[43m \u001b[49m\u001b[38;5;124;43m'\u001b[39;49m\u001b[38;5;124;43mclub_q1\u001b[39;49m\u001b[38;5;124;43m'\u001b[39;49m\u001b[43m,\u001b[49m\u001b[43m \u001b[49m\u001b[38;5;124;43m'\u001b[39;49m\u001b[38;5;124;43mclub_q2\u001b[39;49m\u001b[38;5;124;43m'\u001b[39;49m\u001b[43m,\u001b[49m\u001b[43m \u001b[49m\u001b[38;5;124;43m'\u001b[39;49m\u001b[38;5;124;43mon_arv\u001b[39;49m\u001b[38;5;124;43m'\u001b[39;49m\u001b[43m,\u001b[49m\u001b[43m \u001b[49m\u001b[38;5;124;43m'\u001b[39;49m\u001b[38;5;124;43mcommune\u001b[39;49m\u001b[38;5;124;43m'\u001b[39;49m\u001b[43m,\u001b[49m\u001b[43m \u001b[49m\u001b[38;5;124;43m'\u001b[39;49m\u001b[38;5;124;43mage\u001b[39;49m\u001b[38;5;124;43m'\u001b[39;49m\u001b[43m]\u001b[49m\u001b[43m]\u001b[49m\n\u001b[0;32m      4\u001b[0m \u001b[38;5;66;03m#served women created while Q2\u001b[39;00m\n\u001b[0;32m      5\u001b[0m q2 \u001b[38;5;241m=\u001b[39m cv_df1[(cv_df1\u001b[38;5;241m.\u001b[39mpatient_created_date \u001b[38;5;241m>\u001b[39m\u001b[38;5;241m=\u001b[39m start_date) \u001b[38;5;241m&\u001b[39m (cv_df1\u001b[38;5;241m.\u001b[39mpatient_created_date \u001b[38;5;241m<\u001b[39m\u001b[38;5;241m=\u001b[39m end_date)][[\u001b[38;5;124m'\u001b[39m\u001b[38;5;124mpatient_code\u001b[39m\u001b[38;5;124m'\u001b[39m, \u001b[38;5;124m'\u001b[39m\u001b[38;5;124mclub_q1\u001b[39m\u001b[38;5;124m'\u001b[39m, \u001b[38;5;124m'\u001b[39m\u001b[38;5;124mclub_q2\u001b[39m\u001b[38;5;124m'\u001b[39m, \u001b[38;5;124m'\u001b[39m\u001b[38;5;124mon_arv\u001b[39m\u001b[38;5;124m'\u001b[39m, \u001b[38;5;124m'\u001b[39m\u001b[38;5;124mCommune\u001b[39m\u001b[38;5;124m'\u001b[39m, \u001b[38;5;124m'\u001b[39m\u001b[38;5;124mage\u001b[39m\u001b[38;5;124m'\u001b[39m]]\n",
      "File \u001b[1;32mc:\\Users\\Moise\\AppData\\Local\\Programs\\Python\\Python313\\Lib\\site-packages\\pandas\\core\\frame.py:4108\u001b[0m, in \u001b[0;36mDataFrame.__getitem__\u001b[1;34m(self, key)\u001b[0m\n\u001b[0;32m   4106\u001b[0m     \u001b[38;5;28;01mif\u001b[39;00m is_iterator(key):\n\u001b[0;32m   4107\u001b[0m         key \u001b[38;5;241m=\u001b[39m \u001b[38;5;28mlist\u001b[39m(key)\n\u001b[1;32m-> 4108\u001b[0m     indexer \u001b[38;5;241m=\u001b[39m \u001b[38;5;28;43mself\u001b[39;49m\u001b[38;5;241;43m.\u001b[39;49m\u001b[43mcolumns\u001b[49m\u001b[38;5;241;43m.\u001b[39;49m\u001b[43m_get_indexer_strict\u001b[49m\u001b[43m(\u001b[49m\u001b[43mkey\u001b[49m\u001b[43m,\u001b[49m\u001b[43m \u001b[49m\u001b[38;5;124;43m\"\u001b[39;49m\u001b[38;5;124;43mcolumns\u001b[39;49m\u001b[38;5;124;43m\"\u001b[39;49m\u001b[43m)\u001b[49m[\u001b[38;5;241m1\u001b[39m]\n\u001b[0;32m   4110\u001b[0m \u001b[38;5;66;03m# take() does not accept boolean indexers\u001b[39;00m\n\u001b[0;32m   4111\u001b[0m \u001b[38;5;28;01mif\u001b[39;00m \u001b[38;5;28mgetattr\u001b[39m(indexer, \u001b[38;5;124m\"\u001b[39m\u001b[38;5;124mdtype\u001b[39m\u001b[38;5;124m\"\u001b[39m, \u001b[38;5;28;01mNone\u001b[39;00m) \u001b[38;5;241m==\u001b[39m \u001b[38;5;28mbool\u001b[39m:\n",
      "File \u001b[1;32mc:\\Users\\Moise\\AppData\\Local\\Programs\\Python\\Python313\\Lib\\site-packages\\pandas\\core\\indexes\\base.py:6200\u001b[0m, in \u001b[0;36mIndex._get_indexer_strict\u001b[1;34m(self, key, axis_name)\u001b[0m\n\u001b[0;32m   6197\u001b[0m \u001b[38;5;28;01melse\u001b[39;00m:\n\u001b[0;32m   6198\u001b[0m     keyarr, indexer, new_indexer \u001b[38;5;241m=\u001b[39m \u001b[38;5;28mself\u001b[39m\u001b[38;5;241m.\u001b[39m_reindex_non_unique(keyarr)\n\u001b[1;32m-> 6200\u001b[0m \u001b[38;5;28;43mself\u001b[39;49m\u001b[38;5;241;43m.\u001b[39;49m\u001b[43m_raise_if_missing\u001b[49m\u001b[43m(\u001b[49m\u001b[43mkeyarr\u001b[49m\u001b[43m,\u001b[49m\u001b[43m \u001b[49m\u001b[43mindexer\u001b[49m\u001b[43m,\u001b[49m\u001b[43m \u001b[49m\u001b[43maxis_name\u001b[49m\u001b[43m)\u001b[49m\n\u001b[0;32m   6202\u001b[0m keyarr \u001b[38;5;241m=\u001b[39m \u001b[38;5;28mself\u001b[39m\u001b[38;5;241m.\u001b[39mtake(indexer)\n\u001b[0;32m   6203\u001b[0m \u001b[38;5;28;01mif\u001b[39;00m \u001b[38;5;28misinstance\u001b[39m(key, Index):\n\u001b[0;32m   6204\u001b[0m     \u001b[38;5;66;03m# GH 42790 - Preserve name from an Index\u001b[39;00m\n",
      "File \u001b[1;32mc:\\Users\\Moise\\AppData\\Local\\Programs\\Python\\Python313\\Lib\\site-packages\\pandas\\core\\indexes\\base.py:6252\u001b[0m, in \u001b[0;36mIndex._raise_if_missing\u001b[1;34m(self, key, indexer, axis_name)\u001b[0m\n\u001b[0;32m   6249\u001b[0m     \u001b[38;5;28;01mraise\u001b[39;00m \u001b[38;5;167;01mKeyError\u001b[39;00m(\u001b[38;5;124mf\u001b[39m\u001b[38;5;124m\"\u001b[39m\u001b[38;5;124mNone of [\u001b[39m\u001b[38;5;132;01m{\u001b[39;00mkey\u001b[38;5;132;01m}\u001b[39;00m\u001b[38;5;124m] are in the [\u001b[39m\u001b[38;5;132;01m{\u001b[39;00maxis_name\u001b[38;5;132;01m}\u001b[39;00m\u001b[38;5;124m]\u001b[39m\u001b[38;5;124m\"\u001b[39m)\n\u001b[0;32m   6251\u001b[0m not_found \u001b[38;5;241m=\u001b[39m \u001b[38;5;28mlist\u001b[39m(ensure_index(key)[missing_mask\u001b[38;5;241m.\u001b[39mnonzero()[\u001b[38;5;241m0\u001b[39m]]\u001b[38;5;241m.\u001b[39munique())\n\u001b[1;32m-> 6252\u001b[0m \u001b[38;5;28;01mraise\u001b[39;00m \u001b[38;5;167;01mKeyError\u001b[39;00m(\u001b[38;5;124mf\u001b[39m\u001b[38;5;124m\"\u001b[39m\u001b[38;5;132;01m{\u001b[39;00mnot_found\u001b[38;5;132;01m}\u001b[39;00m\u001b[38;5;124m not in index\u001b[39m\u001b[38;5;124m\"\u001b[39m)\n",
      "\u001b[1;31mKeyError\u001b[0m: \"['club_q1', 'club_q2'] not in index\""
     ]
    }
   ],
   "source": [
    "#served women in Q1 and Q2\n",
    "q1q2 = cv_df1[(cv_df1.q1 == 'yes') & (cv_df1.q2 == 'yes')][['patient_code', 'club_q1', 'club_q2', 'on_arv', 'commune', 'age']]\n",
    "\n",
    "#served women created while Q2\n",
    "q2 = cv_df1[(cv_df1.patient_created_date >= start_date) & (cv_df1.patient_created_date <= end_date)][['patient_code', 'club_q1', 'club_q2', 'on_arv', 'Commune', 'age']]\n",
    "\n",
    "#Concatenation of the two previous datasets\n",
    "OVC = pd.concat([q1q2, q2]).drop_duplicates('patient_code').reset_index(drop = True)"
   ]
  }
 ],
 "metadata": {
  "kernelspec": {
   "display_name": ".venv",
   "language": "python",
   "name": "python3"
  },
  "language_info": {
   "codemirror_mode": {
    "name": "ipython",
    "version": 3
   },
   "file_extension": ".py",
   "mimetype": "text/x-python",
   "name": "python",
   "nbconvert_exporter": "python",
   "pygments_lexer": "ipython3",
   "version": "3.13.2"
  }
 },
 "nbformat": 4,
 "nbformat_minor": 2
}
