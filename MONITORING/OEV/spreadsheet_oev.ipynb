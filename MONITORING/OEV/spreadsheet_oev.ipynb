{
 "cells": [
  {
   "cell_type": "markdown",
   "metadata": {},
   "source": [
    "## ⁡⁢⁣PTME Monitoring\n",
    "### Overview"
   ]
  },
  {
   "cell_type": "markdown",
   "metadata": {},
   "source": [
    "### 1. ⁡⁢⁣⁣Import database⁡"
   ]
  },
  {
   "cell_type": "code",
   "execution_count": 4,
   "metadata": {},
   "outputs": [],
   "source": [
    "# ⁡⁣⁢⁣Importing packages⁡\n",
    "\n",
    "import pandas as pd\n",
    "import numpy as np\n",
    "from datetime import datetime\n",
    "import pymysql\n",
    "from sqlalchemy import create_engine\n",
    "import warnings\n",
    "warnings.filterwarnings('ignore')\n",
    "from dateutil.relativedelta import relativedelta\n",
    "from dateutil.parser import parse\n",
    "from selenium import webdriver\n",
    "from webdriver_manager.chrome import ChromeDriverManager\n",
    "from selenium.webdriver.common.by import By\n",
    "from selenium.webdriver.chrome.options import Options\n",
    "import time\n",
    "from IPython.core.interactiveshell import InteractiveShell\n",
    "InteractiveShell.ast_node_interactivity = \"all\"\n",
    "import os\n",
    "from dotenv import load_dotenv\n",
    "import openpyxl"
   ]
  },
  {
   "cell_type": "markdown",
   "metadata": {},
   "source": [
    "### 2. ⁡⁢⁣⁣Import personnal functions"
   ]
  },
  {
   "cell_type": "code",
   "execution_count": 5,
   "metadata": {},
   "outputs": [
    {
     "data": {
      "text/plain": [
       "'from caris import load_google_sheet\\nfrom ptme_fonction import save_dataframe_to_excel\\nfrom ptme_fonction import creer_colonne_match_conditional'"
      ]
     },
     "execution_count": 5,
     "metadata": {},
     "output_type": "execute_result"
    }
   ],
   "source": [
    "# ⁡⁣⁢⁣import personnal fonction from ptme_fonction⁡\n",
    "\"\"\"from caris import load_google_sheet\n",
    "from ptme_fonction import save_dataframe_to_excel\n",
    "from ptme_fonction import creer_colonne_match_conditional\"\"\""
   ]
  },
  {
   "cell_type": "code",
   "execution_count": 6,
   "metadata": {},
   "outputs": [],
   "source": [
    "def age_range(age):\n",
    "    if age < 1:\n",
    "        return '< 1'\n",
    "    elif age in range(1, 5):\n",
    "        return '1 - 4'\n",
    "    elif age in range(5, 10):\n",
    "        return '5 - 9'\n",
    "    elif age in range(10, 15):\n",
    "        return '10 - 14'\n",
    "    elif age in range(15, 18):\n",
    "        return '15 - 17'\n",
    "    elif age in range(18, 21):\n",
    "        return '18 - 20'\n",
    "    else:\n",
    "        return '21+'"
   ]
  },
  {
   "cell_type": "markdown",
   "metadata": {},
   "source": [
    "### 3. Dates"
   ]
  },
  {
   "cell_type": "code",
   "execution_count": 7,
   "metadata": {},
   "outputs": [],
   "source": [
    "# ⁡⁣⁢⁣Dates for the most recent period⁡\n",
    "from datetime import date\n",
    "#today = date.today()\n",
    "start_date = pd.to_datetime('2025-10-01')\n",
    "end_date = pd.to_datetime('2025-12-31')\n",
    "#Dates for the period before the most recent period\n",
    "start_date_last = pd.to_datetime('2025-01-01')\n",
    "end_date_last = pd.to_datetime(date.today())\n",
    "\n",
    "#=================================\n",
    "start_year = pd.to_datetime('2025-10-01')\n",
    "end_year =pd.to_datetime ('2025-12-31')"
   ]
  },
  {
   "cell_type": "markdown",
   "metadata": {},
   "source": [
    "### 4. Load database"
   ]
  },
  {
   "cell_type": "markdown",
   "metadata": {},
   "source": [
    "##### 4.1 Load ptme_data database from google sheet"
   ]
  },
  {
   "cell_type": "code",
   "execution_count": 8,
   "metadata": {},
   "outputs": [
    {
     "data": {
      "text/html": [
       "<div>\n",
       "<style scoped>\n",
       "    .dataframe tbody tr th:only-of-type {\n",
       "        vertical-align: middle;\n",
       "    }\n",
       "\n",
       "    .dataframe tbody tr th {\n",
       "        vertical-align: top;\n",
       "    }\n",
       "\n",
       "    .dataframe thead th {\n",
       "        text-align: right;\n",
       "    }\n",
       "</style>\n",
       "<table border=\"1\" class=\"dataframe\">\n",
       "  <thead>\n",
       "    <tr style=\"text-align: right;\">\n",
       "      <th></th>\n",
       "      <th>status</th>\n",
       "      <th>site</th>\n",
       "      <th>caris_office</th>\n",
       "      <th>hopital</th>\n",
       "      <th>network</th>\n",
       "      <th>departement</th>\n",
       "      <th>commune</th>\n",
       "      <th>section</th>\n",
       "      <th>latitude</th>\n",
       "      <th>longitude</th>\n",
       "    </tr>\n",
       "  </thead>\n",
       "  <tbody>\n",
       "    <tr>\n",
       "      <th>0</th>\n",
       "      <td>Actif</td>\n",
       "      <td>MCH/DSCA</td>\n",
       "      <td>Gonaives</td>\n",
       "      <td>Dispensaire Ste Claire d’Assise</td>\n",
       "      <td>CMMB</td>\n",
       "      <td>Artibonite</td>\n",
       "      <td>Dessalines</td>\n",
       "      <td>Dessalines</td>\n",
       "      <td>19.25917</td>\n",
       "      <td>-72.51613</td>\n",
       "    </tr>\n",
       "  </tbody>\n",
       "</table>\n",
       "</div>"
      ],
      "text/plain": [
       "  status      site caris_office                          hopital network  \\\n",
       "0  Actif  MCH/DSCA     Gonaives  Dispensaire Ste Claire d’Assise    CMMB   \n",
       "\n",
       "  departement     commune     section  latitude  longitude  \n",
       "0  Artibonite  Dessalines  Dessalines  19.25917  -72.51613  "
      ]
     },
     "metadata": {},
     "output_type": "display_data"
    },
    {
     "data": {
      "text/html": [
       "<div>\n",
       "<style scoped>\n",
       "    .dataframe tbody tr th:only-of-type {\n",
       "        vertical-align: middle;\n",
       "    }\n",
       "\n",
       "    .dataframe tbody tr th {\n",
       "        vertical-align: top;\n",
       "    }\n",
       "\n",
       "    .dataframe thead th {\n",
       "        text-align: right;\n",
       "    }\n",
       "</style>\n",
       "<table border=\"1\" class=\"dataframe\">\n",
       "  <thead>\n",
       "    <tr style=\"text-align: right;\">\n",
       "      <th></th>\n",
       "      <th>site</th>\n",
       "      <th>statut</th>\n",
       "      <th>Nom hopital</th>\n",
       "      <th>Office</th>\n",
       "      <th>coordonnatrices</th>\n",
       "      <th>Coordonnateurs , coordonnatrices Clubs SIY</th>\n",
       "      <th>nom_complet_agent</th>\n",
       "      <th>username_agent</th>\n",
       "    </tr>\n",
       "  </thead>\n",
       "  <tbody>\n",
       "    <tr>\n",
       "      <th>0</th>\n",
       "      <td>PIL/HOEP</td>\n",
       "      <td>Actif</td>\n",
       "      <td>Hopital Esperance de Pilate</td>\n",
       "      <td>CAP</td>\n",
       "      <td>Cely Adline/Presumé Maxime Antoine Jr</td>\n",
       "      <td>Presumé Maxime Antoine Jr</td>\n",
       "      <td>Rosanie Beauliva</td>\n",
       "      <td>1rosanie</td>\n",
       "    </tr>\n",
       "  </tbody>\n",
       "</table>\n",
       "</div>"
      ],
      "text/plain": [
       "       site statut                  Nom hopital Office  \\\n",
       "0  PIL/HOEP  Actif  Hopital Esperance de Pilate    CAP   \n",
       "\n",
       "                         coordonnatrices  \\\n",
       "0  Cely Adline/Presumé Maxime Antoine Jr   \n",
       "\n",
       "  Coordonnateurs , coordonnatrices Clubs SIY nom_complet_agent username_agent  \n",
       "0                  Presumé Maxime Antoine Jr  Rosanie Beauliva       1rosanie  "
      ]
     },
     "metadata": {},
     "output_type": "display_data"
    }
   ],
   "source": [
    "first_part = \"C:\\\\Users\\\\Moise\\\\Downloads\\\\REPORTS_MEAL\\\\MONITORING\\\\PTME\\\\\"\n",
    "name_part_ptme = \"site_coordonnatrices_update\"\n",
    "file_path_patient = first_part + name_part_ptme + \".xlsx\"\n",
    "site = pd.read_excel(file_path_patient, sheet_name=0, usecols=['site', 'status', 'caris_office', 'hopital', 'network', \n",
    "                     'departement', 'commune', 'section', 'latitude', 'longitude'])\n",
    "coordo = pd.read_excel(file_path_patient, sheet_name=1, usecols=['site', 'statut', 'Nom hopital', 'Office', \n",
    "                     'coordonnatrices', 'Coordonnateurs , coordonnatrices Clubs SIY', \n",
    "                     'nom_complet_agent', 'username_agent'])\n",
    "display(site.head(1))\n",
    "display(coordo.head(1))"
   ]
  },
  {
   "cell_type": "markdown",
   "metadata": {},
   "source": [
    "##### 4.2 Load Patient code database from Commcare"
   ]
  },
  {
   "cell_type": "code",
   "execution_count": 9,
   "metadata": {},
   "outputs": [
    {
     "data": {
      "text/plain": [
       "1251"
      ]
     },
     "metadata": {},
     "output_type": "display_data"
    },
    {
     "data": {
      "text/html": [
       "<div>\n",
       "<style scoped>\n",
       "    .dataframe tbody tr th:only-of-type {\n",
       "        vertical-align: middle;\n",
       "    }\n",
       "\n",
       "    .dataframe tbody tr th {\n",
       "        vertical-align: top;\n",
       "    }\n",
       "\n",
       "    .dataframe thead th {\n",
       "        text-align: right;\n",
       "    }\n",
       "</style>\n",
       "<table border=\"1\" class=\"dataframe\">\n",
       "  <thead>\n",
       "    <tr style=\"text-align: right;\">\n",
       "      <th></th>\n",
       "      <th>departement</th>\n",
       "      <th>commune</th>\n",
       "      <th>section</th>\n",
       "      <th>site</th>\n",
       "      <th>hospital_name</th>\n",
       "      <th>id_hospital</th>\n",
       "      <th>patient_code</th>\n",
       "      <th>id_patient</th>\n",
       "      <th>sex</th>\n",
       "      <th>date_of_birth</th>\n",
       "      <th>...</th>\n",
       "      <th>inh_initiation_date</th>\n",
       "      <th>inh_completion_date</th>\n",
       "      <th>indetectable_ou_inf_1000</th>\n",
       "      <th>eligibility</th>\n",
       "      <th>last_session_date</th>\n",
       "      <th>is_actually_in_club</th>\n",
       "      <th>age</th>\n",
       "      <th>network</th>\n",
       "      <th>is_ugp</th>\n",
       "      <th>office</th>\n",
       "    </tr>\n",
       "  </thead>\n",
       "  <tbody>\n",
       "    <tr>\n",
       "      <th>0</th>\n",
       "      <td>Nord</td>\n",
       "      <td>Cap Haitien</td>\n",
       "      <td>2ème Haut du Cap</td>\n",
       "      <td>CAP/CDSF</td>\n",
       "      <td>CDS La Fossette</td>\n",
       "      <td>23</td>\n",
       "      <td>CAP/CDSF/AJ1114R</td>\n",
       "      <td>16769</td>\n",
       "      <td>F</td>\n",
       "      <td>2014-11-28</td>\n",
       "      <td>...</td>\n",
       "      <td>0</td>\n",
       "      <td>0</td>\n",
       "      <td>OUI</td>\n",
       "      <td>YES</td>\n",
       "      <td>2025-03-19</td>\n",
       "      <td>yes</td>\n",
       "      <td>10</td>\n",
       "      <td>IMA</td>\n",
       "      <td>No</td>\n",
       "      <td>CAP</td>\n",
       "    </tr>\n",
       "    <tr>\n",
       "      <th>1</th>\n",
       "      <td>Nord</td>\n",
       "      <td>Cap Haitien</td>\n",
       "      <td>2ème Haut du Cap</td>\n",
       "      <td>CAP/CDSF</td>\n",
       "      <td>CDS La Fossette</td>\n",
       "      <td>23</td>\n",
       "      <td>CAP/CDSF/ST01726</td>\n",
       "      <td>20097</td>\n",
       "      <td>F</td>\n",
       "      <td>2008-09-10</td>\n",
       "      <td>...</td>\n",
       "      <td>0</td>\n",
       "      <td>0</td>\n",
       "      <td>OUI</td>\n",
       "      <td>NO</td>\n",
       "      <td>2025-03-19</td>\n",
       "      <td>yes</td>\n",
       "      <td>16</td>\n",
       "      <td>IMA</td>\n",
       "      <td>No</td>\n",
       "      <td>CAP</td>\n",
       "    </tr>\n",
       "  </tbody>\n",
       "</table>\n",
       "<p>2 rows × 31 columns</p>\n",
       "</div>"
      ],
      "text/plain": [
       "  departement      commune           section      site    hospital_name  \\\n",
       "0        Nord  Cap Haitien  2ème Haut du Cap  CAP/CDSF  CDS La Fossette   \n",
       "1        Nord  Cap Haitien  2ème Haut du Cap  CAP/CDSF  CDS La Fossette   \n",
       "\n",
       "   id_hospital      patient_code  id_patient sex date_of_birth  ...  \\\n",
       "0           23  CAP/CDSF/AJ1114R       16769   F    2014-11-28  ...   \n",
       "1           23  CAP/CDSF/ST01726       20097   F    2008-09-10  ...   \n",
       "\n",
       "   inh_initiation_date  inh_completion_date indetectable_ou_inf_1000  \\\n",
       "0                    0                    0                      OUI   \n",
       "1                    0                    0                      OUI   \n",
       "\n",
       "  eligibility last_session_date is_actually_in_club  age  network  is_ugp  \\\n",
       "0         YES        2025-03-19                 yes   10      IMA      No   \n",
       "1          NO        2025-03-19                 yes   16      IMA      No   \n",
       "\n",
       "   office  \n",
       "0     CAP  \n",
       "1     CAP  \n",
       "\n",
       "[2 rows x 31 columns]"
      ]
     },
     "metadata": {},
     "output_type": "display_data"
    }
   ],
   "source": [
    "# Correct the file path by adding a backslash at the end of `first_part`\n",
    "first_part = \"C:\\\\Users\\\\Moise\\\\Downloads\\\\REPORTS_MEAL\\\\MONITORING\\\\OEV\\\\\"\n",
    "name_part_ptme = \"Club_OEV\"\n",
    "file_path_patient = first_part + name_part_ptme + \".xlsx\"\n",
    "\n",
    "# Load the Excel file and read the second sheet (sheet_name=1)\n",
    "club_child = pd.read_excel(file_path_patient, sheet_name=1)\n",
    "\n",
    "# Display the number of rows and the first two rows of the DataFrame\n",
    "display(club_child.shape[0])\n",
    "display(club_child.head(2))"
   ]
  },
  {
   "cell_type": "markdown",
   "metadata": {},
   "source": [
    "##### 4.3 Load Comptage de menage database from Commcare"
   ]
  },
  {
   "cell_type": "code",
   "execution_count": 10,
   "metadata": {},
   "outputs": [
    {
     "data": {
      "text/plain": [
       "13517"
      ]
     },
     "metadata": {},
     "output_type": "display_data"
    },
    {
     "data": {
      "text/html": [
       "<div>\n",
       "<style scoped>\n",
       "    .dataframe tbody tr th:only-of-type {\n",
       "        vertical-align: middle;\n",
       "    }\n",
       "\n",
       "    .dataframe tbody tr th {\n",
       "        vertical-align: top;\n",
       "    }\n",
       "\n",
       "    .dataframe thead th {\n",
       "        text-align: right;\n",
       "    }\n",
       "</style>\n",
       "<table border=\"1\" class=\"dataframe\">\n",
       "  <thead>\n",
       "    <tr style=\"text-align: right;\">\n",
       "      <th></th>\n",
       "      <th>number</th>\n",
       "      <th>caseid</th>\n",
       "      <th>cty</th>\n",
       "      <th>dob</th>\n",
       "      <th>first_name</th>\n",
       "      <th>gender</th>\n",
       "      <th>hiv_test</th>\n",
       "      <th>hiv_test_date</th>\n",
       "      <th>hiv_test_result</th>\n",
       "      <th>hospital_code</th>\n",
       "      <th>...</th>\n",
       "      <th>non_consent_reason</th>\n",
       "      <th>other_infant_relationship</th>\n",
       "      <th>age_in_year</th>\n",
       "      <th>caregiver_yes_no</th>\n",
       "      <th>code_incorrect_raison</th>\n",
       "      <th>confirmation_code_by_agent</th>\n",
       "      <th>consent</th>\n",
       "      <th>has_schooling_form_2021</th>\n",
       "      <th>school_name</th>\n",
       "      <th>Full_code_patient_menage1</th>\n",
       "    </tr>\n",
       "  </thead>\n",
       "  <tbody>\n",
       "    <tr>\n",
       "      <th>0</th>\n",
       "      <td>0</td>\n",
       "      <td>5cdc6db5-3642-4cd2-aa2f-f4c2acf6a5b0</td>\n",
       "      <td>---</td>\n",
       "      <td>1970-08-09</td>\n",
       "      <td>wisly</td>\n",
       "      <td>1.0</td>\n",
       "      <td>---</td>\n",
       "      <td>---</td>\n",
       "      <td>---</td>\n",
       "      <td>---</td>\n",
       "      <td>...</td>\n",
       "      <td>---</td>\n",
       "      <td>---</td>\n",
       "      <td>44</td>\n",
       "      <td>1</td>\n",
       "      <td>---</td>\n",
       "      <td>---</td>\n",
       "      <td>---</td>\n",
       "      <td>---</td>\n",
       "      <td>---</td>\n",
       "      <td>---</td>\n",
       "    </tr>\n",
       "    <tr>\n",
       "      <th>1</th>\n",
       "      <td>1</td>\n",
       "      <td>2aaba2b2-51a3-4a70-812e-98d25cc4d63f</td>\n",
       "      <td>pap</td>\n",
       "      <td>2020-08-07</td>\n",
       "      <td>oioio</td>\n",
       "      <td>1.0</td>\n",
       "      <td>2</td>\n",
       "      <td>---</td>\n",
       "      <td>---</td>\n",
       "      <td>cfth</td>\n",
       "      <td>...</td>\n",
       "      <td>---</td>\n",
       "      <td>---</td>\n",
       "      <td>---</td>\n",
       "      <td>---</td>\n",
       "      <td>---</td>\n",
       "      <td>---</td>\n",
       "      <td>---</td>\n",
       "      <td>---</td>\n",
       "      <td>---</td>\n",
       "      <td>---</td>\n",
       "    </tr>\n",
       "  </tbody>\n",
       "</table>\n",
       "<p>2 rows × 42 columns</p>\n",
       "</div>"
      ],
      "text/plain": [
       "   number                                caseid  cty         dob first_name  \\\n",
       "0       0  5cdc6db5-3642-4cd2-aa2f-f4c2acf6a5b0  ---  1970-08-09      wisly   \n",
       "1       1  2aaba2b2-51a3-4a70-812e-98d25cc4d63f  pap  2020-08-07      oioio   \n",
       "\n",
       "   gender hiv_test hiv_test_date hiv_test_result hospital_code  ...  \\\n",
       "0     1.0      ---           ---             ---           ---  ...   \n",
       "1     1.0        2           ---             ---          cfth  ...   \n",
       "\n",
       "  non_consent_reason other_infant_relationship age_in_year caregiver_yes_no  \\\n",
       "0                ---                       ---          44                1   \n",
       "1                ---                       ---         ---              ---   \n",
       "\n",
       "  code_incorrect_raison confirmation_code_by_agent consent  \\\n",
       "0                   ---                        ---     ---   \n",
       "1                   ---                        ---     ---   \n",
       "\n",
       "   has_schooling_form_2021 school_name Full_code_patient_menage1  \n",
       "0                      ---         ---                       ---  \n",
       "1                      ---         ---                       ---  \n",
       "\n",
       "[2 rows x 42 columns]"
      ]
     },
     "metadata": {},
     "output_type": "display_data"
    }
   ],
   "source": [
    "# Correct the file path by adding a backslash at the end of `first_part`\n",
    "first_part = \"C:\\\\Users\\\\Moise\\\\Downloads\\\\REPORTS_MEAL\\\\MONITORING\\\\OEV\\\\\"\n",
    "name_part_ptme = \"household_child\"\n",
    "file_path_patient = first_part + name_part_ptme + \".xlsx\"\n",
    "\n",
    "# Load the Excel file and read the second sheet (sheet_name=1)\n",
    "hh_child = pd.read_excel(file_path_patient, sheet_name=0)\n",
    "\n",
    "# Display the number of rows and the first two rows of the DataFrame\n",
    "display(hh_child.shape[0])\n",
    "display(hh_child.head(2))"
   ]
  },
  {
   "cell_type": "code",
   "execution_count": 11,
   "metadata": {},
   "outputs": [
    {
     "data": {
      "text/plain": [
       "5749"
      ]
     },
     "metadata": {},
     "output_type": "display_data"
    },
    {
     "data": {
      "text/html": [
       "<div>\n",
       "<style scoped>\n",
       "    .dataframe tbody tr th:only-of-type {\n",
       "        vertical-align: middle;\n",
       "    }\n",
       "\n",
       "    .dataframe tbody tr th {\n",
       "        vertical-align: top;\n",
       "    }\n",
       "\n",
       "    .dataframe thead th {\n",
       "        text-align: right;\n",
       "    }\n",
       "</style>\n",
       "<table border=\"1\" class=\"dataframe\">\n",
       "  <thead>\n",
       "    <tr style=\"text-align: right;\">\n",
       "      <th></th>\n",
       "      <th>number</th>\n",
       "      <th>caseid</th>\n",
       "      <th>cty</th>\n",
       "      <th>dob</th>\n",
       "      <th>first_name</th>\n",
       "      <th>gender</th>\n",
       "      <th>hiv_test</th>\n",
       "      <th>hiv_test_date</th>\n",
       "      <th>hiv_test_result</th>\n",
       "      <th>hospital_code</th>\n",
       "      <th>...</th>\n",
       "      <th>other_infant_relationship</th>\n",
       "      <th>age_in_year</th>\n",
       "      <th>caregiver_yes_no</th>\n",
       "      <th>code_incorrect_raison</th>\n",
       "      <th>confirmation_code_by_agent</th>\n",
       "      <th>consent</th>\n",
       "      <th>has_schooling_form_2021</th>\n",
       "      <th>school_name</th>\n",
       "      <th>Full_code_patient_menage1</th>\n",
       "      <th>age_range</th>\n",
       "    </tr>\n",
       "  </thead>\n",
       "  <tbody>\n",
       "    <tr>\n",
       "      <th>0</th>\n",
       "      <td>0</td>\n",
       "      <td>5cdc6db5-3642-4cd2-aa2f-f4c2acf6a5b0</td>\n",
       "      <td>---</td>\n",
       "      <td>1970-08-09</td>\n",
       "      <td>wisly</td>\n",
       "      <td>Male</td>\n",
       "      <td>---</td>\n",
       "      <td>---</td>\n",
       "      <td>---</td>\n",
       "      <td>---</td>\n",
       "      <td>...</td>\n",
       "      <td>---</td>\n",
       "      <td>44</td>\n",
       "      <td>1</td>\n",
       "      <td>---</td>\n",
       "      <td>---</td>\n",
       "      <td>---</td>\n",
       "      <td>---</td>\n",
       "      <td>---</td>\n",
       "      <td>---</td>\n",
       "      <td>21+</td>\n",
       "    </tr>\n",
       "    <tr>\n",
       "      <th>79</th>\n",
       "      <td>79</td>\n",
       "      <td>63a01e3e-0d40-445b-816f-e7e333c14aba</td>\n",
       "      <td>---</td>\n",
       "      <td>1976-06-16</td>\n",
       "      <td>Jacques</td>\n",
       "      <td>Male</td>\n",
       "      <td>---</td>\n",
       "      <td>---</td>\n",
       "      <td>---</td>\n",
       "      <td>---</td>\n",
       "      <td>...</td>\n",
       "      <td>---</td>\n",
       "      <td>44</td>\n",
       "      <td>1</td>\n",
       "      <td>---</td>\n",
       "      <td>---</td>\n",
       "      <td>---</td>\n",
       "      <td>---</td>\n",
       "      <td>---</td>\n",
       "      <td>---</td>\n",
       "      <td>21+</td>\n",
       "    </tr>\n",
       "  </tbody>\n",
       "</table>\n",
       "<p>2 rows × 43 columns</p>\n",
       "</div>"
      ],
      "text/plain": [
       "    number                                caseid  cty         dob first_name  \\\n",
       "0        0  5cdc6db5-3642-4cd2-aa2f-f4c2acf6a5b0  ---  1970-08-09      wisly   \n",
       "79      79  63a01e3e-0d40-445b-816f-e7e333c14aba  ---  1976-06-16    Jacques   \n",
       "\n",
       "   gender hiv_test hiv_test_date hiv_test_result hospital_code  ...  \\\n",
       "0    Male      ---           ---             ---           ---  ...   \n",
       "79   Male      ---           ---             ---           ---  ...   \n",
       "\n",
       "   other_infant_relationship age_in_year caregiver_yes_no  \\\n",
       "0                        ---          44                1   \n",
       "79                       ---          44                1   \n",
       "\n",
       "   code_incorrect_raison confirmation_code_by_agent consent  \\\n",
       "0                    ---                        ---     ---   \n",
       "79                   ---                        ---     ---   \n",
       "\n",
       "   has_schooling_form_2021  school_name Full_code_patient_menage1 age_range  \n",
       "0                      ---          ---                       ---       21+  \n",
       "79                     ---          ---                       ---       21+  \n",
       "\n",
       "[2 rows x 43 columns]"
      ]
     },
     "metadata": {},
     "output_type": "display_data"
    }
   ],
   "source": [
    "#data for only child in club\n",
    "hh_child.rename(columns = {'main_infant_code':'patient_code'}, \n",
    "              inplace = True)\n",
    "hhm_club = hh_child[hh_child['patient_code'].str.lower().isin(club_child['patient_code'].str.lower())]\n",
    "hhm_club['patient_code'] = hhm_club['patient_code'].str.upper()\n",
    "#preparing age columns\n",
    "hhm_club.loc[(hhm_club.age_in_year == '---'), 'age_in_year'] = ''\n",
    "hhm_club['age_in_year'] = pd.to_numeric(hhm_club['age_in_year'])\n",
    "hhm_club['age_range'] = hhm_club['age_in_year'].map(age_range)\n",
    "#Replacing code by true gender values\n",
    "hhm_club.loc[(hhm_club.gender == 1), 'gender'] = 'Male'\n",
    "hhm_club.loc[(hhm_club.gender == 2), 'gender'] = 'Female'\n",
    "display(hhm_club.shape[0])\n",
    "display(hhm_club.head(2))\n",
    "#display(hhm_club['patient_code']).value_counts"
   ]
  },
  {
   "cell_type": "code",
   "execution_count": 12,
   "metadata": {},
   "outputs": [
    {
     "data": {
      "text/plain": [
       "patient_code\n",
       "PAP/CMSP/ST01535     32\n",
       "PAP/CMSP/ST01354     27\n",
       "PAP/NPFS/ST01670     26\n",
       "PAP/CMSP/ST01389     25\n",
       "PAP/NPFS/ST01577     24\n",
       "                     ..\n",
       "PEG/HNDP/ST01710      1\n",
       "SMA/CSSM/PCR00092     1\n",
       "MCH/HCHM/ST01742      1\n",
       "PIL/HOEP/ST03361      1\n",
       "CAP/CALT/ST01414      1\n",
       "Name: count, Length: 1114, dtype: int64"
      ]
     },
     "metadata": {},
     "output_type": "display_data"
    }
   ],
   "source": [
    "display(hhm_club.value_counts('patient_code'))"
   ]
  },
  {
   "cell_type": "code",
   "execution_count": 13,
   "metadata": {},
   "outputs": [],
   "source": [
    "hhm_club.to_excel(f'Comptage_OEV_{pd.Timestamp.today().strftime(\"%Y-%m-%d\")}.xlsx', index=False)"
   ]
  },
  {
   "cell_type": "code",
   "execution_count": null,
   "metadata": {},
   "outputs": [],
   "source": [
    "# Ensure column renaming is consistent and avoids conflicts\n",
    "hhm_club.rename(columns={'full_code_patient_menage': 'patient_code2'}, inplace=True)\n",
    "club_child.rename(columns={'patient_code': 'patient_code2'}, inplace=True)"
   ]
  },
  {
   "cell_type": "code",
   "execution_count": null,
   "metadata": {},
   "outputs": [],
   "source": [
    "def merge_and_extend(working_data, site, on='site', suffixes = ('_hmm', '_club')):\n",
    "    \"\"\"\n",
    "    Merge the working_data DataFrame with the site DataFrame and extend it with all columns from site.\n",
    "\n",
    "    Args:\n",
    "        working_data (pd.DataFrame): The main DataFrame to merge.\n",
    "        site (pd.DataFrame): The DataFrame containing additional columns to merge.\n",
    "        on (str): The column name to merge on. Default is 'site'.\n",
    "\n",
    "    Returns:\n",
    "        pd.DataFrame: The merged DataFrame with all columns from both DataFrames.\n",
    "    \"\"\"\n",
    "    # Merge the DataFrames\n",
    "    merged_data = working_data.merge(site, on=on, how='left')\n",
    "\n",
    "    # Add missing columns from site to merged_data\n",
    "    for col in site.columns:\n",
    "        if col not in merged_data.columns:\n",
    "            merged_data[col] = site[col]\n",
    "\n",
    "    # Return the merged DataFrame\n",
    "    return merged_data"
   ]
  },
  {
   "cell_type": "code",
   "execution_count": null,
   "metadata": {},
   "outputs": [
    {
     "ename": "KeyError",
     "evalue": "'patient_code'",
     "output_type": "error",
     "traceback": [
      "\u001b[31m---------------------------------------------------------------------------\u001b[39m",
      "\u001b[31mKeyError\u001b[39m                                  Traceback (most recent call last)",
      "\u001b[32m~\\AppData\\Local\\Temp\\ipykernel_12496\\904868994.py\u001b[39m in \u001b[36m?\u001b[39m\u001b[34m()\u001b[39m\n\u001b[32m----> \u001b[39m\u001b[32m1\u001b[39m merged_data = hhm_club.merge(club_child, on=\u001b[33m'patient_code'\u001b[39m, how=\u001b[33m'left'\u001b[39m, suffixes = (\u001b[33m'_hmm'\u001b[39m, \u001b[33m'_club'\u001b[39m))\n",
      "\u001b[32mc:\\Users\\Moise\\Downloads\\Reports_MEAL\\.venv\\Lib\\site-packages\\pandas\\core\\frame.py\u001b[39m in \u001b[36m?\u001b[39m\u001b[34m(self, right, how, on, left_on, right_on, left_index, right_index, sort, suffixes, copy, indicator, validate)\u001b[39m\n\u001b[32m  10828\u001b[39m         validate: MergeValidate | \u001b[38;5;28;01mNone\u001b[39;00m = \u001b[38;5;28;01mNone\u001b[39;00m,\n\u001b[32m  10829\u001b[39m     ) -> DataFrame:\n\u001b[32m  10830\u001b[39m         \u001b[38;5;28;01mfrom\u001b[39;00m pandas.core.reshape.merge \u001b[38;5;28;01mimport\u001b[39;00m merge\n\u001b[32m  10831\u001b[39m \n\u001b[32m> \u001b[39m\u001b[32m10832\u001b[39m         return merge(\n\u001b[32m  10833\u001b[39m             self,\n\u001b[32m  10834\u001b[39m             right,\n\u001b[32m  10835\u001b[39m             how=how,\n",
      "\u001b[32mc:\\Users\\Moise\\Downloads\\Reports_MEAL\\.venv\\Lib\\site-packages\\pandas\\core\\reshape\\merge.py\u001b[39m in \u001b[36m?\u001b[39m\u001b[34m(left, right, how, on, left_on, right_on, left_index, right_index, sort, suffixes, copy, indicator, validate)\u001b[39m\n\u001b[32m    166\u001b[39m             validate=validate,\n\u001b[32m    167\u001b[39m             copy=copy,\n\u001b[32m    168\u001b[39m         )\n\u001b[32m    169\u001b[39m     \u001b[38;5;28;01melse\u001b[39;00m:\n\u001b[32m--> \u001b[39m\u001b[32m170\u001b[39m         op = _MergeOperation(\n\u001b[32m    171\u001b[39m             left_df,\n\u001b[32m    172\u001b[39m             right_df,\n\u001b[32m    173\u001b[39m             how=how,\n",
      "\u001b[32mc:\\Users\\Moise\\Downloads\\Reports_MEAL\\.venv\\Lib\\site-packages\\pandas\\core\\reshape\\merge.py\u001b[39m in \u001b[36m?\u001b[39m\u001b[34m(self, left, right, how, on, left_on, right_on, left_index, right_index, sort, suffixes, indicator, validate)\u001b[39m\n\u001b[32m    790\u001b[39m             self.right_join_keys,\n\u001b[32m    791\u001b[39m             self.join_names,\n\u001b[32m    792\u001b[39m             left_drop,\n\u001b[32m    793\u001b[39m             right_drop,\n\u001b[32m--> \u001b[39m\u001b[32m794\u001b[39m         ) = self._get_merge_keys()\n\u001b[32m    795\u001b[39m \n\u001b[32m    796\u001b[39m         \u001b[38;5;28;01mif\u001b[39;00m left_drop:\n\u001b[32m    797\u001b[39m             self.left = self.left._drop_labels_or_levels(left_drop)\n",
      "\u001b[32mc:\\Users\\Moise\\Downloads\\Reports_MEAL\\.venv\\Lib\\site-packages\\pandas\\core\\reshape\\merge.py\u001b[39m in \u001b[36m?\u001b[39m\u001b[34m(self)\u001b[39m\n\u001b[32m   1293\u001b[39m                         \u001b[38;5;66;03m# Then we're either Hashable or a wrong-length arraylike,\u001b[39;00m\n\u001b[32m   1294\u001b[39m                         \u001b[38;5;66;03m#  the latter of which will raise\u001b[39;00m\n\u001b[32m   1295\u001b[39m                         rk = cast(Hashable, rk)\n\u001b[32m   1296\u001b[39m                         \u001b[38;5;28;01mif\u001b[39;00m rk \u001b[38;5;28;01mis\u001b[39;00m \u001b[38;5;28;01mnot\u001b[39;00m \u001b[38;5;28;01mNone\u001b[39;00m:\n\u001b[32m-> \u001b[39m\u001b[32m1297\u001b[39m                             right_keys.append(right._get_label_or_level_values(rk))\n\u001b[32m   1298\u001b[39m                         \u001b[38;5;28;01melse\u001b[39;00m:\n\u001b[32m   1299\u001b[39m                             \u001b[38;5;66;03m# work-around for merge_asof(right_index=True)\u001b[39;00m\n\u001b[32m   1300\u001b[39m                             right_keys.append(right.index._values)\n",
      "\u001b[32mc:\\Users\\Moise\\Downloads\\Reports_MEAL\\.venv\\Lib\\site-packages\\pandas\\core\\generic.py\u001b[39m in \u001b[36m?\u001b[39m\u001b[34m(self, key, axis)\u001b[39m\n\u001b[32m   1907\u001b[39m             values = self.xs(key, axis=other_axes[\u001b[32m0\u001b[39m])._values\n\u001b[32m   1908\u001b[39m         \u001b[38;5;28;01melif\u001b[39;00m self._is_level_reference(key, axis=axis):\n\u001b[32m   1909\u001b[39m             values = self.axes[axis].get_level_values(key)._values\n\u001b[32m   1910\u001b[39m         \u001b[38;5;28;01melse\u001b[39;00m:\n\u001b[32m-> \u001b[39m\u001b[32m1911\u001b[39m             \u001b[38;5;28;01mraise\u001b[39;00m KeyError(key)\n\u001b[32m   1912\u001b[39m \n\u001b[32m   1913\u001b[39m         \u001b[38;5;66;03m# Check for duplicates\u001b[39;00m\n\u001b[32m   1914\u001b[39m         \u001b[38;5;28;01mif\u001b[39;00m values.ndim > \u001b[32m1\u001b[39m:\n",
      "\u001b[31mKeyError\u001b[39m: 'patient_code'"
     ]
    }
   ],
   "source": [
    "merged_data = hhm_club.merge(club_child, on='patient_code', how='left', suffixes = ('_hmm', '_club'))"
   ]
  },
  {
   "cell_type": "code",
   "execution_count": null,
   "metadata": {},
   "outputs": [],
   "source": [
    "\n",
    "# Merge hhm_club with club_child on 'patient_code2'\n",
    "hhm_club = hhm_club.merge(club_child, on='patient_code2', how='left', suffixes = ('_hmm', '_club'))"
   ]
  },
  {
   "cell_type": "code",
   "execution_count": null,
   "metadata": {},
   "outputs": [
    {
     "data": {
      "text/html": [
       "<div>\n",
       "<style scoped>\n",
       "    .dataframe tbody tr th:only-of-type {\n",
       "        vertical-align: middle;\n",
       "    }\n",
       "\n",
       "    .dataframe tbody tr th {\n",
       "        vertical-align: top;\n",
       "    }\n",
       "\n",
       "    .dataframe thead th {\n",
       "        text-align: right;\n",
       "    }\n",
       "</style>\n",
       "<table border=\"1\" class=\"dataframe\">\n",
       "  <thead>\n",
       "    <tr style=\"text-align: right;\">\n",
       "      <th></th>\n",
       "      <th>number</th>\n",
       "      <th>caseid</th>\n",
       "      <th>cty</th>\n",
       "      <th>dob</th>\n",
       "      <th>first_name_x</th>\n",
       "      <th>gender</th>\n",
       "      <th>hiv_test</th>\n",
       "      <th>hiv_test_date</th>\n",
       "      <th>hiv_test_result</th>\n",
       "      <th>hospital_code</th>\n",
       "      <th>...</th>\n",
       "      <th>inh_initiation_date</th>\n",
       "      <th>inh_completion_date</th>\n",
       "      <th>indetectable_ou_inf_1000</th>\n",
       "      <th>eligibility</th>\n",
       "      <th>last_session_date</th>\n",
       "      <th>is_actually_in_club</th>\n",
       "      <th>age</th>\n",
       "      <th>network</th>\n",
       "      <th>is_ugp</th>\n",
       "      <th>office</th>\n",
       "    </tr>\n",
       "  </thead>\n",
       "  <tbody>\n",
       "    <tr>\n",
       "      <th>0</th>\n",
       "      <td>0</td>\n",
       "      <td>5cdc6db5-3642-4cd2-aa2f-f4c2acf6a5b0</td>\n",
       "      <td>---</td>\n",
       "      <td>1970-08-09</td>\n",
       "      <td>wisly</td>\n",
       "      <td>Male</td>\n",
       "      <td>---</td>\n",
       "      <td>---</td>\n",
       "      <td>---</td>\n",
       "      <td>---</td>\n",
       "      <td>...</td>\n",
       "      <td>NaN</td>\n",
       "      <td>NaN</td>\n",
       "      <td>NaN</td>\n",
       "      <td>NaN</td>\n",
       "      <td>NaN</td>\n",
       "      <td>NaN</td>\n",
       "      <td>NaN</td>\n",
       "      <td>NaN</td>\n",
       "      <td>NaN</td>\n",
       "      <td>NaN</td>\n",
       "    </tr>\n",
       "    <tr>\n",
       "      <th>1</th>\n",
       "      <td>79</td>\n",
       "      <td>63a01e3e-0d40-445b-816f-e7e333c14aba</td>\n",
       "      <td>---</td>\n",
       "      <td>1976-06-16</td>\n",
       "      <td>Jacques</td>\n",
       "      <td>Male</td>\n",
       "      <td>---</td>\n",
       "      <td>---</td>\n",
       "      <td>---</td>\n",
       "      <td>---</td>\n",
       "      <td>...</td>\n",
       "      <td>NaN</td>\n",
       "      <td>NaN</td>\n",
       "      <td>NaN</td>\n",
       "      <td>NaN</td>\n",
       "      <td>NaN</td>\n",
       "      <td>NaN</td>\n",
       "      <td>NaN</td>\n",
       "      <td>NaN</td>\n",
       "      <td>NaN</td>\n",
       "      <td>NaN</td>\n",
       "    </tr>\n",
       "  </tbody>\n",
       "</table>\n",
       "<p>2 rows × 133 columns</p>\n",
       "</div>"
      ],
      "text/plain": [
       "   number                                caseid  cty         dob first_name_x  \\\n",
       "0       0  5cdc6db5-3642-4cd2-aa2f-f4c2acf6a5b0  ---  1970-08-09        wisly   \n",
       "1      79  63a01e3e-0d40-445b-816f-e7e333c14aba  ---  1976-06-16      Jacques   \n",
       "\n",
       "  gender hiv_test hiv_test_date hiv_test_result hospital_code  ...  \\\n",
       "0   Male      ---           ---             ---           ---  ...   \n",
       "1   Male      ---           ---             ---           ---  ...   \n",
       "\n",
       "  inh_initiation_date inh_completion_date indetectable_ou_inf_1000  \\\n",
       "0                 NaN                 NaN                      NaN   \n",
       "1                 NaN                 NaN                      NaN   \n",
       "\n",
       "  eligibility last_session_date is_actually_in_club age  network is_ugp office  \n",
       "0         NaN               NaN                 NaN NaN      NaN    NaN    NaN  \n",
       "1         NaN               NaN                 NaN NaN      NaN    NaN    NaN  \n",
       "\n",
       "[2 rows x 133 columns]"
      ]
     },
     "metadata": {},
     "output_type": "display_data"
    },
    {
     "data": {
      "text/plain": [
       "(5749, 133)"
      ]
     },
     "execution_count": 57,
     "metadata": {},
     "output_type": "execute_result"
    }
   ],
   "source": [
    "# Display the first two rows and the shape of the resulting DataFrame\n",
    "display(hhm_club.head(2))\n",
    "hhm_club.shape"
   ]
  },
  {
   "cell_type": "code",
   "execution_count": null,
   "metadata": {},
   "outputs": [
    {
     "ename": "KeyError",
     "evalue": "'age'",
     "output_type": "error",
     "traceback": [
      "\u001b[31m---------------------------------------------------------------------------\u001b[39m",
      "\u001b[31mKeyError\u001b[39m                                  Traceback (most recent call last)",
      "\u001b[36mFile \u001b[39m\u001b[32mc:\\Users\\Moise\\Downloads\\Reports_MEAL\\.venv\\Lib\\site-packages\\pandas\\core\\indexes\\base.py:3805\u001b[39m, in \u001b[36mIndex.get_loc\u001b[39m\u001b[34m(self, key)\u001b[39m\n\u001b[32m   3804\u001b[39m \u001b[38;5;28;01mtry\u001b[39;00m:\n\u001b[32m-> \u001b[39m\u001b[32m3805\u001b[39m     \u001b[38;5;28;01mreturn\u001b[39;00m \u001b[38;5;28;43mself\u001b[39;49m\u001b[43m.\u001b[49m\u001b[43m_engine\u001b[49m\u001b[43m.\u001b[49m\u001b[43mget_loc\u001b[49m\u001b[43m(\u001b[49m\u001b[43mcasted_key\u001b[49m\u001b[43m)\u001b[49m\n\u001b[32m   3806\u001b[39m \u001b[38;5;28;01mexcept\u001b[39;00m \u001b[38;5;167;01mKeyError\u001b[39;00m \u001b[38;5;28;01mas\u001b[39;00m err:\n",
      "\u001b[36mFile \u001b[39m\u001b[32mindex.pyx:167\u001b[39m, in \u001b[36mpandas._libs.index.IndexEngine.get_loc\u001b[39m\u001b[34m()\u001b[39m\n",
      "\u001b[36mFile \u001b[39m\u001b[32mindex.pyx:196\u001b[39m, in \u001b[36mpandas._libs.index.IndexEngine.get_loc\u001b[39m\u001b[34m()\u001b[39m\n",
      "\u001b[36mFile \u001b[39m\u001b[32mpandas\\\\_libs\\\\hashtable_class_helper.pxi:7081\u001b[39m, in \u001b[36mpandas._libs.hashtable.PyObjectHashTable.get_item\u001b[39m\u001b[34m()\u001b[39m\n",
      "\u001b[36mFile \u001b[39m\u001b[32mpandas\\\\_libs\\\\hashtable_class_helper.pxi:7089\u001b[39m, in \u001b[36mpandas._libs.hashtable.PyObjectHashTable.get_item\u001b[39m\u001b[34m()\u001b[39m\n",
      "\u001b[31mKeyError\u001b[39m: 'age'",
      "\nThe above exception was the direct cause of the following exception:\n",
      "\u001b[31mKeyError\u001b[39m                                  Traceback (most recent call last)",
      "\u001b[36mCell\u001b[39m\u001b[36m \u001b[39m\u001b[32mIn[24]\u001b[39m\u001b[32m, line 20\u001b[39m\n\u001b[32m     17\u001b[39m     \u001b[38;5;28;01melse\u001b[39;00m:\n\u001b[32m     18\u001b[39m         \u001b[38;5;28;01mreturn\u001b[39;00m \u001b[33m'\u001b[39m\u001b[33m21+\u001b[39m\u001b[33m'\u001b[39m\n\u001b[32m---> \u001b[39m\u001b[32m20\u001b[39m hhm_club[\u001b[33m'\u001b[39m\u001b[33mage_range\u001b[39m\u001b[33m'\u001b[39m] = \u001b[43mhhm_club\u001b[49m\u001b[43m[\u001b[49m\u001b[33;43m'\u001b[39;49m\u001b[33;43mage\u001b[39;49m\u001b[33;43m'\u001b[39;49m\u001b[43m]\u001b[49m.map(age_range)\n\u001b[32m     21\u001b[39m hhm_club = hhm_club[hhm_club[\u001b[33m'\u001b[39m\u001b[33mage_range\u001b[39m\u001b[33m'\u001b[39m] != \u001b[33m'\u001b[39m\u001b[33m21+\u001b[39m\u001b[33m'\u001b[39m]\n\u001b[32m     22\u001b[39m \u001b[38;5;66;03m#==================================================================================\u001b[39;00m\n",
      "\u001b[36mFile \u001b[39m\u001b[32mc:\\Users\\Moise\\Downloads\\Reports_MEAL\\.venv\\Lib\\site-packages\\pandas\\core\\frame.py:4102\u001b[39m, in \u001b[36mDataFrame.__getitem__\u001b[39m\u001b[34m(self, key)\u001b[39m\n\u001b[32m   4100\u001b[39m \u001b[38;5;28;01mif\u001b[39;00m \u001b[38;5;28mself\u001b[39m.columns.nlevels > \u001b[32m1\u001b[39m:\n\u001b[32m   4101\u001b[39m     \u001b[38;5;28;01mreturn\u001b[39;00m \u001b[38;5;28mself\u001b[39m._getitem_multilevel(key)\n\u001b[32m-> \u001b[39m\u001b[32m4102\u001b[39m indexer = \u001b[38;5;28;43mself\u001b[39;49m\u001b[43m.\u001b[49m\u001b[43mcolumns\u001b[49m\u001b[43m.\u001b[49m\u001b[43mget_loc\u001b[49m\u001b[43m(\u001b[49m\u001b[43mkey\u001b[49m\u001b[43m)\u001b[49m\n\u001b[32m   4103\u001b[39m \u001b[38;5;28;01mif\u001b[39;00m is_integer(indexer):\n\u001b[32m   4104\u001b[39m     indexer = [indexer]\n",
      "\u001b[36mFile \u001b[39m\u001b[32mc:\\Users\\Moise\\Downloads\\Reports_MEAL\\.venv\\Lib\\site-packages\\pandas\\core\\indexes\\base.py:3812\u001b[39m, in \u001b[36mIndex.get_loc\u001b[39m\u001b[34m(self, key)\u001b[39m\n\u001b[32m   3807\u001b[39m     \u001b[38;5;28;01mif\u001b[39;00m \u001b[38;5;28misinstance\u001b[39m(casted_key, \u001b[38;5;28mslice\u001b[39m) \u001b[38;5;129;01mor\u001b[39;00m (\n\u001b[32m   3808\u001b[39m         \u001b[38;5;28misinstance\u001b[39m(casted_key, abc.Iterable)\n\u001b[32m   3809\u001b[39m         \u001b[38;5;129;01mand\u001b[39;00m \u001b[38;5;28many\u001b[39m(\u001b[38;5;28misinstance\u001b[39m(x, \u001b[38;5;28mslice\u001b[39m) \u001b[38;5;28;01mfor\u001b[39;00m x \u001b[38;5;129;01min\u001b[39;00m casted_key)\n\u001b[32m   3810\u001b[39m     ):\n\u001b[32m   3811\u001b[39m         \u001b[38;5;28;01mraise\u001b[39;00m InvalidIndexError(key)\n\u001b[32m-> \u001b[39m\u001b[32m3812\u001b[39m     \u001b[38;5;28;01mraise\u001b[39;00m \u001b[38;5;167;01mKeyError\u001b[39;00m(key) \u001b[38;5;28;01mfrom\u001b[39;00m\u001b[38;5;250m \u001b[39m\u001b[34;01merr\u001b[39;00m\n\u001b[32m   3813\u001b[39m \u001b[38;5;28;01mexcept\u001b[39;00m \u001b[38;5;167;01mTypeError\u001b[39;00m:\n\u001b[32m   3814\u001b[39m     \u001b[38;5;66;03m# If we have a listlike key, _check_indexing_error will raise\u001b[39;00m\n\u001b[32m   3815\u001b[39m     \u001b[38;5;66;03m#  InvalidIndexError. Otherwise we fall through and re-raise\u001b[39;00m\n\u001b[32m   3816\u001b[39m     \u001b[38;5;66;03m#  the TypeError.\u001b[39;00m\n\u001b[32m   3817\u001b[39m     \u001b[38;5;28mself\u001b[39m._check_indexing_error(key)\n",
      "\u001b[31mKeyError\u001b[39m: 'age'"
     ]
    }
   ],
   "source": [
    "#=======================================================================================================================\n",
    "\n",
    "#Function to get the age range\n",
    "def age_range(age):\n",
    "    if age < 1:\n",
    "        return '< 1'\n",
    "    elif age in range(1, 5):\n",
    "        return '1 - 4'\n",
    "    elif age in range(5, 10):\n",
    "        return '5 - 9'\n",
    "    elif age in range(10, 15):\n",
    "        return '10 - 14'\n",
    "    elif age in range(15, 18):\n",
    "        return '15 - 17'\n",
    "    elif age in range(18, 21):\n",
    "        return '18 - 20'\n",
    "    else:\n",
    "        return '21+'\n",
    "\n",
    "hhm_club['age_range'] = hhm_club['age'].map(age_range)\n",
    "hhm_club = hhm_club[hhm_club['age_range'] != '21+']\n",
    "#==================================================================================\n",
    "\n",
    "hhm_club.head()"
   ]
  },
  {
   "cell_type": "code",
   "execution_count": null,
   "metadata": {},
   "outputs": [
    {
     "ename": "AttributeError",
     "evalue": "'DataFrame' object has no attribute 'age_range'",
     "output_type": "error",
     "traceback": [
      "\u001b[31m---------------------------------------------------------------------------\u001b[39m",
      "\u001b[31mAttributeError\u001b[39m                            Traceback (most recent call last)",
      "\u001b[32m~\\AppData\\Local\\Temp\\ipykernel_12496\\2261843520.py\u001b[39m in \u001b[36m?\u001b[39m\u001b[34m()\u001b[39m\n\u001b[32m      4\u001b[39m hhm_other.loc[(hhm_other[\u001b[33m'name'\u001b[39m] == \u001b[33m'Metellus Rose Derlove'\u001b[39m), \u001b[33m'gender'\u001b[39m] = \u001b[33m'Female'\u001b[39m\n\u001b[32m      5\u001b[39m \n\u001b[32m      6\u001b[39m \n\u001b[32m      7\u001b[39m \u001b[38;5;66;03m#Size\u001b[39;00m\n\u001b[32m----> \u001b[39m\u001b[32m8\u001b[39m hhm_ff_stat = hhm_club[(hhm_club.infant_relationship == str(\u001b[32m3\u001b[39m)) & (~hhm_club.age_range.isin([\u001b[33m'18 - 20'\u001b[39m, \u001b[33m'21+'\u001b[39m]))]\n\u001b[32m      9\u001b[39m hhm_other_stat = hhm_club[(hhm_club.infant_relationship != str(\u001b[32m3\u001b[39m)) & (~hhm_club.age_range.isin([\u001b[33m'18 - 20'\u001b[39m, \u001b[33m'21+'\u001b[39m]))]\n\u001b[32m     10\u001b[39m hhm_ff_stat.shape\n\u001b[32m     11\u001b[39m \n",
      "\u001b[32mc:\\Users\\Moise\\Downloads\\Reports_MEAL\\.venv\\Lib\\site-packages\\pandas\\core\\generic.py\u001b[39m in \u001b[36m?\u001b[39m\u001b[34m(self, name)\u001b[39m\n\u001b[32m   6295\u001b[39m             \u001b[38;5;28;01mand\u001b[39;00m name \u001b[38;5;28;01mnot\u001b[39;00m \u001b[38;5;28;01min\u001b[39;00m self._accessors\n\u001b[32m   6296\u001b[39m             \u001b[38;5;28;01mand\u001b[39;00m self._info_axis._can_hold_identifiers_and_holds_name(name)\n\u001b[32m   6297\u001b[39m         ):\n\u001b[32m   6298\u001b[39m             \u001b[38;5;28;01mreturn\u001b[39;00m self[name]\n\u001b[32m-> \u001b[39m\u001b[32m6299\u001b[39m         \u001b[38;5;28;01mreturn\u001b[39;00m object.__getattribute__(self, name)\n",
      "\u001b[31mAttributeError\u001b[39m: 'DataFrame' object has no attribute 'age_range'"
     ]
    }
   ],
   "source": [
    "#creating the siblings dataset and the dataset for the other kids\n",
    "hhm_ff = hhm_club[hhm_club.infant_relationship == str(3)]\n",
    "hhm_other = hhm_club[hhm_club.infant_relationship != str(3)]\n",
    "hhm_other.loc[(hhm_other['name'] == 'Metellus Rose Derlove'), 'gender'] = 'Female'\n",
    "\n",
    "\n",
    "#Size\n",
    "hhm_ff_stat = hhm_club[(hhm_club.infant_relationship == str(3)) & (~hhm_club.age_range.isin(['18 - 20', '21+']))]\n",
    "hhm_other_stat = hhm_club[(hhm_club.infant_relationship != str(3)) & (~hhm_club.age_range.isin(['18 - 20', '21+']))]\n",
    "hhm_ff_stat.shape\n",
    "\n",
    "hhm_other_stat.loc[(hhm_other_stat['name'] == 'Metellus Rose Derlove'), 'gender'] = 'Female'\n",
    "hhm_other_stat.shape"
   ]
  },
  {
   "cell_type": "code",
   "execution_count": null,
   "metadata": {},
   "outputs": [],
   "source": []
  },
  {
   "cell_type": "code",
   "execution_count": null,
   "metadata": {},
   "outputs": [],
   "source": [
    "hhm_club.to_excel('Comptage_OEV_FY24Q2_04232024.xlsx', index = False)"
   ]
  },
  {
   "cell_type": "markdown",
   "metadata": {},
   "source": [
    "##### 4.4 Load Index testing database from Commcare"
   ]
  },
  {
   "cell_type": "code",
   "execution_count": null,
   "metadata": {},
   "outputs": [
    {
     "data": {
      "text/plain": [
       "31017"
      ]
     },
     "metadata": {},
     "output_type": "display_data"
    },
    {
     "data": {
      "text/html": [
       "<div>\n",
       "<style scoped>\n",
       "    .dataframe tbody tr th:only-of-type {\n",
       "        vertical-align: middle;\n",
       "    }\n",
       "\n",
       "    .dataframe tbody tr th {\n",
       "        vertical-align: top;\n",
       "    }\n",
       "\n",
       "    .dataframe thead th {\n",
       "        text-align: right;\n",
       "    }\n",
       "</style>\n",
       "<table border=\"1\" class=\"dataframe\">\n",
       "  <thead>\n",
       "    <tr style=\"text-align: right;\">\n",
       "      <th></th>\n",
       "      <th>patient_code</th>\n",
       "      <th>age_in_year</th>\n",
       "      <th>ptme_relationship</th>\n",
       "      <th>full_code_patient_menage</th>\n",
       "      <th>hiv_test</th>\n",
       "      <th>hiv_test_result</th>\n",
       "      <th>caseid</th>\n",
       "      <th>non_consent_reason</th>\n",
       "    </tr>\n",
       "  </thead>\n",
       "  <tbody>\n",
       "    <tr>\n",
       "      <th>0</th>\n",
       "      <td>PAP/CHAP/TESTMOM</td>\n",
       "      <td>NaN</td>\n",
       "      <td>---</td>\n",
       "      <td>---</td>\n",
       "      <td>non</td>\n",
       "      <td>---</td>\n",
       "      <td>ec8e868f-acea-4785-9d86-8c430399ceaa</td>\n",
       "      <td>---</td>\n",
       "    </tr>\n",
       "    <tr>\n",
       "      <th>1</th>\n",
       "      <td>PAP/CHAP/TESTMOM</td>\n",
       "      <td>NaN</td>\n",
       "      <td>---</td>\n",
       "      <td>---</td>\n",
       "      <td>oui</td>\n",
       "      <td>encours</td>\n",
       "      <td>a82caeb5-cfc1-4e76-bfea-b5efb67894f2</td>\n",
       "      <td>---</td>\n",
       "    </tr>\n",
       "  </tbody>\n",
       "</table>\n",
       "</div>"
      ],
      "text/plain": [
       "       patient_code  age_in_year ptme_relationship full_code_patient_menage  \\\n",
       "0  PAP/CHAP/TESTMOM          NaN               ---                      ---   \n",
       "1  PAP/CHAP/TESTMOM          NaN               ---                      ---   \n",
       "\n",
       "  hiv_test hiv_test_result                                caseid  \\\n",
       "0      non             ---  ec8e868f-acea-4785-9d86-8c430399ceaa   \n",
       "1      oui         encours  a82caeb5-cfc1-4e76-bfea-b5efb67894f2   \n",
       "\n",
       "  non_consent_reason  \n",
       "0                ---  \n",
       "1                ---  "
      ]
     },
     "metadata": {},
     "output_type": "display_data"
    }
   ],
   "source": [
    "# Lire et préparer un autre fichier Excel\n",
    "name_part_ptme = \"household mother \"\n",
    "# file_path_hh_mother = first_part + name_part_ptme + datetime.now().strftime(\"%Y-%m-%d\") + \".xlsx\"\n",
    "file_path_hh_mother = first_part + name_part_ptme + \"2025-03-13\" + \".xlsx\"\n",
    "compt_ptme4 = pd.read_excel(file_path_hh_mother, sheet_name=0)\n",
    "\n",
    "compt_ptme1 = compt_ptme4[['patient_code', 'age_in_year', 'ptme_relationship', 'full_code_patient_menage',\n",
    "                          'hiv_test', 'hiv_test_result', 'caseid', 'non_consent_reason']]\n",
    "compt_ptme1['patient_code'] = compt_ptme1['patient_code'].str.strip()\n",
    "compt_ptme1['age_in_year'] = pd.to_numeric(compt_ptme1['age_in_year'], errors='coerce')\n",
    "# Afficher les deux premières lignes\n",
    "display(compt_ptme1.shape[0])\n",
    "display(compt_ptme1.head(2))"
   ]
  },
  {
   "cell_type": "markdown",
   "metadata": {},
   "source": [
    "### 5. Data cleaning"
   ]
  },
  {
   "cell_type": "markdown",
   "metadata": {},
   "source": [
    "#### 5.1. Data cleaning for comptage database from Ajout de menages ptme [officiel]"
   ]
  },
  {
   "cell_type": "code",
   "execution_count": null,
   "metadata": {},
   "outputs": [],
   "source": [
    "comptage = compt_ptme0[[\n",
    "    \"form.household_collection_date\",\n",
    "    \"form.is_accepted\",\n",
    "    \"form.not_accepted_reason\",\n",
    "    \"form.household_number\",\n",
    "    \"username\",\n",
    "    \"form_link\",\n",
    "    \"form.case.@case_id\",\n",
    "    \"form.case.@date_modified\",\n",
    "    \"form.case.update.household_number\"\n",
    "]].rename(columns={\n",
    "    'form.case.@case_id': 'case_id',\n",
    "    'form.is_accepted': 'is_accepted',\n",
    "    'form.case.@date_modified': 'collection_date'\n",
    "})"
   ]
  },
  {
   "cell_type": "code",
   "execution_count": null,
   "metadata": {},
   "outputs": [
    {
     "data": {
      "text/html": [
       "<div>\n",
       "<style scoped>\n",
       "    .dataframe tbody tr th:only-of-type {\n",
       "        vertical-align: middle;\n",
       "    }\n",
       "\n",
       "    .dataframe tbody tr th {\n",
       "        vertical-align: top;\n",
       "    }\n",
       "\n",
       "    .dataframe thead th {\n",
       "        text-align: right;\n",
       "    }\n",
       "</style>\n",
       "<table border=\"1\" class=\"dataframe\">\n",
       "  <thead>\n",
       "    <tr style=\"text-align: right;\">\n",
       "      <th></th>\n",
       "      <th>form.household_collection_date</th>\n",
       "      <th>is_accepted</th>\n",
       "      <th>form.not_accepted_reason</th>\n",
       "      <th>form.household_number</th>\n",
       "      <th>username</th>\n",
       "      <th>form_link</th>\n",
       "      <th>case_id</th>\n",
       "      <th>collection_date</th>\n",
       "      <th>form.case.update.household_number</th>\n",
       "    </tr>\n",
       "  </thead>\n",
       "  <tbody>\n",
       "    <tr>\n",
       "      <th>0</th>\n",
       "      <td>---</td>\n",
       "      <td>---</td>\n",
       "      <td>---</td>\n",
       "      <td>2</td>\n",
       "      <td>2boulez</td>\n",
       "      <td>https://www.commcarehq.org/a/caris-test/report...</td>\n",
       "      <td>3c5a623af057e23a32ae4000_18965</td>\n",
       "      <td>2020-08-06 23:39:49</td>\n",
       "      <td>---</td>\n",
       "    </tr>\n",
       "    <tr>\n",
       "      <th>1</th>\n",
       "      <td>---</td>\n",
       "      <td>---</td>\n",
       "      <td>---</td>\n",
       "      <td>1</td>\n",
       "      <td>2boulez</td>\n",
       "      <td>https://www.commcarehq.org/a/caris-test/report...</td>\n",
       "      <td>3c5a623af057e23a32ae4000_73766</td>\n",
       "      <td>2020-08-06 23:59:28</td>\n",
       "      <td>1</td>\n",
       "    </tr>\n",
       "  </tbody>\n",
       "</table>\n",
       "</div>"
      ],
      "text/plain": [
       "  form.household_collection_date is_accepted form.not_accepted_reason  \\\n",
       "0                            ---         ---                      ---   \n",
       "1                            ---         ---                      ---   \n",
       "\n",
       "  form.household_number username  \\\n",
       "0                     2  2boulez   \n",
       "1                     1  2boulez   \n",
       "\n",
       "                                           form_link  \\\n",
       "0  https://www.commcarehq.org/a/caris-test/report...   \n",
       "1  https://www.commcarehq.org/a/caris-test/report...   \n",
       "\n",
       "                          case_id      collection_date  \\\n",
       "0  3c5a623af057e23a32ae4000_18965  2020-08-06 23:39:49   \n",
       "1  3c5a623af057e23a32ae4000_73766  2020-08-06 23:59:28   \n",
       "\n",
       "  form.case.update.household_number  \n",
       "0                               ---  \n",
       "1                                 1  "
      ]
     },
     "execution_count": 11,
     "metadata": {},
     "output_type": "execute_result"
    }
   ],
   "source": [
    "comptage.head(2)"
   ]
  },
  {
   "cell_type": "code",
   "execution_count": null,
   "metadata": {},
   "outputs": [],
   "source": [
    "# Convertir la colonne en type datetime\n",
    "comptage[\"collection_date\"] = pd.to_datetime(comptage[\"collection_date\"], errors='coerce')\n",
    "\n",
    "# Définir les bornes de la plage de dates\n",
    "date_debut = pd.to_datetime(\"2024-01-01\")\n",
    "date_fin = pd.to_datetime(\"today\")"
   ]
  },
  {
   "cell_type": "markdown",
   "metadata": {},
   "source": [
    "### 3. Generate some Indicators from ovc_data"
   ]
  },
  {
   "cell_type": "code",
   "execution_count": null,
   "metadata": {},
   "outputs": [
    {
     "name": "stdout",
     "output_type": "stream",
     "text": [
      "Number of PMTCT woman for the semester: 4363\n"
     ]
    }
   ],
   "source": [
    "ovc_data.drop_duplicates(subset='patient_code', inplace=True)\n",
    "print(f\"Number of PMTCT woman for the semester: {ovc_data.shape[0]}\")"
   ]
  },
  {
   "cell_type": "code",
   "execution_count": null,
   "metadata": {},
   "outputs": [
    {
     "name": "stdout",
     "output_type": "stream",
     "text": [
      "Number of real PMTCT women for the semester: 2196\n"
     ]
    }
   ],
   "source": [
    "# List of PMTCT women for the semester\n",
    "real_ptme = ovc_data[(ovc_data.allaitante == 'yes') | (ovc_data.enceinte == 'yes')]\n",
    "print(f\"Number of real PMTCT women for the semester: {real_ptme.shape[0]}\")"
   ]
  },
  {
   "cell_type": "code",
   "execution_count": null,
   "metadata": {},
   "outputs": [
    {
     "name": "stdout",
     "output_type": "stream",
     "text": [
      "Number of women in club for the semester: 1953\n"
     ]
    }
   ],
   "source": [
    "\n",
    "club_ptme = ovc_data[(ovc_data.club_q1 == 'yes') | (ovc_data.club_q2 == 'yes')]\n",
    "print(f\"Number of women in club for the semester: {club_ptme.shape[0]}\")"
   ]
  },
  {
   "cell_type": "code",
   "execution_count": null,
   "metadata": {},
   "outputs": [
    {
     "name": "stdout",
     "output_type": "stream",
     "text": [
      "Number of pregnant PMTCT woman for the semester: 197\n"
     ]
    }
   ],
   "source": [
    "# List of women in club for the semester\n",
    "ptme_enceinte = ovc_data[(ovc_data.enceinte == 'yes')]\n",
    "print(f\"Number of pregnant PMTCT woman for the semester: {ptme_enceinte.shape[0]}\")"
   ]
  },
  {
   "cell_type": "code",
   "execution_count": null,
   "metadata": {},
   "outputs": [
    {
     "name": "stdout",
     "output_type": "stream",
     "text": [
      "Number of real PMTCT women in club for the semester: 922\n"
     ]
    }
   ],
   "source": [
    "# List of women in club for the semester\n",
    "club_woman_ptme = ovc_data[((ovc_data.club_q1 == 'yes') | (ovc_data.club_q2 == 'yes')) & ((ovc_data.allaitante == 'yes') | (ovc_data.enceinte == 'yes'))]\n",
    "print(f\"Number of real PMTCT women in club for the semester: {club_woman_ptme.shape[0]}\")"
   ]
  },
  {
   "cell_type": "code",
   "execution_count": null,
   "metadata": {},
   "outputs": [
    {
     "name": "stdout",
     "output_type": "stream",
     "text": [
      "Number of pregnant women not in club for the semester: 175\n"
     ]
    }
   ],
   "source": [
    "# List of women in club for the semester\n",
    "no_club_woman_ptme = ovc_data[~((ovc_data.club_q1 == 'yes') | (ovc_data.club_q2 == 'yes')) & ((ovc_data.enceinte == 'yes'))]\n",
    "print(f\"Number of pregnant women not in club for the semester: {no_club_woman_ptme.shape[0]}\")"
   ]
  },
  {
   "cell_type": "code",
   "execution_count": null,
   "metadata": {},
   "outputs": [
    {
     "data": {
      "text/plain": [
       "participation\n",
       "aucune_participation    2410\n",
       "En_club_q1_yes_q2_no    1108\n",
       "En_club_q1_no_q2_yes     845\n",
       "Name: count, dtype: int64"
      ]
     },
     "execution_count": 18,
     "metadata": {},
     "output_type": "execute_result"
    }
   ],
   "source": [
    "ovc_data['participation'].value_counts()"
   ]
  },
  {
   "cell_type": "markdown",
   "metadata": {},
   "source": [
    "### 5. Generate the working database and the index database with some merging"
   ]
  },
  {
   "cell_type": "code",
   "execution_count": null,
   "metadata": {},
   "outputs": [
    {
     "data": {
      "text/plain": [
       "11434"
      ]
     },
     "execution_count": 19,
     "metadata": {},
     "output_type": "execute_result"
    },
    {
     "data": {
      "text/html": [
       "<div>\n",
       "<style scoped>\n",
       "    .dataframe tbody tr th:only-of-type {\n",
       "        vertical-align: middle;\n",
       "    }\n",
       "\n",
       "    .dataframe tbody tr th {\n",
       "        vertical-align: top;\n",
       "    }\n",
       "\n",
       "    .dataframe thead th {\n",
       "        text-align: right;\n",
       "    }\n",
       "</style>\n",
       "<table border=\"1\" class=\"dataframe\">\n",
       "  <thead>\n",
       "    <tr style=\"text-align: right;\">\n",
       "      <th></th>\n",
       "      <th>form.household_collection_date</th>\n",
       "      <th>is_accepted</th>\n",
       "      <th>form.not_accepted_reason</th>\n",
       "      <th>form.household_number</th>\n",
       "      <th>username</th>\n",
       "      <th>form_link</th>\n",
       "      <th>case_id</th>\n",
       "      <th>collection_date</th>\n",
       "      <th>form.case.update.household_number</th>\n",
       "      <th>patient_code</th>\n",
       "      <th>code</th>\n",
       "    </tr>\n",
       "  </thead>\n",
       "  <tbody>\n",
       "    <tr>\n",
       "      <th>0</th>\n",
       "      <td>---</td>\n",
       "      <td>---</td>\n",
       "      <td>---</td>\n",
       "      <td>2</td>\n",
       "      <td>2boulez</td>\n",
       "      <td>https://www.commcarehq.org/a/caris-test/report...</td>\n",
       "      <td>3c5a623af057e23a32ae4000_18965</td>\n",
       "      <td>2020-08-06 23:39:49</td>\n",
       "      <td>---</td>\n",
       "      <td>PAP/CHAP/TESTMOM</td>\n",
       "      <td>NaN</td>\n",
       "    </tr>\n",
       "    <tr>\n",
       "      <th>1</th>\n",
       "      <td>---</td>\n",
       "      <td>---</td>\n",
       "      <td>---</td>\n",
       "      <td>1</td>\n",
       "      <td>2boulez</td>\n",
       "      <td>https://www.commcarehq.org/a/caris-test/report...</td>\n",
       "      <td>3c5a623af057e23a32ae4000_73766</td>\n",
       "      <td>2020-08-06 23:59:28</td>\n",
       "      <td>1</td>\n",
       "      <td>PAP/CHAP/TESTMOM2</td>\n",
       "      <td>NaN</td>\n",
       "    </tr>\n",
       "  </tbody>\n",
       "</table>\n",
       "</div>"
      ],
      "text/plain": [
       "  form.household_collection_date is_accepted form.not_accepted_reason  \\\n",
       "0                            ---         ---                      ---   \n",
       "1                            ---         ---                      ---   \n",
       "\n",
       "  form.household_number username  \\\n",
       "0                     2  2boulez   \n",
       "1                     1  2boulez   \n",
       "\n",
       "                                           form_link  \\\n",
       "0  https://www.commcarehq.org/a/caris-test/report...   \n",
       "1  https://www.commcarehq.org/a/caris-test/report...   \n",
       "\n",
       "                          case_id     collection_date  \\\n",
       "0  3c5a623af057e23a32ae4000_18965 2020-08-06 23:39:49   \n",
       "1  3c5a623af057e23a32ae4000_73766 2020-08-06 23:59:28   \n",
       "\n",
       "  form.case.update.household_number       patient_code  code  \n",
       "0                               ---   PAP/CHAP/TESTMOM   NaN  \n",
       "1                                 1  PAP/CHAP/TESTMOM2   NaN  "
      ]
     },
     "execution_count": 19,
     "metadata": {},
     "output_type": "execute_result"
    }
   ],
   "source": [
    "comptage = comptage.merge(id_patient, on='case_id', how='left')\n",
    "comptage.shape[0]\n",
    "comptage.head(2)"
   ]
  },
  {
   "cell_type": "markdown",
   "metadata": {},
   "source": [
    "#### 5.1. Merging ptme_data with the id_patient database"
   ]
  },
  {
   "cell_type": "code",
   "execution_count": null,
   "metadata": {},
   "outputs": [
    {
     "data": {
      "text/html": [
       "<div>\n",
       "<style scoped>\n",
       "    .dataframe tbody tr th:only-of-type {\n",
       "        vertical-align: middle;\n",
       "    }\n",
       "\n",
       "    .dataframe tbody tr th {\n",
       "        vertical-align: top;\n",
       "    }\n",
       "\n",
       "    .dataframe thead th {\n",
       "        text-align: right;\n",
       "    }\n",
       "</style>\n",
       "<table border=\"1\" class=\"dataframe\">\n",
       "  <thead>\n",
       "    <tr style=\"text-align: right;\">\n",
       "      <th></th>\n",
       "      <th>patient_code</th>\n",
       "      <th>on_commCare</th>\n",
       "    </tr>\n",
       "  </thead>\n",
       "  <tbody>\n",
       "    <tr>\n",
       "      <th>0</th>\n",
       "      <td>CAP/CALT/ST00038</td>\n",
       "      <td>yes</td>\n",
       "    </tr>\n",
       "    <tr>\n",
       "      <th>1</th>\n",
       "      <td>CAP/CALT/ST00073</td>\n",
       "      <td>yes</td>\n",
       "    </tr>\n",
       "  </tbody>\n",
       "</table>\n",
       "</div>"
      ],
      "text/plain": [
       "       patient_code on_commCare\n",
       "0  CAP/CALT/ST00038         yes\n",
       "1  CAP/CALT/ST00073         yes"
      ]
     },
     "metadata": {},
     "output_type": "display_data"
    },
    {
     "name": "stdout",
     "output_type": "stream",
     "text": [
      "1963\n",
      "patient_code    0\n",
      "on_commCare     0\n",
      "dtype: int64\n",
      "on_commCare\n",
      "yes    1945\n",
      "no       18\n",
      "Name: count, dtype: int64\n"
     ]
    }
   ],
   "source": [
    "mapping_p = {'both': 'yes', 'left_only': 'no'}\n",
    "on_hivhaiti = creer_colonne_match_conditional(club_ptme, id_patient[['patient_code', 'case_id']], on='patient_code', nouvelle_colonne='on_commCare', mapping=mapping_p)\n",
    "# Affichage du résultat\n",
    "display(on_hivhaiti[['patient_code','on_commCare']].head(2))\n",
    "print(on_hivhaiti[['patient_code','on_commCare']].shape[0])\n",
    "print(on_hivhaiti[['patient_code','on_commCare']].isna().sum())\n",
    "print(on_hivhaiti['on_commCare'].value_counts())"
   ]
  },
  {
   "cell_type": "markdown",
   "metadata": {},
   "source": [
    "#### 5.2. Merging on_hivhaiti database with the comptage database"
   ]
  },
  {
   "cell_type": "code",
   "execution_count": null,
   "metadata": {},
   "outputs": [
    {
     "data": {
      "text/html": [
       "<div>\n",
       "<style scoped>\n",
       "    .dataframe tbody tr th:only-of-type {\n",
       "        vertical-align: middle;\n",
       "    }\n",
       "\n",
       "    .dataframe tbody tr th {\n",
       "        vertical-align: top;\n",
       "    }\n",
       "\n",
       "    .dataframe thead th {\n",
       "        text-align: right;\n",
       "    }\n",
       "</style>\n",
       "<table border=\"1\" class=\"dataframe\">\n",
       "  <thead>\n",
       "    <tr style=\"text-align: right;\">\n",
       "      <th></th>\n",
       "      <th>patient_code</th>\n",
       "      <th>comptage</th>\n",
       "    </tr>\n",
       "  </thead>\n",
       "  <tbody>\n",
       "    <tr>\n",
       "      <th>0</th>\n",
       "      <td>CAP/CALT/ST00038</td>\n",
       "      <td>no</td>\n",
       "    </tr>\n",
       "    <tr>\n",
       "      <th>1</th>\n",
       "      <td>CAP/CALT/ST00073</td>\n",
       "      <td>yes</td>\n",
       "    </tr>\n",
       "  </tbody>\n",
       "</table>\n",
       "</div>"
      ],
      "text/plain": [
       "       patient_code comptage\n",
       "0  CAP/CALT/ST00038       no\n",
       "1  CAP/CALT/ST00073      yes"
      ]
     },
     "metadata": {},
     "output_type": "display_data"
    },
    {
     "name": "stdout",
     "output_type": "stream",
     "text": [
      "1953\n",
      "patient_code    0\n",
      "comptage        0\n",
      "dtype: int64\n",
      "comptage\n",
      "yes    1769\n",
      "no      184\n",
      "Name: count, dtype: int64\n"
     ]
    }
   ],
   "source": [
    "mapping_p = {'both': 'yes', 'left_only': 'no'}\n",
    "comptage_on_hiv = creer_colonne_match_conditional(on_hivhaiti, comptage, on='patient_code', nouvelle_colonne='comptage', mapping=mapping_p)\n",
    "# Affichage du résultat\n",
    "comptage_on_hiv.drop_duplicates(subset='patient_code', inplace=True)\n",
    "display(comptage_on_hiv[['patient_code', 'comptage']].head(2))\n",
    "print(comptage_on_hiv[['patient_code', 'comptage']].shape[0])\n",
    "print(comptage_on_hiv[['patient_code', 'comptage']].isna().sum())\n",
    "print(comptage_on_hiv['comptage'].value_counts())"
   ]
  },
  {
   "cell_type": "code",
   "execution_count": null,
   "metadata": {},
   "outputs": [
    {
     "data": {
      "text/html": [
       "<div>\n",
       "<style scoped>\n",
       "    .dataframe tbody tr th:only-of-type {\n",
       "        vertical-align: middle;\n",
       "    }\n",
       "\n",
       "    .dataframe tbody tr th {\n",
       "        vertical-align: top;\n",
       "    }\n",
       "\n",
       "    .dataframe thead th {\n",
       "        text-align: right;\n",
       "    }\n",
       "</style>\n",
       "<table border=\"1\" class=\"dataframe\">\n",
       "  <thead>\n",
       "    <tr style=\"text-align: right;\">\n",
       "      <th></th>\n",
       "      <th>patient_code</th>\n",
       "      <th>on_commCare</th>\n",
       "      <th>comptage</th>\n",
       "      <th>testing</th>\n",
       "    </tr>\n",
       "  </thead>\n",
       "  <tbody>\n",
       "    <tr>\n",
       "      <th>0</th>\n",
       "      <td>CAP/CALT/ST00038</td>\n",
       "      <td>yes</td>\n",
       "      <td>no</td>\n",
       "      <td>no</td>\n",
       "    </tr>\n",
       "    <tr>\n",
       "      <th>1</th>\n",
       "      <td>CAP/CALT/ST00073</td>\n",
       "      <td>yes</td>\n",
       "      <td>yes</td>\n",
       "      <td>yes</td>\n",
       "    </tr>\n",
       "  </tbody>\n",
       "</table>\n",
       "</div>"
      ],
      "text/plain": [
       "       patient_code on_commCare comptage testing\n",
       "0  CAP/CALT/ST00038         yes       no      no\n",
       "1  CAP/CALT/ST00073         yes      yes     yes"
      ]
     },
     "metadata": {},
     "output_type": "display_data"
    },
    {
     "name": "stdout",
     "output_type": "stream",
     "text": [
      "1953\n",
      "patient_code    0\n",
      "on_commCare     0\n",
      "comptage        0\n",
      "testing         0\n",
      "dtype: int64\n",
      "comptage\n",
      "yes    1769\n",
      "no      184\n",
      "Name: count, dtype: int64\n",
      "on_commCare\n",
      "yes    1935\n",
      "no       18\n",
      "Name: count, dtype: int64\n",
      "testing\n",
      "yes    1263\n",
      "no      690\n",
      "Name: count, dtype: int64\n"
     ]
    }
   ],
   "source": [
    "mapping_p = {'both': 'yes', 'left_only': 'no'}\n",
    "compt_ptme2 = compt_ptme1.drop_duplicates(subset='patient_code')\n",
    "working_data = creer_colonne_match_conditional(comptage_on_hiv, compt_ptme2, on='patient_code', nouvelle_colonne='testing', mapping=mapping_p)\n",
    "# Affichage du résultat\n",
    "display(working_data[['patient_code','on_commCare','comptage','testing']].head(2))\n",
    "print(working_data[['patient_code','on_commCare','comptage','testing']].shape[0])\n",
    "print(working_data[['patient_code','on_commCare','comptage','testing']].isna().sum())\n",
    "print(working_data['comptage'].value_counts())\n",
    "print(working_data['on_commCare'].value_counts())\n",
    "print(working_data['testing'].value_counts())"
   ]
  },
  {
   "cell_type": "code",
   "execution_count": null,
   "metadata": {},
   "outputs": [],
   "source": [
    "comptage_ptme = working_data[['patient_code','on_commCare','comptage','testing']]"
   ]
  },
  {
   "cell_type": "code",
   "execution_count": null,
   "metadata": {},
   "outputs": [
    {
     "data": {
      "text/html": [
       "<div>\n",
       "<style scoped>\n",
       "    .dataframe tbody tr th:only-of-type {\n",
       "        vertical-align: middle;\n",
       "    }\n",
       "\n",
       "    .dataframe tbody tr th {\n",
       "        vertical-align: top;\n",
       "    }\n",
       "\n",
       "    .dataframe thead th {\n",
       "        text-align: right;\n",
       "    }\n",
       "</style>\n",
       "<table border=\"1\" class=\"dataframe\">\n",
       "  <thead>\n",
       "    <tr style=\"text-align: right;\">\n",
       "      <th></th>\n",
       "      <th>site</th>\n",
       "      <th>Hospital</th>\n",
       "      <th>network_name</th>\n",
       "      <th>first_name</th>\n",
       "      <th>last_name</th>\n",
       "      <th>dob</th>\n",
       "      <th>id_patient</th>\n",
       "      <th>patient_code</th>\n",
       "      <th>created_at</th>\n",
       "      <th>age</th>\n",
       "      <th>...</th>\n",
       "      <th>testing</th>\n",
       "      <th>status</th>\n",
       "      <th>caris_office</th>\n",
       "      <th>hopital</th>\n",
       "      <th>network</th>\n",
       "      <th>departement</th>\n",
       "      <th>commune</th>\n",
       "      <th>section</th>\n",
       "      <th>latitude</th>\n",
       "      <th>longitude</th>\n",
       "    </tr>\n",
       "  </thead>\n",
       "  <tbody>\n",
       "    <tr>\n",
       "      <th>0</th>\n",
       "      <td>CAP/CALT</td>\n",
       "      <td>---</td>\n",
       "      <td>---</td>\n",
       "      <td>Joseph</td>\n",
       "      <td>Roseline</td>\n",
       "      <td>1980-01-15 00:00:00</td>\n",
       "      <td>---</td>\n",
       "      <td>CAP/CALT/ST00038</td>\n",
       "      <td>---</td>\n",
       "      <td>---</td>\n",
       "      <td>...</td>\n",
       "      <td>no</td>\n",
       "      <td>Actif</td>\n",
       "      <td>Cap-Haitien</td>\n",
       "      <td>CAL de Trou du Nord</td>\n",
       "      <td>CMMB</td>\n",
       "      <td>Nord-Est</td>\n",
       "      <td>Trou-du-Nord</td>\n",
       "      <td>Trou-du-Nord</td>\n",
       "      <td>19.61273</td>\n",
       "      <td>-72.02686</td>\n",
       "    </tr>\n",
       "  </tbody>\n",
       "</table>\n",
       "<p>1 rows × 91 columns</p>\n",
       "</div>"
      ],
      "text/plain": [
       "       site Hospital network_name first_name last_name                  dob  \\\n",
       "0  CAP/CALT      ---          ---     Joseph  Roseline  1980-01-15 00:00:00   \n",
       "\n",
       "  id_patient      patient_code created_at  age  ...  testing status  \\\n",
       "0        ---  CAP/CALT/ST00038        ---  ---  ...       no  Actif   \n",
       "\n",
       "   caris_office              hopital network departement       commune  \\\n",
       "0   Cap-Haitien  CAL de Trou du Nord    CMMB    Nord-Est  Trou-du-Nord   \n",
       "\n",
       "        section  latitude longitude  \n",
       "0  Trou-du-Nord  19.61273 -72.02686  \n",
       "\n",
       "[1 rows x 91 columns]"
      ]
     },
     "metadata": {},
     "output_type": "display_data"
    }
   ],
   "source": [
    "# Merge the working_data DataFrame with the site DataFrame\n",
    "merged_data = working_data.merge(site, on='site', how='left')\n",
    "\n",
    "# Conserver toutes les colonnes de merged_data et ajouter celles de site\n",
    "for col in site.columns:\n",
    "    if col not in merged_data.columns:\n",
    "        merged_data[col] = site[col]\n",
    "\n",
    "# Afficher les premières lignes pour vérifier\n",
    "display(merged_data.head(1))"
   ]
  },
  {
   "cell_type": "code",
   "execution_count": null,
   "metadata": {},
   "outputs": [],
   "source": [
    "def merge_and_extend(working_data, site, on='site'):\n",
    "    \"\"\"\n",
    "    Merge the working_data DataFrame with the site DataFrame and extend it with all columns from site.\n",
    "\n",
    "    Args:\n",
    "        working_data (pd.DataFrame): The main DataFrame to merge.\n",
    "        site (pd.DataFrame): The DataFrame containing additional columns to merge.\n",
    "        on (str): The column name to merge on. Default is 'site'.\n",
    "\n",
    "    Returns:\n",
    "        pd.DataFrame: The merged DataFrame with all columns from both DataFrames.\n",
    "    \"\"\"\n",
    "    # Merge the DataFrames\n",
    "    merged_data = working_data.merge(site, on=on, how='left')\n",
    "\n",
    "    # Add missing columns from site to merged_data\n",
    "    for col in site.columns:\n",
    "        if col not in merged_data.columns:\n",
    "            merged_data[col] = site[col]\n",
    "\n",
    "    # Return the merged DataFrame\n",
    "    return merged_data"
   ]
  },
  {
   "cell_type": "code",
   "execution_count": null,
   "metadata": {},
   "outputs": [
    {
     "data": {
      "text/html": [
       "<div>\n",
       "<style scoped>\n",
       "    .dataframe tbody tr th:only-of-type {\n",
       "        vertical-align: middle;\n",
       "    }\n",
       "\n",
       "    .dataframe tbody tr th {\n",
       "        vertical-align: top;\n",
       "    }\n",
       "\n",
       "    .dataframe thead th {\n",
       "        text-align: right;\n",
       "    }\n",
       "</style>\n",
       "<table border=\"1\" class=\"dataframe\">\n",
       "  <thead>\n",
       "    <tr style=\"text-align: right;\">\n",
       "      <th></th>\n",
       "      <th>site</th>\n",
       "      <th>Hospital</th>\n",
       "      <th>network_name</th>\n",
       "      <th>first_name</th>\n",
       "      <th>last_name</th>\n",
       "      <th>dob</th>\n",
       "      <th>id_patient</th>\n",
       "      <th>patient_code</th>\n",
       "      <th>created_at</th>\n",
       "      <th>age</th>\n",
       "      <th>...</th>\n",
       "      <th>section</th>\n",
       "      <th>latitude</th>\n",
       "      <th>longitude</th>\n",
       "      <th>statut</th>\n",
       "      <th>Nom hopital</th>\n",
       "      <th>Office</th>\n",
       "      <th>coordonnatrices</th>\n",
       "      <th>Coordonnateurs , coordonnatrices Clubs SIY</th>\n",
       "      <th>nom_complet_agent</th>\n",
       "      <th>username_agent</th>\n",
       "    </tr>\n",
       "  </thead>\n",
       "  <tbody>\n",
       "    <tr>\n",
       "      <th>0</th>\n",
       "      <td>CAP/CALT</td>\n",
       "      <td>---</td>\n",
       "      <td>---</td>\n",
       "      <td>Joseph</td>\n",
       "      <td>Roseline</td>\n",
       "      <td>1980-01-15 00:00:00</td>\n",
       "      <td>---</td>\n",
       "      <td>CAP/CALT/ST00038</td>\n",
       "      <td>---</td>\n",
       "      <td>---</td>\n",
       "      <td>...</td>\n",
       "      <td>Trou-du-Nord</td>\n",
       "      <td>19.61273</td>\n",
       "      <td>-72.02686</td>\n",
       "      <td>Actif</td>\n",
       "      <td>Hopital Esperance de Pilate</td>\n",
       "      <td>CAP</td>\n",
       "      <td>Cely Adline/Presumé Maxime Antoine Jr</td>\n",
       "      <td>Presumé Maxime Antoine Jr</td>\n",
       "      <td>Rosanie Beauliva</td>\n",
       "      <td>1rosanie</td>\n",
       "    </tr>\n",
       "  </tbody>\n",
       "</table>\n",
       "<p>1 rows × 98 columns</p>\n",
       "</div>"
      ],
      "text/plain": [
       "       site Hospital network_name first_name last_name                  dob  \\\n",
       "0  CAP/CALT      ---          ---     Joseph  Roseline  1980-01-15 00:00:00   \n",
       "\n",
       "  id_patient      patient_code created_at  age  ...       section  latitude  \\\n",
       "0        ---  CAP/CALT/ST00038        ---  ---  ...  Trou-du-Nord  19.61273   \n",
       "\n",
       "   longitude statut                  Nom hopital Office  \\\n",
       "0  -72.02686  Actif  Hopital Esperance de Pilate    CAP   \n",
       "\n",
       "                         coordonnatrices  \\\n",
       "0  Cely Adline/Presumé Maxime Antoine Jr   \n",
       "\n",
       "  Coordonnateurs , coordonnatrices Clubs SIY nom_complet_agent username_agent  \n",
       "0                  Presumé Maxime Antoine Jr  Rosanie Beauliva       1rosanie  \n",
       "\n",
       "[1 rows x 98 columns]"
      ]
     },
     "metadata": {},
     "output_type": "display_data"
    },
    {
     "name": "stdout",
     "output_type": "stream",
     "text": [
      "1953\n",
      "network\n",
      "Santé      705\n",
      "CMMB       661\n",
      "GHESKIO    211\n",
      "FOSREF      87\n",
      "BRIDGE      84\n",
      "CDS         68\n",
      "UGP         34\n",
      "ICAP        20\n",
      "PIH          1\n",
      "Name: count, dtype: int64\n",
      "Office\n",
      "PAP-PAP    30\n",
      "CAP        24\n",
      "GON        18\n",
      "PAP-CAR    11\n",
      "PDP         6\n",
      "Name: count, dtype: int64\n"
     ]
    }
   ],
   "source": [
    "# Merge the working_data DataFrame with the site DataFrame\n",
    "final_data = merged_data.merge(coordo, on='site', how='left')\n",
    "\n",
    "# Conserver toutes les colonnes de merged_data et ajouter celles de site\n",
    "for col in coordo.columns:\n",
    "    if col not in merged_data.columns:\n",
    "        final_data[col] = coordo[col]\n",
    "\n",
    "# Afficher les premières lignes pour vérifier\n",
    "display(final_data.head(1))\n",
    "\n",
    "# Vérifier les valeurs uniques dans certaines colonnes\n",
    "print(final_data[['patient_code','on_commCare','comptage','testing']].shape[0])\n",
    "print(final_data['network'].value_counts())\n",
    "print(final_data['Office'].value_counts())"
   ]
  },
  {
   "cell_type": "code",
   "execution_count": null,
   "metadata": {},
   "outputs": [
    {
     "name": "stdout",
     "output_type": "stream",
     "text": [
      "Number of PTME women with for the semester: 2196\n",
      "Number of pregnant women with for the semester: 197\n",
      "Number of pregnant women in club for the semester: 22\n",
      "Number of pregnant women with Household count for the semester: 17\n",
      "Number of pregnant women with testing for their child: 20\n"
     ]
    }
   ],
   "source": [
    "ptme_woman0 = working_data[(working_data.allaitante == 'yes') | (working_data.enceinte == 'yes')]\n",
    "print(f\"Number of PTME women with for the semester: {ptme_woman0.shape[0]}\")\n",
    "pregnant_woman = working_data[working_data['enceinte'] == 'yes']\n",
    "print(f\"Number of pregnant women with for the semester: {pregnant_woman.shape[0]}\")\n",
    "pregnant_woman_in_club = working_data[((working_data.club_q1 == 'yes') | (working_data.club_q2 == 'yes')) & ((working_data.enceinte == 'yes'))]\n",
    "print(f\"Number of pregnant women in club for the semester: {pregnant_woman_in_club.shape[0]}\")\n",
    "pregnant_woman_with_testing = pregnant_woman_in_club[pregnant_woman_in_club['testing'] == 'yes']\n",
    "print(f\"Number of pregnant women with Household count for the semester: {pregnant_woman_with_testing.shape[0]}\")\n",
    "pregnant_woman_with_comptage = pregnant_woman_in_club[pregnant_woman_in_club['comptage'] == 'yes']\n",
    "print(f\"Number of pregnant women with testing for their child: {pregnant_woman_with_comptage.shape[0]}\")"
   ]
  },
  {
   "cell_type": "code",
   "execution_count": null,
   "metadata": {},
   "outputs": [
    {
     "name": "stdout",
     "output_type": "stream",
     "text": [
      "Number of PTME women with for the semester: 2196\n"
     ]
    }
   ],
   "source": [
    "ptme_woman0 = working_data[(working_data.allaitante == 'yes') | (working_data.enceinte == 'yes')]\n",
    "print(f\"Number of PTME women with for the semester: {ptme_woman0.shape[0]}\")"
   ]
  },
  {
   "cell_type": "code",
   "execution_count": null,
   "metadata": {},
   "outputs": [
    {
     "name": "stdout",
     "output_type": "stream",
     "text": [
      "Number of pregnant women with for the semester: 197\n"
     ]
    }
   ],
   "source": [
    "pregnant_woman = working_data[working_data['enceinte'] == 'yes']\n",
    "print(f\"Number of pregnant women with for the semester: {pregnant_woman.shape[0]}\")"
   ]
  },
  {
   "cell_type": "code",
   "execution_count": null,
   "metadata": {},
   "outputs": [
    {
     "name": "stdout",
     "output_type": "stream",
     "text": [
      "Number of pregnant women not in club for the semester: 175\n"
     ]
    }
   ],
   "source": [
    "pregnant_woman_no_in_club = working_data[~((working_data.club_q1 == 'yes') | (working_data.club_q2 == 'yes')) & ((working_data.enceinte == 'yes'))]\n",
    "print(f\"Number of pregnant women not in club for the semester: {pregnant_woman_no_in_club.shape[0]}\")"
   ]
  },
  {
   "cell_type": "code",
   "execution_count": null,
   "metadata": {},
   "outputs": [
    {
     "name": "stdout",
     "output_type": "stream",
     "text": [
      "Number of pregnant women in club for the semester: 22\n"
     ]
    }
   ],
   "source": [
    "pregnant_woman_in_club = working_data[((working_data.club_q1 == 'yes') | (working_data.club_q2 == 'yes')) & ((working_data.enceinte == 'yes'))]\n",
    "print(f\"Number of pregnant women in club for the semester: {pregnant_woman_in_club.shape[0]}\")"
   ]
  },
  {
   "cell_type": "code",
   "execution_count": null,
   "metadata": {},
   "outputs": [
    {
     "name": "stdout",
     "output_type": "stream",
     "text": [
      "Number of pregnant women with Household count for the semester: 17\n"
     ]
    }
   ],
   "source": [
    "pregnant_woman_with_testing = pregnant_woman_in_club[pregnant_woman_in_club['testing'] == 'yes']\n",
    "print(f\"Number of pregnant women with Household count for the semester: {pregnant_woman_with_testing.shape[0]}\")"
   ]
  },
  {
   "cell_type": "code",
   "execution_count": null,
   "metadata": {},
   "outputs": [
    {
     "name": "stdout",
     "output_type": "stream",
     "text": [
      "Number of pregnant women with testing for the semester: 20\n"
     ]
    }
   ],
   "source": [
    "pregnant_woman_with_comptage = pregnant_woman_in_club[pregnant_woman_in_club['comptage'] == 'yes']\n",
    "print(f\"Number of pregnant women with testing for the semester: {pregnant_woman_with_comptage.shape[0]}\")"
   ]
  },
  {
   "cell_type": "code",
   "execution_count": null,
   "metadata": {},
   "outputs": [
    {
     "name": "stdout",
     "output_type": "stream",
     "text": [
      "31017\n",
      "testing\n",
      "no     25275\n",
      "yes     5742\n",
      "Name: count, dtype: int64\n"
     ]
    },
    {
     "data": {
      "text/plain": [
       "5742"
      ]
     },
     "execution_count": 185,
     "metadata": {},
     "output_type": "execute_result"
    }
   ],
   "source": [
    "mapping_p = {'both': 'yes', 'left_only': 'no'}\n",
    "stat_ptme_index = creer_colonne_match_conditional(compt_ptme1, club_ptme, on='patient_code', nouvelle_colonne='testing', mapping=mapping_p)\n",
    "# Affichage du résultat\n",
    "print(stat_ptme_index[['patient_code', 'testing']].shape[0])\n",
    "print(stat_ptme_index['testing'].value_counts())\n",
    "stat_ptme_index = stat_ptme_index[stat_ptme_index['testing']=='yes']\n",
    "int(stat_ptme_index[['patient_code', 'testing']].shape[0])"
   ]
  },
  {
   "cell_type": "code",
   "execution_count": null,
   "metadata": {},
   "outputs": [],
   "source": [
    "serv_ptme = working_data.copy(deep =True)\n",
    "serv_ptme1 = serv_ptme[\n",
    "    (serv_ptme['dead'] == \"0\") & (serv_ptme['abandoned'] == '0') & \n",
    "    ((serv_ptme['club_q1'] == \"yes\") | (serv_ptme['club_q2'] == \"yes\")) &\n",
    "    (serv_ptme['is_patient_on_hivhaiti'] != 'no')\n",
    "].drop(columns=['is_dead'])"
   ]
  },
  {
   "cell_type": "code",
   "execution_count": null,
   "metadata": {},
   "outputs": [
    {
     "name": "stdout",
     "output_type": "stream",
     "text": [
      "DataFrame saved to C:\\Users\\Moise\\Downloads\\REPORTS_MEAL\\DATA\\PTME\\stat_ptme_index.xlsx\n"
     ]
    },
    {
     "data": {
      "text/plain": [
       "'C:\\\\Users\\\\Moise\\\\Downloads\\\\REPORTS_MEAL\\\\DATA\\\\PTME\\\\stat_ptme_index.xlsx'"
      ]
     },
     "execution_count": 169,
     "metadata": {},
     "output_type": "execute_result"
    },
    {
     "name": "stdout",
     "output_type": "stream",
     "text": [
      "DataFrame saved to C:\\Users\\Moise\\Downloads\\REPORTS_MEAL\\DATA\\PTME\\working_data.xlsx\n"
     ]
    },
    {
     "data": {
      "text/plain": [
       "'C:\\\\Users\\\\Moise\\\\Downloads\\\\REPORTS_MEAL\\\\DATA\\\\PTME\\\\working_data.xlsx'"
      ]
     },
     "execution_count": 169,
     "metadata": {},
     "output_type": "execute_result"
    }
   ],
   "source": [
    "save_dataframe_to_excel(stat_ptme_index, 'stat_ptme_index')\n",
    "save_dataframe_to_excel(working_data, 'working_data')"
   ]
  },
  {
   "cell_type": "code",
   "execution_count": null,
   "metadata": {},
   "outputs": [],
   "source": [
    "serv_ptme = working_data.copy(deep =True)\n",
    "serv_ptme1 = serv_ptme[\n",
    "    (serv_ptme['dead'] == \"0\") & (serv_ptme['abandoned'] == '0') & \n",
    "    ((serv_ptme['club_q1'] == \"yes\") | (serv_ptme['club_q2'] == \"yes\")) &\n",
    "    (serv_ptme['is_patient_on_hivhaiti'] != 'no')\n",
    "].drop(columns=['is_dead'])\n",
    "\n",
    "stat_ptme_index = stat_ptme_index[[\n",
    "    'patient_code', 'age_in_year', 'ptme_relationship', 'full_code_patient_menage',\n",
    "    'hiv_test', 'hiv_test_result', 'non_consent_reason', 'caseid'\n",
    "]]\n",
    "stat_ptme_index['age_in_year'] = stat_ptme_index['age_in_year'].fillna(0).astype(int)"
   ]
  },
  {
   "cell_type": "markdown",
   "metadata": {},
   "source": [
    "### Effectuer les transformations nécessaires sur stat_ptme_index"
   ]
  },
  {
   "cell_type": "code",
   "execution_count": null,
   "metadata": {},
   "outputs": [],
   "source": [
    "# Total des enfants\n",
    "eff_enf = stat_ptme_index[(stat_ptme_index['ptme_relationship'] == \"2\") & (stat_ptme_index['age_in_year'].between(0, 17))]\n",
    "eff_enf = eff_enf['patient_code'].value_counts().reset_index().rename(columns={'index': 'patient_code', 'patient_code': '# Enfants'})"
   ]
  },
  {
   "cell_type": "code",
   "execution_count": null,
   "metadata": {},
   "outputs": [],
   "source": [
    "# Enfants testés\n",
    "enf_test = stat_ptme_index[(stat_ptme_index['ptme_relationship'] == \"2\") & (stat_ptme_index['age_in_year'].between(0, 17)) & \n",
    "                           (stat_ptme_index['hiv_test'].isin([\"1\", \"oui\"]))]\n",
    "enf_test = enf_test['patient_code'].value_counts().reset_index().rename(columns={'index': 'patient_code', 'patient_code': '# Enfants testés'})"
   ]
  },
  {
   "cell_type": "code",
   "execution_count": null,
   "metadata": {},
   "outputs": [],
   "source": [
    "# Enfants non testés\n",
    "enf_non_test = stat_ptme_index[(stat_ptme_index['ptme_relationship'] == \"2\") & (stat_ptme_index['age_in_year'].between(0, 17)) & \n",
    "                               (stat_ptme_index['hiv_test'].isin([\"2\", \"non\"])) & (stat_ptme_index['non_consent_reason'] == \"---\")]\n",
    "enf_non_test = enf_non_test['patient_code'].value_counts().reset_index().rename(columns={'index': 'patient_code', 'patient_code': '# Enfants non testés'})\n"
   ]
  },
  {
   "cell_type": "code",
   "execution_count": null,
   "metadata": {},
   "outputs": [],
   "source": [
    "# Enfants VIH+ avec code de ménage complet\n",
    "enf_vih_pos = stat_ptme_index[(stat_ptme_index['ptme_relationship'] == \"2\") & (stat_ptme_index['age_in_year'].between(0, 17)) & \n",
    "                              (stat_ptme_index['hiv_test_result'] == \"positif\") & (stat_ptme_index['hiv_test'].isin([\"1\", \"oui\"])) & \n",
    "                              (~stat_ptme_index['full_code_patient_menage'].isin([\"//\", \"---\"]))]\n",
    "enf_vih_pos = enf_vih_pos['patient_code'].value_counts().reset_index().rename(columns={'index': 'patient_code', 'patient_code': '# Enfants VIH+ avec ST code'})"
   ]
  },
  {
   "cell_type": "code",
   "execution_count": null,
   "metadata": {},
   "outputs": [],
   "source": [
    "# Total des enfants VIH+\n",
    "enf_vih_pos_total = stat_ptme_index[(stat_ptme_index['ptme_relationship'] == \"2\") & (stat_ptme_index['age_in_year'].between(0, 17)) & \n",
    "                                    (stat_ptme_index['hiv_test_result'] == \"positif\") & (stat_ptme_index['hiv_test'].isin([\"1\", \"oui\"]))]\n",
    "enf_vih_pos_total = enf_vih_pos_total['patient_code'].value_counts().reset_index().rename(columns={'index': 'patient_code', 'patient_code': '# Enfants VIH+'})\n"
   ]
  },
  {
   "cell_type": "code",
   "execution_count": null,
   "metadata": {},
   "outputs": [],
   "source": [
    "# Enfants VIH-\n",
    "enf_vih_neg = stat_ptme_index[(stat_ptme_index['ptme_relationship'] == \"2\") & (stat_ptme_index['age_in_year'].between(0, 17)) & \n",
    "                              (stat_ptme_index['hiv_test_result'] == \"negatif\") & (stat_ptme_index['hiv_test'].isin([\"1\", \"oui\"]))]\n",
    "enf_vih_neg = enf_vih_neg['patient_code'].value_counts().reset_index().rename(columns={'index': 'patient_code', 'patient_code': '# Enfants VIH-'})\n"
   ]
  },
  {
   "cell_type": "code",
   "execution_count": null,
   "metadata": {},
   "outputs": [],
   "source": [
    "# Pas d'information sur le test\n",
    "no_info_status = stat_ptme_index[(stat_ptme_index['ptme_relationship'] == \"2\") & (stat_ptme_index['age_in_year'].between(0, 17)) & \n",
    "                                 (stat_ptme_index['hiv_test'] == \"1\") & (~stat_ptme_index['hiv_test_result'].isin([\"positif\", \"negatif\"]))]\n",
    "no_info_status = no_info_status['patient_code'].value_counts().reset_index().rename(columns={'index': 'patient_code', 'patient_code': '# no_info_status'})\n",
    "\n",
    "# Sur commcare"
   ]
  },
  {
   "cell_type": "code",
   "execution_count": null,
   "metadata": {},
   "outputs": [],
   "source": [
    "commcare_ptme_yes = working_data[working_data['on_commCare'] == \"yes\"]"
   ]
  },
  {
   "cell_type": "code",
   "execution_count": null,
   "metadata": {},
   "outputs": [],
   "source": [
    "\n",
    "# Pas sur commcare\n",
    "commcare_ptme_no = working_data[working_data['on_commCare'] == \"no\"]"
   ]
  },
  {
   "cell_type": "code",
   "execution_count": null,
   "metadata": {},
   "outputs": [
    {
     "data": {
      "text/plain": [
       "'import pandas as pd\\nimport dash\\nfrom dash import html, dash_table\\n\\n# Ajouter les nouvelles colonnes avec conditions stat_ptme_index\\nstat_ptme_index[\\'# Enfants\\'] = ((stat_ptme_index[\\'ptme_relationship\\'] == \"2\") & (stat_ptme_index[\\'age_in_year\\'].between(0, 17))).astype(int)\\nstat_ptme_index[\\'# Enfants testés\\'] = ((stat_ptme_index[\\'# Enfants\\'] == 1) & (stat_ptme_index[\\'hiv_test\\'].isin([\"1\", \"oui\"]))).astype(int)\\nstat_ptme_index[\\'# Enfants non testés\\'] = ((stat_ptme_index[\\'# Enfants\\'] == 1) & (stat_ptme_index[\\'hiv_test\\'].isin([\"2\", \"non\"])) & (stat_ptme_index[\\'non_consent_reason\\'] == \"---\")).astype(int)\\nstat_ptme_index[\\'# Enfants VIH+ avec ST code\\'] = ((stat_ptme_index[\\'# Enfants\\'] == 1) & (stat_ptme_index[\\'hiv_test_result\\'] == \"positif\") & (stat_ptme_index[\\'hiv_test\\'].isin([\"1\", \"oui\"])) & (~stat_ptme_index[\\'full_code_patient_menage\\'].isin([\"//\", \"---\"]))).astype(int)\\nstat_ptme_index[\\'# Enfants VIH+\\'] = ((stat_ptme_index[\\'# Enfants\\'] == 1) & (stat_ptme_index[\\'hiv_test_result\\'] == \"positif\") & (stat_ptme_index[\\'hiv_test\\'].isin([\"1\", \"oui\"]))).astype(int)\\nstat_ptme_index[\\'# Enfants VIH-\\'] = ((stat_ptme_index[\\'# Enfants\\'] == 1) & (stat_ptme_index[\\'hiv_test_result\\'] == \"negatif\") & (stat_ptme_index[\\'hiv_test\\'].isin([\"1\", \"oui\"]))).astype(int)\\nstat_ptme_index[\\'# no_info_status\\'] = ((stat_ptme_index[\\'# Enfants\\'] == 1) & (stat_ptme_index[\\'hiv_test\\'] == \"1\") & (~stat_ptme_index[\\'hiv_test_result\\'].isin([\"positif\", \"negatif\"]))).astype(int)\\n\\n# Ajouter les informations sur commCare\\nstat_ptme_index[\\'on_commCare\\'] = stat_ptme_index[\\'patient_code\\'].isin(commcare_ptme_yes[\\'patient_code\\']).astype(int)'"
      ]
     },
     "execution_count": 197,
     "metadata": {},
     "output_type": "execute_result"
    },
    {
     "data": {
      "text/plain": [
       "'# Création de l\\'application Dash\\napp = dash.Dash(__name__)\\n\\napp.layout = html.Div([\\n    dash_table.DataTable(\\n        columns=[{\"name\": col, \"id\": col} for col in stat_ptme_index.columns],\\n        data=stat_ptme_index.to_dict(\\'records\\'),\\n        style_header={\\'backgroundColor\\': \\'#800000\\', \\'color\\': \\'white\\'},\\n        page_size=10,\\n        export_format=\"xlsx\"\\n    )\\n])\\n\\nif __name__ == \\'__main__\\':\\n    app.run(debug=True)'"
      ]
     },
     "execution_count": 197,
     "metadata": {},
     "output_type": "execute_result"
    }
   ],
   "source": [
    "\"\"\"import pandas as pd\n",
    "import dash\n",
    "from dash import html, dash_table\n",
    "\n",
    "# Ajouter les nouvelles colonnes avec conditions stat_ptme_index\n",
    "stat_ptme_index['# Enfants'] = ((stat_ptme_index['ptme_relationship'] == \"2\") & (stat_ptme_index['age_in_year'].between(0, 17))).astype(int)\n",
    "stat_ptme_index['# Enfants testés'] = ((stat_ptme_index['# Enfants'] == 1) & (stat_ptme_index['hiv_test'].isin([\"1\", \"oui\"]))).astype(int)\n",
    "stat_ptme_index['# Enfants non testés'] = ((stat_ptme_index['# Enfants'] == 1) & (stat_ptme_index['hiv_test'].isin([\"2\", \"non\"])) & (stat_ptme_index['non_consent_reason'] == \"---\")).astype(int)\n",
    "stat_ptme_index['# Enfants VIH+ avec ST code'] = ((stat_ptme_index['# Enfants'] == 1) & (stat_ptme_index['hiv_test_result'] == \"positif\") & (stat_ptme_index['hiv_test'].isin([\"1\", \"oui\"])) & (~stat_ptme_index['full_code_patient_menage'].isin([\"//\", \"---\"]))).astype(int)\n",
    "stat_ptme_index['# Enfants VIH+'] = ((stat_ptme_index['# Enfants'] == 1) & (stat_ptme_index['hiv_test_result'] == \"positif\") & (stat_ptme_index['hiv_test'].isin([\"1\", \"oui\"]))).astype(int)\n",
    "stat_ptme_index['# Enfants VIH-'] = ((stat_ptme_index['# Enfants'] == 1) & (stat_ptme_index['hiv_test_result'] == \"negatif\") & (stat_ptme_index['hiv_test'].isin([\"1\", \"oui\"]))).astype(int)\n",
    "stat_ptme_index['# no_info_status'] = ((stat_ptme_index['# Enfants'] == 1) & (stat_ptme_index['hiv_test'] == \"1\") & (~stat_ptme_index['hiv_test_result'].isin([\"positif\", \"negatif\"]))).astype(int)\n",
    "\n",
    "# Ajouter les informations sur commCare\n",
    "stat_ptme_index['on_commCare'] = stat_ptme_index['patient_code'].isin(commcare_ptme_yes['patient_code']).astype(int)\"\"\"\n",
    "\n",
    "# Ajouter les patients non acceptés\n",
    "#stat_ptme_index['is_accepted'] = stat_ptme_index['patient_code'].isin(no_accept['patient_code']).astype(int)\n",
    "\n",
    "\"\"\"# Création de l'application Dash\n",
    "app = dash.Dash(__name__)\n",
    "\n",
    "app.layout = html.Div([\n",
    "    dash_table.DataTable(\n",
    "        columns=[{\"name\": col, \"id\": col} for col in stat_ptme_index.columns],\n",
    "        data=stat_ptme_index.to_dict('records'),\n",
    "        style_header={'backgroundColor': '#800000', 'color': 'white'},\n",
    "        page_size=10,\n",
    "        export_format=\"xlsx\"\n",
    "    )\n",
    "])\n",
    "\n",
    "if __name__ == '__main__':\n",
    "    app.run(debug=True)\"\"\"\n"
   ]
  },
  {
   "cell_type": "code",
   "execution_count": null,
   "metadata": {},
   "outputs": [],
   "source": [
    "databox_dict = {\n",
    "    \"commcare_ptme_no\": commcare_ptme_no,\n",
    "    \"commcare_ptme_yes\": commcare_ptme_yes,\n",
    "    \"no_info_status\": no_info_status,\n",
    "    \"enf_vih_neg\": enf_vih_neg,\n",
    "    \"enf_vih_pos_total\": enf_vih_pos_total,\n",
    "    \"enf_vih_pos\": enf_vih_pos,\n",
    "    \"enf_non_test\": enf_non_test,\n",
    "    \"enf_test\": enf_test,\n",
    "    \"eff_enf\": eff_enf\n",
    "}\n",
    "\n",
    "# Extraire les noms et les valeurs\n",
    "databox_names = list(databox_dict.keys())\n",
    "databox = list(databox_dict.values())"
   ]
  },
  {
   "cell_type": "code",
   "execution_count": null,
   "metadata": {},
   "outputs": [
    {
     "name": "stdout",
     "output_type": "stream",
     "text": [
      "The dataset commcare_ptme_no has 18 observations\n",
      "The dataset commcare_ptme_yes has 1935 observations\n",
      "The dataset no_info_status has 91 observations\n",
      "The dataset enf_vih_neg has 981 observations\n",
      "The dataset enf_vih_pos_total has 56 observations\n",
      "The dataset enf_vih_pos has 18 observations\n",
      "The dataset enf_non_test has 119 observations\n",
      "The dataset enf_test has 1020 observations\n",
      "The dataset eff_enf has 1076 observations\n"
     ]
    }
   ],
   "source": [
    "for name, data in zip(databox_names, databox):\n",
    "    if data is not None:\n",
    "        print(f\"The dataset {name} has {data.shape[0]} observations\")\n",
    "        # display(data.head(2))  # Décommenter si utilisé dans Jupyter\n",
    "    else:\n",
    "        print(f\"Failed to load data for {name}.\")\n"
   ]
  },
  {
   "cell_type": "code",
   "execution_count": null,
   "metadata": {},
   "outputs": [
    {
     "data": {
      "image/png": "[encoded data removed]",
      "text/plain": [
       "<Figure size 1400x1000 with 1 Axes>"
      ]
     },
     "metadata": {},
     "output_type": "display_data"
    }
   ],
   "source": [
    "import pandas as pd\n",
    "import matplotlib.pyplot as plt\n",
    "import seaborn as sns\n",
    "\n",
    "def process_and_plot_data(eff_enf, enf_test, enf_vih_neg, no_info_status, enf_vih_pos_total, enf_non_test):\n",
    "    \"\"\"\n",
    "    Process PTME test data and generate a stacked bar plot.\n",
    "    \"\"\"\n",
    "\n",
    "    # Création du DataFrame\n",
    "    df_ptme_test = pd.DataFrame({\n",
    "        \"variable\": [\"enfants\", \"testés\", \"VIH-\", \"statuts inconnus\", \"VIH+ total\", \"non testés\"],\n",
    "        \"freq\": [\n",
    "            eff_enf[\"# Enfants\"].count() if not eff_enf.empty else 0,\n",
    "            enf_test[\"# Enfants testés\"].count() if not enf_test.empty else 0,\n",
    "            enf_vih_neg[\"# Enfants VIH-\"].count() if not enf_vih_neg.empty else 0,\n",
    "            no_info_status[\"# no_info_status\"].count() if not no_info_status.empty else 0,\n",
    "            enf_vih_pos_total[\"# Enfants VIH+\"].count() if not enf_vih_pos_total.empty else 0,\n",
    "            enf_non_test[\"# Enfants non testés\"].count() if not enf_non_test.empty else 0\n",
    "        ],\n",
    "        \"type\": [\"enfants\", \"testing\", \"statut\", \"statut\", \"statut\", \"testing\"]\n",
    "    })\n",
    "\n",
    "    # Reorder the categories\n",
    "    df_ptme_test[\"type\"] = pd.Categorical(df_ptme_test[\"type\"], categories=[\"enfants\", \"testing\", \"statut\"], ordered=True)\n",
    "\n",
    "    # Vérifier si le DataFrame est vide ou si toutes les fréquences sont nulles\n",
    "    if df_ptme_test[\"freq\"].sum() == 0:\n",
    "        print(\"Aucune donnée disponible pour le graphique.\")\n",
    "        return\n",
    "\n",
    "    # Conversion en numérique pour éviter les erreurs\n",
    "    df_ptme_test[\"freq\"] = pd.to_numeric(df_ptme_test[\"freq\"], errors=\"coerce\").fillna(0)\n",
    "\n",
    "    # Pivot the DataFrame for stacked bar plot\n",
    "    df_pivot = df_ptme_test.pivot(index='type', columns='variable', values='freq').fillna(0)\n",
    "\n",
    "    # Création du graphique avec Seaborn\n",
    "    ax = df_pivot.plot(kind='bar', stacked=True, figsize=(14, 10), color=sns.color_palette(\"Dark2\"))\n",
    "\n",
    "    # Ajouter les labels sur les barres\n",
    "    for n, x in enumerate([*df_pivot.index.values]):\n",
    "        for (proportion, y_loc) in zip(df_pivot.loc[x], df_pivot.loc[x].cumsum()):\n",
    "            if proportion > 0:  # Skip zero values\n",
    "                percentage = proportion / df_pivot.loc[x].sum() * 100\n",
    "                plt.text(x=n, y=(y_loc - proportion) + (proportion / 2), \n",
    "                         s=f'{int(proportion):,}\\n({percentage:.0f}%)', \n",
    "                         color=\"black\", ha=\"center\", fontweight=\"bold\")\n",
    "\n",
    "    # Personnalisation du graphique\n",
    "    plt.xlabel(\"\")\n",
    "    plt.ylabel(\"Fréquence\")\n",
    "    plt.title(\"Répartition des tests PTME\")\n",
    "    plt.xticks(rotation=0)\n",
    "    plt.grid(False)  # Remove gridlines\n",
    "\n",
    "    # Déplacer la légende après l'axe\n",
    "    plt.legend(title=\"Catégorie\", bbox_to_anchor=(1.05, 1), loc='upper left')\n",
    "\n",
    "    # Ajouter la source de données\n",
    "    plt.figtext(0.9, -0.1, f\"Data Source: hivhaiti / {pd.Timestamp.today().date()}\", ha=\"right\", fontsize=8, style=\"italic\")\n",
    "\n",
    "    # Affichage du graphique\n",
    "    plt.show()\n",
    "\n",
    "# Appel de la fonction avec des DataFrames d'exemple\n",
    "process_and_plot_data(eff_enf, enf_test, enf_vih_neg, no_info_status, enf_vih_pos_total, enf_non_test)"
   ]
  },
  {
   "cell_type": "code",
   "execution_count": null,
   "metadata": {},
   "outputs": [],
   "source": [
    "# Créer le DataFrame med avec les indicateurs et leurs proportions\n",
    "Indicators = ['enfants', 'testés', 'VIH-', 'statuts inconnus', 'VIH+ total', 'non testés']\n",
    "n_1 = [eff_enf.shape[0], enf_test.shape[0], enf_vih_neg.shape[0], no_info_status.shape[0], enf_vih_pos_total.shape[0], enf_non_test.shape[0]]\n",
    "prop_impact1 = [\n",
    "    eff_enf.shape[0] / eff_enf.shape[0] if eff_enf.shape[0] != 0 else 0,\n",
    "    enf_test.shape[0] / eff_enf.shape[0] if eff_enf.shape[0] != 0 else 0,\n",
    "    enf_vih_neg.shape[0] / enf_test.shape[0] if enf_test.shape[0] != 0 else 0,\n",
    "    no_info_status.shape[0] / enf_test.shape[0] if enf_test.shape[0] != 0 else 0,\n",
    "    enf_vih_pos_total.shape[0] / enf_test.shape[0] if enf_test.shape[0] != 0 else 0,\n",
    "    enf_non_test.shape[0] / eff_enf.shape[0] if eff_enf.shape[0] != 0 else 0\n",
    "]\n",
    "med = pd.DataFrame({'Indicators': Indicators, 'n_1': n_1, 'prop_impact1': prop_impact1})\n",
    "med = med.sort_values(by='n_1', ascending=False)"
   ]
  },
  {
   "cell_type": "code",
   "execution_count": null,
   "metadata": {},
   "outputs": [
    {
     "data": {
      "text/plain": [
       "<Figure size 1000x600 with 0 Axes>"
      ]
     },
     "execution_count": 202,
     "metadata": {},
     "output_type": "execute_result"
    },
    {
     "data": {
      "text/plain": [
       "<Axes: xlabel='Indicators', ylabel='n_1'>"
      ]
     },
     "execution_count": 202,
     "metadata": {},
     "output_type": "execute_result"
    },
    {
     "data": {
      "text/plain": [
       "Text(0, 1076, '1,076 (100%)')"
      ]
     },
     "execution_count": 202,
     "metadata": {},
     "output_type": "execute_result"
    },
    {
     "data": {
      "text/plain": [
       "Text(1, 1020, '1,020 (95%)')"
      ]
     },
     "execution_count": 202,
     "metadata": {},
     "output_type": "execute_result"
    },
    {
     "data": {
      "text/plain": [
       "Text(2, 981, '981 (96%)')"
      ]
     },
     "execution_count": 202,
     "metadata": {},
     "output_type": "execute_result"
    },
    {
     "data": {
      "text/plain": [
       "Text(3, 119, '119 (11%)')"
      ]
     },
     "execution_count": 202,
     "metadata": {},
     "output_type": "execute_result"
    },
    {
     "data": {
      "text/plain": [
       "Text(4, 91, '91 (9%)')"
      ]
     },
     "execution_count": 202,
     "metadata": {},
     "output_type": "execute_result"
    },
    {
     "data": {
      "text/plain": [
       "Text(5, 56, '56 (5%)')"
      ]
     },
     "execution_count": 202,
     "metadata": {},
     "output_type": "execute_result"
    },
    {
     "data": {
      "text/plain": [
       "Text(0.5, 1.0, 'Cascade des filles et fils testés')"
      ]
     },
     "execution_count": 202,
     "metadata": {},
     "output_type": "execute_result"
    },
    {
     "data": {
      "text/plain": [
       "Text(0.5, 0, '')"
      ]
     },
     "execution_count": 202,
     "metadata": {},
     "output_type": "execute_result"
    },
    {
     "data": {
      "text/plain": [
       "Text(0, 0.5, 'Frequency')"
      ]
     },
     "execution_count": 202,
     "metadata": {},
     "output_type": "execute_result"
    },
    {
     "data": {
      "text/plain": [
       "Text(0.5, -0.05, 'Data Source: hivhaiti / 2025-03-27')"
      ]
     },
     "execution_count": 202,
     "metadata": {},
     "output_type": "execute_result"
    },
    {
     "data": {
      "text/plain": [
       "([0, 1, 2, 3, 4, 5],\n",
       " [Text(0, 0, 'enfants'),\n",
       "  Text(1, 0, 'testés'),\n",
       "  Text(2, 0, 'VIH-'),\n",
       "  Text(3, 0, 'non testés'),\n",
       "  Text(4, 0, 'statuts inconnus'),\n",
       "  Text(5, 0, 'VIH+ total')])"
      ]
     },
     "execution_count": 202,
     "metadata": {},
     "output_type": "execute_result"
    },
    {
     "data": {
      "text/plain": [
       "(array([   0.,  200.,  400.,  600.,  800., 1000., 1200.]),\n",
       " [Text(0, 0.0, '0'),\n",
       "  Text(0, 200.0, '200'),\n",
       "  Text(0, 400.0, '400'),\n",
       "  Text(0, 600.0, '600'),\n",
       "  Text(0, 800.0, '800'),\n",
       "  Text(0, 1000.0, '1000'),\n",
       "  Text(0, 1200.0, '1200')])"
      ]
     },
     "execution_count": 202,
     "metadata": {},
     "output_type": "execute_result"
    },
    {
     "data": {
      "image/png": "[encoded data removed]",
      "text/plain": [
       "<Figure size 1000x600 with 1 Axes>"
      ]
     },
     "metadata": {},
     "output_type": "display_data"
    }
   ],
   "source": [
    "# Vérifiez si le DataFrame med est vide\n",
    "if med.empty:\n",
    "    print(\"Il n'y a pas eu d'activite\")\n",
    "else:\n",
    "    # Création du graphique, doublement de la largeur\n",
    "    plt.figure(figsize=(10, 6))\n",
    "    sns.barplot(data=med, x='Indicators', y='n_1', palette='viridis', edgecolor='black')\n",
    "\n",
    "    # Ajout des labels sur les barres, centré en haut\n",
    "    for i in range(len(med)):\n",
    "        plt.text(i, med['n_1'].iloc[i], f\"{med['n_1'].iloc[i]:,} ({med['prop_impact1'].iloc[i] * 100:.0f}%)\", ha='center', va='bottom', size=10)\n",
    "\n",
    "    # Titre et étiquettes\n",
    "    plt.title(\"Cascade des filles et fils testés\", fontsize=14, family='Cambria', fontweight='bold', ha='center')\n",
    "    plt.xlabel(\"\")\n",
    "    plt.ylabel(\"Frequency\")\n",
    "\n",
    "    # Ajout de la source des données en tant que légende\n",
    "    plt.figtext(0.5, -0.05, f\"Data Source: hivhaiti / {pd.to_datetime('today').date()}\", ha=\"center\", fontsize=10, family='Cambria', style='italic')\n",
    "\n",
    "    # Ajustement des thèmes\n",
    "    plt.xticks(fontsize=12, family='Cambria')\n",
    "    plt.yticks(fontsize=12, family='Cambria')\n",
    "\n",
    "    # Suppression des gridlines\n",
    "    plt.grid(False)\n",
    "\n",
    "    # Afficher le graphique\n",
    "    plt.show()\n"
   ]
  },
  {
   "cell_type": "code",
   "execution_count": null,
   "metadata": {},
   "outputs": [
    {
     "name": "stdout",
     "output_type": "stream",
     "text": [
      "data for commcare_ptme_no.\n"
     ]
    },
    {
     "data": {
      "text/html": [
       "<div>\n",
       "<style scoped>\n",
       "    .dataframe tbody tr th:only-of-type {\n",
       "        vertical-align: middle;\n",
       "    }\n",
       "\n",
       "    .dataframe tbody tr th {\n",
       "        vertical-align: top;\n",
       "    }\n",
       "\n",
       "    .dataframe thead th {\n",
       "        text-align: right;\n",
       "    }\n",
       "</style>\n",
       "<table border=\"1\" class=\"dataframe\">\n",
       "  <thead>\n",
       "    <tr style=\"text-align: right;\">\n",
       "      <th></th>\n",
       "      <th>site</th>\n",
       "      <th>Hospital</th>\n",
       "      <th>network_name</th>\n",
       "      <th>first_name</th>\n",
       "      <th>last_name</th>\n",
       "      <th>dob</th>\n",
       "      <th>id_patient</th>\n",
       "      <th>patient_code</th>\n",
       "      <th>created_at</th>\n",
       "      <th>age</th>\n",
       "      <th>...</th>\n",
       "      <th>club_session_date_result</th>\n",
       "      <th>last_session_date_result</th>\n",
       "      <th>dead</th>\n",
       "      <th>abandoned</th>\n",
       "      <th>club_q1</th>\n",
       "      <th>club_q2</th>\n",
       "      <th>participation</th>\n",
       "      <th>on_commCare</th>\n",
       "      <th>comptage</th>\n",
       "      <th>testing</th>\n",
       "    </tr>\n",
       "  </thead>\n",
       "  <tbody>\n",
       "    <tr>\n",
       "      <th>16</th>\n",
       "      <td>CAP/CALT</td>\n",
       "      <td>Centre de Sante Avec Lits Trou-du-Nord</td>\n",
       "      <td>autres</td>\n",
       "      <td>Jean</td>\n",
       "      <td>Roselande</td>\n",
       "      <td>2004-11-20 00:00:00</td>\n",
       "      <td>20998</td>\n",
       "      <td>CAP/CALT/ST00849</td>\n",
       "      <td>2015-09-14 13:38:32</td>\n",
       "      <td>20</td>\n",
       "      <td>...</td>\n",
       "      <td>2025-03-13</td>\n",
       "      <td>2025-01-16 00:00:00</td>\n",
       "      <td>0</td>\n",
       "      <td>0</td>\n",
       "      <td>no</td>\n",
       "      <td>yes</td>\n",
       "      <td>En_club_q1_no_q2_yes</td>\n",
       "      <td>no</td>\n",
       "      <td>no</td>\n",
       "      <td>yes</td>\n",
       "    </tr>\n",
       "  </tbody>\n",
       "</table>\n",
       "<p>1 rows × 82 columns</p>\n",
       "</div>"
      ],
      "text/plain": [
       "        site                                Hospital network_name first_name  \\\n",
       "16  CAP/CALT  Centre de Sante Avec Lits Trou-du-Nord       autres      Jean    \n",
       "\n",
       "    last_name                  dob id_patient      patient_code  \\\n",
       "16  Roselande  2004-11-20 00:00:00      20998  CAP/CALT/ST00849   \n",
       "\n",
       "             created_at age  ...  club_session_date_result  \\\n",
       "16  2015-09-14 13:38:32  20  ...                2025-03-13   \n",
       "\n",
       "   last_session_date_result  dead abandoned club_q1 club_q2  \\\n",
       "16      2025-01-16 00:00:00     0         0      no     yes   \n",
       "\n",
       "           participation on_commCare comptage testing  \n",
       "16  En_club_q1_no_q2_yes          no       no     yes  \n",
       "\n",
       "[1 rows x 82 columns]"
      ]
     },
     "metadata": {},
     "output_type": "display_data"
    },
    {
     "name": "stdout",
     "output_type": "stream",
     "text": [
      "data for commcare_ptme_yes.\n"
     ]
    },
    {
     "data": {
      "text/html": [
       "<div>\n",
       "<style scoped>\n",
       "    .dataframe tbody tr th:only-of-type {\n",
       "        vertical-align: middle;\n",
       "    }\n",
       "\n",
       "    .dataframe tbody tr th {\n",
       "        vertical-align: top;\n",
       "    }\n",
       "\n",
       "    .dataframe thead th {\n",
       "        text-align: right;\n",
       "    }\n",
       "</style>\n",
       "<table border=\"1\" class=\"dataframe\">\n",
       "  <thead>\n",
       "    <tr style=\"text-align: right;\">\n",
       "      <th></th>\n",
       "      <th>site</th>\n",
       "      <th>Hospital</th>\n",
       "      <th>network_name</th>\n",
       "      <th>first_name</th>\n",
       "      <th>last_name</th>\n",
       "      <th>dob</th>\n",
       "      <th>id_patient</th>\n",
       "      <th>patient_code</th>\n",
       "      <th>created_at</th>\n",
       "      <th>age</th>\n",
       "      <th>...</th>\n",
       "      <th>club_session_date_result</th>\n",
       "      <th>last_session_date_result</th>\n",
       "      <th>dead</th>\n",
       "      <th>abandoned</th>\n",
       "      <th>club_q1</th>\n",
       "      <th>club_q2</th>\n",
       "      <th>participation</th>\n",
       "      <th>on_commCare</th>\n",
       "      <th>comptage</th>\n",
       "      <th>testing</th>\n",
       "    </tr>\n",
       "  </thead>\n",
       "  <tbody>\n",
       "    <tr>\n",
       "      <th>0</th>\n",
       "      <td>CAP/CALT</td>\n",
       "      <td>---</td>\n",
       "      <td>---</td>\n",
       "      <td>Joseph</td>\n",
       "      <td>Roseline</td>\n",
       "      <td>1980-01-15 00:00:00</td>\n",
       "      <td>---</td>\n",
       "      <td>CAP/CALT/ST00038</td>\n",
       "      <td>---</td>\n",
       "      <td>---</td>\n",
       "      <td>...</td>\n",
       "      <td>---</td>\n",
       "      <td>2024-12-04 00:00:00</td>\n",
       "      <td>0</td>\n",
       "      <td>0</td>\n",
       "      <td>yes</td>\n",
       "      <td>no</td>\n",
       "      <td>En_club_q1_yes_q2_no</td>\n",
       "      <td>yes</td>\n",
       "      <td>no</td>\n",
       "      <td>no</td>\n",
       "    </tr>\n",
       "  </tbody>\n",
       "</table>\n",
       "<p>1 rows × 82 columns</p>\n",
       "</div>"
      ],
      "text/plain": [
       "       site Hospital network_name first_name last_name                  dob  \\\n",
       "0  CAP/CALT      ---          ---     Joseph  Roseline  1980-01-15 00:00:00   \n",
       "\n",
       "  id_patient      patient_code created_at  age  ...  club_session_date_result  \\\n",
       "0        ---  CAP/CALT/ST00038        ---  ---  ...                       ---   \n",
       "\n",
       "  last_session_date_result  dead abandoned club_q1 club_q2  \\\n",
       "0      2024-12-04 00:00:00     0         0     yes      no   \n",
       "\n",
       "          participation on_commCare comptage testing  \n",
       "0  En_club_q1_yes_q2_no         yes       no      no  \n",
       "\n",
       "[1 rows x 82 columns]"
      ]
     },
     "metadata": {},
     "output_type": "display_data"
    },
    {
     "name": "stdout",
     "output_type": "stream",
     "text": [
      "data for no_info_status.\n"
     ]
    },
    {
     "data": {
      "text/html": [
       "<div>\n",
       "<style scoped>\n",
       "    .dataframe tbody tr th:only-of-type {\n",
       "        vertical-align: middle;\n",
       "    }\n",
       "\n",
       "    .dataframe tbody tr th {\n",
       "        vertical-align: top;\n",
       "    }\n",
       "\n",
       "    .dataframe thead th {\n",
       "        text-align: right;\n",
       "    }\n",
       "</style>\n",
       "<table border=\"1\" class=\"dataframe\">\n",
       "  <thead>\n",
       "    <tr style=\"text-align: right;\">\n",
       "      <th></th>\n",
       "      <th># no_info_status</th>\n",
       "      <th>count</th>\n",
       "    </tr>\n",
       "  </thead>\n",
       "  <tbody>\n",
       "    <tr>\n",
       "      <th>0</th>\n",
       "      <td>PAP/NPFS/ST02937</td>\n",
       "      <td>4</td>\n",
       "    </tr>\n",
       "  </tbody>\n",
       "</table>\n",
       "</div>"
      ],
      "text/plain": [
       "   # no_info_status  count\n",
       "0  PAP/NPFS/ST02937      4"
      ]
     },
     "metadata": {},
     "output_type": "display_data"
    },
    {
     "name": "stdout",
     "output_type": "stream",
     "text": [
      "data for enf_vih_neg.\n"
     ]
    },
    {
     "data": {
      "text/html": [
       "<div>\n",
       "<style scoped>\n",
       "    .dataframe tbody tr th:only-of-type {\n",
       "        vertical-align: middle;\n",
       "    }\n",
       "\n",
       "    .dataframe tbody tr th {\n",
       "        vertical-align: top;\n",
       "    }\n",
       "\n",
       "    .dataframe thead th {\n",
       "        text-align: right;\n",
       "    }\n",
       "</style>\n",
       "<table border=\"1\" class=\"dataframe\">\n",
       "  <thead>\n",
       "    <tr style=\"text-align: right;\">\n",
       "      <th></th>\n",
       "      <th># Enfants VIH-</th>\n",
       "      <th>count</th>\n",
       "    </tr>\n",
       "  </thead>\n",
       "  <tbody>\n",
       "    <tr>\n",
       "      <th>0</th>\n",
       "      <td>PAP/HFSC/ST03586</td>\n",
       "      <td>14</td>\n",
       "    </tr>\n",
       "  </tbody>\n",
       "</table>\n",
       "</div>"
      ],
      "text/plain": [
       "     # Enfants VIH-  count\n",
       "0  PAP/HFSC/ST03586     14"
      ]
     },
     "metadata": {},
     "output_type": "display_data"
    },
    {
     "name": "stdout",
     "output_type": "stream",
     "text": [
      "data for enf_vih_pos_total.\n"
     ]
    },
    {
     "data": {
      "text/html": [
       "<div>\n",
       "<style scoped>\n",
       "    .dataframe tbody tr th:only-of-type {\n",
       "        vertical-align: middle;\n",
       "    }\n",
       "\n",
       "    .dataframe tbody tr th {\n",
       "        vertical-align: top;\n",
       "    }\n",
       "\n",
       "    .dataframe thead th {\n",
       "        text-align: right;\n",
       "    }\n",
       "</style>\n",
       "<table border=\"1\" class=\"dataframe\">\n",
       "  <thead>\n",
       "    <tr style=\"text-align: right;\">\n",
       "      <th></th>\n",
       "      <th># Enfants VIH+</th>\n",
       "      <th>count</th>\n",
       "    </tr>\n",
       "  </thead>\n",
       "  <tbody>\n",
       "    <tr>\n",
       "      <th>0</th>\n",
       "      <td>PAP/HSFS/ST00930</td>\n",
       "      <td>2</td>\n",
       "    </tr>\n",
       "  </tbody>\n",
       "</table>\n",
       "</div>"
      ],
      "text/plain": [
       "     # Enfants VIH+  count\n",
       "0  PAP/HSFS/ST00930      2"
      ]
     },
     "metadata": {},
     "output_type": "display_data"
    },
    {
     "name": "stdout",
     "output_type": "stream",
     "text": [
      "data for enf_vih_pos.\n"
     ]
    },
    {
     "data": {
      "text/html": [
       "<div>\n",
       "<style scoped>\n",
       "    .dataframe tbody tr th:only-of-type {\n",
       "        vertical-align: middle;\n",
       "    }\n",
       "\n",
       "    .dataframe tbody tr th {\n",
       "        vertical-align: top;\n",
       "    }\n",
       "\n",
       "    .dataframe thead th {\n",
       "        text-align: right;\n",
       "    }\n",
       "</style>\n",
       "<table border=\"1\" class=\"dataframe\">\n",
       "  <thead>\n",
       "    <tr style=\"text-align: right;\">\n",
       "      <th></th>\n",
       "      <th># Enfants VIH+ avec ST code</th>\n",
       "      <th>count</th>\n",
       "    </tr>\n",
       "  </thead>\n",
       "  <tbody>\n",
       "    <tr>\n",
       "      <th>0</th>\n",
       "      <td>PIG/CSSR/ST00020</td>\n",
       "      <td>2</td>\n",
       "    </tr>\n",
       "  </tbody>\n",
       "</table>\n",
       "</div>"
      ],
      "text/plain": [
       "  # Enfants VIH+ avec ST code  count\n",
       "0            PIG/CSSR/ST00020      2"
      ]
     },
     "metadata": {},
     "output_type": "display_data"
    },
    {
     "name": "stdout",
     "output_type": "stream",
     "text": [
      "data for enf_non_test.\n"
     ]
    },
    {
     "data": {
      "text/html": [
       "<div>\n",
       "<style scoped>\n",
       "    .dataframe tbody tr th:only-of-type {\n",
       "        vertical-align: middle;\n",
       "    }\n",
       "\n",
       "    .dataframe tbody tr th {\n",
       "        vertical-align: top;\n",
       "    }\n",
       "\n",
       "    .dataframe thead th {\n",
       "        text-align: right;\n",
       "    }\n",
       "</style>\n",
       "<table border=\"1\" class=\"dataframe\">\n",
       "  <thead>\n",
       "    <tr style=\"text-align: right;\">\n",
       "      <th></th>\n",
       "      <th># Enfants non testés</th>\n",
       "      <th>count</th>\n",
       "    </tr>\n",
       "  </thead>\n",
       "  <tbody>\n",
       "    <tr>\n",
       "      <th>0</th>\n",
       "      <td>PAP/HOCH/ST00375</td>\n",
       "      <td>7</td>\n",
       "    </tr>\n",
       "  </tbody>\n",
       "</table>\n",
       "</div>"
      ],
      "text/plain": [
       "  # Enfants non testés  count\n",
       "0     PAP/HOCH/ST00375      7"
      ]
     },
     "metadata": {},
     "output_type": "display_data"
    },
    {
     "name": "stdout",
     "output_type": "stream",
     "text": [
      "data for enf_test.\n"
     ]
    },
    {
     "data": {
      "text/html": [
       "<div>\n",
       "<style scoped>\n",
       "    .dataframe tbody tr th:only-of-type {\n",
       "        vertical-align: middle;\n",
       "    }\n",
       "\n",
       "    .dataframe tbody tr th {\n",
       "        vertical-align: top;\n",
       "    }\n",
       "\n",
       "    .dataframe thead th {\n",
       "        text-align: right;\n",
       "    }\n",
       "</style>\n",
       "<table border=\"1\" class=\"dataframe\">\n",
       "  <thead>\n",
       "    <tr style=\"text-align: right;\">\n",
       "      <th></th>\n",
       "      <th># Enfants testés</th>\n",
       "      <th>count</th>\n",
       "    </tr>\n",
       "  </thead>\n",
       "  <tbody>\n",
       "    <tr>\n",
       "      <th>0</th>\n",
       "      <td>PAP/KERJ/ST00361</td>\n",
       "      <td>14</td>\n",
       "    </tr>\n",
       "  </tbody>\n",
       "</table>\n",
       "</div>"
      ],
      "text/plain": [
       "   # Enfants testés  count\n",
       "0  PAP/KERJ/ST00361     14"
      ]
     },
     "metadata": {},
     "output_type": "display_data"
    },
    {
     "name": "stdout",
     "output_type": "stream",
     "text": [
      "data for eff_enf.\n"
     ]
    },
    {
     "data": {
      "text/html": [
       "<div>\n",
       "<style scoped>\n",
       "    .dataframe tbody tr th:only-of-type {\n",
       "        vertical-align: middle;\n",
       "    }\n",
       "\n",
       "    .dataframe tbody tr th {\n",
       "        vertical-align: top;\n",
       "    }\n",
       "\n",
       "    .dataframe thead th {\n",
       "        text-align: right;\n",
       "    }\n",
       "</style>\n",
       "<table border=\"1\" class=\"dataframe\">\n",
       "  <thead>\n",
       "    <tr style=\"text-align: right;\">\n",
       "      <th></th>\n",
       "      <th># Enfants</th>\n",
       "      <th>count</th>\n",
       "    </tr>\n",
       "  </thead>\n",
       "  <tbody>\n",
       "    <tr>\n",
       "      <th>0</th>\n",
       "      <td>PAP/KERJ/ST00361</td>\n",
       "      <td>14</td>\n",
       "    </tr>\n",
       "  </tbody>\n",
       "</table>\n",
       "</div>"
      ],
      "text/plain": [
       "          # Enfants  count\n",
       "0  PAP/KERJ/ST00361     14"
      ]
     },
     "metadata": {},
     "output_type": "display_data"
    }
   ],
   "source": [
    "for name, data in zip(databox_names, databox):\n",
    "    if data is not None:\n",
    "        print(f\"data for {name}.\")\n",
    "        display(data.head(1))\n",
    "        # display(data.head(2))  # Décommenter si utilisé dans Jupyter\n",
    "    else:\n",
    "        print(f\"Failed to load data for {name}.\")\n"
   ]
  },
  {
   "cell_type": "code",
   "execution_count": null,
   "metadata": {},
   "outputs": [
    {
     "data": {
      "text/html": [
       "<div>\n",
       "<style scoped>\n",
       "    .dataframe tbody tr th:only-of-type {\n",
       "        vertical-align: middle;\n",
       "    }\n",
       "\n",
       "    .dataframe tbody tr th {\n",
       "        vertical-align: top;\n",
       "    }\n",
       "\n",
       "    .dataframe thead th {\n",
       "        text-align: right;\n",
       "    }\n",
       "</style>\n",
       "<table border=\"1\" class=\"dataframe\">\n",
       "  <thead>\n",
       "    <tr style=\"text-align: right;\">\n",
       "      <th></th>\n",
       "      <th># Enfants</th>\n",
       "      <th>count</th>\n",
       "      <th>site</th>\n",
       "    </tr>\n",
       "  </thead>\n",
       "  <tbody>\n",
       "    <tr>\n",
       "      <th>0</th>\n",
       "      <td>PAP/KERJ/ST00361</td>\n",
       "      <td>14</td>\n",
       "      <td>PAP/KERJ</td>\n",
       "    </tr>\n",
       "  </tbody>\n",
       "</table>\n",
       "</div>"
      ],
      "text/plain": [
       "          # Enfants  count      site\n",
       "0  PAP/KERJ/ST00361     14  PAP/KERJ"
      ]
     },
     "metadata": {},
     "output_type": "display_data"
    },
    {
     "data": {
      "text/html": [
       "<div>\n",
       "<style scoped>\n",
       "    .dataframe tbody tr th:only-of-type {\n",
       "        vertical-align: middle;\n",
       "    }\n",
       "\n",
       "    .dataframe tbody tr th {\n",
       "        vertical-align: top;\n",
       "    }\n",
       "\n",
       "    .dataframe thead th {\n",
       "        text-align: right;\n",
       "    }\n",
       "</style>\n",
       "<table border=\"1\" class=\"dataframe\">\n",
       "  <thead>\n",
       "    <tr style=\"text-align: right;\">\n",
       "      <th></th>\n",
       "      <th># Enfants testés</th>\n",
       "      <th>count</th>\n",
       "      <th>site</th>\n",
       "    </tr>\n",
       "  </thead>\n",
       "  <tbody>\n",
       "    <tr>\n",
       "      <th>0</th>\n",
       "      <td>PAP/KERJ/ST00361</td>\n",
       "      <td>14</td>\n",
       "      <td>PAP/KERJ</td>\n",
       "    </tr>\n",
       "  </tbody>\n",
       "</table>\n",
       "</div>"
      ],
      "text/plain": [
       "   # Enfants testés  count      site\n",
       "0  PAP/KERJ/ST00361     14  PAP/KERJ"
      ]
     },
     "metadata": {},
     "output_type": "display_data"
    },
    {
     "data": {
      "text/html": [
       "<div>\n",
       "<style scoped>\n",
       "    .dataframe tbody tr th:only-of-type {\n",
       "        vertical-align: middle;\n",
       "    }\n",
       "\n",
       "    .dataframe tbody tr th {\n",
       "        vertical-align: top;\n",
       "    }\n",
       "\n",
       "    .dataframe thead th {\n",
       "        text-align: right;\n",
       "    }\n",
       "</style>\n",
       "<table border=\"1\" class=\"dataframe\">\n",
       "  <thead>\n",
       "    <tr style=\"text-align: right;\">\n",
       "      <th></th>\n",
       "      <th># Enfants VIH-</th>\n",
       "      <th>count</th>\n",
       "      <th>site</th>\n",
       "    </tr>\n",
       "  </thead>\n",
       "  <tbody>\n",
       "    <tr>\n",
       "      <th>0</th>\n",
       "      <td>PAP/HFSC/ST03586</td>\n",
       "      <td>14</td>\n",
       "      <td>PAP/HFSC</td>\n",
       "    </tr>\n",
       "  </tbody>\n",
       "</table>\n",
       "</div>"
      ],
      "text/plain": [
       "     # Enfants VIH-  count      site\n",
       "0  PAP/HFSC/ST03586     14  PAP/HFSC"
      ]
     },
     "metadata": {},
     "output_type": "display_data"
    },
    {
     "data": {
      "text/html": [
       "<div>\n",
       "<style scoped>\n",
       "    .dataframe tbody tr th:only-of-type {\n",
       "        vertical-align: middle;\n",
       "    }\n",
       "\n",
       "    .dataframe tbody tr th {\n",
       "        vertical-align: top;\n",
       "    }\n",
       "\n",
       "    .dataframe thead th {\n",
       "        text-align: right;\n",
       "    }\n",
       "</style>\n",
       "<table border=\"1\" class=\"dataframe\">\n",
       "  <thead>\n",
       "    <tr style=\"text-align: right;\">\n",
       "      <th></th>\n",
       "      <th># no_info_status</th>\n",
       "      <th>count</th>\n",
       "      <th>site</th>\n",
       "    </tr>\n",
       "  </thead>\n",
       "  <tbody>\n",
       "    <tr>\n",
       "      <th>0</th>\n",
       "      <td>PAP/NPFS/ST02937</td>\n",
       "      <td>4</td>\n",
       "      <td>PAP/NPFS</td>\n",
       "    </tr>\n",
       "  </tbody>\n",
       "</table>\n",
       "</div>"
      ],
      "text/plain": [
       "   # no_info_status  count      site\n",
       "0  PAP/NPFS/ST02937      4  PAP/NPFS"
      ]
     },
     "metadata": {},
     "output_type": "display_data"
    },
    {
     "data": {
      "text/html": [
       "<div>\n",
       "<style scoped>\n",
       "    .dataframe tbody tr th:only-of-type {\n",
       "        vertical-align: middle;\n",
       "    }\n",
       "\n",
       "    .dataframe tbody tr th {\n",
       "        vertical-align: top;\n",
       "    }\n",
       "\n",
       "    .dataframe thead th {\n",
       "        text-align: right;\n",
       "    }\n",
       "</style>\n",
       "<table border=\"1\" class=\"dataframe\">\n",
       "  <thead>\n",
       "    <tr style=\"text-align: right;\">\n",
       "      <th></th>\n",
       "      <th># Enfants VIH+</th>\n",
       "      <th>count</th>\n",
       "      <th>site</th>\n",
       "    </tr>\n",
       "  </thead>\n",
       "  <tbody>\n",
       "    <tr>\n",
       "      <th>0</th>\n",
       "      <td>PAP/HSFS/ST00930</td>\n",
       "      <td>2</td>\n",
       "      <td>PAP/HSFS</td>\n",
       "    </tr>\n",
       "  </tbody>\n",
       "</table>\n",
       "</div>"
      ],
      "text/plain": [
       "     # Enfants VIH+  count      site\n",
       "0  PAP/HSFS/ST00930      2  PAP/HSFS"
      ]
     },
     "metadata": {},
     "output_type": "display_data"
    },
    {
     "data": {
      "text/html": [
       "<div>\n",
       "<style scoped>\n",
       "    .dataframe tbody tr th:only-of-type {\n",
       "        vertical-align: middle;\n",
       "    }\n",
       "\n",
       "    .dataframe tbody tr th {\n",
       "        vertical-align: top;\n",
       "    }\n",
       "\n",
       "    .dataframe thead th {\n",
       "        text-align: right;\n",
       "    }\n",
       "</style>\n",
       "<table border=\"1\" class=\"dataframe\">\n",
       "  <thead>\n",
       "    <tr style=\"text-align: right;\">\n",
       "      <th></th>\n",
       "      <th># Enfants non testés</th>\n",
       "      <th>count</th>\n",
       "      <th>site</th>\n",
       "    </tr>\n",
       "  </thead>\n",
       "  <tbody>\n",
       "    <tr>\n",
       "      <th>0</th>\n",
       "      <td>PAP/HOCH/ST00375</td>\n",
       "      <td>7</td>\n",
       "      <td>PAP/HOCH</td>\n",
       "    </tr>\n",
       "  </tbody>\n",
       "</table>\n",
       "</div>"
      ],
      "text/plain": [
       "  # Enfants non testés  count      site\n",
       "0     PAP/HOCH/ST00375      7  PAP/HOCH"
      ]
     },
     "metadata": {},
     "output_type": "display_data"
    }
   ],
   "source": [
    "# Ajouter une colonne 'site' pour chaque DataFrame\n",
    "eff_enf['site'] = eff_enf['# Enfants'].str[:8]\n",
    "enf_test['site'] = enf_test['# Enfants testés'].str[:8]\n",
    "enf_vih_neg['site'] = enf_vih_neg['# Enfants VIH-'].str[:8]\n",
    "no_info_status['site'] = no_info_status['# no_info_status'].str[:8]\n",
    "enf_vih_pos_total['site'] = enf_vih_pos_total['# Enfants VIH+'].str[:8]\n",
    "enf_non_test['site'] = enf_non_test['# Enfants non testés'].str[:8]\n",
    "\n",
    "# Vérifier les premières lignes pour chaque DataFrame\n",
    "display(eff_enf.head(1))\n",
    "display(enf_test.head(1))\n",
    "display(enf_vih_neg.head(1))\n",
    "display(no_info_status.head(1))\n",
    "display(enf_vih_pos_total.head(1))\n",
    "display(enf_non_test.head(1))"
   ]
  },
  {
   "cell_type": "code",
   "execution_count": null,
   "metadata": {},
   "outputs": [
    {
     "data": {
      "text/html": [
       "<div>\n",
       "<style scoped>\n",
       "    .dataframe tbody tr th:only-of-type {\n",
       "        vertical-align: middle;\n",
       "    }\n",
       "\n",
       "    .dataframe tbody tr th {\n",
       "        vertical-align: top;\n",
       "    }\n",
       "\n",
       "    .dataframe thead th {\n",
       "        text-align: right;\n",
       "    }\n",
       "</style>\n",
       "<table border=\"1\" class=\"dataframe\">\n",
       "  <thead>\n",
       "    <tr style=\"text-align: right;\">\n",
       "      <th></th>\n",
       "      <th># Enfants</th>\n",
       "      <th>count</th>\n",
       "      <th>site</th>\n",
       "      <th>status</th>\n",
       "      <th>caris_office</th>\n",
       "      <th>hopital</th>\n",
       "      <th>network</th>\n",
       "      <th>departement</th>\n",
       "      <th>commune</th>\n",
       "      <th>section</th>\n",
       "      <th>latitude</th>\n",
       "      <th>longitude</th>\n",
       "    </tr>\n",
       "  </thead>\n",
       "  <tbody>\n",
       "    <tr>\n",
       "      <th>0</th>\n",
       "      <td>PAP/KERJ/ST00361</td>\n",
       "      <td>14</td>\n",
       "      <td>PAP/KERJ</td>\n",
       "      <td>Actif</td>\n",
       "      <td>Port-au-Prince</td>\n",
       "      <td>KLINIK ERITAG</td>\n",
       "      <td>BRIDGE</td>\n",
       "      <td>Ouest</td>\n",
       "      <td>Port-au-Prince</td>\n",
       "      <td>NaN</td>\n",
       "      <td>NaN</td>\n",
       "      <td>NaN</td>\n",
       "    </tr>\n",
       "  </tbody>\n",
       "</table>\n",
       "</div>"
      ],
      "text/plain": [
       "          # Enfants  count      site status    caris_office        hopital  \\\n",
       "0  PAP/KERJ/ST00361     14  PAP/KERJ  Actif  Port-au-Prince  KLINIK ERITAG   \n",
       "\n",
       "  network departement         commune section  latitude  longitude  \n",
       "0  BRIDGE       Ouest  Port-au-Prince     NaN       NaN        NaN  "
      ]
     },
     "metadata": {},
     "output_type": "display_data"
    },
    {
     "data": {
      "text/html": [
       "<div>\n",
       "<style scoped>\n",
       "    .dataframe tbody tr th:only-of-type {\n",
       "        vertical-align: middle;\n",
       "    }\n",
       "\n",
       "    .dataframe tbody tr th {\n",
       "        vertical-align: top;\n",
       "    }\n",
       "\n",
       "    .dataframe thead th {\n",
       "        text-align: right;\n",
       "    }\n",
       "</style>\n",
       "<table border=\"1\" class=\"dataframe\">\n",
       "  <thead>\n",
       "    <tr style=\"text-align: right;\">\n",
       "      <th></th>\n",
       "      <th># Enfants testés</th>\n",
       "      <th>count</th>\n",
       "      <th>site</th>\n",
       "      <th>status</th>\n",
       "      <th>caris_office</th>\n",
       "      <th>hopital</th>\n",
       "      <th>network</th>\n",
       "      <th>departement</th>\n",
       "      <th>commune</th>\n",
       "      <th>section</th>\n",
       "      <th>latitude</th>\n",
       "      <th>longitude</th>\n",
       "    </tr>\n",
       "  </thead>\n",
       "  <tbody>\n",
       "    <tr>\n",
       "      <th>0</th>\n",
       "      <td>PAP/KERJ/ST00361</td>\n",
       "      <td>14</td>\n",
       "      <td>PAP/KERJ</td>\n",
       "      <td>Actif</td>\n",
       "      <td>Port-au-Prince</td>\n",
       "      <td>KLINIK ERITAG</td>\n",
       "      <td>BRIDGE</td>\n",
       "      <td>Ouest</td>\n",
       "      <td>Port-au-Prince</td>\n",
       "      <td>NaN</td>\n",
       "      <td>NaN</td>\n",
       "      <td>NaN</td>\n",
       "    </tr>\n",
       "  </tbody>\n",
       "</table>\n",
       "</div>"
      ],
      "text/plain": [
       "   # Enfants testés  count      site status    caris_office        hopital  \\\n",
       "0  PAP/KERJ/ST00361     14  PAP/KERJ  Actif  Port-au-Prince  KLINIK ERITAG   \n",
       "\n",
       "  network departement         commune section  latitude  longitude  \n",
       "0  BRIDGE       Ouest  Port-au-Prince     NaN       NaN        NaN  "
      ]
     },
     "metadata": {},
     "output_type": "display_data"
    },
    {
     "data": {
      "text/html": [
       "<div>\n",
       "<style scoped>\n",
       "    .dataframe tbody tr th:only-of-type {\n",
       "        vertical-align: middle;\n",
       "    }\n",
       "\n",
       "    .dataframe tbody tr th {\n",
       "        vertical-align: top;\n",
       "    }\n",
       "\n",
       "    .dataframe thead th {\n",
       "        text-align: right;\n",
       "    }\n",
       "</style>\n",
       "<table border=\"1\" class=\"dataframe\">\n",
       "  <thead>\n",
       "    <tr style=\"text-align: right;\">\n",
       "      <th></th>\n",
       "      <th># Enfants VIH-</th>\n",
       "      <th>count</th>\n",
       "      <th>site</th>\n",
       "      <th>status</th>\n",
       "      <th>caris_office</th>\n",
       "      <th>hopital</th>\n",
       "      <th>network</th>\n",
       "      <th>departement</th>\n",
       "      <th>commune</th>\n",
       "      <th>section</th>\n",
       "      <th>latitude</th>\n",
       "      <th>longitude</th>\n",
       "    </tr>\n",
       "  </thead>\n",
       "  <tbody>\n",
       "    <tr>\n",
       "      <th>0</th>\n",
       "      <td>PAP/HFSC/ST03586</td>\n",
       "      <td>14</td>\n",
       "      <td>PAP/HFSC</td>\n",
       "      <td>Actif</td>\n",
       "      <td>Port-au-Prince</td>\n",
       "      <td>Hopital Foyer St Camille</td>\n",
       "      <td>CMMB</td>\n",
       "      <td>Ouest</td>\n",
       "      <td>Croix-des-Bouquets</td>\n",
       "      <td>Croix-des-Bouquets</td>\n",
       "      <td>18.61527</td>\n",
       "      <td>-72.288</td>\n",
       "    </tr>\n",
       "  </tbody>\n",
       "</table>\n",
       "</div>"
      ],
      "text/plain": [
       "     # Enfants VIH-  count      site status    caris_office  \\\n",
       "0  PAP/HFSC/ST03586     14  PAP/HFSC  Actif  Port-au-Prince   \n",
       "\n",
       "                    hopital network departement             commune  \\\n",
       "0  Hopital Foyer St Camille    CMMB       Ouest  Croix-des-Bouquets   \n",
       "\n",
       "              section  latitude  longitude  \n",
       "0  Croix-des-Bouquets  18.61527    -72.288  "
      ]
     },
     "metadata": {},
     "output_type": "display_data"
    },
    {
     "data": {
      "text/html": [
       "<div>\n",
       "<style scoped>\n",
       "    .dataframe tbody tr th:only-of-type {\n",
       "        vertical-align: middle;\n",
       "    }\n",
       "\n",
       "    .dataframe tbody tr th {\n",
       "        vertical-align: top;\n",
       "    }\n",
       "\n",
       "    .dataframe thead th {\n",
       "        text-align: right;\n",
       "    }\n",
       "</style>\n",
       "<table border=\"1\" class=\"dataframe\">\n",
       "  <thead>\n",
       "    <tr style=\"text-align: right;\">\n",
       "      <th></th>\n",
       "      <th># no_info_status</th>\n",
       "      <th>count</th>\n",
       "      <th>site</th>\n",
       "      <th>status</th>\n",
       "      <th>caris_office</th>\n",
       "      <th>hopital</th>\n",
       "      <th>network</th>\n",
       "      <th>departement</th>\n",
       "      <th>commune</th>\n",
       "      <th>section</th>\n",
       "      <th>latitude</th>\n",
       "      <th>longitude</th>\n",
       "    </tr>\n",
       "  </thead>\n",
       "  <tbody>\n",
       "    <tr>\n",
       "      <th>0</th>\n",
       "      <td>PAP/NPFS/ST02937</td>\n",
       "      <td>4</td>\n",
       "      <td>PAP/NPFS</td>\n",
       "      <td>Actif</td>\n",
       "      <td>Port-au-Prince</td>\n",
       "      <td>Hopital St Damien Nos Petits Freres et Soeurs</td>\n",
       "      <td>CMMB</td>\n",
       "      <td>Ouest</td>\n",
       "      <td>Tabarre</td>\n",
       "      <td>Tabarre</td>\n",
       "      <td>18.57037</td>\n",
       "      <td>-72.25368</td>\n",
       "    </tr>\n",
       "  </tbody>\n",
       "</table>\n",
       "</div>"
      ],
      "text/plain": [
       "   # no_info_status  count      site status    caris_office  \\\n",
       "0  PAP/NPFS/ST02937      4  PAP/NPFS  Actif  Port-au-Prince   \n",
       "\n",
       "                                         hopital network departement  commune  \\\n",
       "0  Hopital St Damien Nos Petits Freres et Soeurs    CMMB       Ouest  Tabarre   \n",
       "\n",
       "   section  latitude  longitude  \n",
       "0  Tabarre  18.57037  -72.25368  "
      ]
     },
     "metadata": {},
     "output_type": "display_data"
    },
    {
     "data": {
      "text/html": [
       "<div>\n",
       "<style scoped>\n",
       "    .dataframe tbody tr th:only-of-type {\n",
       "        vertical-align: middle;\n",
       "    }\n",
       "\n",
       "    .dataframe tbody tr th {\n",
       "        vertical-align: top;\n",
       "    }\n",
       "\n",
       "    .dataframe thead th {\n",
       "        text-align: right;\n",
       "    }\n",
       "</style>\n",
       "<table border=\"1\" class=\"dataframe\">\n",
       "  <thead>\n",
       "    <tr style=\"text-align: right;\">\n",
       "      <th></th>\n",
       "      <th># Enfants VIH+</th>\n",
       "      <th>count</th>\n",
       "      <th>site</th>\n",
       "      <th>status</th>\n",
       "      <th>caris_office</th>\n",
       "      <th>hopital</th>\n",
       "      <th>network</th>\n",
       "      <th>departement</th>\n",
       "      <th>commune</th>\n",
       "      <th>section</th>\n",
       "      <th>latitude</th>\n",
       "      <th>longitude</th>\n",
       "    </tr>\n",
       "  </thead>\n",
       "  <tbody>\n",
       "    <tr>\n",
       "      <th>0</th>\n",
       "      <td>PAP/HSFS/ST00930</td>\n",
       "      <td>2</td>\n",
       "      <td>PAP/HSFS</td>\n",
       "      <td>Actif</td>\n",
       "      <td>Port-au-Prince</td>\n",
       "      <td>Hopital St Francoise de Sales</td>\n",
       "      <td>CMMB</td>\n",
       "      <td>Ouest</td>\n",
       "      <td>Port-au-Prince</td>\n",
       "      <td>Port-au-Prince</td>\n",
       "      <td>18.538313</td>\n",
       "      <td>-72.346066</td>\n",
       "    </tr>\n",
       "  </tbody>\n",
       "</table>\n",
       "</div>"
      ],
      "text/plain": [
       "     # Enfants VIH+  count      site status    caris_office  \\\n",
       "0  PAP/HSFS/ST00930      2  PAP/HSFS  Actif  Port-au-Prince   \n",
       "\n",
       "                         hopital network departement         commune  \\\n",
       "0  Hopital St Francoise de Sales    CMMB       Ouest  Port-au-Prince   \n",
       "\n",
       "          section   latitude  longitude  \n",
       "0  Port-au-Prince  18.538313 -72.346066  "
      ]
     },
     "metadata": {},
     "output_type": "display_data"
    },
    {
     "data": {
      "text/html": [
       "<div>\n",
       "<style scoped>\n",
       "    .dataframe tbody tr th:only-of-type {\n",
       "        vertical-align: middle;\n",
       "    }\n",
       "\n",
       "    .dataframe tbody tr th {\n",
       "        vertical-align: top;\n",
       "    }\n",
       "\n",
       "    .dataframe thead th {\n",
       "        text-align: right;\n",
       "    }\n",
       "</style>\n",
       "<table border=\"1\" class=\"dataframe\">\n",
       "  <thead>\n",
       "    <tr style=\"text-align: right;\">\n",
       "      <th></th>\n",
       "      <th># Enfants non testés</th>\n",
       "      <th>count</th>\n",
       "      <th>site</th>\n",
       "      <th>status</th>\n",
       "      <th>caris_office</th>\n",
       "      <th>hopital</th>\n",
       "      <th>network</th>\n",
       "      <th>departement</th>\n",
       "      <th>commune</th>\n",
       "      <th>section</th>\n",
       "      <th>latitude</th>\n",
       "      <th>longitude</th>\n",
       "    </tr>\n",
       "  </thead>\n",
       "  <tbody>\n",
       "    <tr>\n",
       "      <th>0</th>\n",
       "      <td>PAP/HOCH/ST00375</td>\n",
       "      <td>7</td>\n",
       "      <td>PAP/HOCH</td>\n",
       "      <td>Inactif</td>\n",
       "      <td>Port-au-Prince</td>\n",
       "      <td>Hopital de la Communaute Haitienne</td>\n",
       "      <td>GHESKIO</td>\n",
       "      <td>Ouest</td>\n",
       "      <td>Petion-ville</td>\n",
       "      <td>Petion-ville</td>\n",
       "      <td>18.52405</td>\n",
       "      <td>-72.27233</td>\n",
       "    </tr>\n",
       "  </tbody>\n",
       "</table>\n",
       "</div>"
      ],
      "text/plain": [
       "  # Enfants non testés  count      site   status    caris_office  \\\n",
       "0     PAP/HOCH/ST00375      7  PAP/HOCH  Inactif  Port-au-Prince   \n",
       "\n",
       "                              hopital  network departement       commune  \\\n",
       "0  Hopital de la Communaute Haitienne  GHESKIO       Ouest  Petion-ville   \n",
       "\n",
       "        section  latitude  longitude  \n",
       "0  Petion-ville  18.52405  -72.27233  "
      ]
     },
     "metadata": {},
     "output_type": "display_data"
    }
   ],
   "source": [
    "# Appliquer la fonction merge_and_extend sur chaque DataFrame\n",
    "eff_enf_merged = merge_and_extend(eff_enf, site, on='site')\n",
    "enf_test_merged = merge_and_extend(enf_test, site, on='site')\n",
    "enf_vih_neg_merged = merge_and_extend(enf_vih_neg, site, on='site')\n",
    "no_info_status_merged = merge_and_extend(no_info_status, site, on='site')\n",
    "enf_vih_pos_total_merged = merge_and_extend(enf_vih_pos_total, site, on='site')\n",
    "enf_non_test_merged = merge_and_extend(enf_non_test, site, on='site')\n",
    "\n",
    "# Afficher les premières lignes de chaque DataFrame fusionné pour vérifier\n",
    "display(eff_enf_merged.head(1))\n",
    "display(enf_test_merged.head(1))\n",
    "display(enf_vih_neg_merged.head(1))\n",
    "display(no_info_status_merged.head(1))\n",
    "display(enf_vih_pos_total_merged.head(1))\n",
    "display(enf_non_test_merged.head(1))"
   ]
  },
  {
   "cell_type": "code",
   "execution_count": null,
   "metadata": {},
   "outputs": [],
   "source": [
    "from datetime import date\n",
    "import pandas as pd\n",
    "\n",
    "def save_dataframes_excel(output_name=\"output\", df1=None, df2=None, df3=None, df4=None, df5=None, df6=None, sheet_names=None):\n",
    "    \"\"\"\n",
    "    Sauvegarde jusqu'à 6 DataFrames dans un fichier Excel avec un nom dynamique basé sur la date.\n",
    "\n",
    "    Args:\n",
    "        output_name (str): Nom de base du fichier de sortie (sans extension).\n",
    "        df1, df2, df3, df4, df5, df6 (pd.DataFrame, optional): DataFrames à sauvegarder.\n",
    "        sheet_names (list, optional): Liste des noms de feuilles.\n",
    "    \"\"\"\n",
    "    # Définir une date pour le nom du fichier\n",
    "    today_str = date.today().strftime(\"%Y-%m-%d\")\n",
    "    file_name = f\"{output_name}_{today_str}.xlsx\"\n",
    "\n",
    "    # Définir les noms des feuilles si non fournis\n",
    "    sheet_names = sheet_names or ['Sheet1', 'Sheet2', 'Sheet3', 'Sheet4', 'Sheet5', 'Sheet6']\n",
    "    \n",
    "    # Créer l'écrivain Excel\n",
    "    writer = pd.ExcelWriter(file_name, engine='xlsxwriter')\n",
    "\n",
    "    # Stocker les DataFrames dans une liste\n",
    "    dfs = [df1, df2, df3, df4, df5, df6]\n",
    "\n",
    "    # Écrire chaque DataFrame dans sa feuille correspondante s'il est défini\n",
    "    for i, df in enumerate(dfs):\n",
    "        if df is not None:\n",
    "            df.to_excel(writer, sheet_name=sheet_names[i], index=False)\n",
    "\n",
    "    # Sauvegarder le fichier Excel\n",
    "    writer.close()\n",
    "    print(f\"Fichier '{file_name}' sauvegardé avec succès.\")\n"
   ]
  },
  {
   "cell_type": "code",
   "execution_count": null,
   "metadata": {},
   "outputs": [
    {
     "data": {
      "text/plain": [
       "\"save_dataframe_to_excel(stat_ptme_index, 'stat_ptme_index')\\nsave_dataframe_to_excel(working_data, 'working_data')\""
      ]
     },
     "execution_count": 170,
     "metadata": {},
     "output_type": "execute_result"
    }
   ],
   "source": [
    "\"\"\"save_dataframe_to_excel(stat_ptme_index, 'stat_ptme_index')\n",
    "save_dataframe_to_excel(working_data, 'working_data')\"\"\""
   ]
  },
  {
   "cell_type": "code",
   "execution_count": null,
   "metadata": {},
   "outputs": [
    {
     "name": "stdout",
     "output_type": "stream",
     "text": [
      "Fichier 'Statut_des_enfants_PTME_2025-03-27.xlsx' sauvegardé avec succès.\n"
     ]
    }
   ],
   "source": [
    "# Example usage:\n",
    "save_dataframes_excel(\n",
    "\toutput_name=\"Statut_des_enfants_PTME\",\n",
    "\tdf1=eff_enf_merged,\n",
    "\tdf2=enf_test_merged,\n",
    "\tdf3=enf_vih_neg_merged,\n",
    "\tdf4=no_info_status_merged,\n",
    "\tdf5=enf_vih_pos_total_merged,\n",
    "\tdf6=enf_non_test_merged,\n",
    "\tsheet_names=['PTME_0_17', 'testés', 'VIH-', 'statuts inconnus', 'VIH+ total', 'non testés']\n",
    ")"
   ]
  },
  {
   "cell_type": "markdown",
   "metadata": {},
   "source": [
    "### 6. Generate the pregnant report"
   ]
  },
  {
   "cell_type": "code",
   "execution_count": null,
   "metadata": {},
   "outputs": [
    {
     "name": "stdout",
     "output_type": "stream",
     "text": [
      "Number of PTME women with for the semester: 2196\n",
      "Number of breasfeeding women with for the semester: 2001\n",
      "Number of pregnant women with for the semester: 197\n",
      "Number of pregnant women in club for the semester: 22\n",
      "Number of pregnant women with Household count for the semester: 17\n",
      "Number of pregnant women with testing for their child: 20\n"
     ]
    }
   ],
   "source": [
    "ptme_woman0 = working_data[(working_data.allaitante == 'yes') | (working_data.enceinte == 'yes')]\n",
    "print(f\"Number of PTME women with for the semester: {ptme_woman0.shape[0]}\")\n",
    "breasfeeding_woman = working_data[(working_data.allaitante == 'yes')]\n",
    "print(f\"Number of breasfeeding women with for the semester: {breasfeeding_woman.shape[0]}\")\n",
    "pregnant_woman = working_data[working_data['enceinte'] == 'yes']\n",
    "print(f\"Number of pregnant women with for the semester: {pregnant_woman.shape[0]}\")\n",
    "pregnant_woman_in_club = working_data[((working_data.club_q1 == 'yes') | (working_data.club_q2 == 'yes')) & ((working_data.enceinte == 'yes'))]\n",
    "print(f\"Number of pregnant women in club for the semester: {pregnant_woman_in_club.shape[0]}\")\n",
    "pregnant_woman_with_testing = pregnant_woman_in_club[pregnant_woman_in_club['testing'] == 'yes']\n",
    "print(f\"Number of pregnant women with Household count for the semester: {pregnant_woman_with_testing.shape[0]}\")\n",
    "pregnant_woman_with_comptage = pregnant_woman_in_club[pregnant_woman_in_club['comptage'] == 'yes']\n",
    "print(f\"Number of pregnant women with testing for their child: {pregnant_woman_with_comptage.shape[0]}\")"
   ]
  },
  {
   "cell_type": "code",
   "execution_count": null,
   "metadata": {},
   "outputs": [
    {
     "data": {
      "text/plain": [
       "1.1764705882352942"
      ]
     },
     "execution_count": 90,
     "metadata": {},
     "output_type": "execute_result"
    }
   ],
   "source": [
    "pregnant_woman_with_comptage.shape[0] / pregnant_woman_with_testing.shape[0]"
   ]
  },
  {
   "cell_type": "code",
   "execution_count": null,
   "metadata": {},
   "outputs": [],
   "source": [
    "# Créer le DataFrame med avec les indicateurs et leurs proportions\n",
    "Indicators = ['Femme Enceinte(FE)', 'FE en club', 'FE avec enfants comptage', 'FE avec enfants testés']\n",
    "n_1 = [pregnant_woman.shape[0], pregnant_woman_in_club.shape[0], pregnant_woman_with_comptage.shape[0], pregnant_woman_with_testing.shape[0]]\n",
    "prop_impact1 = [\n",
    "    pregnant_woman.shape[0] / pregnant_woman.shape[0] if ptme_woman0.shape[0] != 0 else 0,\n",
    "    pregnant_woman_in_club.shape[0] / pregnant_woman.shape[0] if pregnant_woman.shape[0] != 0 else 0,\n",
    "    pregnant_woman_with_comptage.shape[0] / pregnant_woman_in_club.shape[0] if pregnant_woman_in_club.shape[0] != 0 else 0,\n",
    "    pregnant_woman_with_testing.shape[0] / pregnant_woman_with_comptage.shape[0] if pregnant_woman_with_comptage.shape[0] != 0 else 0,\n",
    "]\n",
    "medpregnant = pd.DataFrame({'Indicators': Indicators, 'n_1': n_1, 'prop_impact1': prop_impact1})\n",
    "medpregnant = medpregnant.sort_values(by='n_1', ascending=False)"
   ]
  },
  {
   "cell_type": "code",
   "execution_count": null,
   "metadata": {},
   "outputs": [
    {
     "data": {
      "text/plain": [
       "<Figure size 1000x600 with 0 Axes>"
      ]
     },
     "execution_count": 107,
     "metadata": {},
     "output_type": "execute_result"
    },
    {
     "data": {
      "text/plain": [
       "<Axes: xlabel='Indicators', ylabel='n_1'>"
      ]
     },
     "execution_count": 107,
     "metadata": {},
     "output_type": "execute_result"
    },
    {
     "data": {
      "text/plain": [
       "Text(0, 197, '197 (100%)')"
      ]
     },
     "execution_count": 107,
     "metadata": {},
     "output_type": "execute_result"
    },
    {
     "data": {
      "text/plain": [
       "Text(1, 22, '22 (11%)')"
      ]
     },
     "execution_count": 107,
     "metadata": {},
     "output_type": "execute_result"
    },
    {
     "data": {
      "text/plain": [
       "Text(2, 20, '20 (91%)')"
      ]
     },
     "execution_count": 107,
     "metadata": {},
     "output_type": "execute_result"
    },
    {
     "data": {
      "text/plain": [
       "Text(3, 17, '17 (85%)')"
      ]
     },
     "execution_count": 107,
     "metadata": {},
     "output_type": "execute_result"
    },
    {
     "data": {
      "text/plain": [
       "Text(0.5, 1.0, 'Cascades des femmes enceintes')"
      ]
     },
     "execution_count": 107,
     "metadata": {},
     "output_type": "execute_result"
    },
    {
     "data": {
      "text/plain": [
       "Text(0.5, 0, '')"
      ]
     },
     "execution_count": 107,
     "metadata": {},
     "output_type": "execute_result"
    },
    {
     "data": {
      "text/plain": [
       "Text(0, 0.5, 'Frequency')"
      ]
     },
     "execution_count": 107,
     "metadata": {},
     "output_type": "execute_result"
    },
    {
     "data": {
      "text/plain": [
       "Text(0.5, -0.05, 'Data Source: hivhaiti / 2025-03-27')"
      ]
     },
     "execution_count": 107,
     "metadata": {},
     "output_type": "execute_result"
    },
    {
     "data": {
      "text/plain": [
       "([0, 1, 2, 3],\n",
       " [Text(0, 0, 'Femme Enceinte(FE)'),\n",
       "  Text(1, 0, 'FE en club'),\n",
       "  Text(2, 0, 'FE avec enfants comptage'),\n",
       "  Text(3, 0, 'FE avec enfants testés')])"
      ]
     },
     "execution_count": 107,
     "metadata": {},
     "output_type": "execute_result"
    },
    {
     "data": {
      "text/plain": [
       "(array([  0.,  25.,  50.,  75., 100., 125., 150., 175., 200., 225.]),\n",
       " [Text(0, 0.0, '0'),\n",
       "  Text(0, 25.0, '25'),\n",
       "  Text(0, 50.0, '50'),\n",
       "  Text(0, 75.0, '75'),\n",
       "  Text(0, 100.0, '100'),\n",
       "  Text(0, 125.0, '125'),\n",
       "  Text(0, 150.0, '150'),\n",
       "  Text(0, 175.0, '175'),\n",
       "  Text(0, 200.0, '200'),\n",
       "  Text(0, 225.0, '225')])"
      ]
     },
     "execution_count": 107,
     "metadata": {},
     "output_type": "execute_result"
    },
    {
     "data": {
      "image/png": "[encoded data removed]",
      "text/plain": [
       "<Figure size 1000x600 with 1 Axes>"
      ]
     },
     "metadata": {},
     "output_type": "display_data"
    }
   ],
   "source": [
    "# Vérifiez si le DataFrame med est vide\n",
    "if medpregnant.empty:\n",
    "    print(\"Il n'y a pas eu d'activite\")\n",
    "else:\n",
    "    # Création du graphique, doublement de la largeur\n",
    "    plt.figure(figsize=(10, 6))\n",
    "    sns.barplot(data=medpregnant, x='Indicators', y='n_1', palette='viridis', edgecolor='black')\n",
    "\n",
    "    # Ajout des labels sur les barres, centré en haut\n",
    "    for i in range(len(medpregnant)):\n",
    "        plt.text(i, medpregnant['n_1'].iloc[i], f\"{medpregnant['n_1'].iloc[i]:,} ({medpregnant['prop_impact1'].iloc[i] * 100:.0f}%)\", ha='center', va='bottom', size=10)\n",
    "\n",
    "    # Titre et étiquettes\n",
    "    plt.title(\"Cascades des femmes enceintes\", fontsize=14, family='Cambria', fontweight='bold', ha='center')\n",
    "    plt.xlabel(\"\")\n",
    "    plt.ylabel(\"Frequency\")\n",
    "\n",
    "    # Ajout de la source des données en tant que légende\n",
    "    plt.figtext(0.5, -0.05, f\"Data Source: hivhaiti / {pd.to_datetime('today').date()}\", ha=\"center\", fontsize=10, family='Cambria', style='italic')\n",
    "\n",
    "    # Ajustement des thèmes\n",
    "    plt.xticks(fontsize=12, family='Cambria')\n",
    "    plt.yticks(fontsize=12, family='Cambria')\n",
    "\n",
    "    # Suppression des gridlines\n",
    "    plt.grid(False)\n",
    "\n",
    "    # Afficher le graphique\n",
    "    plt.show()\n"
   ]
  },
  {
   "cell_type": "code",
   "execution_count": null,
   "metadata": {},
   "outputs": [
    {
     "data": {
      "application/vnd.plotly.v1+json": {
       "config": {
        "plotlyServerURL": "https://plot.ly"
       },
       "data": [
        {
         "domain": {
          "x": [
           0,
           1
          ],
          "y": [
           0,
           1
          ]
         },
         "hole": 0.3,
         "hovertemplate": "comptage=%{label}<br>effectif=%{value}<extra></extra>",
         "insidetextorientation": "radial",
         "labels": [
          "Femmes allaitantes",
          "Femmes encientes"
         ],
         "legendgroup": "",
         "name": "",
         "showlegend": true,
         "textinfo": "value+percent",
         "type": "pie",
         "values": {
          "bdata": "yxBAAA==",
          "dtype": "i2"
         }
        }
       ],
       "layout": {
        "legend": {
         "tracegroupgap": 0
        },
        "template": {
         "data": {
          "bar": [
           {
            "error_x": {
             "color": "#2a3f5f"
            },
            "error_y": {
             "color": "#2a3f5f"
            },
            "marker": {
             "line": {
              "color": "#E5ECF6",
              "width": 0.5
             },
             "pattern": {
              "fillmode": "overlay",
              "size": 10,
              "solidity": 0.2
             }
            },
            "type": "bar"
           }
          ],
          "barpolar": [
           {
            "marker": {
             "line": {
              "color": "#E5ECF6",
              "width": 0.5
             },
             "pattern": {
              "fillmode": "overlay",
              "size": 10,
              "solidity": 0.2
             }
            },
            "type": "barpolar"
           }
          ],
          "carpet": [
           {
            "aaxis": {
             "endlinecolor": "#2a3f5f",
             "gridcolor": "white",
             "linecolor": "white",
             "minorgridcolor": "white",
             "startlinecolor": "#2a3f5f"
            },
            "baxis": {
             "endlinecolor": "#2a3f5f",
             "gridcolor": "white",
             "linecolor": "white",
             "minorgridcolor": "white",
             "startlinecolor": "#2a3f5f"
            },
            "type": "carpet"
           }
          ],
          "choropleth": [
           {
            "colorbar": {
             "outlinewidth": 0,
             "ticks": ""
            },
            "type": "choropleth"
           }
          ],
          "contour": [
           {
            "colorbar": {
             "outlinewidth": 0,
             "ticks": ""
            },
            "colorscale": [
             [
              0,
              "#0d0887"
             ],
             [
              0.1111111111111111,
              "#46039f"
             ],
             [
              0.2222222222222222,
              "#7201a8"
             ],
             [
              0.3333333333333333,
              "#9c179e"
             ],
             [
              0.4444444444444444,
              "#bd3786"
             ],
             [
              0.5555555555555556,
              "#d8576b"
             ],
             [
              0.6666666666666666,
              "#ed7953"
             ],
             [
              0.7777777777777778,
              "#fb9f3a"
             ],
             [
              0.8888888888888888,
              "#fdca26"
             ],
             [
              1,
              "#f0f921"
             ]
            ],
            "type": "contour"
           }
          ],
          "contourcarpet": [
           {
            "colorbar": {
             "outlinewidth": 0,
             "ticks": ""
            },
            "type": "contourcarpet"
           }
          ],
          "heatmap": [
           {
            "colorbar": {
             "outlinewidth": 0,
             "ticks": ""
            },
            "colorscale": [
             [
              0,
              "#0d0887"
             ],
             [
              0.1111111111111111,
              "#46039f"
             ],
             [
              0.2222222222222222,
              "#7201a8"
             ],
             [
              0.3333333333333333,
              "#9c179e"
             ],
             [
              0.4444444444444444,
              "#bd3786"
             ],
             [
              0.5555555555555556,
              "#d8576b"
             ],
             [
              0.6666666666666666,
              "#ed7953"
             ],
             [
              0.7777777777777778,
              "#fb9f3a"
             ],
             [
              0.8888888888888888,
              "#fdca26"
             ],
             [
              1,
              "#f0f921"
             ]
            ],
            "type": "heatmap"
           }
          ],
          "histogram": [
           {
            "marker": {
             "pattern": {
              "fillmode": "overlay",
              "size": 10,
              "solidity": 0.2
             }
            },
            "type": "histogram"
           }
          ],
          "histogram2d": [
           {
            "colorbar": {
             "outlinewidth": 0,
             "ticks": ""
            },
            "colorscale": [
             [
              0,
              "#0d0887"
             ],
             [
              0.1111111111111111,
              "#46039f"
             ],
             [
              0.2222222222222222,
              "#7201a8"
             ],
             [
              0.3333333333333333,
              "#9c179e"
             ],
             [
              0.4444444444444444,
              "#bd3786"
             ],
             [
              0.5555555555555556,
              "#d8576b"
             ],
             [
              0.6666666666666666,
              "#ed7953"
             ],
             [
              0.7777777777777778,
              "#fb9f3a"
             ],
             [
              0.8888888888888888,
              "#fdca26"
             ],
             [
              1,
              "#f0f921"
             ]
            ],
            "type": "histogram2d"
           }
          ],
          "histogram2dcontour": [
           {
            "colorbar": {
             "outlinewidth": 0,
             "ticks": ""
            },
            "colorscale": [
             [
              0,
              "#0d0887"
             ],
             [
              0.1111111111111111,
              "#46039f"
             ],
             [
              0.2222222222222222,
              "#7201a8"
             ],
             [
              0.3333333333333333,
              "#9c179e"
             ],
             [
              0.4444444444444444,
              "#bd3786"
             ],
             [
              0.5555555555555556,
              "#d8576b"
             ],
             [
              0.6666666666666666,
              "#ed7953"
             ],
             [
              0.7777777777777778,
              "#fb9f3a"
             ],
             [
              0.8888888888888888,
              "#fdca26"
             ],
             [
              1,
              "#f0f921"
             ]
            ],
            "type": "histogram2dcontour"
           }
          ],
          "mesh3d": [
           {
            "colorbar": {
             "outlinewidth": 0,
             "ticks": ""
            },
            "type": "mesh3d"
           }
          ],
          "parcoords": [
           {
            "line": {
             "colorbar": {
              "outlinewidth": 0,
              "ticks": ""
             }
            },
            "type": "parcoords"
           }
          ],
          "pie": [
           {
            "automargin": true,
            "type": "pie"
           }
          ],
          "scatter": [
           {
            "fillpattern": {
             "fillmode": "overlay",
             "size": 10,
             "solidity": 0.2
            },
            "type": "scatter"
           }
          ],
          "scatter3d": [
           {
            "line": {
             "colorbar": {
              "outlinewidth": 0,
              "ticks": ""
             }
            },
            "marker": {
             "colorbar": {
              "outlinewidth": 0,
              "ticks": ""
             }
            },
            "type": "scatter3d"
           }
          ],
          "scattercarpet": [
           {
            "marker": {
             "colorbar": {
              "outlinewidth": 0,
              "ticks": ""
             }
            },
            "type": "scattercarpet"
           }
          ],
          "scattergeo": [
           {
            "marker": {
             "colorbar": {
              "outlinewidth": 0,
              "ticks": ""
             }
            },
            "type": "scattergeo"
           }
          ],
          "scattergl": [
           {
            "marker": {
             "colorbar": {
              "outlinewidth": 0,
              "ticks": ""
             }
            },
            "type": "scattergl"
           }
          ],
          "scattermap": [
           {
            "marker": {
             "colorbar": {
              "outlinewidth": 0,
              "ticks": ""
             }
            },
            "type": "scattermap"
           }
          ],
          "scattermapbox": [
           {
            "marker": {
             "colorbar": {
              "outlinewidth": 0,
              "ticks": ""
             }
            },
            "type": "scattermapbox"
           }
          ],
          "scatterpolar": [
           {
            "marker": {
             "colorbar": {
              "outlinewidth": 0,
              "ticks": ""
             }
            },
            "type": "scatterpolar"
           }
          ],
          "scatterpolargl": [
           {
            "marker": {
             "colorbar": {
              "outlinewidth": 0,
              "ticks": ""
             }
            },
            "type": "scatterpolargl"
           }
          ],
          "scatterternary": [
           {
            "marker": {
             "colorbar": {
              "outlinewidth": 0,
              "ticks": ""
             }
            },
            "type": "scatterternary"
           }
          ],
          "surface": [
           {
            "colorbar": {
             "outlinewidth": 0,
             "ticks": ""
            },
            "colorscale": [
             [
              0,
              "#0d0887"
             ],
             [
              0.1111111111111111,
              "#46039f"
             ],
             [
              0.2222222222222222,
              "#7201a8"
             ],
             [
              0.3333333333333333,
              "#9c179e"
             ],
             [
              0.4444444444444444,
              "#bd3786"
             ],
             [
              0.5555555555555556,
              "#d8576b"
             ],
             [
              0.6666666666666666,
              "#ed7953"
             ],
             [
              0.7777777777777778,
              "#fb9f3a"
             ],
             [
              0.8888888888888888,
              "#fdca26"
             ],
             [
              1,
              "#f0f921"
             ]
            ],
            "type": "surface"
           }
          ],
          "table": [
           {
            "cells": {
             "fill": {
              "color": "#EBF0F8"
             },
             "line": {
              "color": "white"
             }
            },
            "header": {
             "fill": {
              "color": "#C8D4E3"
             },
             "line": {
              "color": "white"
             }
            },
            "type": "table"
           }
          ]
         },
         "layout": {
          "annotationdefaults": {
           "arrowcolor": "#2a3f5f",
           "arrowhead": 0,
           "arrowwidth": 1
          },
          "autotypenumbers": "strict",
          "coloraxis": {
           "colorbar": {
            "outlinewidth": 0,
            "ticks": ""
           }
          },
          "colorscale": {
           "diverging": [
            [
             0,
             "#8e0152"
            ],
            [
             0.1,
             "#c51b7d"
            ],
            [
             0.2,
             "#de77ae"
            ],
            [
             0.3,
             "#f1b6da"
            ],
            [
             0.4,
             "#fde0ef"
            ],
            [
             0.5,
             "#f7f7f7"
            ],
            [
             0.6,
             "#e6f5d0"
            ],
            [
             0.7,
             "#b8e186"
            ],
            [
             0.8,
             "#7fbc41"
            ],
            [
             0.9,
             "#4d9221"
            ],
            [
             1,
             "#276419"
            ]
           ],
           "sequential": [
            [
             0,
             "#0d0887"
            ],
            [
             0.1111111111111111,
             "#46039f"
            ],
            [
             0.2222222222222222,
             "#7201a8"
            ],
            [
             0.3333333333333333,
             "#9c179e"
            ],
            [
             0.4444444444444444,
             "#bd3786"
            ],
            [
             0.5555555555555556,
             "#d8576b"
            ],
            [
             0.6666666666666666,
             "#ed7953"
            ],
            [
             0.7777777777777778,
             "#fb9f3a"
            ],
            [
             0.8888888888888888,
             "#fdca26"
            ],
            [
             1,
             "#f0f921"
            ]
           ],
           "sequentialminus": [
            [
             0,
             "#0d0887"
            ],
            [
             0.1111111111111111,
             "#46039f"
            ],
            [
             0.2222222222222222,
             "#7201a8"
            ],
            [
             0.3333333333333333,
             "#9c179e"
            ],
            [
             0.4444444444444444,
             "#bd3786"
            ],
            [
             0.5555555555555556,
             "#d8576b"
            ],
            [
             0.6666666666666666,
             "#ed7953"
            ],
            [
             0.7777777777777778,
             "#fb9f3a"
            ],
            [
             0.8888888888888888,
             "#fdca26"
            ],
            [
             1,
             "#f0f921"
            ]
           ]
          },
          "colorway": [
           "#636efa",
           "#EF553B",
           "#00cc96",
           "#ab63fa",
           "#FFA15A",
           "#19d3f3",
           "#FF6692",
           "#B6E880",
           "#FF97FF",
           "#FECB52"
          ],
          "font": {
           "color": "#2a3f5f"
          },
          "geo": {
           "bgcolor": "white",
           "lakecolor": "white",
           "landcolor": "#E5ECF6",
           "showlakes": true,
           "showland": true,
           "subunitcolor": "white"
          },
          "hoverlabel": {
           "align": "left"
          },
          "hovermode": "closest",
          "mapbox": {
           "style": "light"
          },
          "paper_bgcolor": "white",
          "plot_bgcolor": "#E5ECF6",
          "polar": {
           "angularaxis": {
            "gridcolor": "white",
            "linecolor": "white",
            "ticks": ""
           },
           "bgcolor": "#E5ECF6",
           "radialaxis": {
            "gridcolor": "white",
            "linecolor": "white",
            "ticks": ""
           }
          },
          "scene": {
           "xaxis": {
            "backgroundcolor": "#E5ECF6",
            "gridcolor": "white",
            "gridwidth": 2,
            "linecolor": "white",
            "showbackground": true,
            "ticks": "",
            "zerolinecolor": "white"
           },
           "yaxis": {
            "backgroundcolor": "#E5ECF6",
            "gridcolor": "white",
            "gridwidth": 2,
            "linecolor": "white",
            "showbackground": true,
            "ticks": "",
            "zerolinecolor": "white"
           },
           "zaxis": {
            "backgroundcolor": "#E5ECF6",
            "gridcolor": "white",
            "gridwidth": 2,
            "linecolor": "white",
            "showbackground": true,
            "ticks": "",
            "zerolinecolor": "white"
           }
          },
          "shapedefaults": {
           "line": {
            "color": "#2a3f5f"
           }
          },
          "ternary": {
           "aaxis": {
            "gridcolor": "white",
            "linecolor": "white",
            "ticks": ""
           },
           "baxis": {
            "gridcolor": "white",
            "linecolor": "white",
            "ticks": ""
           },
           "bgcolor": "#E5ECF6",
           "caxis": {
            "gridcolor": "white",
            "linecolor": "white",
            "ticks": ""
           }
          },
          "title": {
           "x": 0.05
          },
          "xaxis": {
           "automargin": true,
           "gridcolor": "white",
           "linecolor": "white",
           "ticks": "",
           "title": {
            "standoff": 15
           },
           "zerolinecolor": "white",
           "zerolinewidth": 2
          },
          "yaxis": {
           "automargin": true,
           "gridcolor": "white",
           "linecolor": "white",
           "ticks": "",
           "title": {
            "standoff": 15
           },
           "zerolinecolor": "white",
           "zerolinewidth": 2
          }
         }
        },
        "title": {
         "text": "Répartition des femmes PTME selon leur statut"
        }
       }
      }
     },
     "metadata": {},
     "output_type": "display_data"
    }
   ],
   "source": [
    "import pandas as pd\n",
    "import plotly.express as px\n",
    "\n",
    "def plot_ptme_distribution(commcare_ptme_yes, commcare_ptme_no):\n",
    "    \"\"\"\n",
    "    Create a pie chart to visualize PTME distribution.\n",
    "    \n",
    "    Args:\n",
    "        commcare_ptme_yes (pd.DataFrame): DataFrame containing 'on_commCare' for 'yes' cases.\n",
    "        commcare_ptme_no (pd.DataFrame): DataFrame containing 'on_commCare' for 'no' cases.\n",
    "        no_accept (pd.DataFrame): DataFrame containing 'patient_code' for refusals.\n",
    "\n",
    "    Returns:\n",
    "        plotly.graph_objects.Figure: A pie chart figure.\n",
    "    \"\"\"\n",
    "    # Create the data frame for plotting\n",
    "    dat_ind_ptme = pd.DataFrame({\n",
    "        \"comptage\": [\"Femmes allaitantes\", \"Femmes encientes\"],\n",
    "        \"effectif\": [len(commcare_ptme_yes[\"on_commCare\"]),\n",
    "                     len(commcare_ptme_no[\"on_commCare\"])]\n",
    "    })\n",
    "\n",
    "    # Check if the data frame is empty\n",
    "    if dat_ind_ptme.empty:\n",
    "        print(\"Il n'y a pas d'activité\")\n",
    "        return None\n",
    "    else:\n",
    "        # Create a pie chart using Plotly\n",
    "        fig = px.pie(dat_ind_ptme, names=\"comptage\", values=\"effectif\",\n",
    "                     title=\"Répartition des femmes PTME selon leur statut\", hole=0.3)\n",
    "        fig.update_traces(textinfo='value+percent', insidetextorientation='radial')\n",
    "        return fig\n",
    "fig = plot_ptme_distribution(commcare_ptme_yes, commcare_ptme_no)\n",
    "fig.show()"
   ]
  },
  {
   "cell_type": "code",
   "execution_count": null,
   "metadata": {},
   "outputs": [
    {
     "data": {
      "application/vnd.plotly.v1+json": {
       "config": {
        "plotlyServerURL": "https://plot.ly"
       },
       "data": [
        {
         "domain": {
          "x": [
           0,
           1
          ],
          "y": [
           0,
           1
          ]
         },
         "hole": 0.3,
         "hovertemplate": "comptage=%{label}<br>effectif=%{value}<extra></extra>",
         "insidetextorientation": "radial",
         "labels": [
          "Femmes allaitantes",
          "Femmes encientes"
         ],
         "legendgroup": "",
         "name": "",
         "showlegend": true,
         "textinfo": "value+percent",
         "type": "pie",
         "values": {
          "bdata": "0QfFAA==",
          "dtype": "i2"
         }
        }
       ],
       "layout": {
        "legend": {
         "tracegroupgap": 0
        },
        "template": {
         "data": {
          "bar": [
           {
            "error_x": {
             "color": "#2a3f5f"
            },
            "error_y": {
             "color": "#2a3f5f"
            },
            "marker": {
             "line": {
              "color": "#E5ECF6",
              "width": 0.5
             },
             "pattern": {
              "fillmode": "overlay",
              "size": 10,
              "solidity": 0.2
             }
            },
            "type": "bar"
           }
          ],
          "barpolar": [
           {
            "marker": {
             "line": {
              "color": "#E5ECF6",
              "width": 0.5
             },
             "pattern": {
              "fillmode": "overlay",
              "size": 10,
              "solidity": 0.2
             }
            },
            "type": "barpolar"
           }
          ],
          "carpet": [
           {
            "aaxis": {
             "endlinecolor": "#2a3f5f",
             "gridcolor": "white",
             "linecolor": "white",
             "minorgridcolor": "white",
             "startlinecolor": "#2a3f5f"
            },
            "baxis": {
             "endlinecolor": "#2a3f5f",
             "gridcolor": "white",
             "linecolor": "white",
             "minorgridcolor": "white",
             "startlinecolor": "#2a3f5f"
            },
            "type": "carpet"
           }
          ],
          "choropleth": [
           {
            "colorbar": {
             "outlinewidth": 0,
             "ticks": ""
            },
            "type": "choropleth"
           }
          ],
          "contour": [
           {
            "colorbar": {
             "outlinewidth": 0,
             "ticks": ""
            },
            "colorscale": [
             [
              0,
              "#0d0887"
             ],
             [
              0.1111111111111111,
              "#46039f"
             ],
             [
              0.2222222222222222,
              "#7201a8"
             ],
             [
              0.3333333333333333,
              "#9c179e"
             ],
             [
              0.4444444444444444,
              "#bd3786"
             ],
             [
              0.5555555555555556,
              "#d8576b"
             ],
             [
              0.6666666666666666,
              "#ed7953"
             ],
             [
              0.7777777777777778,
              "#fb9f3a"
             ],
             [
              0.8888888888888888,
              "#fdca26"
             ],
             [
              1,
              "#f0f921"
             ]
            ],
            "type": "contour"
           }
          ],
          "contourcarpet": [
           {
            "colorbar": {
             "outlinewidth": 0,
             "ticks": ""
            },
            "type": "contourcarpet"
           }
          ],
          "heatmap": [
           {
            "colorbar": {
             "outlinewidth": 0,
             "ticks": ""
            },
            "colorscale": [
             [
              0,
              "#0d0887"
             ],
             [
              0.1111111111111111,
              "#46039f"
             ],
             [
              0.2222222222222222,
              "#7201a8"
             ],
             [
              0.3333333333333333,
              "#9c179e"
             ],
             [
              0.4444444444444444,
              "#bd3786"
             ],
             [
              0.5555555555555556,
              "#d8576b"
             ],
             [
              0.6666666666666666,
              "#ed7953"
             ],
             [
              0.7777777777777778,
              "#fb9f3a"
             ],
             [
              0.8888888888888888,
              "#fdca26"
             ],
             [
              1,
              "#f0f921"
             ]
            ],
            "type": "heatmap"
           }
          ],
          "histogram": [
           {
            "marker": {
             "pattern": {
              "fillmode": "overlay",
              "size": 10,
              "solidity": 0.2
             }
            },
            "type": "histogram"
           }
          ],
          "histogram2d": [
           {
            "colorbar": {
             "outlinewidth": 0,
             "ticks": ""
            },
            "colorscale": [
             [
              0,
              "#0d0887"
             ],
             [
              0.1111111111111111,
              "#46039f"
             ],
             [
              0.2222222222222222,
              "#7201a8"
             ],
             [
              0.3333333333333333,
              "#9c179e"
             ],
             [
              0.4444444444444444,
              "#bd3786"
             ],
             [
              0.5555555555555556,
              "#d8576b"
             ],
             [
              0.6666666666666666,
              "#ed7953"
             ],
             [
              0.7777777777777778,
              "#fb9f3a"
             ],
             [
              0.8888888888888888,
              "#fdca26"
             ],
             [
              1,
              "#f0f921"
             ]
            ],
            "type": "histogram2d"
           }
          ],
          "histogram2dcontour": [
           {
            "colorbar": {
             "outlinewidth": 0,
             "ticks": ""
            },
            "colorscale": [
             [
              0,
              "#0d0887"
             ],
             [
              0.1111111111111111,
              "#46039f"
             ],
             [
              0.2222222222222222,
              "#7201a8"
             ],
             [
              0.3333333333333333,
              "#9c179e"
             ],
             [
              0.4444444444444444,
              "#bd3786"
             ],
             [
              0.5555555555555556,
              "#d8576b"
             ],
             [
              0.6666666666666666,
              "#ed7953"
             ],
             [
              0.7777777777777778,
              "#fb9f3a"
             ],
             [
              0.8888888888888888,
              "#fdca26"
             ],
             [
              1,
              "#f0f921"
             ]
            ],
            "type": "histogram2dcontour"
           }
          ],
          "mesh3d": [
           {
            "colorbar": {
             "outlinewidth": 0,
             "ticks": ""
            },
            "type": "mesh3d"
           }
          ],
          "parcoords": [
           {
            "line": {
             "colorbar": {
              "outlinewidth": 0,
              "ticks": ""
             }
            },
            "type": "parcoords"
           }
          ],
          "pie": [
           {
            "automargin": true,
            "type": "pie"
           }
          ],
          "scatter": [
           {
            "fillpattern": {
             "fillmode": "overlay",
             "size": 10,
             "solidity": 0.2
            },
            "type": "scatter"
           }
          ],
          "scatter3d": [
           {
            "line": {
             "colorbar": {
              "outlinewidth": 0,
              "ticks": ""
             }
            },
            "marker": {
             "colorbar": {
              "outlinewidth": 0,
              "ticks": ""
             }
            },
            "type": "scatter3d"
           }
          ],
          "scattercarpet": [
           {
            "marker": {
             "colorbar": {
              "outlinewidth": 0,
              "ticks": ""
             }
            },
            "type": "scattercarpet"
           }
          ],
          "scattergeo": [
           {
            "marker": {
             "colorbar": {
              "outlinewidth": 0,
              "ticks": ""
             }
            },
            "type": "scattergeo"
           }
          ],
          "scattergl": [
           {
            "marker": {
             "colorbar": {
              "outlinewidth": 0,
              "ticks": ""
             }
            },
            "type": "scattergl"
           }
          ],
          "scattermap": [
           {
            "marker": {
             "colorbar": {
              "outlinewidth": 0,
              "ticks": ""
             }
            },
            "type": "scattermap"
           }
          ],
          "scattermapbox": [
           {
            "marker": {
             "colorbar": {
              "outlinewidth": 0,
              "ticks": ""
             }
            },
            "type": "scattermapbox"
           }
          ],
          "scatterpolar": [
           {
            "marker": {
             "colorbar": {
              "outlinewidth": 0,
              "ticks": ""
             }
            },
            "type": "scatterpolar"
           }
          ],
          "scatterpolargl": [
           {
            "marker": {
             "colorbar": {
              "outlinewidth": 0,
              "ticks": ""
             }
            },
            "type": "scatterpolargl"
           }
          ],
          "scatterternary": [
           {
            "marker": {
             "colorbar": {
              "outlinewidth": 0,
              "ticks": ""
             }
            },
            "type": "scatterternary"
           }
          ],
          "surface": [
           {
            "colorbar": {
             "outlinewidth": 0,
             "ticks": ""
            },
            "colorscale": [
             [
              0,
              "#0d0887"
             ],
             [
              0.1111111111111111,
              "#46039f"
             ],
             [
              0.2222222222222222,
              "#7201a8"
             ],
             [
              0.3333333333333333,
              "#9c179e"
             ],
             [
              0.4444444444444444,
              "#bd3786"
             ],
             [
              0.5555555555555556,
              "#d8576b"
             ],
             [
              0.6666666666666666,
              "#ed7953"
             ],
             [
              0.7777777777777778,
              "#fb9f3a"
             ],
             [
              0.8888888888888888,
              "#fdca26"
             ],
             [
              1,
              "#f0f921"
             ]
            ],
            "type": "surface"
           }
          ],
          "table": [
           {
            "cells": {
             "fill": {
              "color": "#EBF0F8"
             },
             "line": {
              "color": "white"
             }
            },
            "header": {
             "fill": {
              "color": "#C8D4E3"
             },
             "line": {
              "color": "white"
             }
            },
            "type": "table"
           }
          ]
         },
         "layout": {
          "annotationdefaults": {
           "arrowcolor": "#2a3f5f",
           "arrowhead": 0,
           "arrowwidth": 1
          },
          "autotypenumbers": "strict",
          "coloraxis": {
           "colorbar": {
            "outlinewidth": 0,
            "ticks": ""
           }
          },
          "colorscale": {
           "diverging": [
            [
             0,
             "#8e0152"
            ],
            [
             0.1,
             "#c51b7d"
            ],
            [
             0.2,
             "#de77ae"
            ],
            [
             0.3,
             "#f1b6da"
            ],
            [
             0.4,
             "#fde0ef"
            ],
            [
             0.5,
             "#f7f7f7"
            ],
            [
             0.6,
             "#e6f5d0"
            ],
            [
             0.7,
             "#b8e186"
            ],
            [
             0.8,
             "#7fbc41"
            ],
            [
             0.9,
             "#4d9221"
            ],
            [
             1,
             "#276419"
            ]
           ],
           "sequential": [
            [
             0,
             "#0d0887"
            ],
            [
             0.1111111111111111,
             "#46039f"
            ],
            [
             0.2222222222222222,
             "#7201a8"
            ],
            [
             0.3333333333333333,
             "#9c179e"
            ],
            [
             0.4444444444444444,
             "#bd3786"
            ],
            [
             0.5555555555555556,
             "#d8576b"
            ],
            [
             0.6666666666666666,
             "#ed7953"
            ],
            [
             0.7777777777777778,
             "#fb9f3a"
            ],
            [
             0.8888888888888888,
             "#fdca26"
            ],
            [
             1,
             "#f0f921"
            ]
           ],
           "sequentialminus": [
            [
             0,
             "#0d0887"
            ],
            [
             0.1111111111111111,
             "#46039f"
            ],
            [
             0.2222222222222222,
             "#7201a8"
            ],
            [
             0.3333333333333333,
             "#9c179e"
            ],
            [
             0.4444444444444444,
             "#bd3786"
            ],
            [
             0.5555555555555556,
             "#d8576b"
            ],
            [
             0.6666666666666666,
             "#ed7953"
            ],
            [
             0.7777777777777778,
             "#fb9f3a"
            ],
            [
             0.8888888888888888,
             "#fdca26"
            ],
            [
             1,
             "#f0f921"
            ]
           ]
          },
          "colorway": [
           "#636efa",
           "#EF553B",
           "#00cc96",
           "#ab63fa",
           "#FFA15A",
           "#19d3f3",
           "#FF6692",
           "#B6E880",
           "#FF97FF",
           "#FECB52"
          ],
          "font": {
           "color": "#2a3f5f"
          },
          "geo": {
           "bgcolor": "white",
           "lakecolor": "white",
           "landcolor": "#E5ECF6",
           "showlakes": true,
           "showland": true,
           "subunitcolor": "white"
          },
          "hoverlabel": {
           "align": "left"
          },
          "hovermode": "closest",
          "mapbox": {
           "style": "light"
          },
          "paper_bgcolor": "white",
          "plot_bgcolor": "#E5ECF6",
          "polar": {
           "angularaxis": {
            "gridcolor": "white",
            "linecolor": "white",
            "ticks": ""
           },
           "bgcolor": "#E5ECF6",
           "radialaxis": {
            "gridcolor": "white",
            "linecolor": "white",
            "ticks": ""
           }
          },
          "scene": {
           "xaxis": {
            "backgroundcolor": "#E5ECF6",
            "gridcolor": "white",
            "gridwidth": 2,
            "linecolor": "white",
            "showbackground": true,
            "ticks": "",
            "zerolinecolor": "white"
           },
           "yaxis": {
            "backgroundcolor": "#E5ECF6",
            "gridcolor": "white",
            "gridwidth": 2,
            "linecolor": "white",
            "showbackground": true,
            "ticks": "",
            "zerolinecolor": "white"
           },
           "zaxis": {
            "backgroundcolor": "#E5ECF6",
            "gridcolor": "white",
            "gridwidth": 2,
            "linecolor": "white",
            "showbackground": true,
            "ticks": "",
            "zerolinecolor": "white"
           }
          },
          "shapedefaults": {
           "line": {
            "color": "#2a3f5f"
           }
          },
          "ternary": {
           "aaxis": {
            "gridcolor": "white",
            "linecolor": "white",
            "ticks": ""
           },
           "baxis": {
            "gridcolor": "white",
            "linecolor": "white",
            "ticks": ""
           },
           "bgcolor": "#E5ECF6",
           "caxis": {
            "gridcolor": "white",
            "linecolor": "white",
            "ticks": ""
           }
          },
          "title": {
           "x": 0.05
          },
          "xaxis": {
           "automargin": true,
           "gridcolor": "white",
           "linecolor": "white",
           "ticks": "",
           "title": {
            "standoff": 15
           },
           "zerolinecolor": "white",
           "zerolinewidth": 2
          },
          "yaxis": {
           "automargin": true,
           "gridcolor": "white",
           "linecolor": "white",
           "ticks": "",
           "title": {
            "standoff": 15
           },
           "zerolinecolor": "white",
           "zerolinewidth": 2
          }
         }
        },
        "title": {
         "text": "Répartition des femmes PTME selon leur statut"
        }
       }
      }
     },
     "metadata": {},
     "output_type": "display_data"
    }
   ],
   "source": [
    "fig = plot_ptme_distribution(breasfeeding_woman, pregnant_woman)\n",
    "fig.show()"
   ]
  },
  {
   "cell_type": "code",
   "execution_count": null,
   "metadata": {},
   "outputs": [],
   "source": []
  },
  {
   "cell_type": "code",
   "execution_count": null,
   "metadata": {},
   "outputs": [
    {
     "data": {
      "text/plain": [
       "'import pandas as pd\\ncolumn_list = [\\n    \"site\", \"Hospital\", \"first_name\", \"last_name\", \"dob\", \"ptme_age\", \"in_club\", \\n    \"is_actually_in_club\", \"Club_name\", \"why_this_woman_does_not_belong_to_a_club\", \\n    \"this_woman_does_not_belong_to_a_club_reason_other\", \"woman_does_not_belong_to_a_club_definition\", \\n    \"delivery_date_merge\", \"delivery_probality_date_merge\", \"DPA_calculated\", \\n    \"allaitante\", \"enceinte\", \"pregnancy_quarter\", \"last_session_date_result\", \\n    \"club_q1\", \"club_q2\", \"participation\", \"on_commCare\"\\n]\\n\\n# Création d\\'un writer pour enregistrer les données dans un fichier Excel\\nwith pd.ExcelWriter(\"Analyse_Comptage_Menage.xlsx\") as writer:\\n        # Filtrage et transformation de comm_ptme_mix\\n    comptage_ptme_no_0 = comm_ptme_mix.drop_duplicates(subset=[\"patient_code\"], keep=\"first\")\\n    comptage_ptme_no_0 = comptage_ptme_no_0[\\n        (comptage_ptme_no_0[\"on_commCare\"] == \"no\") &\\n        (~comptage_ptme_no_0[\"patient_code\"].isin(accept[\"patient_code\"]))\\n    ]\\n    comptage_ptme_no_0[\"site_code\"] = comptage_ptme_no_0[\"patient_code\"].str[:8]\\n    comptage_ptme_no_0 = comptage_ptme_no_0[column_list]\\n\\n    # Écriture de comptage_ptme_no_0 dans une autre feuille\\n    comptage_ptme_no_0.to_excel(writer, sheet_name=\"PTME_sans_comptage\", index=False)\\n    # Filtrage de compt_ptme4 pour les patients VIH positifs\\n    # Filtrage de comm_ptme_mix où on_commCare est \"yes\"\\n    ind_al_ptme = comm_ptme_mix[comm_ptme_mix[\"on_commCare\"] == \"yes\"]\\n    #ind_al_ptme.to_excel(writer, sheet_name=\"ind_al_ptme\", index=False)\\n\\n    # Conversion de age_in_year en numérique pour éviter les erreurs\\n    compt_ptme4[\"age_in_year\"] = pd.to_numeric(compt_ptme4[\"age_in_year\"], errors=\"coerce\")\\n\\n    # Filtrage de compt_ptme4 avec les conditions spécifiées\\n    ind_ptme_com = compt_ptme4[\\n        (compt_ptme4[\"ptme_relationship\"] == \"2\") &\\n        (compt_ptme4[\"age_in_year\"].between(0, 17)) &\\n        (compt_ptme4[\"hiv_test\"].isin([\"2\", \"non\"])) &\\n        (compt_ptme4[\"non_consent_reason\"] == \"---\")\\n    ][[\"patient_code\", \"owner_name\", \"first_name\", \"last_name\", \"name\", \"age_in_year\", \"hiv_test\"]]\\n\\n    # Écriture de ind_ptme_com dans une autre feuille\\n    ind_ptme_com.to_excel(writer, sheet_name=\"Enfants_non_testés\", index=False)\\n\\n    pos_vih_ptme = compt_ptme4[\\n        (compt_ptme4[\"ptme_relationship\"] == \"2\") &\\n        (compt_ptme4[\"age_in_year\"].between(0, 17)) &\\n        (compt_ptme4[\"hiv_test_result\"] == \"positif\") &\\n        (compt_ptme4[\"hiv_test\"].isin([\"1\", \"oui\"])) &\\n        (compt_ptme4[\"full_code_patient_menage\"].isin([\"//\", \"---\"]))\\n    ][[\"patient_code\", \"name\", \"hiv_test\", \"hiv_test_result\", \"full_code_patient_menage\", \"age_in_year\"]]\\n\\n    # Écriture de pos_vih_ptme dans une autre feuille\\n    pos_vih_ptme.to_excel(writer, sheet_name=\"Pos_sans_ST\", index=False)\\n\\n    # Filtrage de compt_ptme4 pour les patients ayant un test inconnu\\ninconnu_ptme_com = compt_ptme4[\\n    (compt_ptme4[\"ptme_relationship\"] == \"2\") &\\n    (compt_ptme4[\"age_in_year\"].between(0, 17)) &\\n    (compt_ptme4[\"hiv_test\"].isin([\"1\", \"oui\"])) &\\n    (~compt_ptme4[\"hiv_test_result\"].isin([\"positif\", \"negatif\"]))\\n][[\"patient_code\", \"owner_name\", \"first_name\", \"last_name\", \"name\", \"age_in_year\", \"hiv_test\"]]\\n\\n# Écriture de join_ptme_inconnu dans une autre feuille\\ninconnu_ptme_com.to_excel(writer, sheet_name=\"Enfant_statut_inconnu\", index=False)'"
      ]
     },
     "execution_count": 42,
     "metadata": {},
     "output_type": "execute_result"
    }
   ],
   "source": [
    "\"\"\"import pandas as pd\n",
    "column_list = [\n",
    "    \"site\", \"Hospital\", \"first_name\", \"last_name\", \"dob\", \"ptme_age\", \"in_club\", \n",
    "    \"is_actually_in_club\", \"Club_name\", \"why_this_woman_does_not_belong_to_a_club\", \n",
    "    \"this_woman_does_not_belong_to_a_club_reason_other\", \"woman_does_not_belong_to_a_club_definition\", \n",
    "    \"delivery_date_merge\", \"delivery_probality_date_merge\", \"DPA_calculated\", \n",
    "    \"allaitante\", \"enceinte\", \"pregnancy_quarter\", \"last_session_date_result\", \n",
    "    \"club_q1\", \"club_q2\", \"participation\", \"on_commCare\"\n",
    "]\n",
    "\n",
    "# Création d'un writer pour enregistrer les données dans un fichier Excel\n",
    "with pd.ExcelWriter(\"Analyse_Comptage_Menage.xlsx\") as writer:\n",
    "        # Filtrage et transformation de comm_ptme_mix\n",
    "    comptage_ptme_no_0 = comm_ptme_mix.drop_duplicates(subset=[\"patient_code\"], keep=\"first\")\n",
    "    comptage_ptme_no_0 = comptage_ptme_no_0[\n",
    "        (comptage_ptme_no_0[\"on_commCare\"] == \"no\") &\n",
    "        (~comptage_ptme_no_0[\"patient_code\"].isin(accept[\"patient_code\"]))\n",
    "    ]\n",
    "    comptage_ptme_no_0[\"site_code\"] = comptage_ptme_no_0[\"patient_code\"].str[:8]\n",
    "    comptage_ptme_no_0 = comptage_ptme_no_0[column_list]\n",
    "    \n",
    "    # Écriture de comptage_ptme_no_0 dans une autre feuille\n",
    "    comptage_ptme_no_0.to_excel(writer, sheet_name=\"PTME_sans_comptage\", index=False)\n",
    "    # Filtrage de compt_ptme4 pour les patients VIH positifs\n",
    "    # Filtrage de comm_ptme_mix où on_commCare est \"yes\"\n",
    "    ind_al_ptme = comm_ptme_mix[comm_ptme_mix[\"on_commCare\"] == \"yes\"]\n",
    "    #ind_al_ptme.to_excel(writer, sheet_name=\"ind_al_ptme\", index=False)\n",
    "    \n",
    "    # Conversion de age_in_year en numérique pour éviter les erreurs\n",
    "    compt_ptme4[\"age_in_year\"] = pd.to_numeric(compt_ptme4[\"age_in_year\"], errors=\"coerce\")\n",
    "    \n",
    "    # Filtrage de compt_ptme4 avec les conditions spécifiées\n",
    "    ind_ptme_com = compt_ptme4[\n",
    "        (compt_ptme4[\"ptme_relationship\"] == \"2\") &\n",
    "        (compt_ptme4[\"age_in_year\"].between(0, 17)) &\n",
    "        (compt_ptme4[\"hiv_test\"].isin([\"2\", \"non\"])) &\n",
    "        (compt_ptme4[\"non_consent_reason\"] == \"---\")\n",
    "    ][[\"patient_code\", \"owner_name\", \"first_name\", \"last_name\", \"name\", \"age_in_year\", \"hiv_test\"]]\n",
    "    \n",
    "    # Écriture de ind_ptme_com dans une autre feuille\n",
    "    ind_ptme_com.to_excel(writer, sheet_name=\"Enfants_non_testés\", index=False)\n",
    "\n",
    "    pos_vih_ptme = compt_ptme4[\n",
    "        (compt_ptme4[\"ptme_relationship\"] == \"2\") &\n",
    "        (compt_ptme4[\"age_in_year\"].between(0, 17)) &\n",
    "        (compt_ptme4[\"hiv_test_result\"] == \"positif\") &\n",
    "        (compt_ptme4[\"hiv_test\"].isin([\"1\", \"oui\"])) &\n",
    "        (compt_ptme4[\"full_code_patient_menage\"].isin([\"//\", \"---\"]))\n",
    "    ][[\"patient_code\", \"name\", \"hiv_test\", \"hiv_test_result\", \"full_code_patient_menage\", \"age_in_year\"]]\n",
    "    \n",
    "    # Écriture de pos_vih_ptme dans une autre feuille\n",
    "    pos_vih_ptme.to_excel(writer, sheet_name=\"Pos_sans_ST\", index=False)\n",
    "    \n",
    "    # Filtrage de compt_ptme4 pour les patients ayant un test inconnu\n",
    "inconnu_ptme_com = compt_ptme4[\n",
    "    (compt_ptme4[\"ptme_relationship\"] == \"2\") &\n",
    "    (compt_ptme4[\"age_in_year\"].between(0, 17)) &\n",
    "    (compt_ptme4[\"hiv_test\"].isin([\"1\", \"oui\"])) &\n",
    "    (~compt_ptme4[\"hiv_test_result\"].isin([\"positif\", \"negatif\"]))\n",
    "][[\"patient_code\", \"owner_name\", \"first_name\", \"last_name\", \"name\", \"age_in_year\", \"hiv_test\"]]\n",
    "\n",
    "# Écriture de join_ptme_inconnu dans une autre feuille\n",
    "inconnu_ptme_com.to_excel(writer, sheet_name=\"Enfant_statut_inconnu\", index=False)\"\"\"\n"
   ]
  },
  {
   "cell_type": "code",
   "execution_count": null,
   "metadata": {},
   "outputs": [
    {
     "data": {
      "text/plain": [
       "([<matplotlib.patches.Wedge at 0x214988d6270>,\n",
       "  <matplotlib.patches.Wedge at 0x214988db4d0>,\n",
       "  <matplotlib.patches.Wedge at 0x214988db890>],\n",
       " [Text(0.8899186825075615, 0.6465637930815537, 'A'),\n",
       "  Text(-0.6465637258945605, 0.8899187313217674, 'B'),\n",
       "  Text(1.311736850028664e-08, -1.0999999999999999, 'C')],\n",
       " [Text(0.48541019045866984, 0.35267115986266556, '20.0%'),\n",
       "  Text(-0.35267112321521477, 0.4854102170846003, '30.0%'),\n",
       "  Text(7.1549282728836204e-09, -0.5999999999999999, '50.0%')])"
      ]
     },
     "execution_count": 43,
     "metadata": {},
     "output_type": "execute_result"
    },
    {
     "data": {
      "text/plain": [
       "Text(0.5, 1.0, 'Pie Chart avec Seaborn')"
      ]
     },
     "execution_count": 43,
     "metadata": {},
     "output_type": "execute_result"
    },
    {
     "data": {
      "image/png": "[encoded data removed]",
      "text/plain": [
       "<Figure size 640x480 with 1 Axes>"
      ]
     },
     "metadata": {},
     "output_type": "display_data"
    }
   ],
   "source": [
    "import seaborn as sns\n",
    "import matplotlib.pyplot as plt\n",
    "\n",
    "sns.set(style=\"whitegrid\")\n",
    "plt.pie([20, 30, 50], labels=['A', 'B', 'C'], autopct='%1.1f%%', colors=sns.color_palette(\"pastel\"))\n",
    "plt.title(\"Pie Chart avec Seaborn\")\n",
    "plt.show()\n"
   ]
  },
  {
   "cell_type": "code",
   "execution_count": null,
   "metadata": {},
   "outputs": [
    {
     "data": {
      "application/vnd.plotly.v1+json": {
       "config": {
        "plotlyServerURL": "https://plot.ly"
       },
       "data": [
        {
         "domain": {
          "x": [
           0,
           1
          ],
          "y": [
           0,
           1
          ]
         },
         "hovertemplate": "continent=%{label}<br>pop=%{value}<extra></extra>",
         "labels": [
          "Africa",
          "Americas",
          "Asia",
          "Europe",
          "Oceania"
         ],
         "legendgroup": "",
         "name": "",
         "showlegend": true,
         "type": "pie",
         "values": [
          929539692,
          898871184,
          3811953827,
          586098529,
          24549947
         ]
        }
       ],
       "layout": {
        "legend": {
         "tracegroupgap": 0
        },
        "piecolorway": [
         "rgb(103,0,31)",
         "rgb(178,24,43)",
         "rgb(214,96,77)",
         "rgb(244,165,130)",
         "rgb(253,219,199)",
         "rgb(247,247,247)",
         "rgb(209,229,240)",
         "rgb(146,197,222)",
         "rgb(67,147,195)",
         "rgb(33,102,172)",
         "rgb(5,48,97)"
        ],
        "template": {
         "data": {
          "bar": [
           {
            "error_x": {
             "color": "#2a3f5f"
            },
            "error_y": {
             "color": "#2a3f5f"
            },
            "marker": {
             "line": {
              "color": "#E5ECF6",
              "width": 0.5
             },
             "pattern": {
              "fillmode": "overlay",
              "size": 10,
              "solidity": 0.2
             }
            },
            "type": "bar"
           }
          ],
          "barpolar": [
           {
            "marker": {
             "line": {
              "color": "#E5ECF6",
              "width": 0.5
             },
             "pattern": {
              "fillmode": "overlay",
              "size": 10,
              "solidity": 0.2
             }
            },
            "type": "barpolar"
           }
          ],
          "carpet": [
           {
            "aaxis": {
             "endlinecolor": "#2a3f5f",
             "gridcolor": "white",
             "linecolor": "white",
             "minorgridcolor": "white",
             "startlinecolor": "#2a3f5f"
            },
            "baxis": {
             "endlinecolor": "#2a3f5f",
             "gridcolor": "white",
             "linecolor": "white",
             "minorgridcolor": "white",
             "startlinecolor": "#2a3f5f"
            },
            "type": "carpet"
           }
          ],
          "choropleth": [
           {
            "colorbar": {
             "outlinewidth": 0,
             "ticks": ""
            },
            "type": "choropleth"
           }
          ],
          "contour": [
           {
            "colorbar": {
             "outlinewidth": 0,
             "ticks": ""
            },
            "colorscale": [
             [
              0,
              "#0d0887"
             ],
             [
              0.1111111111111111,
              "#46039f"
             ],
             [
              0.2222222222222222,
              "#7201a8"
             ],
             [
              0.3333333333333333,
              "#9c179e"
             ],
             [
              0.4444444444444444,
              "#bd3786"
             ],
             [
              0.5555555555555556,
              "#d8576b"
             ],
             [
              0.6666666666666666,
              "#ed7953"
             ],
             [
              0.7777777777777778,
              "#fb9f3a"
             ],
             [
              0.8888888888888888,
              "#fdca26"
             ],
             [
              1,
              "#f0f921"
             ]
            ],
            "type": "contour"
           }
          ],
          "contourcarpet": [
           {
            "colorbar": {
             "outlinewidth": 0,
             "ticks": ""
            },
            "type": "contourcarpet"
           }
          ],
          "heatmap": [
           {
            "colorbar": {
             "outlinewidth": 0,
             "ticks": ""
            },
            "colorscale": [
             [
              0,
              "#0d0887"
             ],
             [
              0.1111111111111111,
              "#46039f"
             ],
             [
              0.2222222222222222,
              "#7201a8"
             ],
             [
              0.3333333333333333,
              "#9c179e"
             ],
             [
              0.4444444444444444,
              "#bd3786"
             ],
             [
              0.5555555555555556,
              "#d8576b"
             ],
             [
              0.6666666666666666,
              "#ed7953"
             ],
             [
              0.7777777777777778,
              "#fb9f3a"
             ],
             [
              0.8888888888888888,
              "#fdca26"
             ],
             [
              1,
              "#f0f921"
             ]
            ],
            "type": "heatmap"
           }
          ],
          "histogram": [
           {
            "marker": {
             "pattern": {
              "fillmode": "overlay",
              "size": 10,
              "solidity": 0.2
             }
            },
            "type": "histogram"
           }
          ],
          "histogram2d": [
           {
            "colorbar": {
             "outlinewidth": 0,
             "ticks": ""
            },
            "colorscale": [
             [
              0,
              "#0d0887"
             ],
             [
              0.1111111111111111,
              "#46039f"
             ],
             [
              0.2222222222222222,
              "#7201a8"
             ],
             [
              0.3333333333333333,
              "#9c179e"
             ],
             [
              0.4444444444444444,
              "#bd3786"
             ],
             [
              0.5555555555555556,
              "#d8576b"
             ],
             [
              0.6666666666666666,
              "#ed7953"
             ],
             [
              0.7777777777777778,
              "#fb9f3a"
             ],
             [
              0.8888888888888888,
              "#fdca26"
             ],
             [
              1,
              "#f0f921"
             ]
            ],
            "type": "histogram2d"
           }
          ],
          "histogram2dcontour": [
           {
            "colorbar": {
             "outlinewidth": 0,
             "ticks": ""
            },
            "colorscale": [
             [
              0,
              "#0d0887"
             ],
             [
              0.1111111111111111,
              "#46039f"
             ],
             [
              0.2222222222222222,
              "#7201a8"
             ],
             [
              0.3333333333333333,
              "#9c179e"
             ],
             [
              0.4444444444444444,
              "#bd3786"
             ],
             [
              0.5555555555555556,
              "#d8576b"
             ],
             [
              0.6666666666666666,
              "#ed7953"
             ],
             [
              0.7777777777777778,
              "#fb9f3a"
             ],
             [
              0.8888888888888888,
              "#fdca26"
             ],
             [
              1,
              "#f0f921"
             ]
            ],
            "type": "histogram2dcontour"
           }
          ],
          "mesh3d": [
           {
            "colorbar": {
             "outlinewidth": 0,
             "ticks": ""
            },
            "type": "mesh3d"
           }
          ],
          "parcoords": [
           {
            "line": {
             "colorbar": {
              "outlinewidth": 0,
              "ticks": ""
             }
            },
            "type": "parcoords"
           }
          ],
          "pie": [
           {
            "automargin": true,
            "type": "pie"
           }
          ],
          "scatter": [
           {
            "fillpattern": {
             "fillmode": "overlay",
             "size": 10,
             "solidity": 0.2
            },
            "type": "scatter"
           }
          ],
          "scatter3d": [
           {
            "line": {
             "colorbar": {
              "outlinewidth": 0,
              "ticks": ""
             }
            },
            "marker": {
             "colorbar": {
              "outlinewidth": 0,
              "ticks": ""
             }
            },
            "type": "scatter3d"
           }
          ],
          "scattercarpet": [
           {
            "marker": {
             "colorbar": {
              "outlinewidth": 0,
              "ticks": ""
             }
            },
            "type": "scattercarpet"
           }
          ],
          "scattergeo": [
           {
            "marker": {
             "colorbar": {
              "outlinewidth": 0,
              "ticks": ""
             }
            },
            "type": "scattergeo"
           }
          ],
          "scattergl": [
           {
            "marker": {
             "colorbar": {
              "outlinewidth": 0,
              "ticks": ""
             }
            },
            "type": "scattergl"
           }
          ],
          "scattermap": [
           {
            "marker": {
             "colorbar": {
              "outlinewidth": 0,
              "ticks": ""
             }
            },
            "type": "scattermap"
           }
          ],
          "scattermapbox": [
           {
            "marker": {
             "colorbar": {
              "outlinewidth": 0,
              "ticks": ""
             }
            },
            "type": "scattermapbox"
           }
          ],
          "scatterpolar": [
           {
            "marker": {
             "colorbar": {
              "outlinewidth": 0,
              "ticks": ""
             }
            },
            "type": "scatterpolar"
           }
          ],
          "scatterpolargl": [
           {
            "marker": {
             "colorbar": {
              "outlinewidth": 0,
              "ticks": ""
             }
            },
            "type": "scatterpolargl"
           }
          ],
          "scatterternary": [
           {
            "marker": {
             "colorbar": {
              "outlinewidth": 0,
              "ticks": ""
             }
            },
            "type": "scatterternary"
           }
          ],
          "surface": [
           {
            "colorbar": {
             "outlinewidth": 0,
             "ticks": ""
            },
            "colorscale": [
             [
              0,
              "#0d0887"
             ],
             [
              0.1111111111111111,
              "#46039f"
             ],
             [
              0.2222222222222222,
              "#7201a8"
             ],
             [
              0.3333333333333333,
              "#9c179e"
             ],
             [
              0.4444444444444444,
              "#bd3786"
             ],
             [
              0.5555555555555556,
              "#d8576b"
             ],
             [
              0.6666666666666666,
              "#ed7953"
             ],
             [
              0.7777777777777778,
              "#fb9f3a"
             ],
             [
              0.8888888888888888,
              "#fdca26"
             ],
             [
              1,
              "#f0f921"
             ]
            ],
            "type": "surface"
           }
          ],
          "table": [
           {
            "cells": {
             "fill": {
              "color": "#EBF0F8"
             },
             "line": {
              "color": "white"
             }
            },
            "header": {
             "fill": {
              "color": "#C8D4E3"
             },
             "line": {
              "color": "white"
             }
            },
            "type": "table"
           }
          ]
         },
         "layout": {
          "annotationdefaults": {
           "arrowcolor": "#2a3f5f",
           "arrowhead": 0,
           "arrowwidth": 1
          },
          "autotypenumbers": "strict",
          "coloraxis": {
           "colorbar": {
            "outlinewidth": 0,
            "ticks": ""
           }
          },
          "colorscale": {
           "diverging": [
            [
             0,
             "#8e0152"
            ],
            [
             0.1,
             "#c51b7d"
            ],
            [
             0.2,
             "#de77ae"
            ],
            [
             0.3,
             "#f1b6da"
            ],
            [
             0.4,
             "#fde0ef"
            ],
            [
             0.5,
             "#f7f7f7"
            ],
            [
             0.6,
             "#e6f5d0"
            ],
            [
             0.7,
             "#b8e186"
            ],
            [
             0.8,
             "#7fbc41"
            ],
            [
             0.9,
             "#4d9221"
            ],
            [
             1,
             "#276419"
            ]
           ],
           "sequential": [
            [
             0,
             "#0d0887"
            ],
            [
             0.1111111111111111,
             "#46039f"
            ],
            [
             0.2222222222222222,
             "#7201a8"
            ],
            [
             0.3333333333333333,
             "#9c179e"
            ],
            [
             0.4444444444444444,
             "#bd3786"
            ],
            [
             0.5555555555555556,
             "#d8576b"
            ],
            [
             0.6666666666666666,
             "#ed7953"
            ],
            [
             0.7777777777777778,
             "#fb9f3a"
            ],
            [
             0.8888888888888888,
             "#fdca26"
            ],
            [
             1,
             "#f0f921"
            ]
           ],
           "sequentialminus": [
            [
             0,
             "#0d0887"
            ],
            [
             0.1111111111111111,
             "#46039f"
            ],
            [
             0.2222222222222222,
             "#7201a8"
            ],
            [
             0.3333333333333333,
             "#9c179e"
            ],
            [
             0.4444444444444444,
             "#bd3786"
            ],
            [
             0.5555555555555556,
             "#d8576b"
            ],
            [
             0.6666666666666666,
             "#ed7953"
            ],
            [
             0.7777777777777778,
             "#fb9f3a"
            ],
            [
             0.8888888888888888,
             "#fdca26"
            ],
            [
             1,
             "#f0f921"
            ]
           ]
          },
          "colorway": [
           "#636efa",
           "#EF553B",
           "#00cc96",
           "#ab63fa",
           "#FFA15A",
           "#19d3f3",
           "#FF6692",
           "#B6E880",
           "#FF97FF",
           "#FECB52"
          ],
          "font": {
           "color": "#2a3f5f"
          },
          "geo": {
           "bgcolor": "white",
           "lakecolor": "white",
           "landcolor": "#E5ECF6",
           "showlakes": true,
           "showland": true,
           "subunitcolor": "white"
          },
          "hoverlabel": {
           "align": "left"
          },
          "hovermode": "closest",
          "mapbox": {
           "style": "light"
          },
          "paper_bgcolor": "white",
          "plot_bgcolor": "#E5ECF6",
          "polar": {
           "angularaxis": {
            "gridcolor": "white",
            "linecolor": "white",
            "ticks": ""
           },
           "bgcolor": "#E5ECF6",
           "radialaxis": {
            "gridcolor": "white",
            "linecolor": "white",
            "ticks": ""
           }
          },
          "scene": {
           "xaxis": {
            "backgroundcolor": "#E5ECF6",
            "gridcolor": "white",
            "gridwidth": 2,
            "linecolor": "white",
            "showbackground": true,
            "ticks": "",
            "zerolinecolor": "white"
           },
           "yaxis": {
            "backgroundcolor": "#E5ECF6",
            "gridcolor": "white",
            "gridwidth": 2,
            "linecolor": "white",
            "showbackground": true,
            "ticks": "",
            "zerolinecolor": "white"
           },
           "zaxis": {
            "backgroundcolor": "#E5ECF6",
            "gridcolor": "white",
            "gridwidth": 2,
            "linecolor": "white",
            "showbackground": true,
            "ticks": "",
            "zerolinecolor": "white"
           }
          },
          "shapedefaults": {
           "line": {
            "color": "#2a3f5f"
           }
          },
          "ternary": {
           "aaxis": {
            "gridcolor": "white",
            "linecolor": "white",
            "ticks": ""
           },
           "baxis": {
            "gridcolor": "white",
            "linecolor": "white",
            "ticks": ""
           },
           "bgcolor": "#E5ECF6",
           "caxis": {
            "gridcolor": "white",
            "linecolor": "white",
            "ticks": ""
           }
          },
          "title": {
           "x": 0.05
          },
          "xaxis": {
           "automargin": true,
           "gridcolor": "white",
           "linecolor": "white",
           "ticks": "",
           "title": {
            "standoff": 15
           },
           "zerolinecolor": "white",
           "zerolinewidth": 2
          },
          "yaxis": {
           "automargin": true,
           "gridcolor": "white",
           "linecolor": "white",
           "ticks": "",
           "title": {
            "standoff": 15
           },
           "zerolinecolor": "white",
           "zerolinewidth": 2
          }
         }
        },
        "title": {
         "text": "Pie Chart interactif avec Plotly"
        }
       }
      }
     },
     "metadata": {},
     "output_type": "display_data"
    }
   ],
   "source": [
    "import plotly.express as px\n",
    "\n",
    "df = px.data.gapminder().query(\"year == 2007\").groupby(\"continent\").sum().reset_index()\n",
    "fig = px.pie(df, names='continent', values='pop', title=\"Pie Chart interactif avec Plotly\", color_discrete_sequence=px.colors.sequential.RdBu)\n",
    "fig.show()\n"
   ]
  },
  {
   "cell_type": "code",
   "execution_count": null,
   "metadata": {},
   "outputs": [
    {
     "data": {
      "text/plain": [
       "([<matplotlib.patches.Wedge at 0x214974491d0>,\n",
       "  <matplotlib.patches.Wedge at 0x21497449590>,\n",
       "  <matplotlib.patches.Wedge at 0x21497449950>,\n",
       "  <matplotlib.patches.Wedge at 0x21497449d10>],\n",
       " [Text(-1.0673251998086675, -0.2661144826073702, 'A'),\n",
       "  Text(0.2661146564967135, -1.067325156453101, 'B'),\n",
       "  Text(0.9328527021418345, 0.5829115165328939, 'C'),\n",
       "  Text(-0.5829112236950298, 0.9328528851273191, 'D')],\n",
       " [Text(-0.5821773817138185, -0.14515335414947464, '30.0%'),\n",
       "  Text(0.14515344899820737, -0.5821773580653277, '20.0%'),\n",
       "  Text(0.5088287466228187, 0.3179517362906693, '40.0%'),\n",
       "  Text(-0.31795157656092526, 0.5088288464330831, '10.0%')])"
      ]
     },
     "execution_count": 45,
     "metadata": {},
     "output_type": "execute_result"
    },
    {
     "data": {
      "text/plain": [
       "Text(0.5, 1.0, 'Pie Chart avec Matplotlib')"
      ]
     },
     "execution_count": 45,
     "metadata": {},
     "output_type": "execute_result"
    },
    {
     "data": {
      "image/png": "[encoded data removed]",
      "text/plain": [
       "<Figure size 640x480 with 1 Axes>"
      ]
     },
     "metadata": {},
     "output_type": "display_data"
    }
   ],
   "source": [
    "import matplotlib.pyplot as plt\n",
    "\n",
    "labels = ['A', 'B', 'C', 'D']\n",
    "sizes = [30, 20, 40, 10]\n",
    "colors = ['#ff9999','#66b3ff','#99ff99','#ffcc99']\n",
    "\n",
    "plt.pie(sizes, labels=labels, colors=colors, autopct='%1.1f%%', startangle=140, wedgeprops={'edgecolor': 'black'})\n",
    "plt.title(\"Pie Chart avec Matplotlib\")\n",
    "plt.show()\n"
   ]
  }
 ],
 "metadata": {
  "kernelspec": {
   "display_name": ".venv",
   "language": "python",
   "name": "python3"
  },
  "language_info": {
   "codemirror_mode": {
    "name": "ipython",
    "version": 3
   },
   "file_extension": ".py",
   "mimetype": "text/x-python",
   "name": "python",
   "nbconvert_exporter": "python",
   "pygments_lexer": "ipython3",
   "version": "3.13.2"
  }
 },
 "nbformat": 4,
 "nbformat_minor": 2
}
